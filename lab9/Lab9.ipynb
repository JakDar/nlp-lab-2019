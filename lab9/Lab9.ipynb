{
 "cells": [
  {
   "cell_type": "markdown",
   "metadata": {},
   "source": [
    "# Title \n",
    "### Subtitle"
   ]
  },
  {
   "cell_type": "code",
   "execution_count": 1,
   "metadata": {
    "ExecuteTime": {
     "end_time": "2019-05-18T14:31:05.584177Z",
     "start_time": "2019-05-18T14:31:04.170878Z"
    }
   },
   "outputs": [],
   "source": [
    "from typing import Dict, List, Tuple, Optional\n",
    "from collections import namedtuple\n",
    "import os\n",
    "\n",
    "from functional import seq, pseq\n",
    "from functional.streams import Sequence\n",
    "\n",
    "import numpy as np\n",
    "import pandas as pd\n",
    "import matplotlib.pyplot as plt\n",
    "\n",
    "import xml.etree.ElementTree\n",
    "from xml.etree.ElementTree import Element\n",
    "\n",
    "import functools\n",
    "\n",
    "def compose(*functions):\n",
    "    def compose2(f, g):\n",
    "        return lambda x: f(g(x))\n",
    "    return functools.reduce(compose2, functions, lambda x: x)\n",
    "\n",
    "from datetime import datetime\n",
    "def hour_str():\n",
    "    return str(datetime.now()).split(\".\")[0].split(\" \")[-1]"
   ]
  },
  {
   "cell_type": "code",
   "execution_count": 2,
   "metadata": {
    "ExecuteTime": {
     "end_time": "2019-05-18T14:31:05.590613Z",
     "start_time": "2019-05-18T14:31:05.586381Z"
    }
   },
   "outputs": [],
   "source": [
    "ustawy_dir = \"../ustawy\"\n",
    "cll_dir = \"../cll\""
   ]
  },
  {
   "cell_type": "code",
   "execution_count": 3,
   "metadata": {
    "ExecuteTime": {
     "end_time": "2019-05-18T14:31:05.601840Z",
     "start_time": "2019-05-18T14:31:05.594418Z"
    }
   },
   "outputs": [],
   "source": [
    "filenames = os.listdir(ustawy_dir)"
   ]
  },
  {
   "cell_type": "code",
   "execution_count": 4,
   "metadata": {
    "ExecuteTime": {
     "end_time": "2019-05-18T14:31:05.612163Z",
     "start_time": "2019-05-18T14:31:05.607036Z"
    }
   },
   "outputs": [],
   "source": [
    "chosen_ones = np.random.choice(filenames,size=100,replace= False)"
   ]
  },
  {
   "cell_type": "markdown",
   "metadata": {},
   "source": [
    "# Clarin Api"
   ]
  },
  {
   "cell_type": "code",
   "execution_count": 5,
   "metadata": {
    "ExecuteTime": {
     "end_time": "2019-05-18T14:31:05.621706Z",
     "start_time": "2019-05-18T14:31:05.617407Z"
    }
   },
   "outputs": [],
   "source": [
    "base_url = \"https://ws.clarin-pl.eu/nlprest2/\"\n",
    "process_url = base_url+ \"base/process\"\n",
    "ids_file = \"ids.bak\""
   ]
  },
  {
   "cell_type": "code",
   "execution_count": 6,
   "metadata": {
    "ExecuteTime": {
     "end_time": "2019-05-18T14:31:05.724232Z",
     "start_time": "2019-05-18T14:31:05.624283Z"
    }
   },
   "outputs": [],
   "source": [
    "import requests as r"
   ]
  },
  {
   "cell_type": "markdown",
   "metadata": {},
   "source": [
    "## Prepare clls"
   ]
  },
  {
   "cell_type": "code",
   "execution_count": 7,
   "metadata": {
    "ExecuteTime": {
     "end_time": "2019-05-18T14:31:05.729134Z",
     "start_time": "2019-05-18T14:31:05.726414Z"
    }
   },
   "outputs": [],
   "source": [
    "def process_body(text: str):\n",
    "    return \\\n",
    "        {\"lpmn\": \"any2txt|wcrft2|liner2({\\\"model\\\":\\\"n82\\\"})\",\n",
    "         \"text\": text,\n",
    "         \"user\": \"moj@adres.mail\"\n",
    "         }"
   ]
  },
  {
   "cell_type": "markdown",
   "metadata": {
    "ExecuteTime": {
     "end_time": "2019-05-18T13:18:16.507952Z",
     "start_time": "2019-05-18T13:18:16.500504Z"
    }
   },
   "source": [
    "### Async api"
   ]
  },
  {
   "cell_type": "code",
   "execution_count": 8,
   "metadata": {
    "ExecuteTime": {
     "end_time": "2019-05-18T14:31:05.735772Z",
     "start_time": "2019-05-18T14:31:05.731414Z"
    }
   },
   "outputs": [],
   "source": [
    "def start_task(text:str)-> str:\n",
    "    response = r.post(url=base_url + \"base/startTask\", json=process_body(text))\n",
    "    return response.content.decode(\"utf-8\")"
   ]
  },
  {
   "cell_type": "code",
   "execution_count": 9,
   "metadata": {
    "ExecuteTime": {
     "end_time": "2019-05-18T14:31:05.746039Z",
     "start_time": "2019-05-18T14:31:05.740010Z"
    }
   },
   "outputs": [],
   "source": [
    "def task_status(task_id:str)-> str:\n",
    "    response = r.get(url=base_url + \"base/getStatus/{}\".format(task_id)).json()\n",
    "    return response\n",
    "\n",
    "def is_task_done(status):\n",
    "    return status[\"status\"] == \"DONE\"\n",
    "\n",
    "def get_file_id(status):\n",
    "    return status[\"value\"][0][\"fileID\"]"
   ]
  },
  {
   "cell_type": "code",
   "execution_count": 10,
   "metadata": {
    "ExecuteTime": {
     "end_time": "2019-05-18T14:31:05.750675Z",
     "start_time": "2019-05-18T14:31:05.747840Z"
    }
   },
   "outputs": [],
   "source": [
    "def download_task_result(file_id:str)-> str:\n",
    "    response = r.get(url=base_url + \"base/download{}\".format(file_id))\n",
    "    return response.content.decode(\"utf-8\")"
   ]
  },
  {
   "cell_type": "markdown",
   "metadata": {},
   "source": [
    "#### Group functions"
   ]
  },
  {
   "cell_type": "code",
   "execution_count": 11,
   "metadata": {
    "ExecuteTime": {
     "end_time": "2019-05-18T14:31:05.756527Z",
     "start_time": "2019-05-18T14:31:05.752655Z"
    }
   },
   "outputs": [],
   "source": [
    "def str_from_file(fn):\n",
    "    file = open(fn,\"r\")\n",
    "    res = file.read()\n",
    "    file.close()\n",
    "    return res"
   ]
  },
  {
   "cell_type": "code",
   "execution_count": 12,
   "metadata": {
    "ExecuteTime": {
     "end_time": "2019-05-18T14:31:05.763169Z",
     "start_time": "2019-05-18T14:31:05.758586Z"
    }
   },
   "outputs": [],
   "source": [
    "def submit_saving_id_to_file(filenames:List[str]):\n",
    "    id_file = open(ids_file,\"w\")\n",
    "    seq(filenames)\\\n",
    "    .map(lambda fn: f\"{ustawy_dir}/{fn}\")\\\n",
    "    .map(lambda fn: id_file.write(start_task(str_from_file(fn)) + \"\\n\"))\\\n",
    "    .for_each(lambda x: id_file.flush())\n",
    "    id_file.close()"
   ]
  },
  {
   "cell_type": "code",
   "execution_count": 13,
   "metadata": {
    "ExecuteTime": {
     "end_time": "2019-05-18T14:31:05.903814Z",
     "start_time": "2019-05-18T14:31:05.765093Z"
    }
   },
   "outputs": [
    {
     "ename": "Exception",
     "evalue": "",
     "output_type": "error",
     "traceback": [
      "\u001b[0;31m---------------------------------------------------------------------------\u001b[0m",
      "\u001b[0;31mException\u001b[0m                                 Traceback (most recent call last)",
      "\u001b[0;32m<ipython-input-13-5f156e0813e6>\u001b[0m in \u001b[0;36m<module>\u001b[0;34m\u001b[0m\n\u001b[0;32m----> 1\u001b[0;31m \u001b[0;32mraise\u001b[0m \u001b[0mException\u001b[0m\u001b[0;31m# to avoid executing\u001b[0m\u001b[0;34m\u001b[0m\u001b[0;34m\u001b[0m\u001b[0m\n\u001b[0m\u001b[1;32m      2\u001b[0m \u001b[0msubmit_saving_id_to_file\u001b[0m\u001b[0;34m(\u001b[0m\u001b[0mchosen_ones\u001b[0m\u001b[0;34m)\u001b[0m\u001b[0;34m\u001b[0m\u001b[0;34m\u001b[0m\u001b[0m\n",
      "\u001b[0;31mException\u001b[0m: "
     ]
    }
   ],
   "source": [
    "raise Exception# to avoid executing\n",
    "submit_saving_id_to_file(chosen_ones)"
   ]
  },
  {
   "cell_type": "code",
   "execution_count": 14,
   "metadata": {
    "ExecuteTime": {
     "end_time": "2019-05-18T14:32:14.885196Z",
     "start_time": "2019-05-18T14:32:14.743000Z"
    }
   },
   "outputs": [
    {
     "name": "stdout",
     "output_type": "stream",
     "text": [
      "     100 ids.bak\r\n"
     ]
    }
   ],
   "source": [
    "!wc -l ids.bak"
   ]
  },
  {
   "cell_type": "code",
   "execution_count": 15,
   "metadata": {
    "ExecuteTime": {
     "end_time": "2019-05-18T14:32:15.907210Z",
     "start_time": "2019-05-18T14:32:15.893409Z"
    }
   },
   "outputs": [],
   "source": [
    "def get_statuses(limit:Optional[int]= None)-> Sequence:\n",
    "    file = open(ids_file,\"r\")\n",
    "    l = 1000 if limit is None else limit\n",
    "    \n",
    "    task_ids = pseq(file.readlines()[:l]).map(lambda x : x.replace(\"\\n\",\"\"))\n",
    "    file.close()\n",
    "    return task_ids.map(task_status)\n",
    "\n",
    "def done_percentage(statuses:Sequence):\n",
    "    return statuses.count(is_task_done) *1.0/ statuses.size()"
   ]
  },
  {
   "cell_type": "code",
   "execution_count": 16,
   "metadata": {
    "ExecuteTime": {
     "end_time": "2019-05-18T14:32:16.428535Z",
     "start_time": "2019-05-18T14:32:16.412683Z"
    }
   },
   "outputs": [
    {
     "ename": "Exception",
     "evalue": "",
     "output_type": "error",
     "traceback": [
      "\u001b[0;31m---------------------------------------------------------------------------\u001b[0m",
      "\u001b[0;31mException\u001b[0m                                 Traceback (most recent call last)",
      "\u001b[0;32m<ipython-input-16-1af4ed3f7174>\u001b[0m in \u001b[0;36m<module>\u001b[0;34m\u001b[0m\n\u001b[0;32m----> 1\u001b[0;31m \u001b[0;32mraise\u001b[0m \u001b[0mException\u001b[0m\u001b[0;34m\u001b[0m\u001b[0;34m\u001b[0m\u001b[0m\n\u001b[0m\u001b[1;32m      2\u001b[0m \u001b[0mstatuses\u001b[0m \u001b[0;34m=\u001b[0m \u001b[0mget_statuses\u001b[0m\u001b[0;34m(\u001b[0m\u001b[0;34m)\u001b[0m\u001b[0;34m\u001b[0m\u001b[0;34m\u001b[0m\u001b[0m\n",
      "\u001b[0;31mException\u001b[0m: "
     ]
    }
   ],
   "source": [
    "raise Exception\n",
    "statuses = get_statuses()"
   ]
  },
  {
   "cell_type": "code",
   "execution_count": 17,
   "metadata": {
    "ExecuteTime": {
     "end_time": "2019-05-18T14:32:18.575430Z",
     "start_time": "2019-05-18T14:32:18.563535Z"
    }
   },
   "outputs": [
    {
     "ename": "NameError",
     "evalue": "name 'statuses' is not defined",
     "output_type": "error",
     "traceback": [
      "\u001b[0;31m---------------------------------------------------------------------------\u001b[0m",
      "\u001b[0;31mNameError\u001b[0m                                 Traceback (most recent call last)",
      "\u001b[0;32m<ipython-input-17-783c47786dd0>\u001b[0m in \u001b[0;36m<module>\u001b[0;34m\u001b[0m\n\u001b[0;32m----> 1\u001b[0;31m \u001b[0mdone_percentage\u001b[0m\u001b[0;34m(\u001b[0m\u001b[0mstatuses\u001b[0m\u001b[0;34m)\u001b[0m\u001b[0;34m\u001b[0m\u001b[0;34m\u001b[0m\u001b[0m\n\u001b[0m",
      "\u001b[0;31mNameError\u001b[0m: name 'statuses' is not defined"
     ]
    }
   ],
   "source": [
    "done_percentage(statuses)"
   ]
  },
  {
   "cell_type": "code",
   "execution_count": 18,
   "metadata": {
    "ExecuteTime": {
     "end_time": "2019-05-18T14:32:19.953513Z",
     "start_time": "2019-05-18T14:32:19.944838Z"
    }
   },
   "outputs": [
    {
     "ename": "NameError",
     "evalue": "name 'statuses' is not defined",
     "output_type": "error",
     "traceback": [
      "\u001b[0;31m---------------------------------------------------------------------------\u001b[0m",
      "\u001b[0;31mNameError\u001b[0m                                 Traceback (most recent call last)",
      "\u001b[0;32m<ipython-input-18-2aef2e14bde6>\u001b[0m in \u001b[0;36m<module>\u001b[0;34m\u001b[0m\n\u001b[0;32m----> 1\u001b[0;31m \u001b[0mfile_ids\u001b[0m\u001b[0;34m=\u001b[0m \u001b[0mstatuses\u001b[0m\u001b[0;34m.\u001b[0m\u001b[0mmap\u001b[0m\u001b[0;34m(\u001b[0m\u001b[0mget_file_id\u001b[0m\u001b[0;34m)\u001b[0m\u001b[0;34m\u001b[0m\u001b[0;34m\u001b[0m\u001b[0m\n\u001b[0m",
      "\u001b[0;31mNameError\u001b[0m: name 'statuses' is not defined"
     ]
    }
   ],
   "source": [
    "file_ids= statuses.map(get_file_id)"
   ]
  },
  {
   "cell_type": "code",
   "execution_count": 19,
   "metadata": {
    "ExecuteTime": {
     "end_time": "2019-05-18T14:32:22.465424Z",
     "start_time": "2019-05-18T14:32:22.458411Z"
    }
   },
   "outputs": [],
   "source": [
    "def get_and_save_cll(file_id:str,count:int):\n",
    "    print(f\"Downloading {count}\")\n",
    "    try:\n",
    "        txt = download_task_result(file_id)\n",
    "        fn = file_id.split(\"/\")[-1]\n",
    "        file = open(f'{cll_dir}/{fn}',\"w\")\n",
    "        file.write(txt)\n",
    "        file.close()\n",
    "    except:\n",
    "        print(f\"Failed donwloading {file_id},\")\n",
    "        get_and_save_cll(file_id,count)"
   ]
  },
  {
   "cell_type": "code",
   "execution_count": 20,
   "metadata": {
    "ExecuteTime": {
     "end_time": "2019-05-18T14:32:25.353154Z",
     "start_time": "2019-05-18T14:32:25.226261Z"
    }
   },
   "outputs": [
    {
     "name": "stdout",
     "output_type": "stream",
     "text": [
      "mkdir: ../cll: File exists\r\n"
     ]
    }
   ],
   "source": [
    "! mkdir  \"../cll\""
   ]
  },
  {
   "cell_type": "markdown",
   "metadata": {},
   "source": [
    "Save clls:"
   ]
  },
  {
   "cell_type": "code",
   "execution_count": null,
   "metadata": {
    "ExecuteTime": {
     "end_time": "2019-05-18T14:31:05.922510Z",
     "start_time": "2019-05-18T14:31:04.206Z"
    }
   },
   "outputs": [],
   "source": [
    "raise Exception\n",
    "file_ids.enumerate().for_each(lambda i_file_id: get_and_save_cll(i_file_id[1],i_file_id[1]))"
   ]
  },
  {
   "cell_type": "markdown",
   "metadata": {
    "ExecuteTime": {
     "end_time": "2019-05-18T13:03:45.826679Z",
     "start_time": "2019-05-18T13:03:45.822513Z"
    }
   },
   "source": [
    "### Sync Api\n",
    "> Not used, but helpful for debugging"
   ]
  },
  {
   "cell_type": "code",
   "execution_count": 21,
   "metadata": {
    "ExecuteTime": {
     "end_time": "2019-05-18T14:32:29.843682Z",
     "start_time": "2019-05-18T14:32:29.834757Z"
    }
   },
   "outputs": [],
   "source": [
    "def cll_from_text(text:str)-> str:\n",
    "    response = r.post(url=process_url, json=process_body(text))\n",
    "    return response.content.decode(\"utf-8\")"
   ]
  },
  {
   "cell_type": "code",
   "execution_count": 22,
   "metadata": {
    "ExecuteTime": {
     "end_time": "2019-05-18T14:32:29.992512Z",
     "start_time": "2019-05-18T14:32:29.985113Z"
    }
   },
   "outputs": [],
   "source": [
    "def rewrite_as_cll(base_dir:str,filename:str,cll_dir:str,retry_count:int = 0)-> None:\n",
    "    file = open(base_dir + \"/\" + filename ,\"r\")\n",
    "    text = file.read()\n",
    "    file.close()\n",
    "    try:\n",
    "        print(\"Retrieving cll for {}.  {}\".format(filename,hour_str()))\n",
    "        cll = cll_from_text(text)\n",
    "        write_file = open(cll_dir + \"/\" + filename ,\"w\")\n",
    "        write_file.write(cll)\n",
    "        write_file.close()\n",
    "    except FileNotFoundError:\n",
    "        os.mkdir(cll_dir)\n",
    "        rewrite_as_cll(base_dir,filename,cll_dir)\n",
    "    except Exception:\n",
    "        print(\"Retrieving cll for {} failed, retrying {} time. {}\".format(filename,retry_count,hour_str()))\n",
    "        rewrite_as_cll(base_dir,filename,cll_dir,retry_count= retry_count+1)"
   ]
  },
  {
   "cell_type": "markdown",
   "metadata": {},
   "source": [
    "# Parse clls"
   ]
  },
  {
   "cell_type": "code",
   "execution_count": 23,
   "metadata": {
    "ExecuteTime": {
     "end_time": "2019-05-18T14:32:30.303464Z",
     "start_time": "2019-05-18T14:32:30.299908Z"
    }
   },
   "outputs": [],
   "source": [
    "NamedEntity = namedtuple(\"NamedEntity\", \"orth lex_base entity\")"
   ]
  },
  {
   "cell_type": "code",
   "execution_count": 24,
   "metadata": {
    "ExecuteTime": {
     "end_time": "2019-05-18T14:32:30.488638Z",
     "start_time": "2019-05-18T14:32:30.485587Z"
    }
   },
   "outputs": [],
   "source": [
    "EntityWord = namedtuple(\"EntityWord\", \"orth lex_base entity number\")"
   ]
  },
  {
   "cell_type": "code",
   "execution_count": 25,
   "metadata": {
    "ExecuteTime": {
     "end_time": "2019-05-18T14:32:30.668035Z",
     "start_time": "2019-05-18T14:32:30.658805Z"
    }
   },
   "outputs": [],
   "source": [
    "def get_active_chan_annotation(token:Element)-> Optional[str]:\n",
    "    return seq(token.findall(\"ann\"))\\\n",
    "    .filter(lambda x : x.text != \"0\")\\\n",
    "    .map(lambda x: (x.attrib[\"chan\"],x.text))\\\n",
    "    .head_option()\n",
    "\n",
    "def token_word(element: Element) -> Optional[NamedEntity]:\n",
    "    annotation = get_active_chan_annotation(element)\n",
    "\n",
    "    if annotation is None:\n",
    "        return None\n",
    "    else:\n",
    "        chan, value = annotation\n",
    "        orth = element.findtext(\"orth\")\n",
    "        lex_base = element.findtext(\"lex/base\")\n",
    "        return EntityWord(orth=orth, lex_base=lex_base, entity=chan, number=int(value))"
   ]
  },
  {
   "cell_type": "code",
   "execution_count": 26,
   "metadata": {
    "ExecuteTime": {
     "end_time": "2019-05-18T14:32:30.840751Z",
     "start_time": "2019-05-18T14:32:30.833928Z"
    }
   },
   "outputs": [],
   "source": [
    "def group_to_entity(group:List[EntityWord]) -> NamedEntity:\n",
    "        orth = seq(group).map(lambda e: e.orth).reduce(lambda x,y: x + \" \" + y)\n",
    "        lex_base = seq(group).map(lambda e: e.lex_base).reduce(lambda x,y: x + \" \" + y)\n",
    "        \n",
    "        return NamedEntity(orth=orth,lex_base = lex_base,entity= group[0].entity)"
   ]
  },
  {
   "cell_type": "code",
   "execution_count": 27,
   "metadata": {
    "ExecuteTime": {
     "end_time": "2019-05-18T14:32:31.005197Z",
     "start_time": "2019-05-18T14:32:30.996936Z"
    }
   },
   "outputs": [],
   "source": [
    "def sentence_to_entities(sentence:Element) -> List[NamedEntity]:\n",
    "    return seq(sentence.findall(\"tok\"))\\\n",
    "    .map(token_word)\\\n",
    "    .filter_not(lambda x : x is None)\\\n",
    "    .group_by(lambda x : x.entity +str(x.number))\\\n",
    "    .map(lambda g: group_to_entity(g[1])).to_list()"
   ]
  },
  {
   "cell_type": "code",
   "execution_count": 28,
   "metadata": {
    "ExecuteTime": {
     "end_time": "2019-05-18T14:32:31.184809Z",
     "start_time": "2019-05-18T14:32:31.179085Z"
    }
   },
   "outputs": [],
   "source": [
    "def tokens_from_cll(cll:str)-> Sequence:\n",
    "    e = xml.etree.ElementTree.fromstring(cll)\n",
    "    sentences = e.findall(\"chunk/sentence\")\n",
    "    return seq(sentences).flat_map(sentence_to_entities)"
   ]
  },
  {
   "cell_type": "code",
   "execution_count": 29,
   "metadata": {
    "ExecuteTime": {
     "end_time": "2019-05-18T14:32:31.834974Z",
     "start_time": "2019-05-18T14:32:31.828952Z"
    }
   },
   "outputs": [],
   "source": [
    "def tokens_from_cll_file(fn:str) -> Sequence:\n",
    "    file = open(cll_dir + \"/\" + fn ,\"r\")\n",
    "    res = tokens_from_cll(file.read())\n",
    "    file.close()\n",
    "    return res"
   ]
  },
  {
   "cell_type": "markdown",
   "metadata": {
    "ExecuteTime": {
     "end_time": "2019-05-18T10:57:40.897909Z",
     "start_time": "2019-05-18T10:57:40.894118Z"
    }
   },
   "source": [
    "## Actual Parsing "
   ]
  },
  {
   "cell_type": "code",
   "execution_count": 30,
   "metadata": {
    "ExecuteTime": {
     "end_time": "2019-05-18T14:32:36.139515Z",
     "start_time": "2019-05-18T14:32:36.131796Z"
    }
   },
   "outputs": [
    {
     "data": {
      "text/plain": [
       "['f74d130b-16f5-4bf8-8706-f9a4f5c617ec',\n",
       " '42eae721-64b1-4067-80fb-c00907b98f7e',\n",
       " '7675fefc-8942-4109-a8e3-ac5ee66b8bba',\n",
       " '8fbff38b-07d5-4acc-84a4-ee1c2bf48b45',\n",
       " '27db18c5-3ecd-4024-8f2e-a53f7fa6d018',\n",
       " '3ea10ddd-8f2d-4baa-afb8-5642d4899ef3',\n",
       " '749a10bf-63ea-411e-b973-4dd912ee3265',\n",
       " '6da332bc-a453-43db-a078-707de6de344d',\n",
       " '01266d2c-c5d1-44c1-9339-93e10713f0ce',\n",
       " 'ae8940ab-b131-4026-98fb-26d933d803bd']"
      ]
     },
     "execution_count": 30,
     "metadata": {},
     "output_type": "execute_result"
    }
   ],
   "source": [
    "clls = os.listdir(cll_dir)\n",
    "clls[:10]"
   ]
  },
  {
   "cell_type": "code",
   "execution_count": 31,
   "metadata": {
    "ExecuteTime": {
     "end_time": "2019-05-18T14:32:37.017041Z",
     "start_time": "2019-05-18T14:32:36.994893Z"
    }
   },
   "outputs": [
    {
     "data": {
      "text/html": [
       "<table>\n",
       "<thead>\n",
       "<tr><th>orth                                                  </th><th>lex_base                                           </th><th>entity                </th></tr>\n",
       "</thead>\n",
       "<tbody>\n",
       "<tr><td>Dz . U .                                              </td><td>Dzieje_(Apostolskie) . u .                         </td><td>nam_pro_media_periodic</td></tr>\n",
       "<tr><td>ustawie z dnia 21 marca 1985 r . o drogach publicznych</td><td>ustawa z dzień 21 marzec 1985 r . o droga publiczny</td><td>nam_pro_title_document</td></tr>\n",
       "<tr><td>Dz . U .                                              </td><td>Dzieje_(Apostolskie) . u .                         </td><td>nam_pro_media_periodic</td></tr>\n",
       "<tr><td>Gospodarki Morskiej                                   </td><td>gospodarka morski                                  </td><td>nam_liv_person        </td></tr>\n",
       "</tbody>\n",
       "</table>"
      ],
      "text/plain": [
       "[NamedEntity(orth='Dz . U .', lex_base='Dzieje_(Apostolskie) . u .', entity='nam_pro_media_periodic'), NamedEntity(orth='ustawie z dnia 21 marca 1985 r . o drogach publicznych', lex_base='ustawa z dzień 21 marzec 1985 r . o droga publiczny', entity='nam_pro_title_document'), NamedEntity(orth='Dz . U .', lex_base='Dzieje_(Apostolskie) . u .', entity='nam_pro_media_periodic'), NamedEntity(orth='Gospodarki Morskiej', lex_base='gospodarka morski', entity='nam_liv_person')]"
      ]
     },
     "execution_count": 31,
     "metadata": {},
     "output_type": "execute_result"
    }
   ],
   "source": [
    "cll = tokens_from_cll_file(clls[0])\n",
    "cll"
   ]
  },
  {
   "cell_type": "code",
   "execution_count": 32,
   "metadata": {
    "ExecuteTime": {
     "end_time": "2019-05-18T14:32:37.570836Z",
     "start_time": "2019-05-18T14:32:37.565728Z"
    }
   },
   "outputs": [],
   "source": [
    "NerOccurrences = namedtuple(\"NerOccurrences\", \"lex_base fine coarse count\")"
   ]
  },
  {
   "cell_type": "code",
   "execution_count": 40,
   "metadata": {
    "ExecuteTime": {
     "end_time": "2019-05-18T14:36:00.083093Z",
     "start_time": "2019-05-18T14:36:00.072692Z"
    }
   },
   "outputs": [],
   "source": [
    "def ner_group_to_ner_ocurrences(group: Tuple[int, List[NamedEntity]]) -> NerOccurrences:\n",
    "    head = group[1][0]\n",
    "    return NerOccurrences(\n",
    "        lex_base=head.lex_base,\n",
    "        fine=head.entity,\n",
    "        coarse=\"_\".join(head.entity.split(\"_\")[:2]),\n",
    "        count =group[0]\n",
    "    )"
   ]
  },
  {
   "cell_type": "code",
   "execution_count": 44,
   "metadata": {
    "ExecuteTime": {
     "end_time": "2019-05-18T14:37:25.636131Z",
     "start_time": "2019-05-18T14:37:25.631656Z"
    }
   },
   "outputs": [],
   "source": [
    "ner_ocurrences = seq(clls)\\\n",
    "    .flat_map(tokens_from_cll_file)\\\n",
    "    .group_by(lambda x: x.entity)\\\n",
    "    .flat_map(lambda g:\n",
    "        seq(g[1])\\\n",
    "         .group_by(lambda ner: ner.lex_base)\\\n",
    "         .map(ner_group_to_ner_ocurrences)\n",
    "        \n",
    "    )"
   ]
  },
  {
   "cell_type": "code",
   "execution_count": 45,
   "metadata": {
    "ExecuteTime": {
     "end_time": "2019-05-18T14:37:47.226525Z",
     "start_time": "2019-05-18T14:37:27.327705Z"
    }
   },
   "outputs": [
    {
     "data": {
      "text/plain": [
       "1360"
      ]
     },
     "execution_count": 45,
     "metadata": {},
     "output_type": "execute_result"
    }
   ],
   "source": [
    "ner_ocurrences.size()"
   ]
  },
  {
   "cell_type": "code",
   "execution_count": 49,
   "metadata": {
    "ExecuteTime": {
     "end_time": "2019-05-18T14:38:43.960659Z",
     "start_time": "2019-05-18T14:38:43.950027Z"
    }
   },
   "outputs": [],
   "source": [
    "ner_ocurrences.to_csv(\"ners.bak\")"
   ]
  },
  {
   "cell_type": "markdown",
   "metadata": {},
   "source": [
    "### Analizing"
   ]
  },
  {
   "cell_type": "code",
   "execution_count": null,
   "metadata": {},
   "outputs": [],
   "source": []
  }
 ],
 "metadata": {
  "kernelspec": {
   "display_name": "Python 3",
   "language": "python",
   "name": "python3"
  },
  "language_info": {
   "codemirror_mode": {
    "name": "ipython",
    "version": 3
   },
   "file_extension": ".py",
   "mimetype": "text/x-python",
   "name": "python",
   "nbconvert_exporter": "python",
   "pygments_lexer": "ipython3",
   "version": "3.7.2"
  }
 },
 "nbformat": 4,
 "nbformat_minor": 2
}
