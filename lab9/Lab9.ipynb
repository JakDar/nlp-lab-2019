{
 "cells": [
  {
   "cell_type": "markdown",
   "metadata": {},
   "source": [
    "# Lab9"
   ]
  },
  {
   "cell_type": "code",
   "execution_count": 94,
   "metadata": {
    "ExecuteTime": {
     "end_time": "2019-05-18T15:07:18.561609Z",
     "start_time": "2019-05-18T15:07:18.553310Z"
    },
    "scrolled": false
   },
   "outputs": [],
   "source": [
    "from typing import Dict, List, Tuple, Optional\n",
    "from collections import namedtuple\n",
    "import os\n",
    "\n",
    "from functional import seq, pseq\n",
    "from functional.streams import Sequence\n",
    "\n",
    "import numpy as np\n",
    "import pandas as pd\n",
    "import matplotlib.pyplot as plt\n",
    "\n",
    "import xml.etree.ElementTree\n",
    "from xml.etree.ElementTree import Element\n",
    "\n",
    "import functools\n",
    "\n",
    "def compose(*functions):\n",
    "    def compose2(f, g):\n",
    "        return lambda x: f(g(x))\n",
    "    return functools.reduce(compose2, functions, lambda x: x)\n",
    "\n",
    "from datetime import datetime\n",
    "def hour_str():\n",
    "    return str(datetime.now()).split(\".\")[0].split(\" \")[-1]\n",
    "\n",
    "from IPython.core.display import HTML\n",
    "def display_seq(sequence:Sequence,rows:int)-> None:\n",
    "        sequence._repr_html_= lambda :sequence.tabulate(rows,tablefmt='html')\n",
    "        display(sequence)\n",
    "        sequence._repr_html_= lambda :sequence.tabulate(10,tablefmt='html')\n"
   ]
  },
  {
   "cell_type": "code",
   "execution_count": 2,
   "metadata": {
    "ExecuteTime": {
     "end_time": "2019-05-18T14:31:05.590613Z",
     "start_time": "2019-05-18T14:31:05.586381Z"
    },
    "scrolled": false
   },
   "outputs": [],
   "source": [
    "ustawy_dir = \"../ustawy\"\n",
    "cll_dir = \"../cll\""
   ]
  },
  {
   "cell_type": "code",
   "execution_count": 3,
   "metadata": {
    "ExecuteTime": {
     "end_time": "2019-05-18T14:31:05.601840Z",
     "start_time": "2019-05-18T14:31:05.594418Z"
    },
    "scrolled": false
   },
   "outputs": [],
   "source": [
    "filenames = os.listdir(ustawy_dir)"
   ]
  },
  {
   "cell_type": "code",
   "execution_count": 4,
   "metadata": {
    "ExecuteTime": {
     "end_time": "2019-05-18T14:31:05.612163Z",
     "start_time": "2019-05-18T14:31:05.607036Z"
    },
    "scrolled": false
   },
   "outputs": [],
   "source": [
    "chosen_ones = np.random.choice(filenames,size=100,replace= False)"
   ]
  },
  {
   "cell_type": "markdown",
   "metadata": {},
   "source": [
    "# Clarin Api"
   ]
  },
  {
   "cell_type": "code",
   "execution_count": 5,
   "metadata": {
    "ExecuteTime": {
     "end_time": "2019-05-18T14:31:05.621706Z",
     "start_time": "2019-05-18T14:31:05.617407Z"
    },
    "scrolled": false
   },
   "outputs": [],
   "source": [
    "base_url = \"https://ws.clarin-pl.eu/nlprest2/\"\n",
    "process_url = base_url+ \"base/process\"\n",
    "ids_file = \"ids.bak\""
   ]
  },
  {
   "cell_type": "code",
   "execution_count": 6,
   "metadata": {
    "ExecuteTime": {
     "end_time": "2019-05-18T14:31:05.724232Z",
     "start_time": "2019-05-18T14:31:05.624283Z"
    },
    "scrolled": false
   },
   "outputs": [],
   "source": [
    "import requests as r"
   ]
  },
  {
   "cell_type": "markdown",
   "metadata": {},
   "source": [
    "## Prepare clls"
   ]
  },
  {
   "cell_type": "code",
   "execution_count": 7,
   "metadata": {
    "ExecuteTime": {
     "end_time": "2019-05-18T14:31:05.729134Z",
     "start_time": "2019-05-18T14:31:05.726414Z"
    },
    "scrolled": false
   },
   "outputs": [],
   "source": [
    "def process_body(text: str):\n",
    "    return \\\n",
    "        {\"lpmn\": \"any2txt|wcrft2|liner2({\\\"model\\\":\\\"n82\\\"})\",\n",
    "         \"text\": text,\n",
    "         \"user\": \"moj@adres.mail\"\n",
    "         }"
   ]
  },
  {
   "cell_type": "markdown",
   "metadata": {
    "ExecuteTime": {
     "end_time": "2019-05-18T13:18:16.507952Z",
     "start_time": "2019-05-18T13:18:16.500504Z"
    }
   },
   "source": [
    "### Async api"
   ]
  },
  {
   "cell_type": "code",
   "execution_count": 8,
   "metadata": {
    "ExecuteTime": {
     "end_time": "2019-05-18T14:31:05.735772Z",
     "start_time": "2019-05-18T14:31:05.731414Z"
    },
    "scrolled": false
   },
   "outputs": [],
   "source": [
    "def start_task(text:str)-> str:\n",
    "    response = r.post(url=base_url + \"base/startTask\", json=process_body(text))\n",
    "    return response.content.decode(\"utf-8\")"
   ]
  },
  {
   "cell_type": "code",
   "execution_count": 9,
   "metadata": {
    "ExecuteTime": {
     "end_time": "2019-05-18T14:31:05.746039Z",
     "start_time": "2019-05-18T14:31:05.740010Z"
    },
    "scrolled": false
   },
   "outputs": [],
   "source": [
    "def task_status(task_id:str)-> str:\n",
    "    response = r.get(url=base_url + \"base/getStatus/{}\".format(task_id)).json()\n",
    "    return response\n",
    "\n",
    "def is_task_done(status):\n",
    "    return status[\"status\"] == \"DONE\"\n",
    "\n",
    "def get_file_id(status):\n",
    "    return status[\"value\"][0][\"fileID\"]"
   ]
  },
  {
   "cell_type": "code",
   "execution_count": 10,
   "metadata": {
    "ExecuteTime": {
     "end_time": "2019-05-18T14:31:05.750675Z",
     "start_time": "2019-05-18T14:31:05.747840Z"
    },
    "scrolled": false
   },
   "outputs": [],
   "source": [
    "def download_task_result(file_id:str)-> str:\n",
    "    response = r.get(url=base_url + \"base/download{}\".format(file_id))\n",
    "    return response.content.decode(\"utf-8\")"
   ]
  },
  {
   "cell_type": "markdown",
   "metadata": {},
   "source": [
    "#### Group functions"
   ]
  },
  {
   "cell_type": "code",
   "execution_count": 11,
   "metadata": {
    "ExecuteTime": {
     "end_time": "2019-05-18T14:31:05.756527Z",
     "start_time": "2019-05-18T14:31:05.752655Z"
    },
    "scrolled": false
   },
   "outputs": [],
   "source": [
    "def str_from_file(fn):\n",
    "    file = open(fn,\"r\")\n",
    "    res = file.read()\n",
    "    file.close()\n",
    "    return res"
   ]
  },
  {
   "cell_type": "code",
   "execution_count": 12,
   "metadata": {
    "ExecuteTime": {
     "end_time": "2019-05-18T14:31:05.763169Z",
     "start_time": "2019-05-18T14:31:05.758586Z"
    },
    "scrolled": false
   },
   "outputs": [],
   "source": [
    "def submit_saving_id_to_file(filenames:List[str]):\n",
    "    id_file = open(ids_file,\"w\")\n",
    "    seq(filenames)\\\n",
    "    .map(lambda fn: f\"{ustawy_dir}/{fn}\")\\\n",
    "    .map(lambda fn: id_file.write(start_task(str_from_file(fn)) + \"\\n\"))\\\n",
    "    .for_each(lambda x: id_file.flush())\n",
    "    id_file.close()"
   ]
  },
  {
   "cell_type": "code",
   "execution_count": 101,
   "metadata": {
    "ExecuteTime": {
     "end_time": "2019-05-18T15:20:26.749189Z",
     "start_time": "2019-05-18T15:20:26.742751Z"
    },
    "scrolled": false
   },
   "outputs": [],
   "source": [
    "raise Exception# to avoid executing\n",
    "submit_saving_id_to_file(chosen_ones)"
   ]
  },
  {
   "cell_type": "code",
   "execution_count": 14,
   "metadata": {
    "ExecuteTime": {
     "end_time": "2019-05-18T14:32:14.885196Z",
     "start_time": "2019-05-18T14:32:14.743000Z"
    },
    "scrolled": false
   },
   "outputs": [
    {
     "name": "stdout",
     "output_type": "stream",
     "text": [
      "     100 ids.bak\r\n"
     ]
    }
   ],
   "source": [
    "!wc -l ids.bak"
   ]
  },
  {
   "cell_type": "code",
   "execution_count": 15,
   "metadata": {
    "ExecuteTime": {
     "end_time": "2019-05-18T14:32:15.907210Z",
     "start_time": "2019-05-18T14:32:15.893409Z"
    },
    "scrolled": false
   },
   "outputs": [],
   "source": [
    "def get_statuses(limit:Optional[int]= None)-> Sequence:\n",
    "    file = open(ids_file,\"r\")\n",
    "    l = 1000 if limit is None else limit\n",
    "    \n",
    "    task_ids = pseq(file.readlines()[:l]).map(lambda x : x.replace(\"\\n\",\"\"))\n",
    "    file.close()\n",
    "    return task_ids.map(task_status)\n",
    "\n",
    "def done_percentage(statuses:Sequence):\n",
    "    return statuses.count(is_task_done) *1.0/ statuses.size()"
   ]
  },
  {
   "cell_type": "code",
   "execution_count": 102,
   "metadata": {
    "ExecuteTime": {
     "end_time": "2019-05-18T15:20:33.207241Z",
     "start_time": "2019-05-18T15:20:33.203052Z"
    },
    "scrolled": false
   },
   "outputs": [],
   "source": [
    "raise Exception\n",
    "statuses = get_statuses()"
   ]
  },
  {
   "cell_type": "code",
   "execution_count": 103,
   "metadata": {
    "ExecuteTime": {
     "end_time": "2019-05-18T15:20:38.836677Z",
     "start_time": "2019-05-18T15:20:38.833798Z"
    },
    "scrolled": false
   },
   "outputs": [],
   "source": [
    "done_percentage(statuses)"
   ]
  },
  {
   "cell_type": "code",
   "execution_count": 104,
   "metadata": {
    "ExecuteTime": {
     "end_time": "2019-05-18T15:20:43.714816Z",
     "start_time": "2019-05-18T15:20:43.712292Z"
    },
    "scrolled": false
   },
   "outputs": [],
   "source": [
    "file_ids= statuses.map(get_file_id)"
   ]
  },
  {
   "cell_type": "code",
   "execution_count": 19,
   "metadata": {
    "ExecuteTime": {
     "end_time": "2019-05-18T14:32:22.465424Z",
     "start_time": "2019-05-18T14:32:22.458411Z"
    },
    "scrolled": false
   },
   "outputs": [],
   "source": [
    "def get_and_save_cll(file_id:str,count:int):\n",
    "    print(f\"Downloading {count}\")\n",
    "    try:\n",
    "        txt = download_task_result(file_id)\n",
    "        fn = file_id.split(\"/\")[-1]\n",
    "        file = open(f'{cll_dir}/{fn}',\"w\")\n",
    "        file.write(txt)\n",
    "        file.close()\n",
    "    except:\n",
    "        print(f\"Failed donwloading {file_id},\")\n",
    "        get_and_save_cll(file_id,count)"
   ]
  },
  {
   "cell_type": "code",
   "execution_count": 20,
   "metadata": {
    "ExecuteTime": {
     "end_time": "2019-05-18T14:32:25.353154Z",
     "start_time": "2019-05-18T14:32:25.226261Z"
    },
    "scrolled": false
   },
   "outputs": [
    {
     "name": "stdout",
     "output_type": "stream",
     "text": [
      "mkdir: ../cll: File exists\r\n"
     ]
    }
   ],
   "source": [
    "! mkdir  \"../cll\""
   ]
  },
  {
   "cell_type": "markdown",
   "metadata": {},
   "source": [
    "Save clls:"
   ]
  },
  {
   "cell_type": "code",
   "execution_count": null,
   "metadata": {
    "ExecuteTime": {
     "end_time": "2019-05-18T14:31:05.922510Z",
     "start_time": "2019-05-18T14:31:04.206Z"
    },
    "scrolled": false
   },
   "outputs": [],
   "source": [
    "raise Exception\n",
    "file_ids.enumerate().for_each(lambda i_file_id: get_and_save_cll(i_file_id[1],i_file_id[1]))"
   ]
  },
  {
   "cell_type": "markdown",
   "metadata": {
    "ExecuteTime": {
     "end_time": "2019-05-18T13:03:45.826679Z",
     "start_time": "2019-05-18T13:03:45.822513Z"
    }
   },
   "source": [
    "### Sync Api\n",
    "> Not used, but helpful for debugging"
   ]
  },
  {
   "cell_type": "code",
   "execution_count": 21,
   "metadata": {
    "ExecuteTime": {
     "end_time": "2019-05-18T14:32:29.843682Z",
     "start_time": "2019-05-18T14:32:29.834757Z"
    },
    "scrolled": false
   },
   "outputs": [],
   "source": [
    "def cll_from_text(text:str)-> str:\n",
    "    response = r.post(url=process_url, json=process_body(text))\n",
    "    return response.content.decode(\"utf-8\")"
   ]
  },
  {
   "cell_type": "code",
   "execution_count": 22,
   "metadata": {
    "ExecuteTime": {
     "end_time": "2019-05-18T14:32:29.992512Z",
     "start_time": "2019-05-18T14:32:29.985113Z"
    },
    "scrolled": false
   },
   "outputs": [],
   "source": [
    "def rewrite_as_cll(base_dir:str,filename:str,cll_dir:str,retry_count:int = 0)-> None:\n",
    "    file = open(base_dir + \"/\" + filename ,\"r\")\n",
    "    text = file.read()\n",
    "    file.close()\n",
    "    try:\n",
    "        print(\"Retrieving cll for {}.  {}\".format(filename,hour_str()))\n",
    "        cll = cll_from_text(text)\n",
    "        write_file = open(cll_dir + \"/\" + filename ,\"w\")\n",
    "        write_file.write(cll)\n",
    "        write_file.close()\n",
    "    except FileNotFoundError:\n",
    "        os.mkdir(cll_dir)\n",
    "        rewrite_as_cll(base_dir,filename,cll_dir)\n",
    "    except Exception:\n",
    "        print(\"Retrieving cll for {} failed, retrying {} time. {}\".format(filename,retry_count,hour_str()))\n",
    "        rewrite_as_cll(base_dir,filename,cll_dir,retry_count= retry_count+1)"
   ]
  },
  {
   "cell_type": "markdown",
   "metadata": {},
   "source": [
    "# Parsing CLL"
   ]
  },
  {
   "cell_type": "code",
   "execution_count": 23,
   "metadata": {
    "ExecuteTime": {
     "end_time": "2019-05-18T14:32:30.303464Z",
     "start_time": "2019-05-18T14:32:30.299908Z"
    },
    "scrolled": false
   },
   "outputs": [],
   "source": [
    "NamedEntity = namedtuple(\"NamedEntity\", \"orth lex_base entity\")"
   ]
  },
  {
   "cell_type": "code",
   "execution_count": 24,
   "metadata": {
    "ExecuteTime": {
     "end_time": "2019-05-18T14:32:30.488638Z",
     "start_time": "2019-05-18T14:32:30.485587Z"
    },
    "scrolled": false
   },
   "outputs": [],
   "source": [
    "EntityWord = namedtuple(\"EntityWord\", \"orth lex_base entity number\")"
   ]
  },
  {
   "cell_type": "code",
   "execution_count": 25,
   "metadata": {
    "ExecuteTime": {
     "end_time": "2019-05-18T14:32:30.668035Z",
     "start_time": "2019-05-18T14:32:30.658805Z"
    },
    "scrolled": false
   },
   "outputs": [],
   "source": [
    "def get_active_chan_annotation(token:Element)-> Optional[str]:\n",
    "    return seq(token.findall(\"ann\"))\\\n",
    "    .filter(lambda x : x.text != \"0\")\\\n",
    "    .map(lambda x: (x.attrib[\"chan\"],x.text))\\\n",
    "    .head_option()\n",
    "\n",
    "def token_word(element: Element) -> Optional[NamedEntity]:\n",
    "    annotation = get_active_chan_annotation(element)\n",
    "\n",
    "    if annotation is None:\n",
    "        return None\n",
    "    else:\n",
    "        chan, value = annotation\n",
    "        orth = element.findtext(\"orth\")\n",
    "        lex_base = element.findtext(\"lex/base\")\n",
    "        return EntityWord(orth=orth, lex_base=lex_base, entity=chan, number=int(value))"
   ]
  },
  {
   "cell_type": "code",
   "execution_count": 26,
   "metadata": {
    "ExecuteTime": {
     "end_time": "2019-05-18T14:32:30.840751Z",
     "start_time": "2019-05-18T14:32:30.833928Z"
    },
    "scrolled": false
   },
   "outputs": [],
   "source": [
    "def group_to_entity(group:List[EntityWord]) -> NamedEntity:\n",
    "        orth = seq(group).map(lambda e: e.orth).reduce(lambda x,y: x + \" \" + y)\n",
    "        lex_base = seq(group).map(lambda e: e.lex_base).reduce(lambda x,y: x + \" \" + y)\n",
    "        \n",
    "        return NamedEntity(orth=orth,lex_base = lex_base,entity= group[0].entity)"
   ]
  },
  {
   "cell_type": "code",
   "execution_count": 27,
   "metadata": {
    "ExecuteTime": {
     "end_time": "2019-05-18T14:32:31.005197Z",
     "start_time": "2019-05-18T14:32:30.996936Z"
    },
    "scrolled": false
   },
   "outputs": [],
   "source": [
    "def sentence_to_entities(sentence:Element) -> List[NamedEntity]:\n",
    "    return seq(sentence.findall(\"tok\"))\\\n",
    "    .map(token_word)\\\n",
    "    .filter_not(lambda x : x is None)\\\n",
    "    .group_by(lambda x : x.entity +str(x.number))\\\n",
    "    .map(lambda g: group_to_entity(g[1])).to_list()"
   ]
  },
  {
   "cell_type": "code",
   "execution_count": 28,
   "metadata": {
    "ExecuteTime": {
     "end_time": "2019-05-18T14:32:31.184809Z",
     "start_time": "2019-05-18T14:32:31.179085Z"
    },
    "scrolled": false
   },
   "outputs": [],
   "source": [
    "def tokens_from_cll(cll:str)-> Sequence:\n",
    "    e = xml.etree.ElementTree.fromstring(cll)\n",
    "    sentences = e.findall(\"chunk/sentence\")\n",
    "    return seq(sentences).flat_map(sentence_to_entities)"
   ]
  },
  {
   "cell_type": "code",
   "execution_count": 29,
   "metadata": {
    "ExecuteTime": {
     "end_time": "2019-05-18T14:32:31.834974Z",
     "start_time": "2019-05-18T14:32:31.828952Z"
    },
    "scrolled": false
   },
   "outputs": [],
   "source": [
    "def tokens_from_cll_file(fn:str) -> Sequence:\n",
    "    file = open(cll_dir + \"/\" + fn ,\"r\")\n",
    "    res = tokens_from_cll(file.read())\n",
    "    file.close()\n",
    "    return res"
   ]
  },
  {
   "cell_type": "markdown",
   "metadata": {
    "ExecuteTime": {
     "end_time": "2019-05-18T10:57:40.897909Z",
     "start_time": "2019-05-18T10:57:40.894118Z"
    }
   },
   "source": [
    "## Actual Parsing "
   ]
  },
  {
   "cell_type": "code",
   "execution_count": 58,
   "metadata": {
    "ExecuteTime": {
     "end_time": "2019-05-18T14:47:15.387127Z",
     "start_time": "2019-05-18T14:47:15.380529Z"
    },
    "scrolled": false
   },
   "outputs": [
    {
     "data": {
      "text/plain": [
       "['f74d130b-16f5-4bf8-8706-f9a4f5c617ec',\n",
       " '42eae721-64b1-4067-80fb-c00907b98f7e',\n",
       " '7675fefc-8942-4109-a8e3-ac5ee66b8bba',\n",
       " '8fbff38b-07d5-4acc-84a4-ee1c2bf48b45',\n",
       " '27db18c5-3ecd-4024-8f2e-a53f7fa6d018',\n",
       " '3ea10ddd-8f2d-4baa-afb8-5642d4899ef3',\n",
       " '749a10bf-63ea-411e-b973-4dd912ee3265',\n",
       " '6da332bc-a453-43db-a078-707de6de344d',\n",
       " '01266d2c-c5d1-44c1-9339-93e10713f0ce',\n",
       " 'ae8940ab-b131-4026-98fb-26d933d803bd']"
      ]
     },
     "execution_count": 58,
     "metadata": {},
     "output_type": "execute_result"
    }
   ],
   "source": [
    "clls = os.listdir(cll_dir)\n",
    "clls[:10]"
   ]
  },
  {
   "cell_type": "code",
   "execution_count": 59,
   "metadata": {
    "ExecuteTime": {
     "end_time": "2019-05-18T14:47:15.807110Z",
     "start_time": "2019-05-18T14:47:15.782026Z"
    },
    "scrolled": false
   },
   "outputs": [
    {
     "data": {
      "text/html": [
       "<table>\n",
       "<thead>\n",
       "<tr><th>orth                                                  </th><th>lex_base                                           </th><th>entity                </th></tr>\n",
       "</thead>\n",
       "<tbody>\n",
       "<tr><td>Dz . U .                                              </td><td>Dzieje_(Apostolskie) . u .                         </td><td>nam_pro_media_periodic</td></tr>\n",
       "<tr><td>ustawie z dnia 21 marca 1985 r . o drogach publicznych</td><td>ustawa z dzień 21 marzec 1985 r . o droga publiczny</td><td>nam_pro_title_document</td></tr>\n",
       "<tr><td>Dz . U .                                              </td><td>Dzieje_(Apostolskie) . u .                         </td><td>nam_pro_media_periodic</td></tr>\n",
       "<tr><td>Gospodarki Morskiej                                   </td><td>gospodarka morski                                  </td><td>nam_liv_person        </td></tr>\n",
       "</tbody>\n",
       "</table>"
      ],
      "text/plain": [
       "[NamedEntity(orth='Dz . U .', lex_base='Dzieje_(Apostolskie) . u .', entity='nam_pro_media_periodic'), NamedEntity(orth='ustawie z dnia 21 marca 1985 r . o drogach publicznych', lex_base='ustawa z dzień 21 marzec 1985 r . o droga publiczny', entity='nam_pro_title_document'), NamedEntity(orth='Dz . U .', lex_base='Dzieje_(Apostolskie) . u .', entity='nam_pro_media_periodic'), NamedEntity(orth='Gospodarki Morskiej', lex_base='gospodarka morski', entity='nam_liv_person')]"
      ]
     },
     "execution_count": 59,
     "metadata": {},
     "output_type": "execute_result"
    }
   ],
   "source": [
    "cll = tokens_from_cll_file(clls[0])\n",
    "cll"
   ]
  },
  {
   "cell_type": "code",
   "execution_count": 60,
   "metadata": {
    "ExecuteTime": {
     "end_time": "2019-05-18T14:47:18.228196Z",
     "start_time": "2019-05-18T14:47:18.224095Z"
    },
    "scrolled": false
   },
   "outputs": [],
   "source": [
    "NerOccurrences = namedtuple(\"NerOccurrences\", \"lex_base fine coarse count\")"
   ]
  },
  {
   "cell_type": "code",
   "execution_count": 61,
   "metadata": {
    "ExecuteTime": {
     "end_time": "2019-05-18T14:47:31.324373Z",
     "start_time": "2019-05-18T14:47:31.318637Z"
    },
    "scrolled": false
   },
   "outputs": [],
   "source": [
    "def ner_group_to_ner_ocurrences(group: Tuple[int, List[NamedEntity]]) -> NerOccurrences:\n",
    "    head = group[1][0]\n",
    "    return NerOccurrences(\n",
    "        lex_base=head.lex_base,\n",
    "        fine=head.entity,\n",
    "        coarse=\"_\".join(head.entity.split(\"_\")[:2]),\n",
    "        count =len(group[1])\n",
    "    )"
   ]
  },
  {
   "cell_type": "code",
   "execution_count": 62,
   "metadata": {
    "ExecuteTime": {
     "end_time": "2019-05-18T14:47:32.105052Z",
     "start_time": "2019-05-18T14:47:32.100032Z"
    },
    "scrolled": false
   },
   "outputs": [],
   "source": [
    "ner_ocurrences = seq(clls)\\\n",
    "    .flat_map(tokens_from_cll_file)\\\n",
    "    .group_by(lambda x: x.entity)\\\n",
    "    .flat_map(lambda g:\n",
    "        seq(g[1])\\\n",
    "         .group_by(lambda ner: ner.lex_base)\\\n",
    "         .map(ner_group_to_ner_ocurrences)\n",
    "        \n",
    "    )"
   ]
  },
  {
   "cell_type": "code",
   "execution_count": 63,
   "metadata": {
    "ExecuteTime": {
     "end_time": "2019-05-18T14:47:54.842079Z",
     "start_time": "2019-05-18T14:47:33.291677Z"
    },
    "scrolled": false
   },
   "outputs": [
    {
     "data": {
      "text/plain": [
       "1360"
      ]
     },
     "execution_count": 63,
     "metadata": {},
     "output_type": "execute_result"
    }
   ],
   "source": [
    "ner_ocurrences.size()"
   ]
  },
  {
   "cell_type": "code",
   "execution_count": 64,
   "metadata": {
    "ExecuteTime": {
     "end_time": "2019-05-18T14:48:00.267492Z",
     "start_time": "2019-05-18T14:48:00.251746Z"
    },
    "scrolled": false
   },
   "outputs": [],
   "source": [
    "ner_ocurrences.to_csv(\"ners.bak\")"
   ]
  },
  {
   "cell_type": "code",
   "execution_count": 65,
   "metadata": {
    "ExecuteTime": {
     "end_time": "2019-05-18T14:48:06.603998Z",
     "start_time": "2019-05-18T14:48:06.593260Z"
    },
    "scrolled": false
   },
   "outputs": [
    {
     "data": {
      "text/plain": [
       "NerOccurrences(lex_base='Dzieje_(Apostolskie) . u .', fine='nam_pro_media_periodic', coarse='nam_pro', count=754)"
      ]
     },
     "execution_count": 65,
     "metadata": {},
     "output_type": "execute_result"
    }
   ],
   "source": [
    "ner_ocurrences[0]"
   ]
  },
  {
   "cell_type": "markdown",
   "metadata": {},
   "source": [
    "# Analysis"
   ]
  },
  {
   "cell_type": "markdown",
   "metadata": {
    "ExecuteTime": {
     "end_time": "2019-05-18T14:46:37.527019Z",
     "start_time": "2019-05-18T14:46:37.519269Z"
    }
   },
   "source": [
    "1. Plot the frequency of the recognized classes:\n",
    "\n",
    "   a) fine-grained classification histogram (classes such as nam_fac_bridge, nam_liv_animal).\n",
    "   \n",
    "   b) coarse-grained classification histogram (classes such as nam_adj, nam_eve, nam_fac).\n",
    "\n"
   ]
  },
  {
   "cell_type": "code",
   "execution_count": 81,
   "metadata": {
    "ExecuteTime": {
     "end_time": "2019-05-18T14:59:47.219011Z",
     "start_time": "2019-05-18T14:59:47.212945Z"
    },
    "scrolled": false
   },
   "outputs": [],
   "source": [
    "def plot_historgram(data:Sequence,title:str):\n",
    "\n",
    "    freq_series = pd.Series(data.map(lambda x: x[1]).to_list())\n",
    "\n",
    "    x_labels = data.map(lambda x:x[0]).to_list()\n",
    "\n",
    "    # Plot the figure.\n",
    "    plt.figure(figsize=(20, 8))\n",
    "    ax = freq_series.plot(kind='bar')\n",
    "    ax.set_title(title)\n",
    "    ax.set_xlabel('Categories')\n",
    "    ax.set_ylabel('Occurrences')\n",
    "    ax.set_xticklabels(x_labels)"
   ]
  },
  {
   "cell_type": "code",
   "execution_count": 85,
   "metadata": {
    "ExecuteTime": {
     "end_time": "2019-05-18T15:01:00.548596Z",
     "start_time": "2019-05-18T15:01:00.151810Z"
    },
    "scrolled": false
   },
   "outputs": [
    {
     "data": {
      "image/png": "[encoded data removed]",
      "text/plain": [
       "<Figure size 1440x576 with 1 Axes>"
      ]
     },
     "metadata": {
      "needs_background": "light"
     },
     "output_type": "display_data"
    }
   ],
   "source": [
    "coarse = ner_ocurrences.group_by(lambda x: x.coarse).map(lambda g:(g[0],seq(g[1]).map(lambda x: x.count).sum()))\n",
    "plot_historgram(coarse,\"Coarse categories\")"
   ]
  },
  {
   "cell_type": "code",
   "execution_count": 100,
   "metadata": {
    "ExecuteTime": {
     "end_time": "2019-05-18T15:09:13.140810Z",
     "start_time": "2019-05-18T15:09:12.254200Z"
    },
    "scrolled": false
   },
   "outputs": [
    {
     "data": {
      "image/png": "[encoded data removed]",
      "text/plain": [
       "<Figure size 1440x576 with 1 Axes>"
      ]
     },
     "metadata": {
      "needs_background": "light"
     },
     "output_type": "display_data"
    }
   ],
   "source": [
    "fine = ner_ocurrences.group_by(lambda x: x.fine).map(lambda g:(g[0],seq(g[1]).map(lambda x: x.count).sum()))\n",
    "plot_historgram(fine,\"Fine categories\")"
   ]
  },
  {
   "cell_type": "markdown",
   "metadata": {
    "ExecuteTime": {
     "end_time": "2019-05-18T14:48:59.799452Z",
     "start_time": "2019-05-18T14:48:59.784057Z"
    }
   },
   "source": [
    "2\\. Display 50 most frequent Named Entities including their count and fine-grained type.\n"
   ]
  },
  {
   "cell_type": "code",
   "execution_count": 91,
   "metadata": {
    "ExecuteTime": {
     "end_time": "2019-05-18T15:04:09.019178Z",
     "start_time": "2019-05-18T15:04:08.996365Z"
    },
    "scrolled": false
   },
   "outputs": [
    {
     "data": {
      "text/html": [
       "<table>\n",
       "<thead>\n",
       "<tr><th>lex_base                                                  </th><th>fine                  </th><th>coarse  </th><th style=\"text-align: right;\">  count</th></tr>\n",
       "</thead>\n",
       "<tbody>\n",
       "<tr><td>Dzieje_(Apostolskie) . u .                                </td><td>nam_pro_media_periodic</td><td>nam_pro </td><td style=\"text-align: right;\">    754</td></tr>\n",
       "<tr><td>rzeczpospolita polski                                     </td><td>nam_loc_gpe_country   </td><td>nam_loc </td><td style=\"text-align: right;\">    358</td></tr>\n",
       "<tr><td>złoty                                                     </td><td>nam_oth_currency      </td><td>nam_oth </td><td style=\"text-align: right;\">    239</td></tr>\n",
       "<tr><td>dziennik . u .                                            </td><td>nam_pro_media_periodic</td><td>nam_pro </td><td style=\"text-align: right;\">    192</td></tr>\n",
       "<tr><td>skarb państwo                                             </td><td>nam_org_institution   </td><td>nam_org </td><td style=\"text-align: right;\">    188</td></tr>\n",
       "<tr><td>minister obrona narodowy                                  </td><td>nam_org_institution   </td><td>nam_org </td><td style=\"text-align: right;\">    136</td></tr>\n",
       "<tr><td>rada minister                                             </td><td>nam_org_institution   </td><td>nam_org </td><td style=\"text-align: right;\">    135</td></tr>\n",
       "<tr><td>prezes rad minister                                       </td><td>nam_org_institution   </td><td>nam_org </td><td style=\"text-align: right;\">    122</td></tr>\n",
       "<tr><td>unia europejski                                           </td><td>nam_org_organization  </td><td>nam_org </td><td style=\"text-align: right;\">    101</td></tr>\n",
       "<tr><td>polski                                                    </td><td>nam_adj_country       </td><td>nam_adj </td><td style=\"text-align: right;\">     95</td></tr>\n",
       "<tr><td>minister finanse                                          </td><td>nam_org_institution   </td><td>nam_org </td><td style=\"text-align: right;\">     92</td></tr>\n",
       "<tr><td>minister sprawiedliwość                                   </td><td>nam_org_institution   </td><td>nam_org </td><td style=\"text-align: right;\">     90</td></tr>\n",
       "<tr><td>państwowy straż pożarny                                   </td><td>nam_org_organization  </td><td>nam_org </td><td style=\"text-align: right;\">     83</td></tr>\n",
       "<tr><td>żandarmeria wojskowy                                      </td><td>nam_org_institution   </td><td>nam_org </td><td style=\"text-align: right;\">     61</td></tr>\n",
       "<tr><td>agencja                                                   </td><td>nam_org_institution   </td><td>nam_org </td><td style=\"text-align: right;\">     57</td></tr>\n",
       "<tr><td>Warszawa                                                  </td><td>nam_loc_gpe_city      </td><td>nam_loc </td><td style=\"text-align: right;\">     48</td></tr>\n",
       "<tr><td>minister sprawa wewnętrzny i administracja                </td><td>nam_org_institution   </td><td>nam_org </td><td style=\"text-align: right;\">     48</td></tr>\n",
       "<tr><td>inspekcja weterynaryjny                                   </td><td>nam_org_institution   </td><td>nam_org </td><td style=\"text-align: right;\">     47</td></tr>\n",
       "<tr><td>rad minister                                              </td><td>nam_org_institution   </td><td>nam_org </td><td style=\"text-align: right;\">     42</td></tr>\n",
       "<tr><td>polski organizacja turystyczny                            </td><td>nam_org_institution   </td><td>nam_org </td><td style=\"text-align: right;\">     40</td></tr>\n",
       "<tr><td>Rzeczpospolita Polska                                     </td><td>nam_loc_gpe_country   </td><td>nam_loc </td><td style=\"text-align: right;\">     39</td></tr>\n",
       "<tr><td>Polska                                                    </td><td>nam_loc_gpe_country   </td><td>nam_loc </td><td style=\"text-align: right;\">     38</td></tr>\n",
       "<tr><td>bank gospodarstwo krajowy                                 </td><td>nam_org_institution   </td><td>nam_org </td><td style=\"text-align: right;\">     37</td></tr>\n",
       "<tr><td>minister praca i polityka socjalna                        </td><td>nam_org_institution   </td><td>nam_org </td><td style=\"text-align: right;\">     35</td></tr>\n",
       "<tr><td>RON                                                       </td><td>nam_org_organization  </td><td>nam_org </td><td style=\"text-align: right;\">     35</td></tr>\n",
       "<tr><td>euro                                                      </td><td>nam_oth_currency      </td><td>nam_oth </td><td style=\"text-align: right;\">     33</td></tr>\n",
       "<tr><td>polski związek łowiecki                                   </td><td>nam_org_organization  </td><td>nam_org </td><td style=\"text-align: right;\">     31</td></tr>\n",
       "<tr><td>minister ochrona środowisko , zasoby naturalny i leśnictwo</td><td>nam_org_institution   </td><td>nam_org </td><td style=\"text-align: right;\">     30</td></tr>\n",
       "<tr><td>agencja restrukturyzacja i modernizacja rolnictwo         </td><td>nam_org_institution   </td><td>nam_org </td><td style=\"text-align: right;\">     28</td></tr>\n",
       "<tr><td>główny inspektor ochrona środowisko                       </td><td>nam_org_institution   </td><td>nam_org </td><td style=\"text-align: right;\">     28</td></tr>\n",
       "<tr><td>Marszałek sejm                                            </td><td>nam_org_institution   </td><td>nam_org </td><td style=\"text-align: right;\">     26</td></tr>\n",
       "<tr><td>minister zdrowie i opieka społeczny                       </td><td>nam_org_institution   </td><td>nam_org </td><td style=\"text-align: right;\">     26</td></tr>\n",
       "<tr><td>kodeks karny                                              </td><td>nam_pro_title_document</td><td>nam_pro </td><td style=\"text-align: right;\">     25</td></tr>\n",
       "<tr><td>komendant główny żandarmeria wojskowy                     </td><td>nam_org_institution   </td><td>nam_org </td><td style=\"text-align: right;\">     24</td></tr>\n",
       "<tr><td>urząd ochrona państwo                                     </td><td>nam_org_institution   </td><td>nam_org </td><td style=\"text-align: right;\">     23</td></tr>\n",
       "<tr><td>generalny inspektor                                       </td><td>nam_liv_person        </td><td>nam_liv </td><td style=\"text-align: right;\">     22</td></tr>\n",
       "<tr><td>minister ochrona środowisko , zasoby naturalny            </td><td>nam_org_institution   </td><td>nam_org </td><td style=\"text-align: right;\">     22</td></tr>\n",
       "<tr><td>krajowy biuro wyborczy                                    </td><td>nam_org_institution   </td><td>nam_org </td><td style=\"text-align: right;\">     21</td></tr>\n",
       "<tr><td>rejestr                                                   </td><td>nam_loc_gpe_city      </td><td>nam_loc </td><td style=\"text-align: right;\">     20</td></tr>\n",
       "<tr><td>główny lekarz weterynaria                                 </td><td>nam_org_institution   </td><td>nam_org </td><td style=\"text-align: right;\">     20</td></tr>\n",
       "<tr><td>kodeks postępowanie cywilny                               </td><td>nam_pro_title_document</td><td>nam_pro </td><td style=\"text-align: right;\">     19</td></tr>\n",
       "<tr><td>kodeks postępowanie administracyjny                       </td><td>nam_pro_title_document</td><td>nam_pro </td><td style=\"text-align: right;\">     19</td></tr>\n",
       "<tr><td>kodeks karny skarbowy                                     </td><td>nam_pro_title_document</td><td>nam_pro </td><td style=\"text-align: right;\">     19</td></tr>\n",
       "<tr><td>inspekcja sanitarny                                       </td><td>nam_org_institution   </td><td>nam_org </td><td style=\"text-align: right;\">     19</td></tr>\n",
       "<tr><td>żandarmeria wojskowy                                      </td><td>nam_org_organization  </td><td>nam_org </td><td style=\"text-align: right;\">     19</td></tr>\n",
       "<tr><td>uniwersytet                                               </td><td>nam_org_organization  </td><td>nam_org </td><td style=\"text-align: right;\">     19</td></tr>\n",
       "<tr><td>senat                                                     </td><td>nam_org_institution   </td><td>nam_org </td><td style=\"text-align: right;\">     18</td></tr>\n",
       "<tr><td>europejski obszar gospodarczy                             </td><td>nam_org_institution   </td><td>nam_org </td><td style=\"text-align: right;\">     18</td></tr>\n",
       "<tr><td>medal \" siła zbrojny                                      </td><td>nam_org_institution   </td><td>nam_org </td><td style=\"text-align: right;\">     18</td></tr>\n",
       "<tr><td>główny inspektor                                          </td><td>nam_liv_person        </td><td>nam_liv </td><td style=\"text-align: right;\">     17</td></tr>\n",
       "</tbody>\n",
       "</table><p>Showing 50 of 1360 rows"
      ],
      "text/plain": [
       "[NerOccurrences(lex_base='Dzieje_(Apostolskie) . u .', fine='nam_pro_media_periodic', coarse='nam_pro', count=754), NerOccurrences(lex_base='rzeczpospolita polski', fine='nam_loc_gpe_country', coarse='nam_loc', count=358), NerOccurrences(lex_base='złoty', fine='nam_oth_currency', coarse='nam_oth', count=239), NerOccurrences(lex_base='dziennik . u .', fine='nam_pro_media_periodic', coarse='nam_pro', count=192), NerOccurrences(lex_base='skarb państwo', fine='nam_org_institution', coarse='nam_org', count=188), NerOccurrences(lex_base='minister obrona narodowy', fine='nam_org_institution', coarse='nam_org', count=136), NerOccurrences(lex_base='rada minister', fine='nam_org_institution', coarse='nam_org', count=135), NerOccurrences(lex_base='prezes rad minister', fine='nam_org_institution', coarse='nam_org', count=122), NerOccurrences(lex_base='unia europejski', fine='nam_org_organization', coarse='nam_org', count=101), NerOccurrences(lex_base='polski', fine='nam_adj_country', coarse='nam_adj', count=95), NerOccurrences(lex_base='minister finanse', fine='nam_org_institution', coarse='nam_org', count=92), NerOccurrences(lex_base='minister sprawiedliwość', fine='nam_org_institution', coarse='nam_org', count=90), NerOccurrences(lex_base='państwowy straż pożarny', fine='nam_org_organization', coarse='nam_org', count=83), NerOccurrences(lex_base='żandarmeria wojskowy', fine='nam_org_institution', coarse='nam_org', count=61), NerOccurrences(lex_base='agencja', fine='nam_org_institution', coarse='nam_org', count=57), NerOccurrences(lex_base='Warszawa', fine='nam_loc_gpe_city', coarse='nam_loc', count=48), NerOccurrences(lex_base='minister sprawa wewnętrzny i administracja', fine='nam_org_institution', coarse='nam_org', count=48), NerOccurrences(lex_base='inspekcja weterynaryjny', fine='nam_org_institution', coarse='nam_org', count=47), NerOccurrences(lex_base='rad minister', fine='nam_org_institution', coarse='nam_org', count=42), NerOccurrences(lex_base='polski organizacja turystyczny', fine='nam_org_institution', coarse='nam_org', count=40), NerOccurrences(lex_base='Rzeczpospolita Polska', fine='nam_loc_gpe_country', coarse='nam_loc', count=39), NerOccurrences(lex_base='Polska', fine='nam_loc_gpe_country', coarse='nam_loc', count=38), NerOccurrences(lex_base='bank gospodarstwo krajowy', fine='nam_org_institution', coarse='nam_org', count=37), NerOccurrences(lex_base='minister praca i polityka socjalna', fine='nam_org_institution', coarse='nam_org', count=35), NerOccurrences(lex_base='RON', fine='nam_org_organization', coarse='nam_org', count=35), NerOccurrences(lex_base='euro', fine='nam_oth_currency', coarse='nam_oth', count=33), NerOccurrences(lex_base='polski związek łowiecki', fine='nam_org_organization', coarse='nam_org', count=31), NerOccurrences(lex_base='minister ochrona środowisko , zasoby naturalny i leśnictwo', fine='nam_org_institution', coarse='nam_org', count=30), NerOccurrences(lex_base='agencja restrukturyzacja i modernizacja rolnictwo', fine='nam_org_institution', coarse='nam_org', count=28), NerOccurrences(lex_base='główny inspektor ochrona środowisko', fine='nam_org_institution', coarse='nam_org', count=28), NerOccurrences(lex_base='Marszałek sejm', fine='nam_org_institution', coarse='nam_org', count=26), NerOccurrences(lex_base='minister zdrowie i opieka społeczny', fine='nam_org_institution', coarse='nam_org', count=26), NerOccurrences(lex_base='kodeks karny', fine='nam_pro_title_document', coarse='nam_pro', count=25), NerOccurrences(lex_base='komendant główny żandarmeria wojskowy', fine='nam_org_institution', coarse='nam_org', count=24), NerOccurrences(lex_base='urząd ochrona państwo', fine='nam_org_institution', coarse='nam_org', count=23), NerOccurrences(lex_base='generalny inspektor', fine='nam_liv_person', coarse='nam_liv', count=22), NerOccurrences(lex_base='minister ochrona środowisko , zasoby naturalny', fine='nam_org_institution', coarse='nam_org', count=22), NerOccurrences(lex_base='krajowy biuro wyborczy', fine='nam_org_institution', coarse='nam_org', count=21), NerOccurrences(lex_base='rejestr', fine='nam_loc_gpe_city', coarse='nam_loc', count=20), NerOccurrences(lex_base='główny lekarz weterynaria', fine='nam_org_institution', coarse='nam_org', count=20), NerOccurrences(lex_base='kodeks postępowanie cywilny', fine='nam_pro_title_document', coarse='nam_pro', count=19), NerOccurrences(lex_base='kodeks postępowanie administracyjny', fine='nam_pro_title_document', coarse='nam_pro', count=19), NerOccurrences(lex_base='kodeks karny skarbowy', fine='nam_pro_title_document', coarse='nam_pro', count=19), NerOccurrences(lex_base='inspekcja sanitarny', fine='nam_org_institution', coarse='nam_org', count=19), NerOccurrences(lex_base='żandarmeria wojskowy', fine='nam_org_organization', coarse='nam_org', count=19), NerOccurrences(lex_base='uniwersytet', fine='nam_org_organization', coarse='nam_org', count=19), NerOccurrences(lex_base='senat', fine='nam_org_institution', coarse='nam_org', count=18), NerOccurrences(lex_base='europejski obszar gospodarczy', fine='nam_org_institution', coarse='nam_org', count=18), NerOccurrences(lex_base='medal \" siła zbrojny', fine='nam_org_institution', coarse='nam_org', count=18), NerOccurrences(lex_base='główny inspektor', fine='nam_liv_person', coarse='nam_liv', count=17), NerOccurrences(lex_base='sejm', fine='nam_org_institution', coarse='nam_org', count=17), NerOccurrences(lex_base='główny inspektor nadzór budowlany', fine='nam_org_institution', coarse='nam_org', count=17), NerOccurrences(lex_base='sekunda T a w a', fine='nam_liv_person', coarse='nam_liv', count=16), NerOccurrences(lex_base='minister sprawa zagraniczny', fine='nam_org_institution', coarse='nam_org', count=16), NerOccurrences(lex_base='minister sprawa wewnętrzny', fine='nam_org_institution', coarse='nam_org', count=16), NerOccurrences(lex_base='narodowy bank Polska', fine='nam_org_organization', coarse='nam_org', count=16), NerOccurrences(lex_base='komendant główny', fine='nam_fac_goe', coarse='nam_fac', count=16), NerOccurrences(lex_base='fundusz praca', fine='nam_org_institution', coarse='nam_org', count=15), NerOccurrences(lex_base='państwowy inspekcja praca', fine='nam_org_institution', coarse='nam_org', count=15), NerOccurrences(lex_base='agencja rynek rolny', fine='nam_org_institution', coarse='nam_org', count=15), NerOccurrences(lex_base='krajowy rad psycholog', fine='nam_org_institution', coarse='nam_org', count=15), NerOccurrences(lex_base='państwowy straż pożarny', fine='nam_org_institution', coarse='nam_org', count=14), NerOccurrences(lex_base='minister rolnictwo i gospodarka żywnościowy', fine='nam_org_institution', coarse='nam_org', count=14), NerOccurrences(lex_base='dowódca operacyjny siła zbrojny', fine='nam_org_institution', coarse='nam_org', count=14), NerOccurrences(lex_base='służba ojczyzna', fine='nam_org_institution', coarse='nam_org', count=14), NerOccurrences(lex_base='biuro ochrona rząd', fine='nam_org_institution', coarse='nam_org', count=14), NerOccurrences(lex_base='pomnik zagłada', fine='nam_fac_goe', coarse='nam_fac', count=14), NerOccurrences(lex_base='dziennik . URz', fine='nam_pro_media_periodic', coarse='nam_pro', count=13), NerOccurrences(lex_base='kodeks postępowanie karny', fine='nam_pro_title_document', coarse='nam_pro', count=13), NerOccurrences(lex_base='Art', fine='nam_liv_person', coarse='nam_liv', count=13), NerOccurrences(lex_base='agencja mienie wojskowy', fine='nam_org_institution', coarse='nam_org', count=13), NerOccurrences(lex_base='inspekcja farmaceutyczny', fine='nam_org_institution', coarse='nam_org', count=13), NerOccurrences(lex_base='komisja do sprawa Społeczno - gospodarczy', fine='nam_org_institution', coarse='nam_org', count=13), NerOccurrences(lex_base='rad polski organizacja turystyczny', fine='nam_org_institution', coarse='nam_org', count=13), NerOccurrences(lex_base='państwowy straż rybacki', fine='nam_org_organization', coarse='nam_org', count=13), NerOccurrences(lex_base='państwowy straż łowiecki', fine='nam_org_organization', coarse='nam_org', count=13), NerOccurrences(lex_base='kodeks cywilny', fine='nam_pro_title_document', coarse='nam_pro', count=12), NerOccurrences(lex_base='siła zbrojny', fine='nam_org_institution', coarse='nam_org', count=12), NerOccurrences(lex_base='Polska organizacja turystyczny', fine='nam_org_institution', coarse='nam_org', count=12), NerOccurrences(lex_base='inspekcja handlowy', fine='nam_org_institution', coarse='nam_org', count=11), NerOccurrences(lex_base='narodowy bank polski', fine='nam_org_institution', coarse='nam_org', count=11), NerOccurrences(lex_base='narodowy bank Polska', fine='nam_org_institution', coarse='nam_org', count=11), NerOccurrences(lex_base='prezes polski organizacja turystyczny', fine='nam_org_institution', coarse='nam_org', count=11), NerOccurrences(lex_base='UE', fine='nam_org_organization', coarse='nam_org', count=11), NerOccurrences(lex_base='dziennik urzędowy', fine='nam_pro_media_periodic', coarse='nam_pro', count=10), NerOccurrences(lex_base='ustawa z dzień 21 sierpień 1997 r . o gospodarka nieruchomości', fine='nam_pro_title_document', coarse='nam_pro', count=10), NerOccurrences(lex_base='szef służba cywilny', fine='nam_org_institution', coarse='nam_org', count=10), NerOccurrences(lex_base='główny inspektor skup i przetwórstwo artykuł rolny', fine='nam_org_institution', coarse='nam_org', count=10), NerOccurrences(lex_base='zakład ubezpieczenie społeczny', fine='nam_org_institution', coarse='nam_org', count=10), NerOccurrences(lex_base='ubezpieczeniowy fundusz gwarancyjny', fine='nam_org_institution', coarse='nam_org', count=10), NerOccurrences(lex_base='polski biuro ubezpieczenie komunikacyjny', fine='nam_org_institution', coarse='nam_org', count=10), NerOccurrences(lex_base='inspektorat wsparcie siła zbrojny', fine='nam_org_institution', coarse='nam_org', count=10), NerOccurrences(lex_base='służba ojczyzna \"', fine='nam_org_institution', coarse='nam_org', count=10), NerOccurrences(lex_base='krajowy reprezentacja samorządowy kolegium odwoławczy', fine='nam_org_institution', coarse='nam_org', count=10), NerOccurrences(lex_base='rada regionalny izba psycholog', fine='nam_org_institution', coarse='nam_org', count=10), NerOccurrences(lex_base='fundusz ubezpieczenie społeczny', fine='nam_org_institution', coarse='nam_org', count=10), NerOccurrences(lex_base='trójstronny komisja do sprawa Społeczno - gospodarczy', fine='nam_org_institution', coarse='nam_org', count=10), NerOccurrences(lex_base='siła zbrojny', fine='nam_liv_person', coarse='nam_liv', count=9), NerOccurrences(lex_base='rzecznik ubezpieczona', fine='nam_liv_person', coarse='nam_liv', count=9), NerOccurrences(lex_base='prezydent rzeczpospolita polski', fine='nam_org_institution', coarse='nam_org', count=9), ...]"
      ]
     },
     "metadata": {},
     "output_type": "display_data"
    }
   ],
   "source": [
    "display_seq(ner_ocurrences.order_by(lambda x: - x.count),50)"
   ]
  },
  {
   "cell_type": "markdown",
   "metadata": {
    "ExecuteTime": {
     "end_time": "2019-05-18T14:49:17.221189Z",
     "start_time": "2019-05-18T14:49:17.216281Z"
    }
   },
   "source": [
    "3\\. Display 10 most frequent Named Entities for each coarse-grained type."
   ]
  },
  {
   "cell_type": "code",
   "execution_count": 99,
   "metadata": {
    "ExecuteTime": {
     "end_time": "2019-05-18T15:09:07.652712Z",
     "start_time": "2019-05-18T15:09:07.597044Z"
    },
    "scrolled": false
   },
   "outputs": [
    {
     "data": {
      "text/html": [
       "<h1>nam_pro</h1>"
      ],
      "text/plain": [
       "<IPython.core.display.HTML object>"
      ]
     },
     "metadata": {},
     "output_type": "display_data"
    },
    {
     "data": {
      "text/html": [
       "<table>\n",
       "<thead>\n",
       "<tr><th>lex_base                           </th><th>fine                  </th><th>coarse  </th><th style=\"text-align: right;\">  count</th></tr>\n",
       "</thead>\n",
       "<tbody>\n",
       "<tr><td>Dzieje_(Apostolskie) . u .         </td><td>nam_pro_media_periodic</td><td>nam_pro </td><td style=\"text-align: right;\">    754</td></tr>\n",
       "<tr><td>dziennik . u .                     </td><td>nam_pro_media_periodic</td><td>nam_pro </td><td style=\"text-align: right;\">    192</td></tr>\n",
       "<tr><td>kodeks karny                       </td><td>nam_pro_title_document</td><td>nam_pro </td><td style=\"text-align: right;\">     25</td></tr>\n",
       "<tr><td>kodeks postępowanie cywilny        </td><td>nam_pro_title_document</td><td>nam_pro </td><td style=\"text-align: right;\">     19</td></tr>\n",
       "<tr><td>kodeks postępowanie administracyjny</td><td>nam_pro_title_document</td><td>nam_pro </td><td style=\"text-align: right;\">     19</td></tr>\n",
       "<tr><td>kodeks karny skarbowy              </td><td>nam_pro_title_document</td><td>nam_pro </td><td style=\"text-align: right;\">     19</td></tr>\n",
       "<tr><td>dziennik . URz                     </td><td>nam_pro_media_periodic</td><td>nam_pro </td><td style=\"text-align: right;\">     13</td></tr>\n",
       "<tr><td>kodeks postępowanie karny          </td><td>nam_pro_title_document</td><td>nam_pro </td><td style=\"text-align: right;\">     13</td></tr>\n",
       "<tr><td>kodeks cywilny                     </td><td>nam_pro_title_document</td><td>nam_pro </td><td style=\"text-align: right;\">     12</td></tr>\n",
       "<tr><td>dziennik urzędowy                  </td><td>nam_pro_media_periodic</td><td>nam_pro </td><td style=\"text-align: right;\">     10</td></tr>\n",
       "</tbody>\n",
       "</table><p>Showing 10 of 319 rows"
      ],
      "text/plain": [
       "[NerOccurrences(lex_base='Dzieje_(Apostolskie) . u .', fine='nam_pro_media_periodic', coarse='nam_pro', count=754), NerOccurrences(lex_base='dziennik . u .', fine='nam_pro_media_periodic', coarse='nam_pro', count=192), NerOccurrences(lex_base='kodeks karny', fine='nam_pro_title_document', coarse='nam_pro', count=25), NerOccurrences(lex_base='kodeks postępowanie cywilny', fine='nam_pro_title_document', coarse='nam_pro', count=19), NerOccurrences(lex_base='kodeks postępowanie administracyjny', fine='nam_pro_title_document', coarse='nam_pro', count=19), NerOccurrences(lex_base='kodeks karny skarbowy', fine='nam_pro_title_document', coarse='nam_pro', count=19), NerOccurrences(lex_base='dziennik . URz', fine='nam_pro_media_periodic', coarse='nam_pro', count=13), NerOccurrences(lex_base='kodeks postępowanie karny', fine='nam_pro_title_document', coarse='nam_pro', count=13), NerOccurrences(lex_base='kodeks cywilny', fine='nam_pro_title_document', coarse='nam_pro', count=12), NerOccurrences(lex_base='dziennik urzędowy', fine='nam_pro_media_periodic', coarse='nam_pro', count=10), NerOccurrences(lex_base='ustawa z dzień 21 sierpień 1997 r . o gospodarka nieruchomości', fine='nam_pro_title_document', coarse='nam_pro', count=10), NerOccurrences(lex_base='monitor Polska', fine='nam_pro_title', coarse='nam_pro', count=9), NerOccurrences(lex_base='rzecznik ubezpieczona', fine='nam_pro_media_periodic', coarse='nam_pro', count=7), NerOccurrences(lex_base='ustawa z dzień 26 lipiec 1991 r . o podatek dochodowy od osoba fizyczny', fine='nam_pro_title_document', coarse='nam_pro', count=7), NerOccurrences(lex_base='ustawa z dzień 6 kwiecień 1990 r . o policja', fine='nam_pro_title_document', coarse='nam_pro', count=7), NerOccurrences(lex_base='ustawa z dzień 24 kwiecień 2003 r . o działalność pożytek publiczny i o wolontariat', fine='nam_pro_title_document', coarse='nam_pro', count=7), NerOccurrences(lex_base='ustawa z dzień 14 grudzień 1994 r . o zatrudnienie i przeciwdziałanie bezrobocie', fine='nam_pro_title_document', coarse='nam_pro', count=6), NerOccurrences(lex_base='ordynacja podatkowy', fine='nam_pro_title_document', coarse='nam_pro', count=6), NerOccurrences(lex_base='kodeks wykroczenie', fine='nam_pro_title_document', coarse='nam_pro', count=6), NerOccurrences(lex_base='R1', fine='nam_pro_brand', coarse='nam_pro', count=6), NerOccurrences(lex_base='ustawa o służba cywilny', fine='nam_pro_title_document', coarse='nam_pro', count=5), NerOccurrences(lex_base='ustawa z dzień 15 luty 1992 r . o podatek dochodowy od osoba prawny', fine='nam_pro_title_document', coarse='nam_pro', count=5), NerOccurrences(lex_base='kodeks handlowy', fine='nam_pro_title_document', coarse='nam_pro', count=5), NerOccurrences(lex_base='prawo o ruch drogowe', fine='nam_pro_title_document', coarse='nam_pro', count=5), NerOccurrences(lex_base='prawo ochrona środowisko', fine='nam_pro_title_document', coarse='nam_pro', count=5), NerOccurrences(lex_base='Dzieje_(Apostolskie) . u', fine='nam_pro_media_periodic', coarse='nam_pro', count=4), NerOccurrences(lex_base='ustawa z dzień 18 grudzień 1998 r . o służba cywilny', fine='nam_pro_title_document', coarse='nam_pro', count=4), NerOccurrences(lex_base='kodeks celny', fine='nam_pro_title_document', coarse='nam_pro', count=4), NerOccurrences(lex_base='prawo wodny', fine='nam_pro_title_document', coarse='nam_pro', count=4), NerOccurrences(lex_base='ustawa z dzień 26 październik 1982 r . o wychowanie w trzeźwość i przeciwdziałanie alkoholizm', fine='nam_pro_title_document', coarse='nam_pro', count=4), NerOccurrences(lex_base='konstytucja rzeczpospolita polski', fine='nam_pro_title_document', coarse='nam_pro', count=4), NerOccurrences(lex_base='prawo energetyczny', fine='nam_pro_title_document', coarse='nam_pro', count=4), NerOccurrences(lex_base='ustawa z dzień 12 październik 1990 r . o ochrona granica państwowy', fine='nam_pro_title_document', coarse='nam_pro', count=4), NerOccurrences(lex_base='kodeks praca', fine='nam_pro_title_document', coarse='nam_pro', count=4), NerOccurrences(lex_base='kodeks postępowanie w sprawa o wykroczenie', fine='nam_pro_title_document', coarse='nam_pro', count=4), NerOccurrences(lex_base='ustawa z dzień 24 kwiecień 2003', fine='nam_pro_title_document', coarse='nam_pro', count=4), NerOccurrences(lex_base='konwencja genewski', fine='nam_pro_title_document', coarse='nam_pro', count=4), NerOccurrences(lex_base='ustawa z dzień 24 listopad 1995 r . o zmiana zakres działanie niektóry miast oraz o miejski strefa usługa publiczny', fine='nam_pro_title_document', coarse='nam_pro', count=4), NerOccurrences(lex_base='główny geodeta kraj', fine='nam_pro_title', coarse='nam_pro', count=4), NerOccurrences(lex_base='Dzieje_(Apostolskie) . u nr', fine='nam_pro_media_periodic', coarse='nam_pro', count=3), NerOccurrences(lex_base='dziennik . nr', fine='nam_pro_media_periodic', coarse='nam_pro', count=3), NerOccurrences(lex_base='bilans', fine='nam_pro_media_periodic', coarse='nam_pro', count=3), NerOccurrences(lex_base='ustawa z dzień 21 marzec 1985 r . o droga publiczny', fine='nam_pro_title_document', coarse='nam_pro', count=3), NerOccurrences(lex_base='kodeks spółka handlowy', fine='nam_pro_title_document', coarse='nam_pro', count=3), NerOccurrences(lex_base='prawo o ustrój sąd powszechny', fine='nam_pro_title_document', coarse='nam_pro', count=3), NerOccurrences(lex_base='rozporządzenie prezydent rzeczpospolita z dzień 24 październik 1934', fine='nam_pro_title_document', coarse='nam_pro', count=3), NerOccurrences(lex_base='ustawa z dzień 3 luty 1995 r . o ochrona grunt rolny i leśna', fine='nam_pro_title_document', coarse='nam_pro', count=3), NerOccurrences(lex_base='ustawa z dzień 20 grudzień 1990 r . o ubezpieczenie społeczny rolnik', fine='nam_pro_title_document', coarse='nam_pro', count=3), NerOccurrences(lex_base='ustawa z dzień 13 październik 1998 r . o system ubezpieczenie społeczny', fine='nam_pro_title_document', coarse='nam_pro', count=3), NerOccurrences(lex_base='ustawa z dzień 15 luty 1962 r . o ochrona dobra kultura', fine='nam_pro_title_document', coarse='nam_pro', count=3), NerOccurrences(lex_base='prawo lotniczy', fine='nam_pro_title_document', coarse='nam_pro', count=3), NerOccurrences(lex_base='ustawa z dzień 6 lipiec 1982 r . o radca prawny', fine='nam_pro_title_document', coarse='nam_pro', count=3), NerOccurrences(lex_base='ustawa z dzień 18 kwiecień 1985 r . o rybactwo śródlądowy', fine='nam_pro_title_document', coarse='nam_pro', count=3), NerOccurrences(lex_base='ustawa z dzień 24 sierpień 1991 r . o ochrona przeciwpożarowy', fine='nam_pro_title_document', coarse='nam_pro', count=3), NerOccurrences(lex_base='ustawa z dzień 28 wrzesień 1991 r . o las', fine='nam_pro_title_document', coarse='nam_pro', count=3), NerOccurrences(lex_base='ustawa z dzień 8 marzec 1990 r . o samorząd terytorialny', fine='nam_pro_title_document', coarse='nam_pro', count=3), NerOccurrences(lex_base='ustawa z dzień 27 sierpień 1997 r . o rehabilitacja zawodowy i społeczny oraz zatrudniać osoba niepełnosprawna', fine='nam_pro_title_document', coarse='nam_pro', count=3), NerOccurrences(lex_base='ustawa z dzień 23 grudzień 1988 r . o działalność gospodarczy', fine='nam_pro_title_document', coarse='nam_pro', count=3), NerOccurrences(lex_base='ustawa z dzień 25 czerwiec 1997 r . o świadek koronny', fine='nam_pro_title_document', coarse='nam_pro', count=3), NerOccurrences(lex_base='ustawa z dzień 21 listopad 1967 r . o powszechny obowiązek obrona rzeczpospolita polski', fine='nam_pro_title_document', coarse='nam_pro', count=3), NerOccurrences(lex_base='ustawa z dzień 21 marzec 1991 r . o obszar morski rzeczpospolita polski i administracja morski', fine='nam_pro_title_document', coarse='nam_pro', count=3), NerOccurrences(lex_base='kodeks morski', fine='nam_pro_title_document', coarse='nam_pro', count=3), NerOccurrences(lex_base='ustawa z dzień 17 grudzień 1998 r . o emerytura i renta z fundusz ubezpieczenie społeczny', fine='nam_pro_title_document', coarse='nam_pro', count=3), NerOccurrences(lex_base='prawo spółdzielczy', fine='nam_pro_title_document', coarse='nam_pro', count=3), NerOccurrences(lex_base='ustawa z dzień 21 listopad 2008 r . o służba cywilny', fine='nam_pro_title_document', coarse='nam_pro', count=3), NerOccurrences(lex_base='konwencja', fine='nam_pro_title_document', coarse='nam_pro', count=3), NerOccurrences(lex_base='ustawa z dzień 23 maj 1991 r . o związek zawodowy', fine='nam_pro_title_document', coarse='nam_pro', count=3), NerOccurrences(lex_base='ustawa z dzień 26 listopad 1998 r . o finanse publiczny', fine='nam_pro_title_document', coarse='nam_pro', count=3), NerOccurrences(lex_base='ustawa z dzień 1 grudzień 1994 r . o zasiłek rodzinny , pielęgnacyjny i wychowawczy', fine='nam_pro_title_document', coarse='nam_pro', count=3), NerOccurrences(lex_base='żandarmeria wojskowy', fine='nam_pro_title', coarse='nam_pro', count=3), NerOccurrences(lex_base='dziennik urzędowy wspólnota europejski', fine='nam_pro_media_periodic', coarse='nam_pro', count=2), NerOccurrences(lex_base='ustawa z dzień 10 czerwiec 1994 r . o zamówienie publiczny', fine='nam_pro_title_document', coarse='nam_pro', count=2), NerOccurrences(lex_base='ustawa z dzień 13 lipiec 1990 r . o prywatyzacja przedsiębiorstwo państwowy', fine='nam_pro_title_document', coarse='nam_pro', count=2), NerOccurrences(lex_base='ustawa z dzień 25 wrzesień 1981 r . o przedsiębiorstwo państwowy', fine='nam_pro_title_document', coarse='nam_pro', count=2), NerOccurrences(lex_base='ustawa o krajowy rejestr sądowy', fine='nam_pro_title_document', coarse='nam_pro', count=2), NerOccurrences(lex_base='ordynacja wyborczy do sejm rzeczpospolita polski', fine='nam_pro_title_document', coarse='nam_pro', count=2), NerOccurrences(lex_base='ustawa z dzień 22 kwiecień 1959 r . o zwalczanie gruźlica', fine='nam_pro_title_document', coarse='nam_pro', count=2), NerOccurrences(lex_base='ustawa z dzień 15 luty 1962 r . o obywatelstwo polski', fine='nam_pro_title_document', coarse='nam_pro', count=2), NerOccurrences(lex_base='ustawa z dzień 13 listopad 1963 r . o zwalczanie choroba zakaźny', fine='nam_pro_title_document', coarse='nam_pro', count=2), NerOccurrences(lex_base='ustawa z dzień 25 listopad 1970 r . o warunek zdrowotny żywność i żywienie', fine='nam_pro_title_document', coarse='nam_pro', count=2), NerOccurrences(lex_base='ustawa z dzień 26 luty 1982 r . o cena', fine='nam_pro_title_document', coarse='nam_pro', count=2), NerOccurrences(lex_base='prawo o adwokatura', fine='nam_pro_title_document', coarse='nam_pro', count=2), NerOccurrences(lex_base='ustawa z dzień 6 lipiec 1982 r . o księga wieczysty i hipoteka', fine='nam_pro_title_document', coarse='nam_pro', count=2), NerOccurrences(lex_base='ustawa z dzień 26 październik 1982 r . o postępowanie w sprawa nieletni', fine='nam_pro_title_document', coarse='nam_pro', count=2), NerOccurrences(lex_base='prawo o stowarzyszenie', fine='nam_pro_title_document', coarse='nam_pro', count=2), NerOccurrences(lex_base='ustawa z dzień 12 wrzesień 1990 r . o szkolnictwo wysoki', fine='nam_pro_title_document', coarse='nam_pro', count=2), NerOccurrences(lex_base='ustawa z dzień 29 listopad 1990 r . o pomoc społeczny', fine='nam_pro_title_document', coarse='nam_pro', count=2), NerOccurrences(lex_base='ustawa z dzień 21 grudzień 1990 r . o zawód lekarz weterynaria i izba lekarsko - weterynaryjny', fine='nam_pro_title_document', coarse='nam_pro', count=2), NerOccurrences(lex_base='ustawa z dzień 19 kwiecień 1991 r . o izba aptekarski', fine='nam_pro_title_document', coarse='nam_pro', count=2), NerOccurrences(lex_base='ustawa z dzień 30 sierpień 1991 r . o zakład opieka zdrowotny', fine='nam_pro_title_document', coarse='nam_pro', count=2), NerOccurrences(lex_base='ustawa z dzień 29 grudzień 1993 r . o ochrona roszczenie pracowniczy', fine='nam_pro_title_document', coarse='nam_pro', count=2), NerOccurrences(lex_base='ustawa z dzień 19 sierpień 1994 r . o ochrona zdrowie psychiczny', fine='nam_pro_title_document', coarse='nam_pro', count=2), NerOccurrences(lex_base='ustawa z dzień 27 październik 1994 r . o autostrada płatny', fine='nam_pro_title_document', coarse='nam_pro', count=2), NerOccurrences(lex_base='ustawa z dzień 22 czerwiec 1995 r . o zakwaterowanie siła zbrojny rzeczpospolita polski', fine='nam_pro_title_document', coarse='nam_pro', count=2), NerOccurrences(lex_base='prawo łowiecki', fine='nam_pro_title_document', coarse='nam_pro', count=2), NerOccurrences(lex_base='ustawa z dzień 24 kwiecień 1997 r . o przeciwdziałanie narkomania', fine='nam_pro_title_document', coarse='nam_pro', count=2), NerOccurrences(lex_base='ustawa z dzień 26 czerwiec 1997 r . o wysoki szkoła zawodowy', fine='nam_pro_title_document', coarse='nam_pro', count=2), NerOccurrences(lex_base='ustawa z dzień 20 sierpień 1997 r . o organizacja hodowla i rozród zwierzę gospodarski', fine='nam_pro_title_document', coarse='nam_pro', count=2), NerOccurrences(lex_base='ustawa z dzień 22 sierpień 1997 r . o bezpieczeństwo impreza masowy', fine='nam_pro_title_document', coarse='nam_pro', count=2), NerOccurrences(lex_base='ustawa z dzień 28 lipiec 1990 r . o działalność ubezpieczeniowy', fine='nam_pro_title_document', coarse='nam_pro', count=2), ...]"
      ]
     },
     "metadata": {},
     "output_type": "display_data"
    },
    {
     "data": {
      "text/html": [
       "<h1>nam_liv</h1>"
      ],
      "text/plain": [
       "<IPython.core.display.HTML object>"
      ]
     },
     "metadata": {},
     "output_type": "display_data"
    },
    {
     "data": {
      "text/html": [
       "<table>\n",
       "<thead>\n",
       "<tr><th>lex_base                 </th><th>fine          </th><th>coarse  </th><th style=\"text-align: right;\">  count</th></tr>\n",
       "</thead>\n",
       "<tbody>\n",
       "<tr><td>generalny inspektor      </td><td>nam_liv_person</td><td>nam_liv </td><td style=\"text-align: right;\">     22</td></tr>\n",
       "<tr><td>główny inspektor         </td><td>nam_liv_person</td><td>nam_liv </td><td style=\"text-align: right;\">     17</td></tr>\n",
       "<tr><td>sekunda T a w a          </td><td>nam_liv_person</td><td>nam_liv </td><td style=\"text-align: right;\">     16</td></tr>\n",
       "<tr><td>Art                      </td><td>nam_liv_person</td><td>nam_liv </td><td style=\"text-align: right;\">     13</td></tr>\n",
       "<tr><td>siła zbrojny             </td><td>nam_liv_person</td><td>nam_liv </td><td style=\"text-align: right;\">      9</td></tr>\n",
       "<tr><td>rzecznik ubezpieczona    </td><td>nam_liv_person</td><td>nam_liv </td><td style=\"text-align: right;\">      9</td></tr>\n",
       "<tr><td>Marek Kuchciński         </td><td>nam_liv_person</td><td>nam_liv </td><td style=\"text-align: right;\">      8</td></tr>\n",
       "<tr><td>kart nauczyciel          </td><td>nam_liv_person</td><td>nam_liv </td><td style=\"text-align: right;\">      7</td></tr>\n",
       "<tr><td>główny lekarz weterynaria</td><td>nam_liv_person</td><td>nam_liv </td><td style=\"text-align: right;\">      7</td></tr>\n",
       "<tr><td>żandarmeria wojskowy     </td><td>nam_liv_person</td><td>nam_liv </td><td style=\"text-align: right;\">      7</td></tr>\n",
       "</tbody>\n",
       "</table><p>Showing 10 of 100 rows"
      ],
      "text/plain": [
       "[NerOccurrences(lex_base='generalny inspektor', fine='nam_liv_person', coarse='nam_liv', count=22), NerOccurrences(lex_base='główny inspektor', fine='nam_liv_person', coarse='nam_liv', count=17), NerOccurrences(lex_base='sekunda T a w a', fine='nam_liv_person', coarse='nam_liv', count=16), NerOccurrences(lex_base='Art', fine='nam_liv_person', coarse='nam_liv', count=13), NerOccurrences(lex_base='siła zbrojny', fine='nam_liv_person', coarse='nam_liv', count=9), NerOccurrences(lex_base='rzecznik ubezpieczona', fine='nam_liv_person', coarse='nam_liv', count=9), NerOccurrences(lex_base='Marek Kuchciński', fine='nam_liv_person', coarse='nam_liv', count=8), NerOccurrences(lex_base='kart nauczyciel', fine='nam_liv_person', coarse='nam_liv', count=7), NerOccurrences(lex_base='główny lekarz weterynaria', fine='nam_liv_person', coarse='nam_liv', count=7), NerOccurrences(lex_base='żandarmeria wojskowy', fine='nam_liv_person', coarse='nam_liv', count=7), NerOccurrences(lex_base='kartograficzny', fine='nam_liv_person', coarse='nam_liv', count=5), NerOccurrences(lex_base='marynarka wojenny', fine='nam_liv_person', coarse='nam_liv', count=5), NerOccurrences(lex_base='zysk', fine='nam_liv_person', coarse='nam_liv', count=5), NerOccurrences(lex_base='wpływ', fine='nam_liv_person', coarse='nam_liv', count=5), NerOccurrences(lex_base='M', fine='nam_liv_person', coarse='nam_liv', count=4), NerOccurrences(lex_base='główny inspektor sanitarny', fine='nam_liv_person', coarse='nam_liv', count=4), NerOccurrences(lex_base='budowlany', fine='nam_liv_person', coarse='nam_liv', count=4), NerOccurrences(lex_base='aktuariusz', fine='nam_liv_person', coarse='nam_liv', count=4), NerOccurrences(lex_base='najwyższy', fine='nam_liv_person', coarse='nam_liv', count=3), NerOccurrences(lex_base='rezerwa', fine='nam_liv_person', coarse='nam_liv', count=3), NerOccurrences(lex_base='V . zysk', fine='nam_liv_person', coarse='nam_liv', count=3), NerOccurrences(lex_base='C . zysk', fine='nam_liv_person', coarse='nam_liv', count=3), NerOccurrences(lex_base='L . zysk', fine='nam_liv_person', coarse='nam_liv', count=3), NerOccurrences(lex_base='regionalny zjazd', fine='nam_liv_person', coarse='nam_liv', count=3), NerOccurrences(lex_base='straż graniczny', fine='nam_liv_person', coarse='nam_liv', count=3), NerOccurrences(lex_base='II', fine='nam_liv_god', coarse='nam_liv', count=3), NerOccurrences(lex_base='gospodarka morski', fine='nam_liv_person', coarse='nam_liv', count=2), NerOccurrences(lex_base='gospodarczy', fine='nam_liv_person', coarse='nam_liv', count=2), NerOccurrences(lex_base='generalny dyrektor droga publiczny', fine='nam_liv_person', coarse='nam_liv', count=2), NerOccurrences(lex_base='główny inspektor farmaceutyczny', fine='nam_liv_person', coarse='nam_liv', count=2), NerOccurrences(lex_base='nadzór budowlany', fine='nam_liv_person', coarse='nam_liv', count=2), NerOccurrences(lex_base='rzecznik', fine='nam_liv_person', coarse='nam_liv', count=2), NerOccurrences(lex_base='Ewa kopacz', fine='nam_liv_person', coarse='nam_liv', count=2), NerOccurrences(lex_base='aktywa', fine='nam_liv_person', coarse='nam_liv', count=2), NerOccurrences(lex_base='bajt . zobowiązanie', fine='nam_liv_person', coarse='nam_liv', count=2), NerOccurrences(lex_base='strata', fine='nam_liv_person', coarse='nam_liv', count=2), NerOccurrences(lex_base='amortyzacja II', fine='nam_liv_person', coarse='nam_liv', count=2), NerOccurrences(lex_base='J . zysk', fine='nam_liv_person', coarse='nam_liv', count=2), NerOccurrences(lex_base='V', fine='nam_liv_person', coarse='nam_liv', count=2), NerOccurrences(lex_base='Bronisław Komorowski', fine='nam_liv_person', coarse='nam_liv', count=2), NerOccurrences(lex_base='Marek Jurek', fine='nam_liv_person', coarse='nam_liv', count=2), NerOccurrences(lex_base='gospodarka', fine='nam_liv_person', coarse='nam_liv', count=2), NerOccurrences(lex_base='Gorzowskie', fine='nam_liv_person', coarse='nam_liv', count=2), NerOccurrences(lex_base='turystyka', fine='nam_liv_person', coarse='nam_liv', count=2), NerOccurrences(lex_base='monitor sądowy', fine='nam_liv_person', coarse='nam_liv', count=1), NerOccurrences(lex_base='Radosław Sikorski', fine='nam_liv_person', coarse='nam_liv', count=1), NerOccurrences(lex_base='komenda uzupełnienie', fine='nam_liv_person', coarse='nam_liv', count=1), NerOccurrences(lex_base='wojewódzki', fine='nam_liv_person', coarse='nam_liv', count=1), NerOccurrences(lex_base='ustawa konstytucyjny', fine='nam_liv_person', coarse='nam_liv', count=1), NerOccurrences(lex_base='komenda główny', fine='nam_liv_person', coarse='nam_liv', count=1), NerOccurrences(lex_base='weterynaria', fine='nam_liv_person', coarse='nam_liv', count=1), NerOccurrences(lex_base='generalny dyrektor', fine='nam_liv_person', coarse='nam_liv', count=1), NerOccurrences(lex_base='fundusz', fine='nam_liv_person', coarse='nam_liv', count=1), NerOccurrences(lex_base='krajowy sejmik samorządowy', fine='nam_liv_person', coarse='nam_liv', count=1), NerOccurrences(lex_base='wojsko Lądo', fine='nam_liv_person', coarse='nam_liv', count=1), NerOccurrences(lex_base='dowódca wojsko specjalny', fine='nam_liv_person', coarse='nam_liv', count=1), NerOccurrences(lex_base='dowództwo wojsko lądowy', fine='nam_liv_person', coarse='nam_liv', count=1), NerOccurrences(lex_base='Ludwik Dorn', fine='nam_liv_person', coarse='nam_liv', count=1), NerOccurrences(lex_base='transportowy dozór techniczny', fine='nam_liv_person', coarse='nam_liv', count=1), NerOccurrences(lex_base='główny policja', fine='nam_liv_person', coarse='nam_liv', count=1), NerOccurrences(lex_base='Virginia', fine='nam_liv_person', coarse='nam_liv', count=1), NerOccurrences(lex_base='Gruszka', fine='nam_liv_person', coarse='nam_liv', count=1), NerOccurrences(lex_base='europejski obszar gospodarczy', fine='nam_liv_person', coarse='nam_liv', count=1), NerOccurrences(lex_base='V . zobowiązanie', fine='nam_liv_person', coarse='nam_liv', count=1), NerOccurrences(lex_base='zapas', fine='nam_liv_person', coarse='nam_liv', count=1), NerOccurrences(lex_base='F . zysk', fine='nam_liv_person', coarse='nam_liv', count=1), NerOccurrences(lex_base='zapas II', fine='nam_liv_person', coarse='nam_liv', count=1), NerOccurrences(lex_base='e . zysk', fine='nam_liv_person', coarse='nam_liv', count=1), NerOccurrences(lex_base='Antarktyka', fine='nam_liv_person', coarse='nam_liv', count=1), NerOccurrences(lex_base='Q5 substancja', fine='nam_liv_person', coarse='nam_liv', count=1), NerOccurrences(lex_base='regionalny', fine='nam_liv_person', coarse='nam_liv', count=1), NerOccurrences(lex_base='międzynarodowy fundusz', fine='nam_liv_person', coarse='nam_liv', count=1), NerOccurrences(lex_base='Jan Rosnera', fine='nam_liv_person', coarse='nam_liv', count=1), NerOccurrences(lex_base='dyrektor', fine='nam_liv_person', coarse='nam_liv', count=1), NerOccurrences(lex_base='narodowy instytut', fine='nam_liv_person', coarse='nam_liv', count=1), NerOccurrences(lex_base='VI', fine='nam_liv_person', coarse='nam_liv', count=1), NerOccurrences(lex_base='rzecznik prawy obywatelski', fine='nam_liv_person', coarse='nam_liv', count=1), NerOccurrences(lex_base='nowojorski', fine='nam_liv_person', coarse='nam_liv', count=1), NerOccurrences(lex_base='protokół nowojorski', fine='nam_liv_person', coarse='nam_liv', count=1), NerOccurrences(lex_base='polityczny', fine='nam_liv_person', coarse='nam_liv', count=1), NerOccurrences(lex_base='macierzyński', fine='nam_liv_person', coarse='nam_liv', count=1), NerOccurrences(lex_base='młodociany', fine='nam_liv_person', coarse='nam_liv', count=1), NerOccurrences(lex_base='terytorialny', fine='nam_liv_person', coarse='nam_liv', count=1), NerOccurrences(lex_base='leśnictwo', fine='nam_liv_person', coarse='nam_liv', count=1), NerOccurrences(lex_base='Nerem', fine='nam_liv_person', coarse='nam_liv', count=1), NerOccurrences(lex_base='obóz zagłada', fine='nam_liv_person', coarse='nam_liv', count=1), NerOccurrences(lex_base='londyński', fine='nam_liv_person', coarse='nam_liv', count=1), NerOccurrences(lex_base='Katowickie', fine='nam_liv_person', coarse='nam_liv', count=1), NerOccurrences(lex_base='kancelaria prezydent', fine='nam_liv_person', coarse='nam_liv', count=1), NerOccurrences(lex_base='wojewódzki lekarz weterynaria', fine='nam_liv_person', coarse='nam_liv', count=1), NerOccurrences(lex_base='bajt . Abortus', fine='nam_liv_person', coarse='nam_liv', count=1), NerOccurrences(lex_base='Aujeszky', fine='nam_liv_person', coarse='nam_liv', count=1), NerOccurrences(lex_base='Maedi Visna', fine='nam_liv_person', coarse='nam_liv', count=1), NerOccurrences(lex_base='Fabrycjusz', fine='nam_liv_person', coarse='nam_liv', count=1), NerOccurrences(lex_base='Mareka', fine='nam_liv_person', coarse='nam_liv', count=1), NerOccurrences(lex_base='Marek', fine='nam_liv_person', coarse='nam_liv', count=1), NerOccurrences(lex_base='spring', fine='nam_liv_person', coarse='nam_liv', count=1), NerOccurrences(lex_base='europejski', fine='nam_liv_person', coarse='nam_liv', count=1), NerOccurrences(lex_base='łowiecki', fine='nam_liv_person', coarse='nam_liv', count=1), NerOccurrences(lex_base='bóg', fine='nam_liv_god', coarse='nam_liv', count=1)]"
      ]
     },
     "metadata": {},
     "output_type": "display_data"
    },
    {
     "data": {
      "text/html": [
       "<h1>nam_loc</h1>"
      ],
      "text/plain": [
       "<IPython.core.display.HTML object>"
      ]
     },
     "metadata": {},
     "output_type": "display_data"
    },
    {
     "data": {
      "text/html": [
       "<table>\n",
       "<thead>\n",
       "<tr><th>lex_base                </th><th>fine               </th><th>coarse  </th><th style=\"text-align: right;\">  count</th></tr>\n",
       "</thead>\n",
       "<tbody>\n",
       "<tr><td>rzeczpospolita polski   </td><td>nam_loc_gpe_country</td><td>nam_loc </td><td style=\"text-align: right;\">    358</td></tr>\n",
       "<tr><td>Warszawa                </td><td>nam_loc_gpe_city   </td><td>nam_loc </td><td style=\"text-align: right;\">     48</td></tr>\n",
       "<tr><td>Rzeczpospolita Polska   </td><td>nam_loc_gpe_country</td><td>nam_loc </td><td style=\"text-align: right;\">     39</td></tr>\n",
       "<tr><td>Polska                  </td><td>nam_loc_gpe_country</td><td>nam_loc </td><td style=\"text-align: right;\">     38</td></tr>\n",
       "<tr><td>rejestr                 </td><td>nam_loc_gpe_city   </td><td>nam_loc </td><td style=\"text-align: right;\">     20</td></tr>\n",
       "<tr><td>warszawski              </td><td>nam_loc_gpe_admin2 </td><td>nam_loc </td><td style=\"text-align: right;\">      8</td></tr>\n",
       "<tr><td>konfederacja szwajcarski</td><td>nam_loc_gpe_country</td><td>nam_loc </td><td style=\"text-align: right;\">      5</td></tr>\n",
       "<tr><td>USA                     </td><td>nam_loc_gpe_country</td><td>nam_loc </td><td style=\"text-align: right;\">      5</td></tr>\n",
       "<tr><td>rad                     </td><td>nam_loc_gpe_city   </td><td>nam_loc </td><td style=\"text-align: right;\">      5</td></tr>\n",
       "<tr><td>Oświęcim                </td><td>nam_loc_gpe_city   </td><td>nam_loc </td><td style=\"text-align: right;\">      5</td></tr>\n",
       "</tbody>\n",
       "</table><p>Showing 10 of 99 rows"
      ],
      "text/plain": [
       "[NerOccurrences(lex_base='rzeczpospolita polski', fine='nam_loc_gpe_country', coarse='nam_loc', count=358), NerOccurrences(lex_base='Warszawa', fine='nam_loc_gpe_city', coarse='nam_loc', count=48), NerOccurrences(lex_base='Rzeczpospolita Polska', fine='nam_loc_gpe_country', coarse='nam_loc', count=39), NerOccurrences(lex_base='Polska', fine='nam_loc_gpe_country', coarse='nam_loc', count=38), NerOccurrences(lex_base='rejestr', fine='nam_loc_gpe_city', coarse='nam_loc', count=20), NerOccurrences(lex_base='warszawski', fine='nam_loc_gpe_admin2', coarse='nam_loc', count=8), NerOccurrences(lex_base='konfederacja szwajcarski', fine='nam_loc_gpe_country', coarse='nam_loc', count=5), NerOccurrences(lex_base='USA', fine='nam_loc_gpe_country', coarse='nam_loc', count=5), NerOccurrences(lex_base='rad', fine='nam_loc_gpe_city', coarse='nam_loc', count=5), NerOccurrences(lex_base='Oświęcim', fine='nam_loc_gpe_city', coarse='nam_loc', count=5), NerOccurrences(lex_base='rzeczpospolita Polska', fine='nam_loc_gpe_country', coarse='nam_loc', count=4), NerOccurrences(lex_base='republika Bułgaria', fine='nam_loc_gpe_country', coarse='nam_loc', count=4), NerOccurrences(lex_base='siła zbrojny', fine='nam_loc_gpe_city', coarse='nam_loc', count=4), NerOccurrences(lex_base='Kijów', fine='nam_loc_gpe_city', coarse='nam_loc', count=4), NerOccurrences(lex_base='Seul', fine='nam_loc_gpe_city', coarse='nam_loc', count=4), NerOccurrences(lex_base='Ziemia odzyskać', fine='nam_loc_country_region', coarse='nam_loc', count=4), NerOccurrences(lex_base='mazowiecki', fine='nam_loc_gpe_admin1', coarse='nam_loc', count=4), NerOccurrences(lex_base='łowiecki', fine='nam_loc_gpe_admin1', coarse='nam_loc', count=4), NerOccurrences(lex_base='rejestr', fine='nam_loc_gpe_country', coarse='nam_loc', count=3), NerOccurrences(lex_base='federacja rosyjski', fine='nam_loc_gpe_country', coarse='nam_loc', count=3), NerOccurrences(lex_base='republika Korea', fine='nam_loc_gpe_country', coarse='nam_loc', count=3), NerOccurrences(lex_base='Wiedeń', fine='nam_loc_gpe_city', coarse='nam_loc', count=3), NerOccurrences(lex_base='Szczecin', fine='nam_loc_gpe_city', coarse='nam_loc', count=3), NerOccurrences(lex_base='gdański', fine='nam_loc_gpe_city', coarse='nam_loc', count=3), NerOccurrences(lex_base='Poznań', fine='nam_loc_gpe_city', coarse='nam_loc', count=3), NerOccurrences(lex_base='Lublin', fine='nam_loc_gpe_city', coarse='nam_loc', count=3), NerOccurrences(lex_base='Wrocław', fine='nam_loc_gpe_city', coarse='nam_loc', count=3), NerOccurrences(lex_base='Katowice', fine='nam_loc_gpe_city', coarse='nam_loc', count=3), NerOccurrences(lex_base='Krak', fine='nam_loc_gpe_city', coarse='nam_loc', count=3), NerOccurrences(lex_base='izba', fine='nam_loc_gpe_city', coarse='nam_loc', count=3), NerOccurrences(lex_base='przychod', fine='nam_loc_gpe_city', coarse='nam_loc', count=3), NerOccurrences(lex_base='Rzeczpospolita polski', fine='nam_loc_gpe_country', coarse='nam_loc', count=2), NerOccurrences(lex_base='Sofia', fine='nam_loc_gpe_city', coarse='nam_loc', count=2), NerOccurrences(lex_base='Białystok', fine='nam_loc_gpe_city', coarse='nam_loc', count=2), NerOccurrences(lex_base='Łódź', fine='nam_loc_gpe_city', coarse='nam_loc', count=2), NerOccurrences(lex_base='wojsko polski', fine='nam_loc_gpe_city', coarse='nam_loc', count=2), NerOccurrences(lex_base='policja', fine='nam_loc_gpe_city', coarse='nam_loc', count=2), NerOccurrences(lex_base='Świnoujście', fine='nam_loc_gpe_city', coarse='nam_loc', count=2), NerOccurrences(lex_base='nowa Jork', fine='nam_loc_gpe_city', coarse='nam_loc', count=2), NerOccurrences(lex_base='województwo', fine='nam_loc_gpe_city', coarse='nam_loc', count=2), NerOccurrences(lex_base='partnerstwo', fine='nam_loc_gpe_city', coarse='nam_loc', count=2), NerOccurrences(lex_base='Konstantyn', fine='nam_loc_gpe_city', coarse='nam_loc', count=2), NerOccurrences(lex_base='Sztutowo', fine='nam_loc_gpe_city', coarse='nam_loc', count=2), NerOccurrences(lex_base='Rogoźnica', fine='nam_loc_gpe_city', coarse='nam_loc', count=2), NerOccurrences(lex_base='Treblinka', fine='nam_loc_gpe_city', coarse='nam_loc', count=2), NerOccurrences(lex_base='Chełmno', fine='nam_loc_gpe_city', coarse='nam_loc', count=2), NerOccurrences(lex_base='Sobibór', fine='nam_loc_gpe_city', coarse='nam_loc', count=2), NerOccurrences(lex_base='Bełżec', fine='nam_loc_gpe_city', coarse='nam_loc', count=2), NerOccurrences(lex_base='naród polski', fine='nam_loc_gpe_city', coarse='nam_loc', count=2), NerOccurrences(lex_base='leśnictwo', fine='nam_loc_gpe_city', coarse='nam_loc', count=2), NerOccurrences(lex_base='sąsiadujący', fine='nam_loc_gpe_admin2', coarse='nam_loc', count=2), NerOccurrences(lex_base='płocki', fine='nam_loc_gpe_admin1', coarse='nam_loc', count=2), NerOccurrences(lex_base='katowicki', fine='nam_loc_gpe_admin1', coarse='nam_loc', count=2), NerOccurrences(lex_base='związek socjalistyczny republika radziecki', fine='nam_loc_gpe_country', coarse='nam_loc', count=1), NerOccurrences(lex_base='polsko', fine='nam_loc_gpe_country', coarse='nam_loc', count=1), NerOccurrences(lex_base='szwajcarski', fine='nam_loc_gpe_country', coarse='nam_loc', count=1), NerOccurrences(lex_base='budownictwo', fine='nam_loc_gpe_city', coarse='nam_loc', count=1), NerOccurrences(lex_base='Gdańsk', fine='nam_loc_gpe_city', coarse='nam_loc', count=1), NerOccurrences(lex_base='centrum', fine='nam_loc_gpe_city', coarse='nam_loc', count=1), NerOccurrences(lex_base='biuro', fine='nam_loc_gpe_city', coarse='nam_loc', count=1), NerOccurrences(lex_base='ubezpieczona', fine='nam_loc_gpe_city', coarse='nam_loc', count=1), NerOccurrences(lex_base='Praga', fine='nam_loc_gpe_city', coarse='nam_loc', count=1), NerOccurrences(lex_base='wojsko lądowy', fine='nam_loc_gpe_city', coarse='nam_loc', count=1), NerOccurrences(lex_base='jabłko', fine='nam_loc_gpe_city', coarse='nam_loc', count=1), NerOccurrences(lex_base='pasywa', fine='nam_loc_gpe_city', coarse='nam_loc', count=1), NerOccurrences(lex_base='Arktyka', fine='nam_loc_gpe_city', coarse='nam_loc', count=1), NerOccurrences(lex_base='zarząd', fine='nam_loc_gpe_city', coarse='nam_loc', count=1), NerOccurrences(lex_base='sport', fine='nam_loc_gpe_city', coarse='nam_loc', count=1), NerOccurrences(lex_base='dział', fine='nam_loc_gpe_city', coarse='nam_loc', count=1), NerOccurrences(lex_base='grupa', fine='nam_loc_gpe_city', coarse='nam_loc', count=1), NerOccurrences(lex_base='Genewa', fine='nam_loc_gpe_city', coarse='nam_loc', count=1), NerOccurrences(lex_base='Rzym', fine='nam_loc_gpe_city', coarse='nam_loc', count=1), NerOccurrences(lex_base='zakład', fine='nam_loc_gpe_city', coarse='nam_loc', count=1), NerOccurrences(lex_base='Bydgoszcz', fine='nam_loc_gpe_city', coarse='nam_loc', count=1), NerOccurrences(lex_base='Gorzów wielkopolski', fine='nam_loc_gpe_city', coarse='nam_loc', count=1), NerOccurrences(lex_base='Kielce', fine='nam_loc_gpe_city', coarse='nam_loc', count=1), NerOccurrences(lex_base='Olsztyn', fine='nam_loc_gpe_city', coarse='nam_loc', count=1), NerOccurrences(lex_base='Opole', fine='nam_loc_gpe_city', coarse='nam_loc', count=1), NerOccurrences(lex_base='Rzeszów', fine='nam_loc_gpe_city', coarse='nam_loc', count=1), NerOccurrences(lex_base='Bruksela', fine='nam_loc_gpe_city', coarse='nam_loc', count=1), NerOccurrences(lex_base='gleboznawstwo', fine='nam_loc_gpe_city', coarse='nam_loc', count=1), NerOccurrences(lex_base='Rio de Janeiro', fine='nam_loc_gpe_city', coarse='nam_loc', count=1), NerOccurrences(lex_base='Sanniki', fine='nam_loc_gpe_city', coarse='nam_loc', count=1), NerOccurrences(lex_base='męczeństwo', fine='nam_loc_gpe_city', coarse='nam_loc', count=1), NerOccurrences(lex_base='Nerem', fine='nam_loc_gpe_city', coarse='nam_loc', count=1), NerOccurrences(lex_base='Warszawa centrum', fine='nam_loc_gpe_admin3', coarse='nam_loc', count=1), NerOccurrences(lex_base='Gąbin', fine='nam_loc_gpe_admin3', coarse='nam_loc', count=1), NerOccurrences(lex_base='miejski', fine='nam_loc_gpe_admin2', coarse='nam_loc', count=1), NerOccurrences(lex_base='kredyt', fine='nam_loc_gpe_admin2', coarse='nam_loc', count=1), NerOccurrences(lex_base='konstytucja', fine='nam_loc_gpe_admin2', coarse='nam_loc', count=1), NerOccurrences(lex_base='7', fine='nam_loc_gpe_admin1', coarse='nam_loc', count=1), NerOccurrences(lex_base='uczestniczy', fine='nam_loc_gpe_admin1', coarse='nam_loc', count=1), NerOccurrences(lex_base='sąsiadujący', fine='nam_loc_gpe_admin1', coarse='nam_loc', count=1), NerOccurrences(lex_base='rybacki', fine='nam_loc_gpe_admin1', coarse='nam_loc', count=1), NerOccurrences(lex_base='plan', fine='nam_loc_gpe_admin1', coarse='nam_loc', count=1), NerOccurrences(lex_base='6', fine='nam_loc_gpe_admin1', coarse='nam_loc', count=1), NerOccurrences(lex_base='3', fine='nam_loc_astronomical', coarse='nam_loc', count=1), NerOccurrences(lex_base='straż', fine='nam_loc_hydronym_river', coarse='nam_loc', count=1), NerOccurrences(lex_base='śródmieście', fine='nam_loc_gpe_district', coarse='nam_loc', count=1)]"
      ]
     },
     "metadata": {},
     "output_type": "display_data"
    },
    {
     "data": {
      "text/html": [
       "<h1>nam_adj</h1>"
      ],
      "text/plain": [
       "<IPython.core.display.HTML object>"
      ]
     },
     "metadata": {},
     "output_type": "display_data"
    },
    {
     "data": {
      "text/html": [
       "<table>\n",
       "<thead>\n",
       "<tr><th>lex_base    </th><th>fine           </th><th>coarse  </th><th style=\"text-align: right;\">  count</th></tr>\n",
       "</thead>\n",
       "<tbody>\n",
       "<tr><td>polski      </td><td>nam_adj_country</td><td>nam_adj </td><td style=\"text-align: right;\">     95</td></tr>\n",
       "<tr><td>wojewódzki  </td><td>nam_adj_country</td><td>nam_adj </td><td style=\"text-align: right;\">      5</td></tr>\n",
       "<tr><td>europejski  </td><td>nam_adj_other  </td><td>nam_adj </td><td style=\"text-align: right;\">      3</td></tr>\n",
       "<tr><td>afrykański  </td><td>nam_adj_country</td><td>nam_adj </td><td style=\"text-align: right;\">      2</td></tr>\n",
       "<tr><td>mazowiecki  </td><td>nam_adj_other  </td><td>nam_adj </td><td style=\"text-align: right;\">      2</td></tr>\n",
       "<tr><td>warszawski  </td><td>nam_adj_city   </td><td>nam_adj </td><td style=\"text-align: right;\">      2</td></tr>\n",
       "<tr><td>macierzyński</td><td>nam_adj_country</td><td>nam_adj </td><td style=\"text-align: right;\">      1</td></tr>\n",
       "<tr><td>łowiecki    </td><td>nam_adj_country</td><td>nam_adj </td><td style=\"text-align: right;\">      1</td></tr>\n",
       "<tr><td>unijny      </td><td>nam_adj_other  </td><td>nam_adj </td><td style=\"text-align: right;\">      1</td></tr>\n",
       "<tr><td>audytorski  </td><td>nam_adj_other  </td><td>nam_adj </td><td style=\"text-align: right;\">      1</td></tr>\n",
       "</tbody>\n",
       "</table><p>Showing 10 of 11 rows"
      ],
      "text/plain": [
       "[NerOccurrences(lex_base='polski', fine='nam_adj_country', coarse='nam_adj', count=95), NerOccurrences(lex_base='wojewódzki', fine='nam_adj_country', coarse='nam_adj', count=5), NerOccurrences(lex_base='europejski', fine='nam_adj_other', coarse='nam_adj', count=3), NerOccurrences(lex_base='afrykański', fine='nam_adj_country', coarse='nam_adj', count=2), NerOccurrences(lex_base='mazowiecki', fine='nam_adj_other', coarse='nam_adj', count=2), NerOccurrences(lex_base='warszawski', fine='nam_adj_city', coarse='nam_adj', count=2), NerOccurrences(lex_base='macierzyński', fine='nam_adj_country', coarse='nam_adj', count=1), NerOccurrences(lex_base='łowiecki', fine='nam_adj_country', coarse='nam_adj', count=1), NerOccurrences(lex_base='unijny', fine='nam_adj_other', coarse='nam_adj', count=1), NerOccurrences(lex_base='audytorski', fine='nam_adj_other', coarse='nam_adj', count=1), NerOccurrences(lex_base='mazowiecki', fine='nam_adj_city', coarse='nam_adj', count=1)]"
      ]
     },
     "metadata": {},
     "output_type": "display_data"
    },
    {
     "data": {
      "text/html": [
       "<h1>nam_org</h1>"
      ],
      "text/plain": [
       "<IPython.core.display.HTML object>"
      ]
     },
     "metadata": {},
     "output_type": "display_data"
    },
    {
     "data": {
      "text/html": [
       "<table>\n",
       "<thead>\n",
       "<tr><th>lex_base                </th><th>fine                </th><th>coarse  </th><th style=\"text-align: right;\">  count</th></tr>\n",
       "</thead>\n",
       "<tbody>\n",
       "<tr><td>skarb państwo           </td><td>nam_org_institution </td><td>nam_org </td><td style=\"text-align: right;\">    188</td></tr>\n",
       "<tr><td>minister obrona narodowy</td><td>nam_org_institution </td><td>nam_org </td><td style=\"text-align: right;\">    136</td></tr>\n",
       "<tr><td>rada minister           </td><td>nam_org_institution </td><td>nam_org </td><td style=\"text-align: right;\">    135</td></tr>\n",
       "<tr><td>prezes rad minister     </td><td>nam_org_institution </td><td>nam_org </td><td style=\"text-align: right;\">    122</td></tr>\n",
       "<tr><td>unia europejski         </td><td>nam_org_organization</td><td>nam_org </td><td style=\"text-align: right;\">    101</td></tr>\n",
       "<tr><td>minister finanse        </td><td>nam_org_institution </td><td>nam_org </td><td style=\"text-align: right;\">     92</td></tr>\n",
       "<tr><td>minister sprawiedliwość </td><td>nam_org_institution </td><td>nam_org </td><td style=\"text-align: right;\">     90</td></tr>\n",
       "<tr><td>państwowy straż pożarny </td><td>nam_org_organization</td><td>nam_org </td><td style=\"text-align: right;\">     83</td></tr>\n",
       "<tr><td>żandarmeria wojskowy    </td><td>nam_org_institution </td><td>nam_org </td><td style=\"text-align: right;\">     61</td></tr>\n",
       "<tr><td>agencja                 </td><td>nam_org_institution </td><td>nam_org </td><td style=\"text-align: right;\">     57</td></tr>\n",
       "</tbody>\n",
       "</table><p>Showing 10 of 771 rows"
      ],
      "text/plain": [
       "[NerOccurrences(lex_base='skarb państwo', fine='nam_org_institution', coarse='nam_org', count=188), NerOccurrences(lex_base='minister obrona narodowy', fine='nam_org_institution', coarse='nam_org', count=136), NerOccurrences(lex_base='rada minister', fine='nam_org_institution', coarse='nam_org', count=135), NerOccurrences(lex_base='prezes rad minister', fine='nam_org_institution', coarse='nam_org', count=122), NerOccurrences(lex_base='unia europejski', fine='nam_org_organization', coarse='nam_org', count=101), NerOccurrences(lex_base='minister finanse', fine='nam_org_institution', coarse='nam_org', count=92), NerOccurrences(lex_base='minister sprawiedliwość', fine='nam_org_institution', coarse='nam_org', count=90), NerOccurrences(lex_base='państwowy straż pożarny', fine='nam_org_organization', coarse='nam_org', count=83), NerOccurrences(lex_base='żandarmeria wojskowy', fine='nam_org_institution', coarse='nam_org', count=61), NerOccurrences(lex_base='agencja', fine='nam_org_institution', coarse='nam_org', count=57), NerOccurrences(lex_base='minister sprawa wewnętrzny i administracja', fine='nam_org_institution', coarse='nam_org', count=48), NerOccurrences(lex_base='inspekcja weterynaryjny', fine='nam_org_institution', coarse='nam_org', count=47), NerOccurrences(lex_base='rad minister', fine='nam_org_institution', coarse='nam_org', count=42), NerOccurrences(lex_base='polski organizacja turystyczny', fine='nam_org_institution', coarse='nam_org', count=40), NerOccurrences(lex_base='bank gospodarstwo krajowy', fine='nam_org_institution', coarse='nam_org', count=37), NerOccurrences(lex_base='minister praca i polityka socjalna', fine='nam_org_institution', coarse='nam_org', count=35), NerOccurrences(lex_base='RON', fine='nam_org_organization', coarse='nam_org', count=35), NerOccurrences(lex_base='polski związek łowiecki', fine='nam_org_organization', coarse='nam_org', count=31), NerOccurrences(lex_base='minister ochrona środowisko , zasoby naturalny i leśnictwo', fine='nam_org_institution', coarse='nam_org', count=30), NerOccurrences(lex_base='agencja restrukturyzacja i modernizacja rolnictwo', fine='nam_org_institution', coarse='nam_org', count=28), NerOccurrences(lex_base='główny inspektor ochrona środowisko', fine='nam_org_institution', coarse='nam_org', count=28), NerOccurrences(lex_base='Marszałek sejm', fine='nam_org_institution', coarse='nam_org', count=26), NerOccurrences(lex_base='minister zdrowie i opieka społeczny', fine='nam_org_institution', coarse='nam_org', count=26), NerOccurrences(lex_base='komendant główny żandarmeria wojskowy', fine='nam_org_institution', coarse='nam_org', count=24), NerOccurrences(lex_base='urząd ochrona państwo', fine='nam_org_institution', coarse='nam_org', count=23), NerOccurrences(lex_base='minister ochrona środowisko , zasoby naturalny', fine='nam_org_institution', coarse='nam_org', count=22), NerOccurrences(lex_base='krajowy biuro wyborczy', fine='nam_org_institution', coarse='nam_org', count=21), NerOccurrences(lex_base='główny lekarz weterynaria', fine='nam_org_institution', coarse='nam_org', count=20), NerOccurrences(lex_base='inspekcja sanitarny', fine='nam_org_institution', coarse='nam_org', count=19), NerOccurrences(lex_base='żandarmeria wojskowy', fine='nam_org_organization', coarse='nam_org', count=19), NerOccurrences(lex_base='uniwersytet', fine='nam_org_organization', coarse='nam_org', count=19), NerOccurrences(lex_base='senat', fine='nam_org_institution', coarse='nam_org', count=18), NerOccurrences(lex_base='europejski obszar gospodarczy', fine='nam_org_institution', coarse='nam_org', count=18), NerOccurrences(lex_base='medal \" siła zbrojny', fine='nam_org_institution', coarse='nam_org', count=18), NerOccurrences(lex_base='sejm', fine='nam_org_institution', coarse='nam_org', count=17), NerOccurrences(lex_base='główny inspektor nadzór budowlany', fine='nam_org_institution', coarse='nam_org', count=17), NerOccurrences(lex_base='minister sprawa zagraniczny', fine='nam_org_institution', coarse='nam_org', count=16), NerOccurrences(lex_base='minister sprawa wewnętrzny', fine='nam_org_institution', coarse='nam_org', count=16), NerOccurrences(lex_base='narodowy bank Polska', fine='nam_org_organization', coarse='nam_org', count=16), NerOccurrences(lex_base='fundusz praca', fine='nam_org_institution', coarse='nam_org', count=15), NerOccurrences(lex_base='państwowy inspekcja praca', fine='nam_org_institution', coarse='nam_org', count=15), NerOccurrences(lex_base='agencja rynek rolny', fine='nam_org_institution', coarse='nam_org', count=15), NerOccurrences(lex_base='krajowy rad psycholog', fine='nam_org_institution', coarse='nam_org', count=15), NerOccurrences(lex_base='państwowy straż pożarny', fine='nam_org_institution', coarse='nam_org', count=14), NerOccurrences(lex_base='minister rolnictwo i gospodarka żywnościowy', fine='nam_org_institution', coarse='nam_org', count=14), NerOccurrences(lex_base='dowódca operacyjny siła zbrojny', fine='nam_org_institution', coarse='nam_org', count=14), NerOccurrences(lex_base='służba ojczyzna', fine='nam_org_institution', coarse='nam_org', count=14), NerOccurrences(lex_base='biuro ochrona rząd', fine='nam_org_institution', coarse='nam_org', count=14), NerOccurrences(lex_base='agencja mienie wojskowy', fine='nam_org_institution', coarse='nam_org', count=13), NerOccurrences(lex_base='inspekcja farmaceutyczny', fine='nam_org_institution', coarse='nam_org', count=13), NerOccurrences(lex_base='komisja do sprawa Społeczno - gospodarczy', fine='nam_org_institution', coarse='nam_org', count=13), NerOccurrences(lex_base='rad polski organizacja turystyczny', fine='nam_org_institution', coarse='nam_org', count=13), NerOccurrences(lex_base='państwowy straż rybacki', fine='nam_org_organization', coarse='nam_org', count=13), NerOccurrences(lex_base='państwowy straż łowiecki', fine='nam_org_organization', coarse='nam_org', count=13), NerOccurrences(lex_base='siła zbrojny', fine='nam_org_institution', coarse='nam_org', count=12), NerOccurrences(lex_base='Polska organizacja turystyczny', fine='nam_org_institution', coarse='nam_org', count=12), NerOccurrences(lex_base='inspekcja handlowy', fine='nam_org_institution', coarse='nam_org', count=11), NerOccurrences(lex_base='narodowy bank polski', fine='nam_org_institution', coarse='nam_org', count=11), NerOccurrences(lex_base='narodowy bank Polska', fine='nam_org_institution', coarse='nam_org', count=11), NerOccurrences(lex_base='prezes polski organizacja turystyczny', fine='nam_org_institution', coarse='nam_org', count=11), NerOccurrences(lex_base='UE', fine='nam_org_organization', coarse='nam_org', count=11), NerOccurrences(lex_base='szef służba cywilny', fine='nam_org_institution', coarse='nam_org', count=10), NerOccurrences(lex_base='główny inspektor skup i przetwórstwo artykuł rolny', fine='nam_org_institution', coarse='nam_org', count=10), NerOccurrences(lex_base='zakład ubezpieczenie społeczny', fine='nam_org_institution', coarse='nam_org', count=10), NerOccurrences(lex_base='ubezpieczeniowy fundusz gwarancyjny', fine='nam_org_institution', coarse='nam_org', count=10), NerOccurrences(lex_base='polski biuro ubezpieczenie komunikacyjny', fine='nam_org_institution', coarse='nam_org', count=10), NerOccurrences(lex_base='inspektorat wsparcie siła zbrojny', fine='nam_org_institution', coarse='nam_org', count=10), NerOccurrences(lex_base='służba ojczyzna \"', fine='nam_org_institution', coarse='nam_org', count=10), NerOccurrences(lex_base='krajowy reprezentacja samorządowy kolegium odwoławczy', fine='nam_org_institution', coarse='nam_org', count=10), NerOccurrences(lex_base='rada regionalny izba psycholog', fine='nam_org_institution', coarse='nam_org', count=10), NerOccurrences(lex_base='fundusz ubezpieczenie społeczny', fine='nam_org_institution', coarse='nam_org', count=10), NerOccurrences(lex_base='trójstronny komisja do sprawa Społeczno - gospodarczy', fine='nam_org_institution', coarse='nam_org', count=10), NerOccurrences(lex_base='prezydent rzeczpospolita polski', fine='nam_org_institution', coarse='nam_org', count=9), NerOccurrences(lex_base='krajowy rejestr sądowy', fine='nam_org_institution', coarse='nam_org', count=9), NerOccurrences(lex_base='komendant główny policja', fine='nam_org_institution', coarse='nam_org', count=9), NerOccurrences(lex_base='parlament europejski i rad', fine='nam_org_institution', coarse='nam_org', count=9), NerOccurrences(lex_base='żołnierz żandarmeria wojskowy', fine='nam_org_institution', coarse='nam_org', count=9), NerOccurrences(lex_base='w', fine='nam_org_organization', coarse='nam_org', count=9), NerOccurrences(lex_base='unia europejski kwalifikacja', fine='nam_org_organization', coarse='nam_org', count=9), NerOccurrences(lex_base='milicja obywatelski', fine='nam_org_institution', coarse='nam_org', count=8), NerOccurrences(lex_base='główny inspektor sanitarny', fine='nam_org_institution', coarse='nam_org', count=8), NerOccurrences(lex_base='służba geodezyjny i kartograficzny', fine='nam_org_institution', coarse='nam_org', count=8), NerOccurrences(lex_base='główny inspektor inspekcja nasienny', fine='nam_org_institution', coarse='nam_org', count=8), NerOccurrences(lex_base='państwowy urząd nadzór ubezpieczenie', fine='nam_org_institution', coarse='nam_org', count=8), NerOccurrences(lex_base='komisja ekspert', fine='nam_org_institution', coarse='nam_org', count=8), NerOccurrences(lex_base='regionalny komisja dyscyplinarny', fine='nam_org_institution', coarse='nam_org', count=8), NerOccurrences(lex_base='krajowy komisja dyscyplinarny', fine='nam_org_institution', coarse='nam_org', count=8), NerOccurrences(lex_base='centralny komisja', fine='nam_org_institution', coarse='nam_org', count=8), NerOccurrences(lex_base='biuletyn informacja publiczny', fine='nam_org_institution', coarse='nam_org', count=8), NerOccurrences(lex_base='kancelaria prezes rad minister', fine='nam_org_institution', coarse='nam_org', count=8), NerOccurrences(lex_base='konwencja genewski', fine='nam_org_institution', coarse='nam_org', count=8), NerOccurrences(lex_base='państwowy gospodarstwo leśny las państwowy', fine='nam_org_organization', coarse='nam_org', count=8), NerOccurrences(lex_base='pomnik zagłada', fine='nam_org_organization', coarse='nam_org', count=8), NerOccurrences(lex_base='minister gospodarka przestrzenny i budownictwo', fine='nam_org_institution', coarse='nam_org', count=7), NerOccurrences(lex_base='państwowy inspekcja sanitarny', fine='nam_org_institution', coarse='nam_org', count=7), NerOccurrences(lex_base='droga publiczny', fine='nam_org_institution', coarse='nam_org', count=7), NerOccurrences(lex_base='inspekcja ochrona środowisko', fine='nam_org_institution', coarse='nam_org', count=7), NerOccurrences(lex_base='komendant główny państwowy straż pożarny', fine='nam_org_institution', coarse='nam_org', count=7), NerOccurrences(lex_base='prezes urząd mieszkalnictwo i rozwój miast', fine='nam_org_institution', coarse='nam_org', count=7), NerOccurrences(lex_base='prezes krajowy urząd praca', fine='nam_org_institution', coarse='nam_org', count=7), ...]"
      ]
     },
     "metadata": {},
     "output_type": "display_data"
    },
    {
     "data": {
      "text/html": [
       "<h1>nam_oth</h1>"
      ],
      "text/plain": [
       "<IPython.core.display.HTML object>"
      ]
     },
     "metadata": {},
     "output_type": "display_data"
    },
    {
     "data": {
      "text/html": [
       "<table>\n",
       "<thead>\n",
       "<tr><th>lex_base                  </th><th>fine            </th><th>coarse  </th><th style=\"text-align: right;\">  count</th></tr>\n",
       "</thead>\n",
       "<tbody>\n",
       "<tr><td>złoty                     </td><td>nam_oth_currency</td><td>nam_oth </td><td style=\"text-align: right;\">    239</td></tr>\n",
       "<tr><td>euro                      </td><td>nam_oth_currency</td><td>nam_oth </td><td style=\"text-align: right;\">     33</td></tr>\n",
       "<tr><td>ECU                       </td><td>nam_oth_currency</td><td>nam_oth </td><td style=\"text-align: right;\">      6</td></tr>\n",
       "<tr><td>PKD                       </td><td>nam_oth_tech    </td><td>nam_oth </td><td style=\"text-align: right;\">      5</td></tr>\n",
       "<tr><td>dolar                     </td><td>nam_oth_currency</td><td>nam_oth </td><td style=\"text-align: right;\">      3</td></tr>\n",
       "<tr><td>PESEL                     </td><td>nam_oth_tech    </td><td>nam_oth </td><td style=\"text-align: right;\">      3</td></tr>\n",
       "<tr><td>minister edukacja narodowy</td><td>nam_oth_position</td><td>nam_oth </td><td style=\"text-align: right;\">      3</td></tr>\n",
       "<tr><td>C - D                     </td><td>nam_oth_tech    </td><td>nam_oth </td><td style=\"text-align: right;\">      2</td></tr>\n",
       "<tr><td>4 . 1 .                   </td><td>nam_oth_other   </td><td>nam_oth </td><td style=\"text-align: right;\">      2</td></tr>\n",
       "<tr><td>pomidor                   </td><td>nam_oth_currency</td><td>nam_oth </td><td style=\"text-align: right;\">      1</td></tr>\n",
       "</tbody>\n",
       "</table><p>Showing 10 of 19 rows"
      ],
      "text/plain": [
       "[NerOccurrences(lex_base='złoty', fine='nam_oth_currency', coarse='nam_oth', count=239), NerOccurrences(lex_base='euro', fine='nam_oth_currency', coarse='nam_oth', count=33), NerOccurrences(lex_base='ECU', fine='nam_oth_currency', coarse='nam_oth', count=6), NerOccurrences(lex_base='PKD', fine='nam_oth_tech', coarse='nam_oth', count=5), NerOccurrences(lex_base='dolar', fine='nam_oth_currency', coarse='nam_oth', count=3), NerOccurrences(lex_base='PESEL', fine='nam_oth_tech', coarse='nam_oth', count=3), NerOccurrences(lex_base='minister edukacja narodowy', fine='nam_oth_position', coarse='nam_oth', count=3), NerOccurrences(lex_base='C - D', fine='nam_oth_tech', coarse='nam_oth', count=2), NerOccurrences(lex_base='4 . 1 .', fine='nam_oth_other', coarse='nam_oth', count=2), NerOccurrences(lex_base='pomidor', fine='nam_oth_currency', coarse='nam_oth', count=1), NerOccurrences(lex_base='ogórek', fine='nam_oth_currency', coarse='nam_oth', count=1), NerOccurrences(lex_base='C', fine='nam_oth_tech', coarse='nam_oth', count=1), NerOccurrences(lex_base='II', fine='nam_oth_tech', coarse='nam_oth', count=1), NerOccurrences(lex_base='L', fine='nam_oth_tech', coarse='nam_oth', count=1), NerOccurrences(lex_base='bat', fine='nam_oth_tech', coarse='nam_oth', count=1), NerOccurrences(lex_base='nr i', fine='nam_oth_other', coarse='nam_oth', count=1), NerOccurrences(lex_base='Aujeszky', fine='nam_oth_other', coarse='nam_oth', count=1), NerOccurrences(lex_base='DNA', fine='nam_oth_other', coarse='nam_oth', count=1), NerOccurrences(lex_base='rad', fine='nam_oth_data_format', coarse='nam_oth', count=1)]"
      ]
     },
     "metadata": {},
     "output_type": "display_data"
    },
    {
     "data": {
      "text/html": [
       "<h1>nam_eve</h1>"
      ],
      "text/plain": [
       "<IPython.core.display.HTML object>"
      ]
     },
     "metadata": {},
     "output_type": "display_data"
    },
    {
     "data": {
      "text/html": [
       "<table>\n",
       "<thead>\n",
       "<tr><th>lex_base                                       </th><th>fine                 </th><th>coarse  </th><th style=\"text-align: right;\">  count</th></tr>\n",
       "</thead>\n",
       "<tbody>\n",
       "<tr><td>żandarmeria wojskowy                           </td><td>nam_eve_human        </td><td>nam_eve </td><td style=\"text-align: right;\">      4</td></tr>\n",
       "<tr><td>siła zbrojny                                   </td><td>nam_eve_human_holiday</td><td>nam_eve </td><td style=\"text-align: right;\">      2</td></tr>\n",
       "<tr><td>monitor sądowy                                 </td><td>nam_eve_human_sport  </td><td>nam_eve </td><td style=\"text-align: right;\">      1</td></tr>\n",
       "<tr><td>polski norma PN                                </td><td>nam_eve_human_sport  </td><td>nam_eve </td><td style=\"text-align: right;\">      1</td></tr>\n",
       "<tr><td>euro                                           </td><td>nam_eve_human_sport  </td><td>nam_eve </td><td style=\"text-align: right;\">      1</td></tr>\n",
       "<tr><td>mistrzostwa Europa w piłka nożny UEFA euro 2012</td><td>nam_eve_human_sport  </td><td>nam_eve </td><td style=\"text-align: right;\">      1</td></tr>\n",
       "<tr><td>mistrzostwa Europa w piłka nożny UEFA          </td><td>nam_eve_human_sport  </td><td>nam_eve </td><td style=\"text-align: right;\">      1</td></tr>\n",
       "<tr><td>euro 2012                                      </td><td>nam_eve_human_sport  </td><td>nam_eve </td><td style=\"text-align: right;\">      1</td></tr>\n",
       "<tr><td>krajowy rejestr sądowy                         </td><td>nam_eve_human        </td><td>nam_eve </td><td style=\"text-align: right;\">      1</td></tr>\n",
       "<tr><td>generalny konserwator zabytek                  </td><td>nam_eve_human        </td><td>nam_eve </td><td style=\"text-align: right;\">      1</td></tr>\n",
       "</tbody>\n",
       "</table><p>Showing 10 of 17 rows"
      ],
      "text/plain": [
       "[NerOccurrences(lex_base='żandarmeria wojskowy', fine='nam_eve_human', coarse='nam_eve', count=4), NerOccurrences(lex_base='siła zbrojny', fine='nam_eve_human_holiday', coarse='nam_eve', count=2), NerOccurrences(lex_base='monitor sądowy', fine='nam_eve_human_sport', coarse='nam_eve', count=1), NerOccurrences(lex_base='polski norma PN', fine='nam_eve_human_sport', coarse='nam_eve', count=1), NerOccurrences(lex_base='euro', fine='nam_eve_human_sport', coarse='nam_eve', count=1), NerOccurrences(lex_base='mistrzostwa Europa w piłka nożny UEFA euro 2012', fine='nam_eve_human_sport', coarse='nam_eve', count=1), NerOccurrences(lex_base='mistrzostwa Europa w piłka nożny UEFA', fine='nam_eve_human_sport', coarse='nam_eve', count=1), NerOccurrences(lex_base='euro 2012', fine='nam_eve_human_sport', coarse='nam_eve', count=1), NerOccurrences(lex_base='krajowy rejestr sądowy', fine='nam_eve_human', coarse='nam_eve', count=1), NerOccurrences(lex_base='generalny konserwator zabytek', fine='nam_eve_human', coarse='nam_eve', count=1), NerOccurrences(lex_base='ochrona roślina', fine='nam_eve_human', coarse='nam_eve', count=1), NerOccurrences(lex_base='pasywa razem współczynnik wypłacalność', fine='nam_eve_human', coarse='nam_eve', count=1), NerOccurrences(lex_base='R5 recykling', fine='nam_eve_human', coarse='nam_eve', count=1), NerOccurrences(lex_base='nadzwyczajny regionalny zjazd', fine='nam_eve_human', coarse='nam_eve', count=1), NerOccurrences(lex_base='program operacyjny', fine='nam_eve_human', coarse='nam_eve', count=1), NerOccurrences(lex_base='dzień ofiara przestępstwo', fine='nam_eve_human', coarse='nam_eve', count=1), NerOccurrences(lex_base='męczeństwo naród polski', fine='nam_eve_human', coarse='nam_eve', count=1)]"
      ]
     },
     "metadata": {},
     "output_type": "display_data"
    },
    {
     "data": {
      "text/html": [
       "<h1>nam_fac</h1>"
      ],
      "text/plain": [
       "<IPython.core.display.HTML object>"
      ]
     },
     "metadata": {},
     "output_type": "display_data"
    },
    {
     "data": {
      "text/html": [
       "<table>\n",
       "<thead>\n",
       "<tr><th>lex_base                           </th><th>fine       </th><th>coarse  </th><th style=\"text-align: right;\">  count</th></tr>\n",
       "</thead>\n",
       "<tbody>\n",
       "<tr><td>komendant główny                   </td><td>nam_fac_goe</td><td>nam_fac </td><td style=\"text-align: right;\">     16</td></tr>\n",
       "<tr><td>pomnik zagłada                     </td><td>nam_fac_goe</td><td>nam_fac </td><td style=\"text-align: right;\">     14</td></tr>\n",
       "<tr><td>krajowy rejestr sądowy             </td><td>nam_fac_goe</td><td>nam_fac </td><td style=\"text-align: right;\">      9</td></tr>\n",
       "<tr><td>straż graniczny                    </td><td>nam_fac_goe</td><td>nam_fac </td><td style=\"text-align: right;\">      3</td></tr>\n",
       "<tr><td>centralne muzeum pożarnictwo       </td><td>nam_fac_goe</td><td>nam_fac </td><td style=\"text-align: right;\">      2</td></tr>\n",
       "<tr><td>muzeum \" Stutthof                  </td><td>nam_fac_goe</td><td>nam_fac </td><td style=\"text-align: right;\">      2</td></tr>\n",
       "<tr><td>muzeum pożarnictwo                 </td><td>nam_fac_goe</td><td>nam_fac </td><td style=\"text-align: right;\">      1</td></tr>\n",
       "<tr><td>kościół ewangelicko - metodystyczny</td><td>nam_fac_goe</td><td>nam_fac </td><td style=\"text-align: right;\">      1</td></tr>\n",
       "<tr><td>kościół adwentysta dzień siódmy    </td><td>nam_fac_goe</td><td>nam_fac </td><td style=\"text-align: right;\">      1</td></tr>\n",
       "<tr><td>krajowy rejestr karny              </td><td>nam_fac_goe</td><td>nam_fac </td><td style=\"text-align: right;\">      1</td></tr>\n",
       "</tbody>\n",
       "</table><p>Showing 10 of 23 rows"
      ],
      "text/plain": [
       "[NerOccurrences(lex_base='komendant główny', fine='nam_fac_goe', coarse='nam_fac', count=16), NerOccurrences(lex_base='pomnik zagłada', fine='nam_fac_goe', coarse='nam_fac', count=14), NerOccurrences(lex_base='krajowy rejestr sądowy', fine='nam_fac_goe', coarse='nam_fac', count=9), NerOccurrences(lex_base='straż graniczny', fine='nam_fac_goe', coarse='nam_fac', count=3), NerOccurrences(lex_base='centralne muzeum pożarnictwo', fine='nam_fac_goe', coarse='nam_fac', count=2), NerOccurrences(lex_base='muzeum \" Stutthof', fine='nam_fac_goe', coarse='nam_fac', count=2), NerOccurrences(lex_base='muzeum pożarnictwo', fine='nam_fac_goe', coarse='nam_fac', count=1), NerOccurrences(lex_base='kościół ewangelicko - metodystyczny', fine='nam_fac_goe', coarse='nam_fac', count=1), NerOccurrences(lex_base='kościół adwentysta dzień siódmy', fine='nam_fac_goe', coarse='nam_fac', count=1), NerOccurrences(lex_base='krajowy rejestr karny', fine='nam_fac_goe', coarse='nam_fac', count=1), NerOccurrences(lex_base='święta wojska polski', fine='nam_fac_goe', coarse='nam_fac', count=1), NerOccurrences(lex_base='siła zbrojny', fine='nam_fac_goe', coarse='nam_fac', count=1), NerOccurrences(lex_base='X', fine='nam_fac_goe', coarse='nam_fac', count=1), NerOccurrences(lex_base='krajowy zjazd psycholog', fine='nam_fac_goe', coarse='nam_fac', count=1), NerOccurrences(lex_base='straż rybacki', fine='nam_fac_goe', coarse='nam_fac', count=1), NerOccurrences(lex_base='kościół ewangelicko - reformowany', fine='nam_fac_goe', coarse='nam_fac', count=1), NerOccurrences(lex_base='muzeum Gross - Rosen', fine='nam_fac_goe', coarse='nam_fac', count=1), NerOccurrences(lex_base='martyrologiczny - obóz', fine='nam_fac_goe', coarse='nam_fac', count=1), NerOccurrences(lex_base='muzeum GrossRosen', fine='nam_fac_goe', coarse='nam_fac', count=1), NerOccurrences(lex_base='muzeum martyrologiczny - obóz', fine='nam_fac_goe', coarse='nam_fac', count=1), NerOccurrences(lex_base='muzeum były obóz zagłada', fine='nam_fac_goe', coarse='nam_fac', count=1), NerOccurrences(lex_base='muzeum Auschwitz - Birkenau', fine='nam_fac_goe', coarse='nam_fac', count=1), NerOccurrences(lex_base='strategiczny program rządowy', fine='nam_fac_goe', coarse='nam_fac', count=1)]"
      ]
     },
     "metadata": {},
     "output_type": "display_data"
    },
    {
     "data": {
      "text/html": [
       "<h1>nam_num</h1>"
      ],
      "text/plain": [
       "<IPython.core.display.HTML object>"
      ]
     },
     "metadata": {},
     "output_type": "display_data"
    },
    {
     "data": {
      "text/html": [
       "<table>\n",
       "<thead>\n",
       "<tr><th style=\"text-align: right;\">  lex_base</th><th>fine         </th><th>coarse  </th><th style=\"text-align: right;\">  count</th></tr>\n",
       "</thead>\n",
       "<tbody>\n",
       "<tr><td style=\"text-align: right;\">         1</td><td>nam_num_house</td><td>nam_num </td><td style=\"text-align: right;\">      7</td></tr>\n",
       "</tbody>\n",
       "</table>"
      ],
      "text/plain": [
       "[NerOccurrences(lex_base='1', fine='nam_num_house', coarse='nam_num', count=7)]"
      ]
     },
     "metadata": {},
     "output_type": "display_data"
    }
   ],
   "source": [
    "for group, entries in ner_ocurrences.group_by(lambda neo: neo.coarse):\n",
    "    display(HTML(f\"<h1>{group}</h1>\"))\n",
    "    display_seq(seq(entries).order_by(lambda x: - x.count),10)"
   ]
  },
  {
   "cell_type": "markdown",
   "metadata": {},
   "source": [
    "4\\. Discuss the results of the extraction."
   ]
  },
  {
   "cell_type": "markdown",
   "metadata": {},
   "source": [
    "1. Funny thing happened: Dz.U (or sth similar) Was often lemmatized to Dzieje Apostolskie\n",
    "2. Rzeczposopolita polska appeared twice in ranking. This might be my fault - I took first lemma of a wod from CLL.\n",
    "3. Words in top 50 are not that surprising.\n",
    "4. No idea why number was considered a named entity.\n",
    "5. Pomidor is a <span style=\"color:red\">currency </span>\n",
    "6. **Minister edukacji narodowej** is a position while **prezes rady ministrów** is an institution.\n",
    "7. Events were recognised poorly."
   ]
  }
 ],
 "metadata": {
  "kernelspec": {
   "display_name": "Python 3",
   "language": "python",
   "name": "python3"
  },
  "language_info": {
   "codemirror_mode": {
    "name": "ipython",
    "version": 3
   },
   "file_extension": ".py",
   "mimetype": "text/x-python",
   "name": "python",
   "nbconvert_exporter": "python",
   "pygments_lexer": "ipython3",
   "version": "3.7.2"
  }
 },
 "nbformat": 4,
 "nbformat_minor": 2
}
