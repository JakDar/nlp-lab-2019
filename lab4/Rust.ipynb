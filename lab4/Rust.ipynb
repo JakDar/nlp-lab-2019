{
 "cells": [
  {
   "cell_type": "code",
   "execution_count": 3,
   "metadata": {},
   "outputs": [
    {
     "ename": "Error",
     "evalue": "expected one of `.`, `;`, `?`, `}`, or an operator, found `use`",
     "output_type": "error",
     "traceback": [
      "println!(\"{}\",5)",
      "\u001b[91m                \u001b[0m \u001b[94mexpected one of `.`, `;`, `?`, `}`, or an operator here\u001b[0m",
      "use serde;",
      "\u001b[91m^^^\u001b[0m \u001b[94munexpected token\u001b[0m",
      "expected one of `.`, `;`, `?`, `}`, or an operator, found `use`"
     ]
    },
    {
     "ename": "Error",
     "evalue": "mismatched types",
     "output_type": "error",
     "traceback": [
      "println!(\"{}\",5)",
      "\u001b[91m^^^^^^^^^^^^^^^^\u001b[0m \u001b[94mexpected *-ptr, found ()\u001b[0m",
      "mismatched types"
     ]
    }
   ],
   "source": [
    "println!(\"{}\",5)"
   ]
  },
  {
   "cell_type": "code",
   "execution_count": null,
   "metadata": {},
   "outputs": [],
   "source": []
  }
 ],
 "metadata": {
  "kernelspec": {
   "display_name": "Rust",
   "language": "rust",
   "name": "rust"
  },
  "language_info": {
   "codemirror_mode": "rust",
   "file_extension": ".rs",
   "mimetype": "text/rust",
   "name": "Rust",
   "pygment_lexer": "rust",
   "version": ""
  }
 },
 "nbformat": 4,
 "nbformat_minor": 2
}
