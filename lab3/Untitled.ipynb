{
 "cells": [
  {
   "cell_type": "code",
   "execution_count": 1,
   "metadata": {
    "scrolled": true
   },
   "outputs": [],
   "source": [
    "import json, os\n",
    "from functional import seq\n",
    "from fn import _\n",
    "import requests as r"
   ]
  },
  {
   "cell_type": "code",
   "execution_count": 2,
   "metadata": {
    "scrolled": true
   },
   "outputs": [],
   "source": [
    "data = {                                                                                      \n",
    "  \"fields\" : [\"content\"],                                                                                                         \n",
    "  \"offsets\" : True,                                                                                         \n",
    "  \"positions\" : True,                                                                                                                                                                                                                                                          \n",
    "  \"term_statistics\" : True,                                       \n",
    "  \"field_statistics\" : True                                                                                                                                                                                                                                                    \n",
    "}   \n",
    "\n",
    "def get_termvectors(doc_id):\n",
    "    url = \"http://localhost:9200/law_index6/_doc/{}/_termvectors\".format(doc_id)\n",
    "    response = r.post(url,json=data)\n",
    "    return json.loads(response.content)\n"
   ]
  },
  {
   "cell_type": "code",
   "execution_count": 31,
   "metadata": {
    "scrolled": true
   },
   "outputs": [],
   "source": [
    "def frequency_extractor(term_dict):\n",
    "    return term_dict['term_freq']\n",
    "\n",
    "def body_to_freqs(body): #Sequence[str,int]\n",
    "    return seq(body['term_vectors']['content']['terms'].items())\\\n",
    "        .filter(lambda x: x[0].isalpha())\\\n",
    "        .map(lambda x: (x[0],frequency_extractor(x[1])))"
   ]
  },
  {
   "cell_type": "code",
   "execution_count": 32,
   "metadata": {},
   "outputs": [],
   "source": [
    "def get_freqs(doc_id): #Sequence[Term,Ocurrences]\n",
    "    body = get_termvectors(doc_id)\n",
    "    return body_to_freqs(body)"
   ]
  },
  {
   "cell_type": "markdown",
   "metadata": {},
   "source": [
    "# Get docs from index "
   ]
  },
  {
   "cell_type": "code",
   "execution_count": 33,
   "metadata": {},
   "outputs": [],
   "source": [
    "def get_ids():\n",
    "    match_all_query = {\n",
    "      \"query\": {\n",
    "        \"match_all\": {}\n",
    "      },\n",
    "        \"size\":1200,\n",
    "      \"_source\": \"_id\"\n",
    "    }\n",
    "\n",
    "    resp = r.post(\"http://localhost:9200/law_index6/_search\",json=match_all_query)\n",
    "    hits = resp.json()['hits']['hits']\n",
    "    return seq(hits).map(lambda x: x['_id'])"
   ]
  },
  {
   "cell_type": "code",
   "execution_count": 37,
   "metadata": {},
   "outputs": [
    {
     "data": {
      "text/html": [
       "<table>\n",
       "<tbody>\n",
       "<tr><td>a            </td><td style=\"text-align: right;\">17057</td></tr>\n",
       "<tr><td>administracja</td><td style=\"text-align: right;\"> 3047</td></tr>\n",
       "<tr><td>arta         </td><td style=\"text-align: right;\">30992</td></tr>\n",
       "<tr><td>artykuł      </td><td style=\"text-align: right;\">53912</td></tr>\n",
       "<tr><td>bar          </td><td style=\"text-align: right;\"> 6895</td></tr>\n",
       "<tr><td>bardzo       </td><td style=\"text-align: right;\"> 6943</td></tr>\n",
       "<tr><td>bieżący      </td><td style=\"text-align: right;\"> 7296</td></tr>\n",
       "<tr><td>brzmienie    </td><td style=\"text-align: right;\">17975</td></tr>\n",
       "<tr><td>brzmieć      </td><td style=\"text-align: right;\">17977</td></tr>\n",
       "<tr><td>budownictwo  </td><td style=\"text-align: right;\">  482</td></tr>\n",
       "</tbody>\n",
       "</table><p>Showing 10 of 20587 rows"
      ],
      "text/plain": [
       "[('a', 17057), ('administracja', 3047), ('arta', 30992), ('artykuł', 53912), ('bar', 6895), ('bardzo', 6943), ('bieżący', 7296), ('brzmienie', 17975), ('brzmieć', 17977), ('budownictwo', 482), ('być', 31195), ('były', 7922), ('centralne', 541), ('centralny', 920), ('do', 61002), ('dodawać', 8498), ('dotyczyć', 6072), ('droga', 8278), ('działalność', 7422), ('działkowy', 18), ('dzień', 28017), ('finanse', 2346), ('forma', 2379), ('funkcjonowanie', 591), ('funkcjonować', 616), ('gospodarka', 2161), ('i', 90377), ('inny', 12289), ('kropka', 830), ('maj', 809), ('maja', 1877), ('miast', 268), ('miasto', 1137), ('mieszkalnictwo', 229), ('mieszkaniowy', 895), ('minister', 15836), ('ministrowy', 804), ('na', 50809), ('nad', 1641), ('nadawać', 464), ('nadzór', 2572), ('następować', 4623), ('następujący', 3008), ('niektóry', 1142), ('numer', 46396), ('o', 65201), ('ocean', 65202), ('od', 16124), ('oda', 16774), ('odrębny', 2340), ('odwoływać', 701), ('ogroda', 52), ('ogród', 163), ('ogłosić', 3683), ('ogłoszenie', 2395), ('ojciec', 65253), ('określić', 19127), ('określony', 13487), ('on', 49331), ('oraz', 33660), ('organ', 11626), ('organizacja', 3227), ('otrzymywać', 11373), ('październik', 955), ('po', 13601), ('polityk', 629), ('polityka', 710), ('popierać', 108), ('powoływać', 1174), ('pozycja', 45798), ('praca', 10021), ('pracowniczy', 315), ('prezes', 5050), ('prezesowy', 380), ('program', 1900), ('projekt', 1221), ('przecinek', 895), ('przedstawiać', 675), ('przepis', 17756), ('przestrzenny', 819), ('przewidzieć', 1742), ('przygotowywać', 232), ('publiczny', 6774), ('punkt', 19900), ('rad', 6803), ('rada', 7434), ('rok', 42917), ('rozporządzenie', 6457), ('rozporządzić', 6334), ('rozwój', 1018), ('rządowy', 1267), ('się', 46522), ('socjalna', 472), ('socjalny', 594), ('sprawa', 16608), ('sprawić', 10040), ('sprawować', 1379), ('statut', 1316), ('szczególny', 1553), ('tryb', 4207), ...]"
      ]
     },
     "execution_count": 37,
     "metadata": {},
     "output_type": "execute_result"
    }
   ],
   "source": [
    "ids = get_ids()\n",
    "allIds = ids\\\n",
    ".flat_map(lambda ajdi: get_freqs(ajdi))\\\n",
    ".group_by(lambda x:x[0])\\\n",
    ".map(lambda group: (\n",
    "    group[0],\n",
    "    seq(group[1]).map(lambda x:x[1]).sum()\n",
    "))\n",
    "\n",
    "allIds"
   ]
  },
  {
   "cell_type": "code",
   "execution_count": 38,
   "metadata": {},
   "outputs": [
    {
     "data": {
      "text/html": [
       "<table>\n",
       "<tbody>\n",
       "<tr><td>w      </td><td style=\"text-align: right;\">189995</td></tr>\n",
       "<tr><td>wiek   </td><td style=\"text-align: right;\">188681</td></tr>\n",
       "<tr><td>i      </td><td style=\"text-align: right;\"> 90377</td></tr>\n",
       "<tr><td>z      </td><td style=\"text-align: right;\"> 88444</td></tr>\n",
       "<tr><td>ojciec </td><td style=\"text-align: right;\"> 65253</td></tr>\n",
       "<tr><td>ocean  </td><td style=\"text-align: right;\"> 65202</td></tr>\n",
       "<tr><td>o      </td><td style=\"text-align: right;\"> 65201</td></tr>\n",
       "<tr><td>do     </td><td style=\"text-align: right;\"> 61002</td></tr>\n",
       "<tr><td>artykuł</td><td style=\"text-align: right;\"> 53912</td></tr>\n",
       "<tr><td>usta   </td><td style=\"text-align: right;\"> 53705</td></tr>\n",
       "</tbody>\n",
       "</table><p>Showing 10 of 20587 rows"
      ],
      "text/plain": [
       "[('w', 189995), ('wiek', 188681), ('i', 90377), ('z', 88444), ('ojciec', 65253), ('ocean', 65202), ('o', 65201), ('do', 61002), ('artykuł', 53912), ('usta', 53705), ('na', 50809), ('który', 49562), ('on', 49331), ('się', 46522), ('numer', 46396), ('lub', 46100), ('lubić', 46100), ('pozycja', 45798), ('rok', 42917), ('oraz', 33660), ('być', 31195), ('arta', 30992), ('mowa', 28912), ('dzień', 28017), ('ten', 27317), ('ustawa', 25092), ('nie', 23070), ('przez', 21027), ('punkt', 19900), ('określić', 19127), ('brzmieć', 17977), ('brzmienie', 17975), ('przepis', 17756), ('a', 17057), ('móc', 16797), ('oda', 16774), ('sprawa', 16608), ('od', 16124), ('minister', 15836), ('osoba', 15192), ('to', 14370), ('właściwy', 14057), ('wat', 13812), ('po', 13601), ('określony', 13487), ('inny', 12289), ('wyraz', 12202), ('może', 12148), ('jeżeli', 12117), ('organ', 11626), ('otrzymywać', 11373), ('za', 11164), ('prawo', 10690), ('sprawić', 10040), ('praca', 10021), ('prowadzić', 9720), ('prawy', 9655), ('stosować', 9515), ('zakres', 9333), ('postępowanie', 8834), ('wniosek', 8813), ('alba', 8760), ('albo', 8760), ('podstawa', 8696), ('przypadek', 8680), ('postępować', 8574), ('dodawać', 8498), ('jednostka', 8497), ('termin', 8366), ('wykonywać', 8346), ('droga', 8278), ('środek', 8114), ('sąd', 7981), ('dla', 7946), ('były', 7922), ('państwo', 7731), ('polski', 7660), ('rada', 7434), ('działalność', 7422), ('bieżący', 7296), ('zmiana', 7210), ('informacja', 6994), ('bardzo', 6943), ('warunek', 6943), ('wydać', 6905), ('bar', 6895), ('jednostki', 6853), ('środki', 6837), ('urząd', 6833), ('okres', 6831), ('rad', 6803), ('publiczny', 6774), ('dać', 6707), ('mieć', 6655), ('dany', 6646), ('umowa', 6525), ('nizać', 6479), ('niż', 6479), ('niża', 6479), ('rozporządzenie', 6457), ...]"
      ]
     },
     "execution_count": 38,
     "metadata": {},
     "output_type": "execute_result"
    }
   ],
   "source": [
    "allIds.order_by(lambda x: -x[1])"
   ]
  },
  {
   "cell_type": "code",
   "execution_count": 39,
   "metadata": {},
   "outputs": [],
   "source": [
    "frequency_list = allIds.filter(lambda x:x[0].isalpha() and len(x[0])>=2)"
   ]
  },
  {
   "cell_type": "code",
   "execution_count": 41,
   "metadata": {},
   "outputs": [
    {
     "data": {
      "text/html": [
       "<table>\n",
       "<tbody>\n",
       "<tr><td>wiek   </td><td style=\"text-align: right;\">188681</td></tr>\n",
       "<tr><td>ojciec </td><td style=\"text-align: right;\"> 65253</td></tr>\n",
       "<tr><td>ocean  </td><td style=\"text-align: right;\"> 65202</td></tr>\n",
       "<tr><td>do     </td><td style=\"text-align: right;\"> 61002</td></tr>\n",
       "<tr><td>artykuł</td><td style=\"text-align: right;\"> 53912</td></tr>\n",
       "<tr><td>usta   </td><td style=\"text-align: right;\"> 53705</td></tr>\n",
       "<tr><td>na     </td><td style=\"text-align: right;\"> 50809</td></tr>\n",
       "<tr><td>który  </td><td style=\"text-align: right;\"> 49562</td></tr>\n",
       "<tr><td>on     </td><td style=\"text-align: right;\"> 49331</td></tr>\n",
       "<tr><td>się    </td><td style=\"text-align: right;\"> 46522</td></tr>\n",
       "</tbody>\n",
       "</table><p>Showing 10 of 20556 rows"
      ],
      "text/plain": [
       "[('wiek', 188681), ('ojciec', 65253), ('ocean', 65202), ('do', 61002), ('artykuł', 53912), ('usta', 53705), ('na', 50809), ('który', 49562), ('on', 49331), ('się', 46522), ('numer', 46396), ('lub', 46100), ('lubić', 46100), ('pozycja', 45798), ('rok', 42917), ('oraz', 33660), ('być', 31195), ('arta', 30992), ('mowa', 28912), ('dzień', 28017), ('ten', 27317), ('ustawa', 25092), ('nie', 23070), ('przez', 21027), ('punkt', 19900), ('określić', 19127), ('brzmieć', 17977), ('brzmienie', 17975), ('przepis', 17756), ('móc', 16797), ('oda', 16774), ('sprawa', 16608), ('od', 16124), ('minister', 15836), ('osoba', 15192), ('to', 14370), ('właściwy', 14057), ('wat', 13812), ('po', 13601), ('określony', 13487), ('inny', 12289), ('wyraz', 12202), ('może', 12148), ('jeżeli', 12117), ('organ', 11626), ('otrzymywać', 11373), ('za', 11164), ('prawo', 10690), ('sprawić', 10040), ('praca', 10021), ('prowadzić', 9720), ('prawy', 9655), ('stosować', 9515), ('zakres', 9333), ('postępowanie', 8834), ('wniosek', 8813), ('alba', 8760), ('albo', 8760), ('podstawa', 8696), ('przypadek', 8680), ('postępować', 8574), ('dodawać', 8498), ('jednostka', 8497), ('termin', 8366), ('wykonywać', 8346), ('droga', 8278), ('środek', 8114), ('sąd', 7981), ('dla', 7946), ('były', 7922), ('państwo', 7731), ('polski', 7660), ('rada', 7434), ('działalność', 7422), ('bieżący', 7296), ('zmiana', 7210), ('informacja', 6994), ('bardzo', 6943), ('warunek', 6943), ('wydać', 6905), ('bar', 6895), ('jednostki', 6853), ('środki', 6837), ('urząd', 6833), ('okres', 6831), ('rad', 6803), ('publiczny', 6774), ('dać', 6707), ('mieć', 6655), ('dany', 6646), ('umowa', 6525), ('nizać', 6479), ('niż', 6479), ('niża', 6479), ('rozporządzenie', 6457), ('ochrona', 6449), ('tym', 6399), ('rozporządzić', 6334), ('bycie', 6156), ('warunki', 6123), ...]"
      ]
     },
     "execution_count": 41,
     "metadata": {},
     "output_type": "execute_result"
    }
   ],
   "source": [
    "frequency_list.order_by(lambda x:-x[1])"
   ]
  },
  {
   "cell_type": "code",
   "execution_count": 94,
   "metadata": {},
   "outputs": [
    {
     "data": {
      "text/plain": [
       "[Text(0,0,'wiek'),\n",
       " Text(0,0,'ojciec'),\n",
       " Text(0,0,'ocean'),\n",
       " Text(0,0,'do'),\n",
       " Text(0,0,'artykuł'),\n",
       " Text(0,0,'usta'),\n",
       " Text(0,0,'na'),\n",
       " Text(0,0,'który'),\n",
       " Text(0,0,'on'),\n",
       " Text(0,0,'się'),\n",
       " Text(0,0,'numer'),\n",
       " Text(0,0,'lub'),\n",
       " Text(0,0,'lubić'),\n",
       " Text(0,0,'pozycja'),\n",
       " Text(0,0,'rok'),\n",
       " Text(0,0,'oraz'),\n",
       " Text(0,0,'być'),\n",
       " Text(0,0,'arta'),\n",
       " Text(0,0,'mowa'),\n",
       " Text(0,0,'dzień'),\n",
       " Text(0,0,'ten'),\n",
       " Text(0,0,'ustawa'),\n",
       " Text(0,0,'nie'),\n",
       " Text(0,0,'przez'),\n",
       " Text(0,0,'punkt'),\n",
       " Text(0,0,'określić'),\n",
       " Text(0,0,'brzmieć'),\n",
       " Text(0,0,'brzmienie'),\n",
       " Text(0,0,'przepis'),\n",
       " Text(0,0,'móc')]"
      ]
     },
     "execution_count": 94,
     "metadata": {},
     "output_type": "execute_result"
    },
    {
     "data": {
      "image/png": "[encoded data removed]",
      "text/plain": [
       "<Figure size 1368x576 with 1 Axes>"
      ]
     },
     "metadata": {},
     "output_type": "display_data"
    }
   ],
   "source": [
    "import pylab as pl\n",
    "\n",
    "ordered = frequency_list.order_by(lambda x:x[0]).order_by(lambda x:-x[1]).take(30)\n",
    "\n",
    "labels = ordered.map(lambda x:x[0] ).to_list()\n",
    "values = ordered.map(lambda x:x[1] ).to_list()\n",
    "\n",
    "fig = pl.figure()\n",
    "fig.set_figheight(8)\n",
    "fig.set_figwidth(19)\n",
    "ax = pl.subplot(111)\n",
    "ax.bar(labels, values)\n",
    "ax.set_xticklabels(labels)\n",
    "# for rect, label in zip(ax.patches, labels):\n",
    "#     height = rect.get_height()\n",
    "#     ax.text(rect.get_x() + rect.get_width() / 2, height + 5, label,\n",
    "#             ha='center', va='bottom')\n"
   ]
  },
  {
   "cell_type": "code",
   "execution_count": 96,
   "metadata": {},
   "outputs": [
    {
     "data": {
      "image/png": "[encoded data removed]",
      "text/plain": [
       "<Figure size 864x576 with 1 Axes>"
      ]
     },
     "metadata": {},
     "output_type": "display_data"
    }
   ],
   "source": [
    "import numpy as np\n",
    "import pandas as pd\n",
    "import matplotlib.pyplot as plt\n",
    "\n",
    "# Bring some raw data.\n",
    "frequencies = [6, 16, 75, 160, 244, 260, 145, 73, 16, 4, 1]\n",
    "# In my original code I create a series and run on that, \n",
    "# so for consistency I create a series from the list.\n",
    "freq_series = pd.Series.from_array(frequencies)\n",
    "\n",
    "x_labels = [108300.0, 110540.0, 112780.0, 115020.0, 117260.0, 119500.0,\n",
    "            121740.0, 123980.0, 126220.0, 128460.0, 130700.0]\n",
    "\n",
    "# Plot the figure.\n",
    "plt.figure(figsize=(12, 8))\n",
    "ax = freq_series.plot(kind='bar')\n",
    "ax.set_title('Amount Frequency')\n",
    "ax.set_xlabel('Amount ($)')\n",
    "ax.set_ylabel('Frequency')\n",
    "ax.set_xticklabels(x_labels)\n",
    "\n",
    "rects = ax.patches\n",
    "\n",
    "# Make some labels.\n",
    "labels = [\"label%d\" % i for i in range(len(rects))]\n",
    "\n",
    "for rect, label in zip(rects, labels):\n",
    "    height = rect.get_height()\n",
    "    ax.text(rect.get_x() + rect.get_width() / 2, height + 5, label,\n",
    "            ha='center', va='bottom')"
   ]
  },
  {
   "cell_type": "markdown",
   "metadata": {},
   "source": [
    "# Using polimorfologik "
   ]
  },
  {
   "cell_type": "code",
   "execution_count": 58,
   "metadata": {},
   "outputs": [],
   "source": [
    "polish_dict = seq.csv(\"polimorfologik/polimorfologik-2.1.txt\").map(lambda x : x[0])"
   ]
  },
  {
   "cell_type": "code",
   "execution_count": 63,
   "metadata": {},
   "outputs": [],
   "source": [
    "def extract_names(row):\n",
    "    split = row.split(\";\",2)\n",
    "    return [split[0],split[1]]"
   ]
  },
  {
   "cell_type": "code",
   "execution_count": 69,
   "metadata": {},
   "outputs": [],
   "source": [
    "words = polish_dict\\\n",
    "    .flat_map(extract_names)\\\n",
    "    .map(lambda x: x.lower())\\\n",
    "    .filter(lambda x: x.isalpha())\\\n",
    "    .distinct()"
   ]
  }
 ],
 "metadata": {
  "kernelspec": {
   "display_name": "Python 3",
   "language": "python",
   "name": "python3"
  },
  "language_info": {
   "codemirror_mode": {
    "name": "ipython",
    "version": 3
   },
   "file_extension": ".py",
   "mimetype": "text/x-python",
   "name": "python",
   "nbconvert_exporter": "python",
   "pygments_lexer": "ipython3",
   "version": "3.6.7"
  }
 },
 "nbformat": 4,
 "nbformat_minor": 2
}
