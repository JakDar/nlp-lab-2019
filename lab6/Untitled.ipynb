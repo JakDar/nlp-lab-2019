{
 "cells": [
  {
   "cell_type": "markdown",
   "metadata": {},
   "source": [
    "# Lab6 - WordNet"
   ]
  },
  {
   "cell_type": "code",
   "execution_count": 75,
   "metadata": {},
   "outputs": [],
   "source": [
    "import requests as r\n",
    "from functional import seq\n",
    "from collections import namedtuple\n",
    "from typing import Dict,List,Tuple\n",
    "from fn import _\n",
    "base =\"http://api.slowosiec.clarin-pl.eu/plwordnet-api\""
   ]
  },
  {
   "cell_type": "markdown",
   "metadata": {},
   "source": [
    "1. Read the [Wordnet API](http://api.slowosiec.clarin-pl.eu/docs/index.html)\n"
   ]
  },
  {
   "cell_type": "markdown",
   "metadata": {},
   "source": [
    "\n",
    "2\\. Get acquainted with [semantic relations](http://nlp.pwr.wroc.pl/narzedzia-i-zasoby/narzedzia/disaster/25-wiedza/81-relacje-w-slowosieci) in WordNet."
   ]
  },
  {
   "cell_type": "markdown",
   "metadata": {},
   "source": [
    "Nouns\n",
    " - hypernyms:\n",
    "     - supersets of sth - animal is hypernym of dog\n",
    "     - Y is a hypernym of X if every X is a (kind of) Y (canine is a hypernym of dog)\n",
    " - hyponyms:\n",
    "     - subsets\n",
    "     - Y is a hyponym of X if every Y is a (kind of) X (dog is a hyponym of canine)\n",
    " - coordinate terms:\n",
    "     - siblings\n",
    "     - Y is a coordinate term of X if X and Y share a hypernym (wolf is a coordinate term of dog, and dog is a coordinate term of wolf)\n",
    " - meronym:\n",
    "     - being a part of\n",
    "     - Y is a meronym of X if Y is a part of X (window is a meronym of building)\n",
    " - holonym:\n",
    "     - being a whole thing (...)\n",
    "     - Y is a holonym of X if X is a part of Y (building is a holonym of window)\n",
    "     \n",
    "     \n",
    "Verbs\n",
    "  - hypernym: \n",
    "      - supersets\n",
    "      - the verb Y is a hypernym of the verb X if the activity X is a (kind of) Y (to perceive is an hypernym of to listen)\n",
    "   - troponym:\n",
    "       - doing sth else is to some degree (?)\n",
    "       - the verb Y is a troponym of the verb X if the activity Y is doing X in some manner (to lisp is a troponym of to talk)\n",
    "  - entailment:\n",
    "        - the verb Y is entailed by X if by doing X you must be doing Y (to sleep is entailed by to snore)\n",
    "  - coordinate terms:\n",
    "      - siblings\n",
    "      - those verbs sharing a common hypernym (to lisp and to yell)"
   ]
  },
  {
   "cell_type": "markdown",
   "metadata": {},
   "source": [
    "3\\. Find all meaning of the _szkoda_ **noun** and display all their synonyms."
   ]
  },
  {
   "cell_type": "code",
   "execution_count": 107,
   "metadata": {},
   "outputs": [],
   "source": [
    "def senses_search(word):\n",
    "    return seq(r.get(base + \"/senses/search\",{\"lemma\":word}).json()['content'])"
   ]
  },
  {
   "cell_type": "code",
   "execution_count": 108,
   "metadata": {},
   "outputs": [],
   "source": [
    "json = senses_search(\"szkoda\")"
   ]
  },
  {
   "cell_type": "code",
   "execution_count": 109,
   "metadata": {},
   "outputs": [
    {
     "data": {
      "text/plain": [
       "{'domain': {'description': 'plWN miejsca i umiejscowienie',\n",
       "  'id': 12,\n",
       "  'lexicon': {'id': 1,\n",
       "   'language': 'pl',\n",
       "   'lexiconIdentifier': 'P 2.2',\n",
       "   'name': 'Słowosieć 2.2'},\n",
       "  'name': 'plWN_msc'},\n",
       " 'id': 8769,\n",
       " 'lemma': {'id': 249489, 'word': 'szkoda'},\n",
       " 'lexicon': {'id': 1,\n",
       "  'language': 'pl',\n",
       "  'lexiconIdentifier': 'P 2.2',\n",
       "  'name': 'Słowosieć 2.2'},\n",
       " 'partOfSpeech': {'id': 2,\n",
       "  'lexicon': {'id': 1,\n",
       "   'language': 'pl',\n",
       "   'lexiconIdentifier': 'P 2.2',\n",
       "   'name': 'Słowosieć 2.2'},\n",
       "  'lmfType': 'noun',\n",
       "  'name': 'plWN rzeczownik'},\n",
       " 'senseNumber': 1}"
      ]
     },
     "execution_count": 109,
     "metadata": {},
     "output_type": "execute_result"
    }
   ],
   "source": [
    "json[0]"
   ]
  },
  {
   "cell_type": "code",
   "execution_count": 65,
   "metadata": {},
   "outputs": [],
   "source": [
    "def trim_sense(field:Dict):\n",
    "    return {\n",
    "        'lemma':field['lemma']['word'],\n",
    "        'id':field['id'],\n",
    "        \"domain\":field['domain']['description'],\n",
    "        'partOfSpeech': field['partOfSpeech']['lmfType'],\n",
    "        'sense' : field['senseNumber']\n",
    "    }"
   ]
  },
  {
   "cell_type": "code",
   "execution_count": 66,
   "metadata": {},
   "outputs": [
    {
     "data": {
      "text/html": [
       "<table>\n",
       "<tbody>\n",
       "<tr><td>szkoda</td><td style=\"text-align: right;\">8769</td><td>plWN miejsca i umiejscowienie     </td><td>noun</td><td style=\"text-align: right;\">1</td></tr>\n",
       "<tr><td>szkoda</td><td style=\"text-align: right;\">8770</td><td>plWN czasowniki wyrażające uczucia</td><td>verb</td><td style=\"text-align: right;\">1</td></tr>\n",
       "<tr><td>szkoda</td><td style=\"text-align: right;\">8771</td><td>plWN posiadanie i jego zmiana     </td><td>noun</td><td style=\"text-align: right;\">2</td></tr>\n",
       "</tbody>\n",
       "</table>"
      ],
      "text/plain": [
       "[{'lemma': 'szkoda', 'id': 8769, 'domain': 'plWN miejsca i umiejscowienie', 'partOfSpeech': 'noun', 'sense': 1}, {'lemma': 'szkoda', 'id': 8770, 'domain': 'plWN czasowniki wyrażające uczucia', 'partOfSpeech': 'verb', 'sense': 1}, {'lemma': 'szkoda', 'id': 8771, 'domain': 'plWN posiadanie i jego zmiana', 'partOfSpeech': 'noun', 'sense': 2}]"
      ]
     },
     "execution_count": 66,
     "metadata": {},
     "output_type": "execute_result"
    }
   ],
   "source": [
    "entries = seq(json).map(trim_sense)\n",
    "entries"
   ]
  },
  {
   "cell_type": "code",
   "execution_count": 68,
   "metadata": {},
   "outputs": [],
   "source": [
    "def synsetid_for_sense(senseid):\n",
    "    return r.get(base+ \"/senses/{}/synset\".format(senseid)).json()['id']\n",
    "\n",
    "def synset_by_id(synsetid):\n",
    "    return r.get(base+ \"/synsets/{}/senses\".format(synsetid)).json()\n",
    "\n",
    "\n",
    "\n",
    "def synonyms(senseid): \n",
    "    return seq(synset_by_id(synsetid_for_sense(senseid))).map(trim_sense)"
   ]
  },
  {
   "cell_type": "code",
   "execution_count": 55,
   "metadata": {},
   "outputs": [
    {
     "data": {
      "text/html": [
       "<table>\n",
       "<tbody>\n",
       "<tr><td>szkoda</td><td style=\"text-align: right;\">8769</td><td>plWN miejsca i umiejscowienie</td><td>noun</td><td style=\"text-align: right;\">1</td></tr>\n",
       "</tbody>\n",
       "</table>"
      ],
      "text/plain": [
       "[{'lemma': 'szkoda', 'id': 8769, 'domain': 'plWN miejsca i umiejscowienie', 'partOfSpeech': 'noun', 'sense': 1}]"
      ]
     },
     "execution_count": 55,
     "metadata": {},
     "output_type": "execute_result"
    }
   ],
   "source": [
    "synonyms(8769)"
   ]
  },
  {
   "cell_type": "code",
   "execution_count": 56,
   "metadata": {},
   "outputs": [
    {
     "data": {
      "text/html": [
       "<table>\n",
       "<tbody>\n",
       "<tr><td>szkoda </td><td style=\"text-align: right;\">  8770</td><td>plWN czasowniki wyrażające uczucia</td><td>verb</td><td style=\"text-align: right;\">1</td></tr>\n",
       "<tr><td>żałować</td><td style=\"text-align: right;\"> 11379</td><td>plWN czasowniki wyrażające uczucia</td><td>verb</td><td style=\"text-align: right;\">3</td></tr>\n",
       "<tr><td>żal    </td><td style=\"text-align: right;\">143137</td><td>plWN czasowniki wyrażające uczucia</td><td>verb</td><td style=\"text-align: right;\">1</td></tr>\n",
       "</tbody>\n",
       "</table>"
      ],
      "text/plain": [
       "[{'lemma': 'szkoda', 'id': 8770, 'domain': 'plWN czasowniki wyrażające uczucia', 'partOfSpeech': 'verb', 'sense': 1}, {'lemma': 'żałować', 'id': 11379, 'domain': 'plWN czasowniki wyrażające uczucia', 'partOfSpeech': 'verb', 'sense': 3}, {'lemma': 'żal', 'id': 143137, 'domain': 'plWN czasowniki wyrażające uczucia', 'partOfSpeech': 'verb', 'sense': 1}]"
      ]
     },
     "execution_count": 56,
     "metadata": {},
     "output_type": "execute_result"
    }
   ],
   "source": [
    "synonyms(8770)"
   ]
  },
  {
   "cell_type": "code",
   "execution_count": 57,
   "metadata": {},
   "outputs": [
    {
     "data": {
      "text/html": [
       "<table>\n",
       "<tbody>\n",
       "<tr><td>strata    </td><td style=\"text-align: right;\"> 8495</td><td>plWN zdarzenia               </td><td>noun</td><td style=\"text-align: right;\">1</td></tr>\n",
       "<tr><td>utrata    </td><td style=\"text-align: right;\"> 9582</td><td>plWN zdarzenia               </td><td>noun</td><td style=\"text-align: right;\">1</td></tr>\n",
       "<tr><td>szkoda    </td><td style=\"text-align: right;\"> 8771</td><td>plWN posiadanie i jego zmiana</td><td>noun</td><td style=\"text-align: right;\">2</td></tr>\n",
       "<tr><td>uszczerbek</td><td style=\"text-align: right;\">29762</td><td>plWN zdarzenia               </td><td>noun</td><td style=\"text-align: right;\">1</td></tr>\n",
       "</tbody>\n",
       "</table>"
      ],
      "text/plain": [
       "[{'lemma': 'strata', 'id': 8495, 'domain': 'plWN zdarzenia', 'partOfSpeech': 'noun', 'sense': 1}, {'lemma': 'utrata', 'id': 9582, 'domain': 'plWN zdarzenia', 'partOfSpeech': 'noun', 'sense': 1}, {'lemma': 'szkoda', 'id': 8771, 'domain': 'plWN posiadanie i jego zmiana', 'partOfSpeech': 'noun', 'sense': 2}, {'lemma': 'uszczerbek', 'id': 29762, 'domain': 'plWN zdarzenia', 'partOfSpeech': 'noun', 'sense': 1}]"
      ]
     },
     "execution_count": 57,
     "metadata": {},
     "output_type": "execute_result"
    }
   ],
   "source": [
    "synonyms(8771)"
   ]
  },
  {
   "cell_type": "markdown",
   "metadata": {},
   "source": [
    "4\\. Find closure of **hypernymy** relation for the first meaning of the _wypadek drogowy_ expression.\n",
    "   Create diagram of the relations as a directed graph.\n",
    "   "
   ]
  },
  {
   "cell_type": "code",
   "execution_count": 95,
   "metadata": {},
   "outputs": [
    {
     "data": {
      "text/html": [
       "<table>\n",
       "<thead>\n",
       "<tr><th style=\"text-align: right;\">  id</th><th>name       </th></tr>\n",
       "</thead>\n",
       "<tbody>\n",
       "<tr><td style=\"text-align: right;\">  10</td><td>hiponimia  </td></tr>\n",
       "<tr><td style=\"text-align: right;\">  11</td><td>hiperonimia</td></tr>\n",
       "<tr><td style=\"text-align: right;\">  12</td><td>antonimia  </td></tr>\n",
       "<tr><td style=\"text-align: right;\">  13</td><td>konwersja  </td></tr>\n",
       "<tr><td style=\"text-align: right;\">  14</td><td>meronimia  </td></tr>\n",
       "<tr><td style=\"text-align: right;\">  15</td><td>holonimia  </td></tr>\n",
       "<tr><td style=\"text-align: right;\">  19</td><td>fuzzynimia </td></tr>\n",
       "<tr><td style=\"text-align: right;\">  20</td><td>część      </td></tr>\n",
       "<tr><td style=\"text-align: right;\">  21</td><td>porcja     </td></tr>\n",
       "<tr><td style=\"text-align: right;\">  22</td><td>miejsce    </td></tr>\n",
       "</tbody>\n",
       "</table><p>Showing 10 of 187 rows"
      ],
      "text/plain": [
       "[Relation(id=10, name='hiponimia'), Relation(id=11, name='hiperonimia'), Relation(id=12, name='antonimia'), Relation(id=13, name='konwersja'), Relation(id=14, name='meronimia'), Relation(id=15, name='holonimia'), Relation(id=19, name='fuzzynimia'), Relation(id=20, name='część'), Relation(id=21, name='porcja'), Relation(id=22, name='miejsce'), Relation(id=23, name='element kolekcji'), Relation(id=24, name='materiał'), Relation(id=25, name='część'), Relation(id=26, name='porcja'), Relation(id=27, name='miejsce'), Relation(id=28, name='element kolekcji'), Relation(id=29, name='materiał'), Relation(id=30, name='synonimia'), Relation(id=32, name='rola'), Relation(id=33, name='zawieranie_roli'), Relation(id=34, name='agens|subiekt'), Relation(id=35, name='pacjens|obiekt'), Relation(id=36, name='narzędzie'), Relation(id=37, name='miejsce'), Relation(id=38, name='wytwór|rezultat'), Relation(id=39, name='czas'), Relation(id=40, name='podtyp nieokreślony'), Relation(id=41, name='zawieranie agensa|subiektu'), Relation(id=42, name='zawieranie pacjensa|obiektu'), Relation(id=43, name='zawieranie czasu'), Relation(id=44, name='zawieranie miejsca'), Relation(id=45, name='zawieranie narzędzia'), Relation(id=46, name='zawieranie wytworu | rezultatu'), Relation(id=47, name='podtyp nieokreślony'), Relation(id=48, name='agens przy niewyrażonym predykacie'), Relation(id=49, name='miejsce przy niewyrażonym predykacie'), Relation(id=50, name='wytwór | rezultat przy niewyrażonym predykacie'), Relation(id=51, name='nosiciel_stanu|cechy'), Relation(id=52, name='stan|cecha'), Relation(id=53, name='żeńskość'), Relation(id=54, name='nacechowanie'), Relation(id=55, name='istota młoda'), Relation(id=56, name='deminutywność'), Relation(id=57, name='ekspresywność | augmentatywność'), Relation(id=58, name='mieszkaniec'), Relation(id=59, name='derywacyjność'), Relation(id=60, name='bliskoznaczność'), Relation(id=61, name='synonimia_międzyparadygmatyczna'), Relation(id=62, name='synonimia międzyparadygmatyczna N-V'), Relation(id=63, name='synonimia międzyparadygmatyczna N-ADJ'), Relation(id=64, name='element taksonomiczny'), Relation(id=65, name='element taksonomiczny'), Relation(id=73, name='aspektowość'), Relation(id=74, name='aspektowość czysta DK-NDK'), Relation(id=75, name='aspektowość czysta NDK-DK'), Relation(id=80, name='kauzacja'), Relation(id=86, name='procesywność'), Relation(id=89, name='procesywność V_NDK-Adj'), Relation(id=90, name='procesywność V_NDK-N'), Relation(id=91, name='stanowość'), Relation(id=92, name='stanowość V-Adj'), Relation(id=93, name='stanowość V-N'), Relation(id=101, name='antonimia komplementarna'), Relation(id=102, name='forma kanoniczna'), Relation(id=104, name='antonimia właściwa'), Relation(id=106, name='typ'), Relation(id=107, name='egzemplarz'), Relation(id=108, name='fuzzynimia_synsetów'), Relation(id=110, name='aspektowość wtórna DK-NDK'), Relation(id=111, name='aspektowość wtórna NDK-DK'), Relation(id=112, name='meronimia_czasownikowa'), Relation(id=113, name='meronimia podsytuacji'), Relation(id=114, name='meronimia sytuacji towarzyszącej'), Relation(id=115, name='holonimia_czasownikowa'), Relation(id=116, name='holonimia podsytuacji'), Relation(id=117, name='holonimia sytuacji towarzyszącej'), Relation(id=118, name='procesywność V_DK-Adj'), Relation(id=119, name='procesywność V_DK-N'), Relation(id=120, name='kauzacja NDK-NDK'), Relation(id=121, name='kauzacja DK-DK'), Relation(id=122, name='kauzacja stanu DK-NDK'), Relation(id=124, name='kauzacja procesu DK-Adj'), Relation(id=125, name='kauzacja procesu DK-N'), Relation(id=126, name='kauzacja procesu NDK-Adj'), Relation(id=127, name='kauzacja procesu NDK-N'), Relation(id=128, name='inchoatywność'), Relation(id=129, name='inchoatywność DK-NDK'), Relation(id=130, name='inchoatywność NDK-NDK'), Relation(id=131, name='zwrotność'), Relation(id=132, name='wzajemność'), Relation(id=133, name='wielokrotność'), Relation(id=134, name='iteratywność NDK-NDK'), Relation(id=136, name='dystrybutywność'), Relation(id=137, name='presupozycja'), Relation(id=138, name='uprzedniość'), Relation(id=140, name='iteratywność NDK-DK'), Relation(id=141, name='synonimia międzyparadygmatyczna V-N'), Relation(id=142, name='synonimia międzyparadygmatyczna ADJ-N'), Relation(id=143, name='synonimia międzyparadygmatyczna V-Pact'), Relation(id=144, name='synonimia międzyparadygmatyczna Pact-V'), ...]"
      ]
     },
     "execution_count": 95,
     "metadata": {},
     "output_type": "execute_result"
    }
   ],
   "source": [
    "#find hypernyme relation id\n",
    "Relation= namedtuple(\"Relation\",\"id, name\")\n",
    "def relations():\n",
    "    return seq(r.get(base+ \"/relationTypes\").json()).map(lambda entry: Relation(id=entry['id'],name= entry['name']))\n",
    "relations()"
   ]
  },
  {
   "cell_type": "code",
   "execution_count": 79,
   "metadata": {},
   "outputs": [],
   "source": [
    "hyperonymy_id = 11"
   ]
  },
  {
   "cell_type": "code",
   "execution_count": 138,
   "metadata": {},
   "outputs": [],
   "source": [
    "def sense_relations(senseid):\n",
    "    return r.get(base+ \"/senses/{}/relations/type/11\".format(senseid)).json()\n",
    "#     return r.get(base+ \"/senses/{}/relations/from\".format(senseid)).json()\n",
    "#     return r.get(base+ \"/senses/{}/relations/to\".format(senseid)).json()"
   ]
  },
  {
   "cell_type": "code",
   "execution_count": 136,
   "metadata": {},
   "outputs": [
    {
     "data": {
      "text/html": [
       "<table>\n",
       "<tbody>\n",
       "<tr><td>wypadek drogowy</td><td style=\"text-align: right;\">644786</td><td>plWN zdarzenia</td><td>noun</td><td style=\"text-align: right;\">1</td></tr>\n",
       "</tbody>\n",
       "</table>"
      ],
      "text/plain": [
       "[{'lemma': 'wypadek drogowy', 'id': 644786, 'domain': 'plWN zdarzenia', 'partOfSpeech': 'noun', 'sense': 1}]"
      ]
     },
     "execution_count": 136,
     "metadata": {},
     "output_type": "execute_result"
    }
   ],
   "source": [
    "senses_search(\"wypadek drogowy\").map(trim_sense)"
   ]
  },
  {
   "cell_type": "code",
   "execution_count": 137,
   "metadata": {},
   "outputs": [
    {
     "data": {
      "text/plain": [
       "[]"
      ]
     },
     "execution_count": 137,
     "metadata": {},
     "output_type": "execute_result"
    }
   ],
   "source": [
    "sense_relations(644786)#.map(lambda entry: entry['relation']['id'])"
   ]
  },
  {
   "cell_type": "markdown",
   "metadata": {},
   "source": [
    "5\\. Find direct **hyponyms** of _wypadek<sub>1</sub>_ noun.\n",
    "\n",
    "6\\. Find second-order **hyponyms** of the same noun.\n",
    "\n",
    "7\\. Display as a directed graph (with labels for the edges) semantic relations between the following groups of lexemes:\n",
    "   1. szkoda<sub>2</sub>, strata<sub>1</sub>, uszczerbek<sub>1</sub>, szkoda majątkowa<sub>1</sub>, \n",
    "      uszczerbek na zdrowiu<sub>1</sub>, krzywda<sub>1</sub>, niesprawiedliwość<sub>1</sub>, nieszczęście<sub>2</sub>.\n",
    "   1. wypadek<sub>1</sub>, wypadek komunikacyjny<sub>1</sub>, kolizja<sub>2</sub>, zderzenie<sub>2</sub>,\n",
    "      kolizja drogowa<sub>1</sub>, bezkolizyjny<sub>2</sub>, katastrofa budowlana<sub>1</sub>, wypadek\n",
    "      drogowy<sub>1</sub>.\n",
    "      \n",
    "8\\. Find the value of [Leacock-Chodorow semantic similarity measure](ftp://www-vhost.cs.toronto.edu/public_html/public_html/pub/gh/Budanitsky+Hirst-2001.pdf)\n",
    "   between following pairs of lexemes:\n",
    "   1. szkoda<sub>2</sub> - wypadek<sub>1</sub>,\n",
    "   1. kolizja<sub>2</sub> - szkoda majątkowa<sub>1</sub>,\n",
    "   1. nieszczęście<sub>2</sub> - katastrofa budowlana<sub>1</sub>."
   ]
  },
  {
   "cell_type": "code",
   "execution_count": null,
   "metadata": {},
   "outputs": [],
   "source": []
  },
  {
   "cell_type": "code",
   "execution_count": null,
   "metadata": {},
   "outputs": [],
   "source": []
  },
  {
   "cell_type": "code",
   "execution_count": null,
   "metadata": {},
   "outputs": [],
   "source": []
  }
 ],
 "metadata": {
  "kernelspec": {
   "display_name": "Python 3",
   "language": "python",
   "name": "python3"
  },
  "language_info": {
   "codemirror_mode": {
    "name": "ipython",
    "version": 3
   },
   "file_extension": ".py",
   "mimetype": "text/x-python",
   "name": "python",
   "nbconvert_exporter": "python",
   "pygments_lexer": "ipython3",
   "version": "3.6.7"
  }
 },
 "nbformat": 4,
 "nbformat_minor": 2
}
