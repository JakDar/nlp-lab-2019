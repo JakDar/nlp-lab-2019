{
 "cells": [
  {
   "cell_type": "markdown",
   "metadata": {},
   "source": [
    "# Lab6 - WordNet"
   ]
  },
  {
   "cell_type": "code",
   "execution_count": 1,
   "metadata": {},
   "outputs": [],
   "source": [
    "import requests as r\n",
    "from functional import seq\n",
    "from collections import namedtuple\n",
    "from typing import Dict,List,Tuple, Optional\n",
    "import matplotlib.pyplot as plt\n",
    "import numpy as np\n",
    "from fn import _\n",
    "base =\"http://api.slowosiec.clarin-pl.eu/plwordnet-api\""
   ]
  },
  {
   "cell_type": "markdown",
   "metadata": {},
   "source": [
    "## 1. Read the [Wordnet API](http://api.slowosiec.clarin-pl.eu/docs/index.html)\n"
   ]
  },
  {
   "cell_type": "markdown",
   "metadata": {},
   "source": [
    "\n",
    "## 2\\. Get acquainted with [semantic relations](http://nlp.pwr.wroc.pl/narzedzia-i-zasoby/narzedzia/disaster/25-wiedza/81-relacje-w-slowosieci) in WordNet."
   ]
  },
  {
   "cell_type": "markdown",
   "metadata": {},
   "source": [
    "Nouns\n",
    " - hypernyms:\n",
    "     - supersets of sth - animal is hypernym of dog\n",
    "     - Y is a hypernym of X if every X is a (kind of) Y (canine is a hypernym of dog)\n",
    " - hyponyms:\n",
    "     - subsets\n",
    "     - Y is a hyponym of X if every Y is a (kind of) X (dog is a hyponym of canine)\n",
    " - coordinate terms:\n",
    "     - siblings\n",
    "     - Y is a coordinate term of X if X and Y share a hypernym (wolf is a coordinate term of dog, and dog is a coordinate term of wolf)\n",
    " - meronym:\n",
    "     - being a part of\n",
    "     - Y is a meronym of X if Y is a part of X (window is a meronym of building)\n",
    " - holonym:\n",
    "     - being a whole thing (...)\n",
    "     - Y is a holonym of X if X is a part of Y (building is a holonym of window)\n",
    "     \n",
    "     \n",
    "Verbs\n",
    "  - hypernym: \n",
    "      - supersets\n",
    "      - the verb Y is a hypernym of the verb X if the activity X is a (kind of) Y (to perceive is an hypernym of to listen)\n",
    "   - troponym:\n",
    "       - doing sth else is to some degree (?)\n",
    "       - the verb Y is a troponym of the verb X if the activity Y is doing X in some manner (to lisp is a troponym of to talk)\n",
    "  - entailment:\n",
    "        - the verb Y is entailed by X if by doing X you must be doing Y (to sleep is entailed by to snore)\n",
    "  - coordinate terms:\n",
    "      - siblings\n",
    "      - those verbs sharing a common hypernym (to lisp and to yell)"
   ]
  },
  {
   "cell_type": "markdown",
   "metadata": {},
   "source": [
    "## 3\\. Find all meaning of the _szkoda_ **noun** and display all their synonyms."
   ]
  },
  {
   "cell_type": "code",
   "execution_count": 2,
   "metadata": {},
   "outputs": [],
   "source": [
    "def senses_search(word):\n",
    "    return seq(r.get(base + \"/senses/search\",{\"lemma\":word}).json()['content'])"
   ]
  },
  {
   "cell_type": "code",
   "execution_count": 3,
   "metadata": {},
   "outputs": [],
   "source": [
    "json = senses_search(\"szkoda\")"
   ]
  },
  {
   "cell_type": "code",
   "execution_count": 4,
   "metadata": {},
   "outputs": [
    {
     "data": {
      "text/plain": [
       "{'domain': {'description': 'plWN miejsca i umiejscowienie',\n",
       "  'id': 12,\n",
       "  'lexicon': {'id': 1,\n",
       "   'language': 'pl',\n",
       "   'lexiconIdentifier': 'P 2.2',\n",
       "   'name': 'Słowosieć 2.2'},\n",
       "  'name': 'plWN_msc'},\n",
       " 'id': 8769,\n",
       " 'lemma': {'id': 249489, 'word': 'szkoda'},\n",
       " 'lexicon': {'id': 1,\n",
       "  'language': 'pl',\n",
       "  'lexiconIdentifier': 'P 2.2',\n",
       "  'name': 'Słowosieć 2.2'},\n",
       " 'partOfSpeech': {'id': 2,\n",
       "  'lexicon': {'id': 1,\n",
       "   'language': 'pl',\n",
       "   'lexiconIdentifier': 'P 2.2',\n",
       "   'name': 'Słowosieć 2.2'},\n",
       "  'lmfType': 'noun',\n",
       "  'name': 'plWN rzeczownik'},\n",
       " 'senseNumber': 1}"
      ]
     },
     "execution_count": 4,
     "metadata": {},
     "output_type": "execute_result"
    }
   ],
   "source": [
    "json[0]"
   ]
  },
  {
   "cell_type": "code",
   "execution_count": 5,
   "metadata": {},
   "outputs": [],
   "source": [
    "def trim_sense(field:Dict):\n",
    "    return {\n",
    "        'lemma':field['lemma']['word'],\n",
    "        'id':field['id'],\n",
    "        \"domain\":field['domain']['description'],\n",
    "        'partOfSpeech': field['partOfSpeech']['lmfType'],\n",
    "        'sense' : field['senseNumber']\n",
    "    }"
   ]
  },
  {
   "cell_type": "code",
   "execution_count": 6,
   "metadata": {},
   "outputs": [
    {
     "data": {
      "text/html": [
       "<table>\n",
       "<tbody>\n",
       "<tr><td>szkoda</td><td style=\"text-align: right;\">8769</td><td>plWN miejsca i umiejscowienie     </td><td>noun</td><td style=\"text-align: right;\">1</td></tr>\n",
       "<tr><td>szkoda</td><td style=\"text-align: right;\">8770</td><td>plWN czasowniki wyrażające uczucia</td><td>verb</td><td style=\"text-align: right;\">1</td></tr>\n",
       "<tr><td>szkoda</td><td style=\"text-align: right;\">8771</td><td>plWN posiadanie i jego zmiana     </td><td>noun</td><td style=\"text-align: right;\">2</td></tr>\n",
       "</tbody>\n",
       "</table>"
      ],
      "text/plain": [
       "[{'lemma': 'szkoda', 'id': 8769, 'domain': 'plWN miejsca i umiejscowienie', 'partOfSpeech': 'noun', 'sense': 1}, {'lemma': 'szkoda', 'id': 8770, 'domain': 'plWN czasowniki wyrażające uczucia', 'partOfSpeech': 'verb', 'sense': 1}, {'lemma': 'szkoda', 'id': 8771, 'domain': 'plWN posiadanie i jego zmiana', 'partOfSpeech': 'noun', 'sense': 2}]"
      ]
     },
     "execution_count": 6,
     "metadata": {},
     "output_type": "execute_result"
    }
   ],
   "source": [
    "entries = seq(json).map(trim_sense)\n",
    "entries"
   ]
  },
  {
   "cell_type": "code",
   "execution_count": 7,
   "metadata": {},
   "outputs": [],
   "source": [
    "def synsetid_for_sense(senseid):\n",
    "    return r.get(base+ \"/senses/{}/synset\".format(senseid)).json()['id']\n",
    "\n",
    "def synset_by_id(synsetid):\n",
    "    return r.get(base+ \"/synsets/{}/senses\".format(synsetid)).json()\n",
    "\n",
    "\n",
    "\n",
    "def synonyms(senseid): \n",
    "    return seq(synset_by_id(synsetid_for_sense(senseid))).map(trim_sense)"
   ]
  },
  {
   "cell_type": "code",
   "execution_count": 8,
   "metadata": {},
   "outputs": [
    {
     "data": {
      "text/html": [
       "<table>\n",
       "<tbody>\n",
       "<tr><td>szkoda</td><td style=\"text-align: right;\">8769</td><td>plWN miejsca i umiejscowienie</td><td>noun</td><td style=\"text-align: right;\">1</td></tr>\n",
       "</tbody>\n",
       "</table>"
      ],
      "text/plain": [
       "[{'lemma': 'szkoda', 'id': 8769, 'domain': 'plWN miejsca i umiejscowienie', 'partOfSpeech': 'noun', 'sense': 1}]"
      ]
     },
     "execution_count": 8,
     "metadata": {},
     "output_type": "execute_result"
    }
   ],
   "source": [
    "synonyms(8769)"
   ]
  },
  {
   "cell_type": "code",
   "execution_count": 9,
   "metadata": {},
   "outputs": [
    {
     "data": {
      "text/html": [
       "<table>\n",
       "<tbody>\n",
       "<tr><td>szkoda </td><td style=\"text-align: right;\">  8770</td><td>plWN czasowniki wyrażające uczucia</td><td>verb</td><td style=\"text-align: right;\">1</td></tr>\n",
       "<tr><td>żałować</td><td style=\"text-align: right;\"> 11379</td><td>plWN czasowniki wyrażające uczucia</td><td>verb</td><td style=\"text-align: right;\">3</td></tr>\n",
       "<tr><td>żal    </td><td style=\"text-align: right;\">143137</td><td>plWN czasowniki wyrażające uczucia</td><td>verb</td><td style=\"text-align: right;\">1</td></tr>\n",
       "</tbody>\n",
       "</table>"
      ],
      "text/plain": [
       "[{'lemma': 'szkoda', 'id': 8770, 'domain': 'plWN czasowniki wyrażające uczucia', 'partOfSpeech': 'verb', 'sense': 1}, {'lemma': 'żałować', 'id': 11379, 'domain': 'plWN czasowniki wyrażające uczucia', 'partOfSpeech': 'verb', 'sense': 3}, {'lemma': 'żal', 'id': 143137, 'domain': 'plWN czasowniki wyrażające uczucia', 'partOfSpeech': 'verb', 'sense': 1}]"
      ]
     },
     "execution_count": 9,
     "metadata": {},
     "output_type": "execute_result"
    }
   ],
   "source": [
    "synonyms(8770)"
   ]
  },
  {
   "cell_type": "code",
   "execution_count": 10,
   "metadata": {},
   "outputs": [
    {
     "data": {
      "text/html": [
       "<table>\n",
       "<tbody>\n",
       "<tr><td>strata    </td><td style=\"text-align: right;\"> 8495</td><td>plWN zdarzenia               </td><td>noun</td><td style=\"text-align: right;\">1</td></tr>\n",
       "<tr><td>utrata    </td><td style=\"text-align: right;\"> 9582</td><td>plWN zdarzenia               </td><td>noun</td><td style=\"text-align: right;\">1</td></tr>\n",
       "<tr><td>szkoda    </td><td style=\"text-align: right;\"> 8771</td><td>plWN posiadanie i jego zmiana</td><td>noun</td><td style=\"text-align: right;\">2</td></tr>\n",
       "<tr><td>uszczerbek</td><td style=\"text-align: right;\">29762</td><td>plWN zdarzenia               </td><td>noun</td><td style=\"text-align: right;\">1</td></tr>\n",
       "</tbody>\n",
       "</table>"
      ],
      "text/plain": [
       "[{'lemma': 'strata', 'id': 8495, 'domain': 'plWN zdarzenia', 'partOfSpeech': 'noun', 'sense': 1}, {'lemma': 'utrata', 'id': 9582, 'domain': 'plWN zdarzenia', 'partOfSpeech': 'noun', 'sense': 1}, {'lemma': 'szkoda', 'id': 8771, 'domain': 'plWN posiadanie i jego zmiana', 'partOfSpeech': 'noun', 'sense': 2}, {'lemma': 'uszczerbek', 'id': 29762, 'domain': 'plWN zdarzenia', 'partOfSpeech': 'noun', 'sense': 1}]"
      ]
     },
     "execution_count": 10,
     "metadata": {},
     "output_type": "execute_result"
    }
   ],
   "source": [
    "synonyms(8771)"
   ]
  },
  {
   "cell_type": "markdown",
   "metadata": {},
   "source": [
    "## 4\\. Find closure of **hypernymy** relation for the first meaning of the _wypadek drogowy_ expression.\n",
    "   Create diagram of the relations as a directed graph.\n",
    "   "
   ]
  },
  {
   "cell_type": "code",
   "execution_count": 11,
   "metadata": {},
   "outputs": [
    {
     "data": {
      "text/html": [
       "<table>\n",
       "<thead>\n",
       "<tr><th style=\"text-align: right;\">  id</th><th>name       </th></tr>\n",
       "</thead>\n",
       "<tbody>\n",
       "<tr><td style=\"text-align: right;\">  10</td><td>hiponimia  </td></tr>\n",
       "<tr><td style=\"text-align: right;\">  11</td><td>hiperonimia</td></tr>\n",
       "<tr><td style=\"text-align: right;\">  12</td><td>antonimia  </td></tr>\n",
       "<tr><td style=\"text-align: right;\">  13</td><td>konwersja  </td></tr>\n",
       "<tr><td style=\"text-align: right;\">  14</td><td>meronimia  </td></tr>\n",
       "<tr><td style=\"text-align: right;\">  15</td><td>holonimia  </td></tr>\n",
       "<tr><td style=\"text-align: right;\">  19</td><td>fuzzynimia </td></tr>\n",
       "<tr><td style=\"text-align: right;\">  20</td><td>część      </td></tr>\n",
       "<tr><td style=\"text-align: right;\">  21</td><td>porcja     </td></tr>\n",
       "<tr><td style=\"text-align: right;\">  22</td><td>miejsce    </td></tr>\n",
       "</tbody>\n",
       "</table><p>Showing 10 of 187 rows"
      ],
      "text/plain": [
       "[RelationType(id=10, name='hiponimia'), RelationType(id=11, name='hiperonimia'), RelationType(id=12, name='antonimia'), RelationType(id=13, name='konwersja'), RelationType(id=14, name='meronimia'), RelationType(id=15, name='holonimia'), RelationType(id=19, name='fuzzynimia'), RelationType(id=20, name='część'), RelationType(id=21, name='porcja'), RelationType(id=22, name='miejsce'), RelationType(id=23, name='element kolekcji'), RelationType(id=24, name='materiał'), RelationType(id=25, name='część'), RelationType(id=26, name='porcja'), RelationType(id=27, name='miejsce'), RelationType(id=28, name='element kolekcji'), RelationType(id=29, name='materiał'), RelationType(id=30, name='synonimia'), RelationType(id=32, name='rola'), RelationType(id=33, name='zawieranie_roli'), RelationType(id=34, name='agens|subiekt'), RelationType(id=35, name='pacjens|obiekt'), RelationType(id=36, name='narzędzie'), RelationType(id=37, name='miejsce'), RelationType(id=38, name='wytwór|rezultat'), RelationType(id=39, name='czas'), RelationType(id=40, name='podtyp nieokreślony'), RelationType(id=41, name='zawieranie agensa|subiektu'), RelationType(id=42, name='zawieranie pacjensa|obiektu'), RelationType(id=43, name='zawieranie czasu'), RelationType(id=44, name='zawieranie miejsca'), RelationType(id=45, name='zawieranie narzędzia'), RelationType(id=46, name='zawieranie wytworu | rezultatu'), RelationType(id=47, name='podtyp nieokreślony'), RelationType(id=48, name='agens przy niewyrażonym predykacie'), RelationType(id=49, name='miejsce przy niewyrażonym predykacie'), RelationType(id=50, name='wytwór | rezultat przy niewyrażonym predykacie'), RelationType(id=51, name='nosiciel_stanu|cechy'), RelationType(id=52, name='stan|cecha'), RelationType(id=53, name='żeńskość'), RelationType(id=54, name='nacechowanie'), RelationType(id=55, name='istota młoda'), RelationType(id=56, name='deminutywność'), RelationType(id=57, name='ekspresywność | augmentatywność'), RelationType(id=58, name='mieszkaniec'), RelationType(id=59, name='derywacyjność'), RelationType(id=60, name='bliskoznaczność'), RelationType(id=61, name='synonimia_międzyparadygmatyczna'), RelationType(id=62, name='synonimia międzyparadygmatyczna N-V'), RelationType(id=63, name='synonimia międzyparadygmatyczna N-ADJ'), RelationType(id=64, name='element taksonomiczny'), RelationType(id=65, name='element taksonomiczny'), RelationType(id=73, name='aspektowość'), RelationType(id=74, name='aspektowość czysta DK-NDK'), RelationType(id=75, name='aspektowość czysta NDK-DK'), RelationType(id=80, name='kauzacja'), RelationType(id=86, name='procesywność'), RelationType(id=89, name='procesywność V_NDK-Adj'), RelationType(id=90, name='procesywność V_NDK-N'), RelationType(id=91, name='stanowość'), RelationType(id=92, name='stanowość V-Adj'), RelationType(id=93, name='stanowość V-N'), RelationType(id=101, name='antonimia komplementarna'), RelationType(id=102, name='forma kanoniczna'), RelationType(id=104, name='antonimia właściwa'), RelationType(id=106, name='typ'), RelationType(id=107, name='egzemplarz'), RelationType(id=108, name='fuzzynimia_synsetów'), RelationType(id=110, name='aspektowość wtórna DK-NDK'), RelationType(id=111, name='aspektowość wtórna NDK-DK'), RelationType(id=112, name='meronimia_czasownikowa'), RelationType(id=113, name='meronimia podsytuacji'), RelationType(id=114, name='meronimia sytuacji towarzyszącej'), RelationType(id=115, name='holonimia_czasownikowa'), RelationType(id=116, name='holonimia podsytuacji'), RelationType(id=117, name='holonimia sytuacji towarzyszącej'), RelationType(id=118, name='procesywność V_DK-Adj'), RelationType(id=119, name='procesywność V_DK-N'), RelationType(id=120, name='kauzacja NDK-NDK'), RelationType(id=121, name='kauzacja DK-DK'), RelationType(id=122, name='kauzacja stanu DK-NDK'), RelationType(id=124, name='kauzacja procesu DK-Adj'), RelationType(id=125, name='kauzacja procesu DK-N'), RelationType(id=126, name='kauzacja procesu NDK-Adj'), RelationType(id=127, name='kauzacja procesu NDK-N'), RelationType(id=128, name='inchoatywność'), RelationType(id=129, name='inchoatywność DK-NDK'), RelationType(id=130, name='inchoatywność NDK-NDK'), RelationType(id=131, name='zwrotność'), RelationType(id=132, name='wzajemność'), RelationType(id=133, name='wielokrotność'), RelationType(id=134, name='iteratywność NDK-NDK'), RelationType(id=136, name='dystrybutywność'), RelationType(id=137, name='presupozycja'), RelationType(id=138, name='uprzedniość'), RelationType(id=140, name='iteratywność NDK-DK'), RelationType(id=141, name='synonimia międzyparadygmatyczna V-N'), RelationType(id=142, name='synonimia międzyparadygmatyczna ADJ-N'), RelationType(id=143, name='synonimia międzyparadygmatyczna V-Pact'), RelationType(id=144, name='synonimia międzyparadygmatyczna Pact-V'), ...]"
      ]
     },
     "execution_count": 11,
     "metadata": {},
     "output_type": "execute_result"
    }
   ],
   "source": [
    "#find hypernyme relation id\n",
    "RelationType= namedtuple(\"RelationType\",\"id, name\")\n",
    "def relationTypes():\n",
    "    return seq(r.get(base+ \"/relationTypes\").json()).map(lambda entry: RelationType(id=entry['id'],name= entry['name']))\n",
    "relationTypes()"
   ]
  },
  {
   "cell_type": "code",
   "execution_count": 12,
   "metadata": {},
   "outputs": [],
   "source": [
    "hyperonymy_id = 11"
   ]
  },
  {
   "cell_type": "code",
   "execution_count": 13,
   "metadata": {},
   "outputs": [
    {
     "data": {
      "text/plain": [
       "{'domain': 'plWN zdarzenia',\n",
       " 'id': 644786,\n",
       " 'lemma': 'wypadek drogowy',\n",
       " 'partOfSpeech': 'noun',\n",
       " 'sense': 1}"
      ]
     },
     "execution_count": 13,
     "metadata": {},
     "output_type": "execute_result"
    }
   ],
   "source": [
    "wypadek_drogowy_sense=senses_search(\"wypadek drogowy\").map(trim_sense).head()\n",
    "wypadek_drogowy_sense"
   ]
  },
  {
   "cell_type": "code",
   "execution_count": 14,
   "metadata": {},
   "outputs": [
    {
     "name": "stdout",
     "output_type": "stream",
     "text": [
      "410902\n"
     ]
    }
   ],
   "source": [
    "wypadek_syn= synsetid_for_sense(wypadek_drogowy_sense['id'])\n",
    "print(wypadek_syn)\n",
    "\n",
    "\n",
    "def synset_rel(synset,rel):\n",
    "    body = r.get(base+\"/synsets/{}/relations\".format(synset)).json()\n",
    "    return seq(body).find(lambda x: x['relation']['id']==rel and x['synsetFrom']['id']!= synset)\n",
    "\n",
    "def get_synset_from(relation_dict):\n",
    "    return  relation_dict['synsetFrom']['id']\n",
    "   \n",
    "    \n",
    "def synsets_to_the_top(acc,rel):\n",
    "    print(acc)\n",
    "    new_rel = synset_rel(acc[-1],rel)\n",
    "    if new_rel is None:\n",
    "        return acc\n",
    "    else:\n",
    "        new_synset= get_synset_from(new_rel)\n",
    "        acc.append(new_synset)\n",
    "        return synsets_to_the_top(acc,rel)"
   ]
  },
  {
   "cell_type": "code",
   "execution_count": 15,
   "metadata": {},
   "outputs": [
    {
     "data": {
      "text/plain": [
       "{'id': 27975,\n",
       " 'relation': {'autoReverse': True,\n",
       "  'description': 'Hipo-/hiperonimia to podstawowa relacja kształtująca hierarchiczną strukturę słownictwa.Jest to relacja, którą można określić jako implikację jednostronną. Hiperonimia jest relacją między jednostkami należącymi do tej samej klasy fleksyjnej.',\n",
       "  'displayText': '<x#> jest hiperonimem <y#>',\n",
       "  'id': 11,\n",
       "  'lexicon': {'id': 1,\n",
       "   'language': 'pl',\n",
       "   'lexiconIdentifier': 'P 2.2',\n",
       "   'name': 'Słowosieć 2.2'},\n",
       "  'multilingual': False,\n",
       "  'name': 'hiperonimia',\n",
       "  'shortDisplayText': 'hiper'},\n",
       " 'synsetFrom': {'id': 3982, 'split': 1},\n",
       " 'synsetTo': {'id': 410901, 'split': 1}}"
      ]
     },
     "execution_count": 15,
     "metadata": {},
     "output_type": "execute_result"
    }
   ],
   "source": [
    "synset_rel(410901,11)"
   ]
  },
  {
   "cell_type": "code",
   "execution_count": 16,
   "metadata": {},
   "outputs": [
    {
     "name": "stdout",
     "output_type": "stream",
     "text": [
      "[410902]\n",
      "[410902, 410901]\n",
      "[410902, 410901, 3982]\n",
      "[410902, 410901, 3982, 27419]\n",
      "[410902, 410901, 3982, 27419, 6526]\n"
     ]
    }
   ],
   "source": [
    "wypadek_hyp_closure =(synsets_to_the_top([wypadek_syn],hyperonymy_id))"
   ]
  },
  {
   "cell_type": "code",
   "execution_count": 17,
   "metadata": {},
   "outputs": [
    {
     "data": {
      "text/html": [
       "<table>\n",
       "<tbody>\n",
       "<tr><td>wypadek drogowy              </td><td>        </td><td>       </td><td>         </td></tr>\n",
       "<tr><td>wypadek komunikacyjny        </td><td>        </td><td>       </td><td>         </td></tr>\n",
       "<tr><td>wypadek                      </td><td>        </td><td>       </td><td>         </td></tr>\n",
       "<tr><td>zdarzenie oceniane negatywnie</td><td>        </td><td>       </td><td>         </td></tr>\n",
       "<tr><td>wydarzenie                   </td><td>historia</td><td>wypadek</td><td>zdarzenie</td></tr>\n",
       "</tbody>\n",
       "</table>"
      ],
      "text/plain": [
       "[['wypadek drogowy'], ['wypadek komunikacyjny'], ['wypadek'], ['zdarzenie oceniane negatywnie'], ['wydarzenie', 'historia', 'wypadek', 'zdarzenie']]"
      ]
     },
     "execution_count": 17,
     "metadata": {},
     "output_type": "execute_result"
    }
   ],
   "source": [
    "closure_senses = seq(wypadek_hyp_closure)\\\n",
    ".map(synset_by_id)\\\n",
    ".map(lambda senses:\n",
    "     seq(senses).map(lambda sense:sense['lemma']['word'])\n",
    "    )\n",
    "closure_senses"
   ]
  },
  {
   "cell_type": "code",
   "execution_count": 18,
   "metadata": {},
   "outputs": [
    {
     "data": {
      "text/plain": [
       "['wypadek drogowy']"
      ]
     },
     "execution_count": 18,
     "metadata": {},
     "output_type": "execute_result"
    }
   ],
   "source": [
    "closure_senses.head()"
   ]
  },
  {
   "cell_type": "code",
   "execution_count": 19,
   "metadata": {},
   "outputs": [],
   "source": [
    "import networkx as nx\n",
    "def draw_graph_line(G):\n",
    "    fig = plt.figure()\n",
    "    fig.set_size_inches(14,14)\n",
    "    pos = nx.layout.kamada_kawai_layout(G)\n",
    "    nx.draw(G,pos=pos)\n",
    "    nx.draw_networkx_labels(G,pos=pos)\n",
    "    plt.show()"
   ]
  },
  {
   "cell_type": "code",
   "execution_count": 20,
   "metadata": {},
   "outputs": [
    {
     "data": {
      "image/png": "[encoded data removed]",
      "text/plain": [
       "<Figure size 1008x1008 with 1 Axes>"
      ]
     },
     "metadata": {},
     "output_type": "display_data"
    }
   ],
   "source": [
    "synsets_strings = closure_senses.map(lambda words: seq(words).reduce(lambda x,y : x+\",\\n \"+y))\n",
    "\n",
    "nodeids = seq(range(0,synsets_strings.size()))\n",
    "g= nx.DiGraph()\n",
    "nodeids.for_each(g.add_node)\n",
    "init = nodeids.init()\n",
    "tail = nodeids.tail()\n",
    "\n",
    "init.zip(tail).for_each(lambda x : g.add_edge(x[0],x[1]))\n",
    "\n",
    "\n",
    "mapping = synsets_strings.zip_with_index().map(lambda x: (x[1],x[0])).to_dict()\n",
    "h= nx.relabel_nodes(g,mapping)\n",
    "draw_graph_line(h)"
   ]
  },
  {
   "cell_type": "markdown",
   "metadata": {},
   "source": [
    "## 5\\. Find direct **hyponyms** of _wypadek<sub>1</sub>_ noun."
   ]
  },
  {
   "cell_type": "code",
   "execution_count": 21,
   "metadata": {},
   "outputs": [
    {
     "data": {
      "text/plain": [
       "RelationType(id=10, name='hiponimia')"
      ]
     },
     "execution_count": 21,
     "metadata": {},
     "output_type": "execute_result"
    }
   ],
   "source": [
    "relationTypes().find(_.id ==10)"
   ]
  },
  {
   "cell_type": "code",
   "execution_count": 22,
   "metadata": {},
   "outputs": [
    {
     "data": {
      "text/html": [
       "<table>\n",
       "<tbody>\n",
       "<tr><td style=\"text-align: right;\"> 21890</td><td>{'id': 8, 'name': 'plWN_zdarz', 'description': 'plWN zdarzenia', 'lexicon': {'id': 1, 'name': 'Słowosieć 2.2', 'lexiconIdentifier': 'P 2.2', 'language': 'pl'}}               </td><td>{'id': 286391, 'word': 'wypadek'}              </td><td>{'id': 2, 'name': 'plWN rzeczownik', 'lexicon': {'id': 1, 'name': 'Słowosieć 2.2', 'lexiconIdentifier': 'P 2.2', 'language': 'pl'}, 'lmfType': 'noun'}</td><td style=\"text-align: right;\">1</td><td>{'id': 1, 'name': 'Słowosieć 2.2', 'lexiconIdentifier': 'P 2.2', 'language': 'pl'}</td></tr>\n",
       "<tr><td style=\"text-align: right;\"> 10426</td><td>{'id': 8, 'name': 'plWN_zdarz', 'description': 'plWN zdarzenia', 'lexicon': {'id': 1, 'name': 'Słowosieć 2.2', 'lexiconIdentifier': 'P 2.2', 'language': 'pl'}}               </td><td>{'id': 286391, 'word': 'wypadek'}              </td><td>{'id': 2, 'name': 'plWN rzeczownik', 'lexicon': {'id': 1, 'name': 'Słowosieć 2.2', 'lexiconIdentifier': 'P 2.2', 'language': 'pl'}, 'lmfType': 'noun'}</td><td style=\"text-align: right;\">2</td><td>{'id': 1, 'name': 'Słowosieć 2.2', 'lexiconIdentifier': 'P 2.2', 'language': 'pl'}</td></tr>\n",
       "<tr><td style=\"text-align: right;\"> 69514</td><td>{'id': 8, 'name': 'plWN_zdarz', 'description': 'plWN zdarzenia', 'lexicon': {'id': 1, 'name': 'Słowosieć 2.2', 'lexiconIdentifier': 'P 2.2', 'language': 'pl'}}               </td><td>{'id': 286391, 'word': 'wypadek'}              </td><td>{'id': 2, 'name': 'plWN rzeczownik', 'lexicon': {'id': 1, 'name': 'Słowosieć 2.2', 'lexiconIdentifier': 'P 2.2', 'language': 'pl'}, 'lmfType': 'noun'}</td><td style=\"text-align: right;\">3</td><td>{'id': 1, 'name': 'Słowosieć 2.2', 'lexiconIdentifier': 'P 2.2', 'language': 'pl'}</td></tr>\n",
       "<tr><td style=\"text-align: right;\">644786</td><td>{'id': 8, 'name': 'plWN_zdarz', 'description': 'plWN zdarzenia', 'lexicon': {'id': 1, 'name': 'Słowosieć 2.2', 'lexiconIdentifier': 'P 2.2', 'language': 'pl'}}               </td><td>{'id': 286392, 'word': 'wypadek drogowy'}      </td><td>{'id': 2, 'name': 'plWN rzeczownik', 'lexicon': {'id': 1, 'name': 'Słowosieć 2.2', 'lexiconIdentifier': 'P 2.2', 'language': 'pl'}, 'lmfType': 'noun'}</td><td style=\"text-align: right;\">1</td><td>{'id': 1, 'name': 'Słowosieć 2.2', 'lexiconIdentifier': 'P 2.2', 'language': 'pl'}</td></tr>\n",
       "<tr><td style=\"text-align: right;\">644778</td><td>{'id': 8, 'name': 'plWN_zdarz', 'description': 'plWN zdarzenia', 'lexicon': {'id': 1, 'name': 'Słowosieć 2.2', 'lexiconIdentifier': 'P 2.2', 'language': 'pl'}}               </td><td>{'id': 286393, 'word': 'wypadek komunikacyjny'}</td><td>{'id': 2, 'name': 'plWN rzeczownik', 'lexicon': {'id': 1, 'name': 'Słowosieć 2.2', 'lexiconIdentifier': 'P 2.2', 'language': 'pl'}, 'lmfType': 'noun'}</td><td style=\"text-align: right;\">1</td><td>{'id': 1, 'name': 'Słowosieć 2.2', 'lexiconIdentifier': 'P 2.2', 'language': 'pl'}</td></tr>\n",
       "<tr><td style=\"text-align: right;\"> 30231</td><td>{'id': 8, 'name': 'plWN_zdarz', 'description': 'plWN zdarzenia', 'lexicon': {'id': 1, 'name': 'Słowosieć 2.2', 'lexiconIdentifier': 'P 2.2', 'language': 'pl'}}               </td><td>{'id': 286394, 'word': 'wypadek losowy'}       </td><td>{'id': 2, 'name': 'plWN rzeczownik', 'lexicon': {'id': 1, 'name': 'Słowosieć 2.2', 'lexiconIdentifier': 'P 2.2', 'language': 'pl'}, 'lmfType': 'noun'}</td><td style=\"text-align: right;\">1</td><td>{'id': 1, 'name': 'Słowosieć 2.2', 'lexiconIdentifier': 'P 2.2', 'language': 'pl'}</td></tr>\n",
       "<tr><td style=\"text-align: right;\"> 67996</td><td>{'id': 8, 'name': 'plWN_zdarz', 'description': 'plWN zdarzenia', 'lexicon': {'id': 1, 'name': 'Słowosieć 2.2', 'lexiconIdentifier': 'P 2.2', 'language': 'pl'}}               </td><td>{'id': 286395, 'word': 'wypadek przy pracy'}   </td><td>{'id': 2, 'name': 'plWN rzeczownik', 'lexicon': {'id': 1, 'name': 'Słowosieć 2.2', 'lexiconIdentifier': 'P 2.2', 'language': 'pl'}, 'lmfType': 'noun'}</td><td style=\"text-align: right;\">1</td><td>{'id': 1, 'name': 'Słowosieć 2.2', 'lexiconIdentifier': 'P 2.2', 'language': 'pl'}</td></tr>\n",
       "<tr><td style=\"text-align: right;\"> 67995</td><td>{'id': 23, 'name': 'plWN_st', 'description': 'plWN sytuacje statyczne (stany)', 'lexicon': {'id': 1, 'name': 'Słowosieć 2.2', 'lexiconIdentifier': 'P 2.2', 'language': 'pl'}}</td><td>{'id': 286395, 'word': 'wypadek przy pracy'}   </td><td>{'id': 2, 'name': 'plWN rzeczownik', 'lexicon': {'id': 1, 'name': 'Słowosieć 2.2', 'lexiconIdentifier': 'P 2.2', 'language': 'pl'}, 'lmfType': 'noun'}</td><td style=\"text-align: right;\">2</td><td>{'id': 1, 'name': 'Słowosieć 2.2', 'lexiconIdentifier': 'P 2.2', 'language': 'pl'}</td></tr>\n",
       "</tbody>\n",
       "</table>"
      ],
      "text/plain": [
       "[{'id': 21890, 'domain': {'id': 8, 'name': 'plWN_zdarz', 'description': 'plWN zdarzenia', 'lexicon': {'id': 1, 'name': 'Słowosieć 2.2', 'lexiconIdentifier': 'P 2.2', 'language': 'pl'}}, 'lemma': {'id': 286391, 'word': 'wypadek'}, 'partOfSpeech': {'id': 2, 'name': 'plWN rzeczownik', 'lexicon': {'id': 1, 'name': 'Słowosieć 2.2', 'lexiconIdentifier': 'P 2.2', 'language': 'pl'}, 'lmfType': 'noun'}, 'senseNumber': 1, 'lexicon': {'id': 1, 'name': 'Słowosieć 2.2', 'lexiconIdentifier': 'P 2.2', 'language': 'pl'}}, {'id': 10426, 'domain': {'id': 8, 'name': 'plWN_zdarz', 'description': 'plWN zdarzenia', 'lexicon': {'id': 1, 'name': 'Słowosieć 2.2', 'lexiconIdentifier': 'P 2.2', 'language': 'pl'}}, 'lemma': {'id': 286391, 'word': 'wypadek'}, 'partOfSpeech': {'id': 2, 'name': 'plWN rzeczownik', 'lexicon': {'id': 1, 'name': 'Słowosieć 2.2', 'lexiconIdentifier': 'P 2.2', 'language': 'pl'}, 'lmfType': 'noun'}, 'senseNumber': 2, 'lexicon': {'id': 1, 'name': 'Słowosieć 2.2', 'lexiconIdentifier': 'P 2.2', 'language': 'pl'}}, {'id': 69514, 'domain': {'id': 8, 'name': 'plWN_zdarz', 'description': 'plWN zdarzenia', 'lexicon': {'id': 1, 'name': 'Słowosieć 2.2', 'lexiconIdentifier': 'P 2.2', 'language': 'pl'}}, 'lemma': {'id': 286391, 'word': 'wypadek'}, 'partOfSpeech': {'id': 2, 'name': 'plWN rzeczownik', 'lexicon': {'id': 1, 'name': 'Słowosieć 2.2', 'lexiconIdentifier': 'P 2.2', 'language': 'pl'}, 'lmfType': 'noun'}, 'senseNumber': 3, 'lexicon': {'id': 1, 'name': 'Słowosieć 2.2', 'lexiconIdentifier': 'P 2.2', 'language': 'pl'}}, {'id': 644786, 'domain': {'id': 8, 'name': 'plWN_zdarz', 'description': 'plWN zdarzenia', 'lexicon': {'id': 1, 'name': 'Słowosieć 2.2', 'lexiconIdentifier': 'P 2.2', 'language': 'pl'}}, 'lemma': {'id': 286392, 'word': 'wypadek drogowy'}, 'partOfSpeech': {'id': 2, 'name': 'plWN rzeczownik', 'lexicon': {'id': 1, 'name': 'Słowosieć 2.2', 'lexiconIdentifier': 'P 2.2', 'language': 'pl'}, 'lmfType': 'noun'}, 'senseNumber': 1, 'lexicon': {'id': 1, 'name': 'Słowosieć 2.2', 'lexiconIdentifier': 'P 2.2', 'language': 'pl'}}, {'id': 644778, 'domain': {'id': 8, 'name': 'plWN_zdarz', 'description': 'plWN zdarzenia', 'lexicon': {'id': 1, 'name': 'Słowosieć 2.2', 'lexiconIdentifier': 'P 2.2', 'language': 'pl'}}, 'lemma': {'id': 286393, 'word': 'wypadek komunikacyjny'}, 'partOfSpeech': {'id': 2, 'name': 'plWN rzeczownik', 'lexicon': {'id': 1, 'name': 'Słowosieć 2.2', 'lexiconIdentifier': 'P 2.2', 'language': 'pl'}, 'lmfType': 'noun'}, 'senseNumber': 1, 'lexicon': {'id': 1, 'name': 'Słowosieć 2.2', 'lexiconIdentifier': 'P 2.2', 'language': 'pl'}}, {'id': 30231, 'domain': {'id': 8, 'name': 'plWN_zdarz', 'description': 'plWN zdarzenia', 'lexicon': {'id': 1, 'name': 'Słowosieć 2.2', 'lexiconIdentifier': 'P 2.2', 'language': 'pl'}}, 'lemma': {'id': 286394, 'word': 'wypadek losowy'}, 'partOfSpeech': {'id': 2, 'name': 'plWN rzeczownik', 'lexicon': {'id': 1, 'name': 'Słowosieć 2.2', 'lexiconIdentifier': 'P 2.2', 'language': 'pl'}, 'lmfType': 'noun'}, 'senseNumber': 1, 'lexicon': {'id': 1, 'name': 'Słowosieć 2.2', 'lexiconIdentifier': 'P 2.2', 'language': 'pl'}}, {'id': 67996, 'domain': {'id': 8, 'name': 'plWN_zdarz', 'description': 'plWN zdarzenia', 'lexicon': {'id': 1, 'name': 'Słowosieć 2.2', 'lexiconIdentifier': 'P 2.2', 'language': 'pl'}}, 'lemma': {'id': 286395, 'word': 'wypadek przy pracy'}, 'partOfSpeech': {'id': 2, 'name': 'plWN rzeczownik', 'lexicon': {'id': 1, 'name': 'Słowosieć 2.2', 'lexiconIdentifier': 'P 2.2', 'language': 'pl'}, 'lmfType': 'noun'}, 'senseNumber': 1, 'lexicon': {'id': 1, 'name': 'Słowosieć 2.2', 'lexiconIdentifier': 'P 2.2', 'language': 'pl'}}, {'id': 67995, 'domain': {'id': 23, 'name': 'plWN_st', 'description': 'plWN sytuacje statyczne (stany)', 'lexicon': {'id': 1, 'name': 'Słowosieć 2.2', 'lexiconIdentifier': 'P 2.2', 'language': 'pl'}}, 'lemma': {'id': 286395, 'word': 'wypadek przy pracy'}, 'partOfSpeech': {'id': 2, 'name': 'plWN rzeczownik', 'lexicon': {'id': 1, 'name': 'Słowosieć 2.2', 'lexiconIdentifier': 'P 2.2', 'language': 'pl'}, 'lmfType': 'noun'}, 'senseNumber': 2, 'lexicon': {'id': 1, 'name': 'Słowosieć 2.2', 'lexiconIdentifier': 'P 2.2', 'language': 'pl'}}]"
      ]
     },
     "execution_count": 22,
     "metadata": {},
     "output_type": "execute_result"
    }
   ],
   "source": [
    "senses_search(\"wypadek\")"
   ]
  },
  {
   "cell_type": "code",
   "execution_count": 23,
   "metadata": {},
   "outputs": [
    {
     "data": {
      "text/html": [
       "<table>\n",
       "<tbody>\n",
       "<tr><td>zawał   </td><td>         </td><td>      </td></tr>\n",
       "<tr><td>stłuczka</td><td>zderzenie</td><td>kraksa</td></tr>\n",
       "<tr><td>zajście </td><td>         </td><td>      </td></tr>\n",
       "</tbody>\n",
       "</table>"
      ],
      "text/plain": [
       "[['zawał'], ['stłuczka', 'zderzenie', 'kraksa'], ['zajście']]"
      ]
     },
     "execution_count": 23,
     "metadata": {},
     "output_type": "execute_result"
    }
   ],
   "source": [
    "wypadek_sense_ids= seq([21890,10426,69514])\n",
    "wypadek_synset_ids = wypadek_sense_ids.map(synsetid_for_sense)\n",
    "\n",
    "def synsetids_for_sysnset_rel(synsetids,rel):\n",
    "    return synsetids.map(lambda synset: synset_rel(synset,rel))\\\n",
    "    .map(get_synset_from)\n",
    "\n",
    "def words_for_synsetid_seq(synsetidseq):\n",
    "    return synsetidseq\\\n",
    "    .map(lambda synsetid: \n",
    "         seq(synset_by_id(synsetid)).map(lambda sense: sense['lemma']['word'])\n",
    "        )\n",
    "words_for_synsetid_seq(\n",
    "    synsetids_for_sysnset_rel(\n",
    "        wypadek_synset_ids,\n",
    "        10\n",
    "    )\n",
    ")"
   ]
  },
  {
   "cell_type": "markdown",
   "metadata": {},
   "source": [
    "## 6\\. Find second-order **hyponyms** of the same noun."
   ]
  },
  {
   "cell_type": "code",
   "execution_count": 24,
   "metadata": {},
   "outputs": [
    {
     "data": {
      "text/html": [
       "<table>\n",
       "<tbody>\n",
       "<tr><td>obwał   </td><td>                 </td><td>     </td><td>     </td><td>          </td><td>          </td><td>         </td><td>           </td><td>         </td><td>            </td><td>       </td><td>        </td></tr>\n",
       "<tr><td>czołówka</td><td>zderzenie czołowe</td><td>     </td><td>     </td><td>          </td><td>          </td><td>         </td><td>           </td><td>         </td><td>            </td><td>       </td><td>        </td></tr>\n",
       "<tr><td>bójka   </td><td>bijatyka         </td><td>bitka</td><td>bitwa</td><td>łomotanina</td><td>mordobicie</td><td>nawalanka</td><td>przewalanka</td><td>rękoczyny</td><td>rozpierducha</td><td>rozróba</td><td>rozróbka</td></tr>\n",
       "</tbody>\n",
       "</table>"
      ],
      "text/plain": [
       "[['obwał'], ['czołówka', 'zderzenie czołowe'], ['bójka', 'bijatyka', 'bitka', 'bitwa', 'łomotanina', 'mordobicie', 'nawalanka', 'przewalanka', 'rękoczyny', 'rozpierducha', 'rozróba', 'rozróbka']]"
      ]
     },
     "execution_count": 24,
     "metadata": {},
     "output_type": "execute_result"
    }
   ],
   "source": [
    "first_order = synsetids_for_sysnset_rel(wypadek_synset_ids,10)\n",
    "second_order = synsetids_for_sysnset_rel(first_order,10)\n",
    "words_for_synsetid_seq(second_order)"
   ]
  },
  {
   "cell_type": "markdown",
   "metadata": {},
   "source": [
    "## 7\\. Display as a directed graph (with labels for the edges) semantic relations between the following groups of lexemes:"
   ]
  },
  {
   "cell_type": "markdown",
   "metadata": {},
   "source": [
    "   a) szkoda<sub>2</sub>, strata<sub>1</sub>, uszczerbek<sub>1</sub>, szkoda majątkowa<sub>1</sub>, \n",
    "      uszczerbek na zdrowiu<sub>1</sub>, krzywda<sub>1</sub>, niesprawiedliwość<sub>1</sub>, nieszczęście<sub>2</sub>."
   ]
  },
  {
   "cell_type": "code",
   "execution_count": 25,
   "metadata": {},
   "outputs": [],
   "source": [
    "LemmaWithIndex=namedtuple(\"LemmaWithIndex\",\"lemma index\")\n",
    "words = [\n",
    "    LemmaWithIndex(lemma=\"szkoda\", index=2),\n",
    "    LemmaWithIndex(lemma=\"strata\", index=1),\n",
    "    LemmaWithIndex(lemma=\"uszczerbek\", index=1),\n",
    "#     LemmaWithIndex(lemma=\"szkoda majątkowa\", index=1),  #Cannot find it\n",
    "    LemmaWithIndex(lemma=\"uszczerbek na zdrowiu\", index=1),\n",
    "    LemmaWithIndex(lemma=\"krzywda\", index=1),\n",
    "    LemmaWithIndex(lemma=\"niesprawiedliwość\", index=1),\n",
    "    LemmaWithIndex(lemma=\"nieszczęście\", index=2)\n",
    "]\n"
   ]
  },
  {
   "cell_type": "code",
   "execution_count": 26,
   "metadata": {},
   "outputs": [],
   "source": [
    "Sense=namedtuple(\"Sense\",\"lemma id\")"
   ]
  },
  {
   "cell_type": "code",
   "execution_count": 27,
   "metadata": {},
   "outputs": [
    {
     "data": {
      "text/plain": [
       "Sense(lemma='szkoda', id=8771)"
      ]
     },
     "execution_count": 27,
     "metadata": {},
     "output_type": "execute_result"
    }
   ],
   "source": [
    "def senseid_for_lemma_with_index(lemma:LemmaWithIndex)-> Sense:\n",
    "    sense = seq(senses_search(lemma.lemma)).find(lambda json: json['senseNumber']== lemma.index)\n",
    "    if sense is None:\n",
    "        msg =\"Sense not found for {}\".format(lemma)\n",
    "        raise msg\n",
    "    return Sense(lemma= lemma.lemma, id= sense['id'])\n",
    "senseid_for_lemma_with_index(words[0])"
   ]
  },
  {
   "cell_type": "code",
   "execution_count": 28,
   "metadata": {},
   "outputs": [
    {
     "data": {
      "text/html": [
       "<table>\n",
       "<thead>\n",
       "<tr><th>lemma                </th><th style=\"text-align: right;\">   id</th></tr>\n",
       "</thead>\n",
       "<tbody>\n",
       "<tr><td>szkoda               </td><td style=\"text-align: right;\"> 8771</td></tr>\n",
       "<tr><td>strata               </td><td style=\"text-align: right;\"> 8495</td></tr>\n",
       "<tr><td>uszczerbek           </td><td style=\"text-align: right;\">29762</td></tr>\n",
       "<tr><td>uszczerbek na zdrowiu</td><td style=\"text-align: right;\">67978</td></tr>\n",
       "<tr><td>krzywda              </td><td style=\"text-align: right;\"> 2967</td></tr>\n",
       "<tr><td>niesprawiedliwość    </td><td style=\"text-align: right;\"> 4278</td></tr>\n",
       "<tr><td>nieszczęście         </td><td style=\"text-align: right;\">12324</td></tr>\n",
       "</tbody>\n",
       "</table>"
      ],
      "text/plain": [
       "[Sense(lemma='szkoda', id=8771), Sense(lemma='strata', id=8495), Sense(lemma='uszczerbek', id=29762), Sense(lemma='uszczerbek na zdrowiu', id=67978), Sense(lemma='krzywda', id=2967), Sense(lemma='niesprawiedliwość', id=4278), Sense(lemma='nieszczęście', id=12324)]"
      ]
     },
     "execution_count": 28,
     "metadata": {},
     "output_type": "execute_result"
    }
   ],
   "source": [
    "senses = seq(words).map(senseid_for_lemma_with_index) # Seq[Sense]\n",
    "senses"
   ]
  },
  {
   "cell_type": "code",
   "execution_count": 29,
   "metadata": {},
   "outputs": [
    {
     "data": {
      "text/html": [
       "<table>\n",
       "<thead>\n",
       "<tr><th>example                                       </th><th style=\"text-align: right;\">   id</th></tr>\n",
       "</thead>\n",
       "<tbody>\n",
       "<tr><td>Sense(lemma='szkoda', id=8771)                </td><td style=\"text-align: right;\"> 3675</td></tr>\n",
       "<tr><td>Sense(lemma='strata', id=8495)                </td><td style=\"text-align: right;\"> 3675</td></tr>\n",
       "<tr><td>Sense(lemma='uszczerbek', id=29762)           </td><td style=\"text-align: right;\"> 3675</td></tr>\n",
       "<tr><td>Sense(lemma='uszczerbek na zdrowiu', id=67978)</td><td style=\"text-align: right;\">46769</td></tr>\n",
       "<tr><td>Sense(lemma='krzywda', id=2967)               </td><td style=\"text-align: right;\"> 1439</td></tr>\n",
       "<tr><td>Sense(lemma='niesprawiedliwość', id=4278)     </td><td style=\"text-align: right;\"> 1439</td></tr>\n",
       "<tr><td>Sense(lemma='nieszczęście', id=12324)         </td><td style=\"text-align: right;\"> 5640</td></tr>\n",
       "</tbody>\n",
       "</table>"
      ],
      "text/plain": [
       "[Synset(example=Sense(lemma='szkoda', id=8771), id=3675), Synset(example=Sense(lemma='strata', id=8495), id=3675), Synset(example=Sense(lemma='uszczerbek', id=29762), id=3675), Synset(example=Sense(lemma='uszczerbek na zdrowiu', id=67978), id=46769), Synset(example=Sense(lemma='krzywda', id=2967), id=1439), Synset(example=Sense(lemma='niesprawiedliwość', id=4278), id=1439), Synset(example=Sense(lemma='nieszczęście', id=12324), id=5640)]"
      ]
     },
     "execution_count": 29,
     "metadata": {},
     "output_type": "execute_result"
    }
   ],
   "source": [
    "Synset=namedtuple(\"Synset\",\"example id\")\n",
    "synsets = senses.map(lambda sense: Synset(example = sense, id = synsetid_for_sense(sense.id)))\n",
    "synset_ids = synsets.map(_.id).distinct()\n",
    "synsets"
   ]
  },
  {
   "cell_type": "code",
   "execution_count": 30,
   "metadata": {},
   "outputs": [],
   "source": [
    "Relation = namedtuple(\"Relation\", \"synset_from synset_to rel_id\")\n",
    "\n",
    "def synset_rels(synsetid:int):\n",
    "    body = r.get(base+\"/synsets/{}/relations\".format(synsetid)).json()\n",
    "    return seq(body)\\\n",
    "    .map(lambda x:\n",
    "         Relation(synset_from =x['synsetFrom']['id'], synset_to =x['synsetTo']['id'], rel_id = x['relation']['id'])\n",
    "        )\n",
    "    \n",
    "    \n",
    "def relations_with_selected(synsetid:int, selected): #Seq[Relation]\n",
    "    not_me = selected.filter_not(_ == synsetid)\n",
    "    return synset_rels(synsetid).filter(lambda syn: syn.synset_from in not_me or syn.synset_to in not_me )\n",
    "\n",
    "\n",
    "relations = synset_ids.flat_map(lambda syn: relations_with_selected(syn,synset_ids)).distinct()"
   ]
  },
  {
   "cell_type": "code",
   "execution_count": 31,
   "metadata": {},
   "outputs": [
    {
     "data": {
      "text/html": [
       "<table>\n",
       "<thead>\n",
       "<tr><th style=\"text-align: right;\">  synset_from</th><th style=\"text-align: right;\">  synset_to</th><th style=\"text-align: right;\">  rel_id</th></tr>\n",
       "</thead>\n",
       "<tbody>\n",
       "<tr><td style=\"text-align: right;\">         5640</td><td style=\"text-align: right;\">       1439</td><td style=\"text-align: right;\">      11</td></tr>\n",
       "<tr><td style=\"text-align: right;\">         3675</td><td style=\"text-align: right;\">      46769</td><td style=\"text-align: right;\">      11</td></tr>\n",
       "<tr><td style=\"text-align: right;\">         1439</td><td style=\"text-align: right;\">       3675</td><td style=\"text-align: right;\">      10</td></tr>\n",
       "<tr><td style=\"text-align: right;\">         3675</td><td style=\"text-align: right;\">       1439</td><td style=\"text-align: right;\">      11</td></tr>\n",
       "<tr><td style=\"text-align: right;\">        46769</td><td style=\"text-align: right;\">       3675</td><td style=\"text-align: right;\">      10</td></tr>\n",
       "<tr><td style=\"text-align: right;\">         1439</td><td style=\"text-align: right;\">       5640</td><td style=\"text-align: right;\">      10</td></tr>\n",
       "</tbody>\n",
       "</table>"
      ],
      "text/plain": [
       "[Relation(synset_from=5640, synset_to=1439, rel_id=11), Relation(synset_from=3675, synset_to=46769, rel_id=11), Relation(synset_from=1439, synset_to=3675, rel_id=10), Relation(synset_from=3675, synset_to=1439, rel_id=11), Relation(synset_from=46769, synset_to=3675, rel_id=10), Relation(synset_from=1439, synset_to=5640, rel_id=10)]"
      ]
     },
     "execution_count": 31,
     "metadata": {},
     "output_type": "execute_result"
    }
   ],
   "source": [
    "relations"
   ]
  },
  {
   "cell_type": "code",
   "execution_count": 32,
   "metadata": {},
   "outputs": [],
   "source": [
    "rel_types=relationTypes().to_dict()\n",
    "\n",
    "def graph_and_labels(synset_ids,relations,synsets):\n",
    "    g = nx.DiGraph()\n",
    "    synset_ids.for_each(g.add_node)\n",
    "    relations.for_each(lambda rel: g.add_edge(rel.synset_from, rel.synset_to,rel_id= rel_types[rel.rel_id]))\n",
    "\n",
    "\n",
    "    mapping = synsets.group_by(_.id)\\\n",
    "    .map(lambda x:\n",
    "         (x[0],seq(x[1])\\\n",
    "          .map(_.example.lemma)\\\n",
    "          .reduce(lambda x,y: x+ \",\\n \"+y)\n",
    "         )\n",
    "        ).to_dict()\n",
    "\n",
    "\n",
    "    h= nx.relabel_nodes(g,mapping)\n",
    "    labels = nx.get_edge_attributes(h, \"rel_id\")\n",
    "    return h,labels\n",
    "\n",
    "def plot(graph:nx.DiGraph,labels):\n",
    "    fig = plt.figure()\n",
    "    fig.set_size_inches(14,14)\n",
    "    pos = nx.planar_layout(graph)\n",
    "    nx.draw(graph,pos=pos,with_labels=True,arrows=True,arrowsize=50,node_size=30000)\n",
    "    nx.draw_networkx_labels(graph,pos=pos)\n",
    "    nx.draw_networkx_edge_labels(graph, pos, edge_labels=labels)\n",
    "    plt.show()\n",
    "    \n",
    "h,labels = graph_and_labels(synset_ids,relations,synsets)\n",
    "# plot(h,labels) Prettier but draws straight arros"
   ]
  },
  {
   "cell_type": "code",
   "execution_count": 42,
   "metadata": {},
   "outputs": [
    {
     "data": {
      "image/png": "[encoded data removed]",
      "text/plain": [
       "<Figure size 1008x1008 with 1 Axes>"
      ]
     },
     "metadata": {},
     "output_type": "display_data"
    }
   ],
   "source": [
    "from matplotlib.patches import FancyArrowPatch, Circle\n",
    "def draw_network(G,pos,ax,labels):\n",
    "    rad=0.1\n",
    "    e = None\n",
    "    for n in G:\n",
    "        c=Circle(pos[n],radius=0.1,alpha=0.5)\n",
    "        ax.add_patch(c)\n",
    "        G.node[n]['patch']=c\n",
    "        x,y=c.center\n",
    "        ax.text(x-0.07,y,n)\n",
    "    seen={}\n",
    "    for (u,v,d) in G.edges(data=True):\n",
    "        n1=G.node[u]['patch']\n",
    "        n2=G.node[v]['patch']\n",
    "        if (u,v) in seen:\n",
    "            rad=seen.get((u,v))\n",
    "            rad=(rad+np.sign(rad)*0.1)*-1\n",
    "        alpha=0.5\n",
    "        color='k'\n",
    "\n",
    "        e = FancyArrowPatch(n1.center,n2.center,patchA=n1,patchB=n2,\n",
    "                            arrowstyle='-|>',\n",
    "                            connectionstyle='arc3,rad=%s'%rad,\n",
    "                            mutation_scale=10.0,\n",
    "                            lw=2,\n",
    "                            label=\"oh yeah\",\n",
    "                            alpha=alpha,\n",
    "                            color=color)\n",
    "        \n",
    "        label = labels[(u,v)]\n",
    "        p1= e.get_path()\n",
    "        a,b = np.average(p1._vertices[:2],axis=0)\n",
    "        ax.text(a,b,label)\n",
    "        \n",
    "        seen[(u,v)]=rad\n",
    "        ax.add_patch(e)\n",
    "\n",
    "    return e\n",
    "\n",
    "fig = plt.figure()\n",
    "fig.set_size_inches(14,14)\n",
    "ax= plt.gca()\n",
    "\n",
    "pos = nx.planar_layout(h)\n",
    "draw_network(h,pos,ax,labels)\n",
    "ax.autoscale()\n",
    "plt.show()"
   ]
  },
  {
   "cell_type": "markdown",
   "metadata": {},
   "source": [
    "b) wypadek<sub>1</sub>, wypadek komunikacyjny<sub>1</sub>, kolizja<sub>2</sub>, zderzenie<sub>2</sub>,\n",
    "      kolizja drogowa<sub>1</sub>, bezkolizyjny<sub>2</sub>, katastrofa budowlana<sub>1</sub>, wypadek\n",
    "      drogowy<sub>1</sub>."
   ]
  },
  {
   "cell_type": "code",
   "execution_count": 34,
   "metadata": {},
   "outputs": [
    {
     "data": {
      "text/html": [
       "<table>\n",
       "<thead>\n",
       "<tr><th>lemma                </th><th style=\"text-align: right;\">    id</th></tr>\n",
       "</thead>\n",
       "<tbody>\n",
       "<tr><td>wypadek              </td><td style=\"text-align: right;\"> 21890</td></tr>\n",
       "<tr><td>wypadek komunikacyjny</td><td style=\"text-align: right;\">644778</td></tr>\n",
       "<tr><td>kolizja              </td><td style=\"text-align: right;\">  2639</td></tr>\n",
       "<tr><td>zderzenie            </td><td style=\"text-align: right;\"> 11447</td></tr>\n",
       "<tr><td>kolizja drogowa      </td><td style=\"text-align: right;\">645561</td></tr>\n",
       "<tr><td>bezkolizyjny         </td><td style=\"text-align: right;\">359276</td></tr>\n",
       "<tr><td>katastrofa budowlana </td><td style=\"text-align: right;\">645560</td></tr>\n",
       "</tbody>\n",
       "</table>"
      ],
      "text/plain": [
       "[Sense(lemma='wypadek', id=21890), Sense(lemma='wypadek komunikacyjny', id=644778), Sense(lemma='kolizja', id=2639), Sense(lemma='zderzenie', id=11447), Sense(lemma='kolizja drogowa', id=645561), Sense(lemma='bezkolizyjny', id=359276), Sense(lemma='katastrofa budowlana', id=645560)]"
      ]
     },
     "execution_count": 34,
     "metadata": {},
     "output_type": "execute_result"
    }
   ],
   "source": [
    "words2=[\n",
    "    LemmaWithIndex(lemma=\"wypadek\", index=1),\n",
    "    LemmaWithIndex(lemma=\"wypadek komunikacyjny\", index=1),\n",
    "    LemmaWithIndex(lemma=\"kolizja\", index=2),\n",
    "    LemmaWithIndex(lemma=\"zderzenie\", index=2),\n",
    "    LemmaWithIndex(lemma=\"kolizja drogowa\", index=1),\n",
    "    LemmaWithIndex(lemma=\"bezkolizyjny\", index=2),\n",
    "    LemmaWithIndex(lemma=\"katastrofa budowlana\", index=1)\n",
    "]\n",
    "\n",
    "\n",
    "senses2 = seq(words2).map(senseid_for_lemma_with_index) # Seq[Sense]\n",
    "senses2"
   ]
  },
  {
   "cell_type": "code",
   "execution_count": 35,
   "metadata": {},
   "outputs": [
    {
     "data": {
      "text/html": [
       "<table>\n",
       "<thead>\n",
       "<tr><th>example                                        </th><th style=\"text-align: right;\">    id</th></tr>\n",
       "</thead>\n",
       "<tbody>\n",
       "<tr><td>Sense(lemma='wypadek', id=21890)               </td><td style=\"text-align: right;\">  3982</td></tr>\n",
       "<tr><td>Sense(lemma='wypadek komunikacyjny', id=644778)</td><td style=\"text-align: right;\">410901</td></tr>\n",
       "<tr><td>Sense(lemma='kolizja', id=2639)                </td><td style=\"text-align: right;\">  6486</td></tr>\n",
       "<tr><td>Sense(lemma='zderzenie', id=11447)             </td><td style=\"text-align: right;\">  1284</td></tr>\n",
       "<tr><td>Sense(lemma='kolizja drogowa', id=645561)      </td><td style=\"text-align: right;\">  6486</td></tr>\n",
       "<tr><td>Sense(lemma='bezkolizyjny', id=359276)         </td><td style=\"text-align: right;\">228740</td></tr>\n",
       "<tr><td>Sense(lemma='katastrofa budowlana', id=645560) </td><td style=\"text-align: right;\">411618</td></tr>\n",
       "</tbody>\n",
       "</table>"
      ],
      "text/plain": [
       "[Synset(example=Sense(lemma='wypadek', id=21890), id=3982), Synset(example=Sense(lemma='wypadek komunikacyjny', id=644778), id=410901), Synset(example=Sense(lemma='kolizja', id=2639), id=6486), Synset(example=Sense(lemma='zderzenie', id=11447), id=1284), Synset(example=Sense(lemma='kolizja drogowa', id=645561), id=6486), Synset(example=Sense(lemma='bezkolizyjny', id=359276), id=228740), Synset(example=Sense(lemma='katastrofa budowlana', id=645560), id=411618)]"
      ]
     },
     "execution_count": 35,
     "metadata": {},
     "output_type": "execute_result"
    }
   ],
   "source": [
    "synsets2 = senses2.map(lambda sense: Synset(example = sense, id = synsetid_for_sense(sense.id)))\n",
    "synset_ids2 = synsets2.map(_.id).distinct()\n",
    "synsets2"
   ]
  },
  {
   "cell_type": "code",
   "execution_count": 36,
   "metadata": {},
   "outputs": [
    {
     "data": {
      "text/html": [
       "<table>\n",
       "<thead>\n",
       "<tr><th style=\"text-align: right;\">  synset_from</th><th style=\"text-align: right;\">  synset_to</th><th style=\"text-align: right;\">  rel_id</th></tr>\n",
       "</thead>\n",
       "<tbody>\n",
       "<tr><td style=\"text-align: right;\">         3982</td><td style=\"text-align: right;\">     410901</td><td style=\"text-align: right;\">      11</td></tr>\n",
       "<tr><td style=\"text-align: right;\">       410901</td><td style=\"text-align: right;\">       3982</td><td style=\"text-align: right;\">      10</td></tr>\n",
       "<tr><td style=\"text-align: right;\">       411618</td><td style=\"text-align: right;\">       3982</td><td style=\"text-align: right;\">      10</td></tr>\n",
       "<tr><td style=\"text-align: right;\">         3982</td><td style=\"text-align: right;\">     411618</td><td style=\"text-align: right;\">      11</td></tr>\n",
       "</tbody>\n",
       "</table>"
      ],
      "text/plain": [
       "[Relation(synset_from=3982, synset_to=410901, rel_id=11), Relation(synset_from=410901, synset_to=3982, rel_id=10), Relation(synset_from=411618, synset_to=3982, rel_id=10), Relation(synset_from=3982, synset_to=411618, rel_id=11)]"
      ]
     },
     "execution_count": 36,
     "metadata": {},
     "output_type": "execute_result"
    }
   ],
   "source": [
    "relations2 = synset_ids2.flat_map(lambda syn: relations_with_selected(syn,synset_ids2)).distinct()\n",
    "relations2"
   ]
  },
  {
   "cell_type": "markdown",
   "metadata": {},
   "source": [
    "# TODO : not acceptable"
   ]
  },
  {
   "cell_type": "code",
   "execution_count": 43,
   "metadata": {},
   "outputs": [
    {
     "data": {
      "image/png": "[encoded data removed]",
      "text/plain": [
       "<Figure size 1008x1008 with 1 Axes>"
      ]
     },
     "metadata": {},
     "output_type": "display_data"
    }
   ],
   "source": [
    "h2,labels2= graph_and_labels(synset_ids2,relations2,synsets2)\n",
    "\n",
    "fig = plt.figure()\n",
    "fig.set_size_inches(14,14)\n",
    "ax= plt.gca()\n",
    "\n",
    "pos2 = nx.planar_layout(h2)\n",
    "draw_network(h2,pos2,ax,labels2)\n",
    "ax.autoscale()\n",
    "plt.show()"
   ]
  },
  {
   "cell_type": "markdown",
   "metadata": {},
   "source": [
    "## 8\\. Find the value of [Leacock-Chodorow semantic similarity measure](ftp://www-vhost.cs.toronto.edu/public_html/public_html/pub/gh/Budanitsky+Hirst-2001.pdf)\n",
    "   between following pairs of lexemes:\n",
    "   1. szkoda<sub>2</sub> - wypadek<sub>1</sub>,\n",
    "   1. kolizja<sub>2</sub> - szkoda majątkowa<sub>1</sub>,\n",
    "   1. nieszczęście<sub>2</sub> - katastrofa budowlana<sub>1</sub>."
   ]
  },
  {
   "cell_type": "code",
   "execution_count": null,
   "metadata": {},
   "outputs": [],
   "source": []
  }
 ],
 "metadata": {
  "kernelspec": {
   "display_name": "Python 3",
   "language": "python",
   "name": "python3"
  },
  "language_info": {
   "codemirror_mode": {
    "name": "ipython",
    "version": 3
   },
   "file_extension": ".py",
   "mimetype": "text/x-python",
   "name": "python",
   "nbconvert_exporter": "python",
   "pygments_lexer": "ipython3",
   "version": "3.6.7"
  }
 },
 "nbformat": 4,
 "nbformat_minor": 2
}
