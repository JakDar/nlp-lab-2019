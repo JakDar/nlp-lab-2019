{
 "cells": [
  {
   "cell_type": "code",
   "execution_count": 134,
   "metadata": {},
   "outputs": [],
   "source": [
    "from functional import seq\n",
    "from functional.streams import Sequence\n",
    "import pandas as pd\n",
    "import numpy as np\n",
    "import os\n",
    "from typing import Dict, List, Tuple, Optional\n",
    "import random"
   ]
  },
  {
   "cell_type": "code",
   "execution_count": 66,
   "metadata": {},
   "outputs": [],
   "source": [
    "ustawy_dir = \"../ustawy\"\n",
    "ustawy_files = seq(os.listdir(ustawy_dir)).map(\n",
    "    lambda filename: open(ustawy_dir + \"/\" + filename).read())"
   ]
  },
  {
   "cell_type": "code",
   "execution_count": 70,
   "metadata": {},
   "outputs": [],
   "source": [
    "good, bad = ustawy_files.partition(lambda x: \"Art\" in x[:2400])"
   ]
  },
  {
   "cell_type": "code",
   "execution_count": 94,
   "metadata": {},
   "outputs": [
    {
     "data": {
      "text/plain": [
       "2"
      ]
     },
     "execution_count": 94,
     "metadata": {},
     "output_type": "execute_result"
    }
   ],
   "source": [
    "bad.size()"
   ]
  },
  {
   "cell_type": "code",
   "execution_count": 74,
   "metadata": {},
   "outputs": [
    {
     "data": {
      "text/plain": [
       "['',\n",
       " 'USTAWA',\n",
       " 'z dnia 11 października 2013 r.',\n",
       " 'o wzajemnej pomocy przy dochodzeniu podatków, należności ',\n",
       " 'celnych i innych należności pieniężnych',\n",
       " '',\n",
       " '<!-/*',\n",
       " 'Font Definitions */',\n",
       " ' @font-face',\n",
       " '\\t{font-family:Helvetica;',\n",
       " '\\tpanose-1:2 11 5 4 2 2 2 2 2 4;}',\n",
       " '@font-face',\n",
       " '\\t{font-family:Courier;',\n",
       " '\\tpanose-1:2 7 4 9 2 2 5 2 4 4;}',\n",
       " '']"
      ]
     },
     "execution_count": 74,
     "metadata": {},
     "output_type": "execute_result"
    }
   ],
   "source": [
    "bad[0][:300].split(\"\\n\")"
   ]
  },
  {
   "cell_type": "code",
   "execution_count": 76,
   "metadata": {},
   "outputs": [
    {
     "data": {
      "text/plain": [
       "['', '', '', '', '', 'Brak tekstu w postaci elektronicznej ', '']"
      ]
     },
     "execution_count": 76,
     "metadata": {},
     "output_type": "execute_result"
    }
   ],
   "source": [
    "bad[1][:300].split(\"\\n\")"
   ]
  },
  {
   "cell_type": "code",
   "execution_count": 77,
   "metadata": {},
   "outputs": [],
   "source": [
    "def is_change(ustawa:str) -> bool:\n",
    "    return \"o zmianie ustawy\" in ustawa[:800]"
   ]
  },
  {
   "cell_type": "code",
   "execution_count": 78,
   "metadata": {},
   "outputs": [],
   "source": [
    "changes, not_changes = good.partition(is_change)"
   ]
  },
  {
   "cell_type": "code",
   "execution_count": 79,
   "metadata": {},
   "outputs": [],
   "source": [
    "from collections import namedtuple"
   ]
  },
  {
   "cell_type": "code",
   "execution_count": 80,
   "metadata": {},
   "outputs": [],
   "source": [
    "Labeled =  namedtuple(\"Labeled\",\"text is_change\")"
   ]
  },
  {
   "cell_type": "code",
   "execution_count": 104,
   "metadata": {},
   "outputs": [],
   "source": [
    "def strip_title(text:str) -> str:\n",
    "    return text.split(\"Art\",maxsplit=1)[1]"
   ]
  },
  {
   "cell_type": "code",
   "execution_count": 105,
   "metadata": {},
   "outputs": [],
   "source": [
    "labeled_changes = changes.map(lambda txt: Labeled(text = strip_title(txt), is_change = True))"
   ]
  },
  {
   "cell_type": "code",
   "execution_count": 106,
   "metadata": {},
   "outputs": [],
   "source": [
    "labeled_not_changes = not_changes.map(lambda txt: Labeled(text = strip_title(txt), is_change = False))"
   ]
  },
  {
   "cell_type": "code",
   "execution_count": 114,
   "metadata": {},
   "outputs": [],
   "source": [
    "data = (labeled_changes + labeled_not_changes).to_list()"
   ]
  },
  {
   "cell_type": "code",
   "execution_count": 115,
   "metadata": {},
   "outputs": [],
   "source": [
    "from random import shuffle\n",
    "shuffle(data)"
   ]
  },
  {
   "cell_type": "code",
   "execution_count": 118,
   "metadata": {},
   "outputs": [],
   "source": [
    "data_len = len(data)\n",
    "train_size = int(0.6 * data_len)\n",
    "validation_size = int(0.2 * data_len)\n",
    "\n",
    "train = data[:train_size]\n",
    "validation = data[train_size:train_size + validation_size]\n",
    "test = data[train_size + validation_size:]"
   ]
  },
  {
   "cell_type": "code",
   "execution_count": 122,
   "metadata": {},
   "outputs": [
    {
     "data": {
      "text/plain": [
       "(706, 235, 237)"
      ]
     },
     "execution_count": 122,
     "metadata": {},
     "output_type": "execute_result"
    }
   ],
   "source": [
    "len(train),len(validation),len(test)"
   ]
  },
  {
   "cell_type": "code",
   "execution_count": 138,
   "metadata": {},
   "outputs": [],
   "source": [
    "from random import choices # todo:bcm - take without replacements\n",
    "def full_selector(text):\n",
    "    return text\n",
    "\n",
    "def percentage_selector(text):\n",
    "    lines = text.split(\"\\n\")\n",
    "    take_count = int(0.1* len(lines))\n",
    "    return \"\\n\".join(choices(lines,k= take_count))\n",
    "\n",
    "def lines_selector(text):\n",
    "    lines = text.split(\"\\n\")\n",
    "    return \"\\n\".join(choices(lines,k= 10))\n",
    "    \n",
    "def line_selector(text):\n",
    "    lines = text.split(\"\\n\")\n",
    "    lines_len = len(lines)\n",
    "    return lines[random.randint(0,lines_len-1)]"
   ]
  },
  {
   "cell_type": "code",
   "execution_count": 139,
   "metadata": {},
   "outputs": [],
   "source": [
    "Selector = namedtuple(\"Selector\", \"name selector\")"
   ]
  },
  {
   "cell_type": "code",
   "execution_count": 140,
   "metadata": {
    "ExecuteTime": {
     "end_time": "2019-05-08T20:13:19.863469Z",
     "start_time": "2019-05-08T20:13:19.853129Z"
    }
   },
   "outputs": [],
   "source": [
    "selectors = seq([\n",
    "    Selector(name = \"full\", selector = full_selector),\n",
    "    Selector(name = \"percentage\", selector = percentage_selector),\n",
    "    Selector(name = \"lines\", selector = lines_selector),\n",
    "    Selector(name = \"line\", selector = line_selector),\n",
    "])"
   ]
  },
  {
   "cell_type": "code",
   "execution_count": 145,
   "metadata": {
    "ExecuteTime": {
     "end_time": "2019-05-08T20:34:09.070580Z",
     "start_time": "2019-05-08T20:34:09.061664Z"
    }
   },
   "outputs": [],
   "source": [
    "from sklearn.feature_extraction.text import TfidfVectorizer\n",
    "from sklearn.linear_model import LogisticRegression\n",
    "from sklearn.model_selection import GridSearchCV\n",
    "from sklearn.model_selection import StratifiedShuffleSplit\n",
    "from sklearn.naive_bayes import MultinomialNB\n",
    "from sklearn.pipeline import Pipeline\n",
    "from sklearn.svm import LinearSVC\n",
    "from sklearn.svm import SVC\n",
    "\n",
    "from sklearn.multiclass import OneVsRestClassifier\n",
    "from sklearn.metrics import classification_report\n"
   ]
  },
  {
   "cell_type": "code",
   "execution_count": 158,
   "metadata": {
    "ExecuteTime": {
     "end_time": "2019-05-08T20:38:18.475897Z",
     "start_time": "2019-05-08T20:38:18.469132Z"
    }
   },
   "outputs": [],
   "source": [
    "def grid_search(train_x, train_y, test_x, test_y,  parameters, pipeline):\n",
    "    grid_search_tune = GridSearchCV(\n",
    "        pipeline, parameters, cv=2, n_jobs=3, verbose=10)\n",
    "    grid_search_tune.fit(train_x, train_y)\n",
    "\n",
    "    print(\"Best parameters set:\")\n",
    "    print(grid_search_tune.best_estimator_.steps)\n",
    "\n",
    "    print(\"Applying best classifier on test data:\")\n",
    "    best_clf = grid_search_tune.best_estimator_\n",
    "    predictions = best_clf.predict(test_x)\n",
    "\n",
    "    print(classification_report(test_y, predictions))"
   ]
  },
  {
   "cell_type": "code",
   "execution_count": 159,
   "metadata": {
    "ExecuteTime": {
     "end_time": "2019-05-08T20:38:19.416190Z",
     "start_time": "2019-05-08T20:38:19.413140Z"
    }
   },
   "outputs": [],
   "source": [
    "stop_words = [] #todo:bcm"
   ]
  },
  {
   "cell_type": "code",
   "execution_count": 160,
   "metadata": {
    "ExecuteTime": {
     "end_time": "2019-05-08T20:38:19.828719Z",
     "start_time": "2019-05-08T20:38:19.824569Z"
    }
   },
   "outputs": [],
   "source": [
    "train_x = [x.text for x in train]\n",
    "y_train = [x.is_change for x in train]\n",
    "test_x = [x.text for x in test]\n",
    "y_test = [x.is_change for x in test]"
   ]
  },
  {
   "cell_type": "code",
   "execution_count": 165,
   "metadata": {
    "ExecuteTime": {
     "end_time": "2019-05-08T21:28:42.147479Z",
     "start_time": "2019-05-08T21:21:57.188965Z"
    }
   },
   "outputs": [
    {
     "name": "stdout",
     "output_type": "stream",
     "text": [
      "Fitting 2 folds for each of 36 candidates, totalling 72 fits\n"
     ]
    },
    {
     "name": "stderr",
     "output_type": "stream",
     "text": [
      "[Parallel(n_jobs=3)]: Using backend LokyBackend with 3 concurrent workers.\n",
      "[Parallel(n_jobs=3)]: Done   2 tasks      | elapsed:    7.9s\n",
      "[Parallel(n_jobs=3)]: Done   7 tasks      | elapsed:   39.3s\n",
      "[Parallel(n_jobs=3)]: Done  12 tasks      | elapsed:  1.1min\n",
      "[Parallel(n_jobs=3)]: Done  19 tasks      | elapsed:  1.8min\n",
      "[Parallel(n_jobs=3)]: Done  26 tasks      | elapsed:  2.4min\n",
      "[Parallel(n_jobs=3)]: Done  35 tasks      | elapsed:  3.2min\n",
      "[Parallel(n_jobs=3)]: Done  44 tasks      | elapsed:  4.0min\n",
      "[Parallel(n_jobs=3)]: Done  55 tasks      | elapsed:  5.1min\n",
      "[Parallel(n_jobs=3)]: Done  66 tasks      | elapsed:  6.0min\n",
      "[Parallel(n_jobs=3)]: Done  72 out of  72 | elapsed:  6.7min finished\n"
     ]
    },
    {
     "name": "stdout",
     "output_type": "stream",
     "text": [
      "Best parameters set:\n",
      "[('tfidf', TfidfVectorizer(analyzer='word', binary=False, decode_error='strict',\n",
      "        dtype=<class 'numpy.float64'>, encoding='utf-8', input='content',\n",
      "        lowercase=True, max_df=0.25, max_features=None, min_df=1,\n",
      "        ngram_range=(1, 1), norm='l2', preprocessor=None, smooth_idf=True,\n",
      "        stop_words=[], strip_accents=None, sublinear_tf=False,\n",
      "        token_pattern='(?u)\\\\b\\\\w\\\\w+\\\\b', tokenizer=None, use_idf=True,\n",
      "        vocabulary=None)), ('clf', OneVsRestClassifier(estimator=SVC(C=1, cache_size=200, class_weight=None, coef0=0.0,\n",
      "  decision_function_shape='ovr', degree=3, gamma=0.001, kernel='rbf',\n",
      "  max_iter=-1, probability=False, random_state=None, shrinking=True,\n",
      "  tol=0.001, verbose=False),\n",
      "          n_jobs=1))]\n",
      "Applying best classifier on test data:\n",
      "              precision    recall  f1-score   support\n",
      "\n",
      "       False       0.51      1.00      0.67       120\n",
      "        True       0.00      0.00      0.00       117\n",
      "\n",
      "   micro avg       0.51      0.51      0.51       237\n",
      "   macro avg       0.25      0.50      0.34       237\n",
      "weighted avg       0.26      0.51      0.34       237\n",
      "\n"
     ]
    },
    {
     "name": "stderr",
     "output_type": "stream",
     "text": [
      "/Users/jakubdarul/Library/Python/3.7/lib/python/site-packages/sklearn/metrics/classification.py:1143: UndefinedMetricWarning: Precision and F-score are ill-defined and being set to 0.0 in labels with no predicted samples.\n",
      "  'precision', 'predicted', average, warn_for)\n"
     ]
    }
   ],
   "source": [
    "pipeline = Pipeline([\n",
    "    ('tfidf', TfidfVectorizer(stop_words=stop_words)),\n",
    "#     ('clf', OneVsRestClassifier(LogisticRegression(solver='sag'), n_jobs=1)),\n",
    "    ('clf', OneVsRestClassifier(SVC(), n_jobs=1)),\n",
    "])\n",
    "parameters = {\n",
    "    'tfidf__max_df': (0.25, 0.5, 0.75),\n",
    "    'tfidf__ngram_range': [(1, 1), (1, 2), (1, 3)],\n",
    "    'clf__estimator__kernel': ['rbf'],\n",
    "    'clf__estimator__gamma': [1e-3, 1e-4],\n",
    "    'clf__estimator__C': [1, 10]\n",
    "\n",
    "#     \"clf__estimator__C\": [0.01, 0.1, 1],\n",
    "#     \"clf__estimator__class_weight\": ['balanced', None],\n",
    "}\n",
    "grid_search(train_x, y_train, test_x, y_test, parameters, pipeline)"
   ]
  },
  {
   "cell_type": "code",
   "execution_count": null,
   "metadata": {},
   "outputs": [],
   "source": []
  }
 ],
 "metadata": {
  "kernelspec": {
   "display_name": "Python 3",
   "language": "python",
   "name": "python3"
  },
  "language_info": {
   "codemirror_mode": {
    "name": "ipython",
    "version": 3
   },
   "file_extension": ".py",
   "mimetype": "text/x-python",
   "name": "python",
   "nbconvert_exporter": "python",
   "pygments_lexer": "ipython3",
   "version": "3.7.2"
  }
 },
 "nbformat": 4,
 "nbformat_minor": 2
}
