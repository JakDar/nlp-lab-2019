{
 "cells": [
  {
   "cell_type": "code",
   "execution_count": 1,
   "metadata": {
    "ExecuteTime": {
     "end_time": "2019-05-10T15:10:15.135211Z",
     "start_time": "2019-05-10T15:10:14.376814Z"
    }
   },
   "outputs": [],
   "source": [
    "from functional import seq\n",
    "from functional.streams import Sequence\n",
    "import pandas as pd\n",
    "import numpy as np\n",
    "import os\n",
    "from typing import Dict, List, Tuple, Optional\n",
    "import random\n",
    "from collections import namedtuple\n",
    "from random import shuffle\n",
    "import nltk"
   ]
  },
  {
   "cell_type": "code",
   "execution_count": 2,
   "metadata": {
    "ExecuteTime": {
     "end_time": "2019-05-10T15:10:18.316975Z",
     "start_time": "2019-05-10T15:10:15.211676Z"
    }
   },
   "outputs": [
    {
     "data": {
      "text/plain": [
       "1180"
      ]
     },
     "execution_count": 2,
     "metadata": {},
     "output_type": "execute_result"
    }
   ],
   "source": [
    "ustawy_dir = \"../lower_ustawy\"\n",
    "art_keyword = \"art\"\n",
    "ustawy_files = seq(os.listdir(ustawy_dir)).map(\n",
    "    lambda filename: open(ustawy_dir + \"/\" + filename).read())\n",
    "\n",
    "ustawy_files.size()"
   ]
  },
  {
   "cell_type": "code",
   "execution_count": 3,
   "metadata": {
    "ExecuteTime": {
     "end_time": "2019-05-10T15:10:18.332743Z",
     "start_time": "2019-05-10T15:10:18.322325Z"
    }
   },
   "outputs": [],
   "source": [
    "good, bad = ustawy_files.partition(lambda x: art_keyword in x[:2400])"
   ]
  },
  {
   "cell_type": "code",
   "execution_count": 4,
   "metadata": {
    "ExecuteTime": {
     "end_time": "2019-05-10T15:10:18.349448Z",
     "start_time": "2019-05-10T15:10:18.334837Z"
    }
   },
   "outputs": [
    {
     "data": {
      "text/plain": [
       "1178"
      ]
     },
     "execution_count": 4,
     "metadata": {},
     "output_type": "execute_result"
    }
   ],
   "source": [
    "good.size()"
   ]
  },
  {
   "cell_type": "code",
   "execution_count": 5,
   "metadata": {
    "ExecuteTime": {
     "end_time": "2019-05-10T15:10:18.367530Z",
     "start_time": "2019-05-10T15:10:18.354787Z"
    }
   },
   "outputs": [
    {
     "data": {
      "text/plain": [
       "2"
      ]
     },
     "execution_count": 5,
     "metadata": {},
     "output_type": "execute_result"
    }
   ],
   "source": [
    "bad.size()"
   ]
  },
  {
   "cell_type": "code",
   "execution_count": 6,
   "metadata": {
    "ExecuteTime": {
     "end_time": "2019-05-10T15:10:19.187237Z",
     "start_time": "2019-05-10T15:10:19.180188Z"
    }
   },
   "outputs": [
    {
     "data": {
      "text/plain": [
       "['',\n",
       " 'ustawa',\n",
       " 'z dnia 11 października 2013 r ',\n",
       " 'o wzajemnej pomocy przy dochodzeniu podatków  należności ',\n",
       " 'celnych i innych należności pieniężnych',\n",
       " '',\n",
       " '     ',\n",
       " 'font definitions   ',\n",
       " '  font face',\n",
       " '\\t font family helvetica ',\n",
       " '\\tpanose 1 2 11 5 4 2 2 2 2 2 4  ',\n",
       " ' font face',\n",
       " '\\t font family courier ',\n",
       " '\\tpanose 1 2 7 4 9 2 2 5 2 4 4  ',\n",
       " '']"
      ]
     },
     "execution_count": 6,
     "metadata": {},
     "output_type": "execute_result"
    }
   ],
   "source": [
    "bad[0][:300].split(\"\\n\")"
   ]
  },
  {
   "cell_type": "code",
   "execution_count": 7,
   "metadata": {
    "ExecuteTime": {
     "end_time": "2019-05-10T15:10:22.184157Z",
     "start_time": "2019-05-10T15:10:22.177091Z"
    }
   },
   "outputs": [
    {
     "data": {
      "text/plain": [
       "['', '', '', '', '', 'brak tekstu w postaci elektronicznej ', '']"
      ]
     },
     "execution_count": 7,
     "metadata": {},
     "output_type": "execute_result"
    }
   ],
   "source": [
    "bad[1][:300].split(\"\\n\")"
   ]
  },
  {
   "cell_type": "code",
   "execution_count": 8,
   "metadata": {
    "ExecuteTime": {
     "end_time": "2019-05-10T15:10:23.579942Z",
     "start_time": "2019-05-10T15:10:23.569953Z"
    }
   },
   "outputs": [],
   "source": [
    "def is_change(ustawa:str) -> bool:\n",
    "    return \"o zmianie ustawy\" in ustawa[:800]"
   ]
  },
  {
   "cell_type": "code",
   "execution_count": 9,
   "metadata": {
    "ExecuteTime": {
     "end_time": "2019-05-10T15:10:24.880582Z",
     "start_time": "2019-05-10T15:10:24.867966Z"
    }
   },
   "outputs": [],
   "source": [
    "changes, not_changes = good.partition(is_change)"
   ]
  },
  {
   "cell_type": "code",
   "execution_count": 10,
   "metadata": {
    "ExecuteTime": {
     "end_time": "2019-05-10T15:10:26.267478Z",
     "start_time": "2019-05-10T15:10:26.264259Z"
    }
   },
   "outputs": [],
   "source": [
    "Labeled =  namedtuple(\"Labeled\",\"text is_change\")"
   ]
  },
  {
   "cell_type": "code",
   "execution_count": 11,
   "metadata": {
    "ExecuteTime": {
     "end_time": "2019-05-10T15:10:28.045258Z",
     "start_time": "2019-05-10T15:10:28.039753Z"
    }
   },
   "outputs": [],
   "source": [
    "def strip_title(text:str) -> str:\n",
    "    return text.split(art_keyword,maxsplit=1)[1]"
   ]
  },
  {
   "cell_type": "code",
   "execution_count": 12,
   "metadata": {
    "ExecuteTime": {
     "end_time": "2019-05-10T15:10:28.756658Z",
     "start_time": "2019-05-10T15:10:28.751366Z"
    }
   },
   "outputs": [],
   "source": [
    "labeled_changes = changes.map(lambda txt: Labeled(text = strip_title(txt), is_change = True))"
   ]
  },
  {
   "cell_type": "code",
   "execution_count": 13,
   "metadata": {
    "ExecuteTime": {
     "end_time": "2019-05-10T15:10:30.020816Z",
     "start_time": "2019-05-10T15:10:30.012752Z"
    }
   },
   "outputs": [],
   "source": [
    "labeled_not_changes = not_changes.map(lambda txt: Labeled(text = strip_title(txt), is_change = False))"
   ]
  },
  {
   "cell_type": "code",
   "execution_count": 14,
   "metadata": {
    "ExecuteTime": {
     "end_time": "2019-05-10T15:10:32.051274Z",
     "start_time": "2019-05-10T15:10:31.986665Z"
    }
   },
   "outputs": [],
   "source": [
    "data = (labeled_changes + labeled_not_changes).to_list()"
   ]
  },
  {
   "cell_type": "code",
   "execution_count": 15,
   "metadata": {
    "ExecuteTime": {
     "end_time": "2019-05-10T15:10:38.711684Z",
     "start_time": "2019-05-10T15:10:38.705242Z"
    }
   },
   "outputs": [],
   "source": [
    "shuffle(data)"
   ]
  },
  {
   "cell_type": "code",
   "execution_count": 16,
   "metadata": {
    "ExecuteTime": {
     "end_time": "2019-05-10T15:10:51.188765Z",
     "start_time": "2019-05-10T15:10:51.183402Z"
    }
   },
   "outputs": [],
   "source": [
    "def split(data):\n",
    "    data_len = len(data)\n",
    "    train_size = int(0.6 * data_len)\n",
    "    validation_size = int(0.2 * data_len)\n",
    "\n",
    "    train = data[:train_size]\n",
    "    validation = data[train_size:train_size + validation_size]\n",
    "    test = data[train_size + validation_size:]\n",
    "    return train,test,validation\n",
    "    \n",
    "# train, test,validation = split(data)\n",
    "# len(train),len(validation),len(test)"
   ]
  },
  {
   "cell_type": "code",
   "execution_count": 17,
   "metadata": {
    "ExecuteTime": {
     "end_time": "2019-05-10T15:10:54.529045Z",
     "start_time": "2019-05-10T15:10:54.517398Z"
    }
   },
   "outputs": [],
   "source": [
    "from random import choices # todo:bcm - take without replacements\n",
    "def full_selector(text):\n",
    "    return text\n",
    "\n",
    "def percentage_selector(text):\n",
    "    lines = text.split(\"\\n\")\n",
    "    take_count = int(0.1* len(lines))\n",
    "    return \"\\n\".join(choices(lines,k= take_count))\n",
    "\n",
    "def lines_selector(text):\n",
    "    lines = text.split(\"\\n\")\n",
    "    return \"\\n\".join(choices(lines,k= 10))\n",
    "    \n",
    "def line_selector(text):\n",
    "    lines = text.split(\"\\n\")\n",
    "    lines_len = len(lines)\n",
    "    return lines[random.randint(0,lines_len-1)]"
   ]
  },
  {
   "cell_type": "code",
   "execution_count": 18,
   "metadata": {
    "ExecuteTime": {
     "end_time": "2019-05-10T15:10:56.607168Z",
     "start_time": "2019-05-10T15:10:56.602086Z"
    }
   },
   "outputs": [],
   "source": [
    "Selector = namedtuple(\"Selector\", \"name selector\")"
   ]
  },
  {
   "cell_type": "code",
   "execution_count": 19,
   "metadata": {
    "ExecuteTime": {
     "end_time": "2019-05-10T15:10:57.149928Z",
     "start_time": "2019-05-10T15:10:57.145463Z"
    }
   },
   "outputs": [],
   "source": [
    "selectors = seq([\n",
    "    Selector(name = \"full\", selector = full_selector),\n",
    "    Selector(name = \"percentage\", selector = percentage_selector),\n",
    "    Selector(name = \"lines\", selector = lines_selector),\n",
    "    Selector(name = \"line\", selector = line_selector),\n",
    "])"
   ]
  },
  {
   "cell_type": "markdown",
   "metadata": {},
   "source": [
    "## Learning things"
   ]
  },
  {
   "cell_type": "code",
   "execution_count": 20,
   "metadata": {
    "ExecuteTime": {
     "end_time": "2019-05-10T15:10:59.616127Z",
     "start_time": "2019-05-10T15:10:58.277617Z"
    }
   },
   "outputs": [],
   "source": [
    "from sklearn.feature_extraction.text import TfidfVectorizer\n",
    "from sklearn.linear_model import LogisticRegression\n",
    "from sklearn.model_selection import GridSearchCV\n",
    "from sklearn.model_selection import StratifiedShuffleSplit\n",
    "from sklearn.naive_bayes import MultinomialNB\n",
    "from sklearn.pipeline import Pipeline\n",
    "from sklearn.svm import LinearSVC\n",
    "from sklearn.svm import SVC\n",
    "from sklearn.multiclass import OneVsRestClassifier\n",
    "from sklearn.metrics import classification_report\n",
    "from sklearn.metrics import precision_recall_fscore_support"
   ]
  },
  {
   "cell_type": "code",
   "execution_count": 21,
   "metadata": {
    "ExecuteTime": {
     "end_time": "2019-05-10T15:11:00.221510Z",
     "start_time": "2019-05-10T15:11:00.215655Z"
    }
   },
   "outputs": [],
   "source": [
    "# TODO - use or loose it \n",
    "def grid_search(train_x, train_y, test_x, test_y,  parameters, pipeline):\n",
    "    grid_search_tune = GridSearchCV(\n",
    "        pipeline, parameters, cv=2, n_jobs=3, verbose=10)\n",
    "    grid_search_tune.fit(train_x, train_y)\n",
    "\n",
    "    print(\"Best parameters set:\")\n",
    "    print(grid_search_tune.best_estimator_.steps)\n",
    "\n",
    "    print(\"Applying best classifier on test data:\")\n",
    "    best_clf = grid_search_tune.best_estimator_\n",
    "    predictions = best_clf.predict(test_x)\n",
    "\n",
    "    print(classification_report(test_y, predictions))"
   ]
  },
  {
   "cell_type": "code",
   "execution_count": 22,
   "metadata": {
    "ExecuteTime": {
     "end_time": "2019-05-10T15:11:37.451907Z",
     "start_time": "2019-05-10T15:11:37.436386Z"
    }
   },
   "outputs": [
    {
     "data": {
      "text/plain": [
       "['cały', 'cokolwiek', 'nad']"
      ]
     },
     "execution_count": 22,
     "metadata": {},
     "output_type": "execute_result"
    }
   ],
   "source": [
    "sw_file = open(\"polish.stopwords.txt\")\n",
    "stop_words = set(word[:-1] for word in sw_file.readlines())\n",
    "sw_file.close()\n",
    "list(stop_words)[:3]"
   ]
  },
  {
   "cell_type": "code",
   "execution_count": 23,
   "metadata": {
    "ExecuteTime": {
     "end_time": "2019-05-10T15:16:14.978939Z",
     "start_time": "2019-05-10T15:15:22.647878Z"
    }
   },
   "outputs": [],
   "source": [
    "# nltk.download('punkt')\n",
    "tokenized = [Labeled(text = nltk.word_tokenize(x.text), is_change= x.is_change) for x in data]"
   ]
  },
  {
   "cell_type": "code",
   "execution_count": 24,
   "metadata": {
    "ExecuteTime": {
     "end_time": "2019-05-10T15:19:39.350739Z",
     "start_time": "2019-05-10T15:19:39.346388Z"
    }
   },
   "outputs": [],
   "source": [
    "def map_text(mapper, data):\n",
    "    return [Labeled(text = mapper(x.text), is_change= x.is_change) for x in data]"
   ]
  },
  {
   "cell_type": "code",
   "execution_count": 25,
   "metadata": {
    "ExecuteTime": {
     "end_time": "2019-05-10T15:22:07.157420Z",
     "start_time": "2019-05-10T15:22:07.154653Z"
    }
   },
   "outputs": [],
   "source": [
    "# train_x = [x.text for x in train]\n",
    "# y_train = [x.is_change for x in train]\n",
    "# test_x = [x.text for x in test]\n",
    "# y_test = [x.is_change for x in test]"
   ]
  },
  {
   "cell_type": "code",
   "execution_count": 26,
   "metadata": {
    "ExecuteTime": {
     "end_time": "2019-05-10T15:36:44.173991Z",
     "start_time": "2019-05-10T15:36:44.165634Z"
    }
   },
   "outputs": [],
   "source": [
    "def split2(x,y):\n",
    "    data_len = len(y)\n",
    "    train_size = int(0.6 * data_len)\n",
    "    validation_size = int(0.2 * data_len)\n",
    "\n",
    "    train = x[:train_size]\n",
    "    validation = x[train_size:train_size + validation_size]\n",
    "    test = x[train_size + validation_size:]\n",
    "    \n",
    "    y_train = y[:train_size]\n",
    "    y_validation = y[train_size:train_size + validation_size]\n",
    "    y_test = y[train_size + validation_size:]\n",
    "    \n",
    "    \n",
    "    return (train,test,validation), (y_train,y_test,y_validation)"
   ]
  },
  {
   "cell_type": "code",
   "execution_count": 27,
   "metadata": {
    "ExecuteTime": {
     "end_time": "2019-05-10T15:38:48.795121Z",
     "start_time": "2019-05-10T15:38:48.787513Z"
    }
   },
   "outputs": [],
   "source": [
    "xs = [x.text for x in data]\n",
    "ys = [x.is_change for x in data]"
   ]
  },
  {
   "cell_type": "code",
   "execution_count": 28,
   "metadata": {
    "ExecuteTime": {
     "end_time": "2019-05-10T15:39:51.435773Z",
     "start_time": "2019-05-10T15:39:51.433023Z"
    }
   },
   "outputs": [],
   "source": [
    "from collections import Counter\n",
    "word_counter = Counter()\n",
    "\n",
    "for labeled_doc in tokenized:\n",
    "    for word in labeled_doc.text:\n",
    "        word_counter[word] += 1\n",
    "    "
   ]
  },
  {
   "cell_type": "code",
   "execution_count": 29,
   "metadata": {},
   "outputs": [
    {
     "data": {
      "text/plain": [
       "489032"
      ]
     },
     "execution_count": 29,
     "metadata": {},
     "output_type": "execute_result"
    }
   ],
   "source": [
    "words_for_vocab = int(8* len(word_counter))\n",
    "words_for_vocab"
   ]
  },
  {
   "cell_type": "code",
   "execution_count": 30,
   "metadata": {},
   "outputs": [],
   "source": [
    "vocab = [word for word,_ in word_counter.most_common(words_for_vocab)]"
   ]
  },
  {
   "cell_type": "code",
   "execution_count": 31,
   "metadata": {
    "ExecuteTime": {
     "end_time": "2019-05-10T15:38:54.287005Z",
     "start_time": "2019-05-10T15:38:51.239741Z"
    }
   },
   "outputs": [],
   "source": [
    "idf = TfidfVectorizer(stop_words=stop_words,vocabulary=vocab)\n",
    "idfed = idf.fit_transform(xs)"
   ]
  },
  {
   "cell_type": "code",
   "execution_count": 32,
   "metadata": {
    "ExecuteTime": {
     "end_time": "2019-05-10T15:36:47.868015Z",
     "start_time": "2019-05-10T15:36:47.854845Z"
    }
   },
   "outputs": [],
   "source": [
    "(tr_x,test_x,val_x),(tr_y,test_y,val_y)= split2(idfed,ys)"
   ]
  },
  {
   "cell_type": "code",
   "execution_count": 33,
   "metadata": {
    "ExecuteTime": {
     "end_time": "2019-05-10T15:36:50.057106Z",
     "start_time": "2019-05-10T15:36:47.869992Z"
    }
   },
   "outputs": [
    {
     "name": "stderr",
     "output_type": "stream",
     "text": [
      "/home/jacko/.local/lib/python3.6/site-packages/sklearn/linear_model/logistic.py:432: FutureWarning: Default solver will be changed to 'lbfgs' in 0.22. Specify a solver to silence this warning.\n",
      "  FutureWarning)\n"
     ]
    },
    {
     "data": {
      "text/plain": [
       "0.8438818565400844"
      ]
     },
     "execution_count": 33,
     "metadata": {},
     "output_type": "execute_result"
    }
   ],
   "source": [
    "from sklearn.linear_model import LogisticRegression\n",
    "\n",
    "logistic = LogisticRegression()\n",
    "logistic.fit(tr_x,tr_y)\n",
    "logistic.score(test_x,test_y)"
   ]
  },
  {
   "cell_type": "code",
   "execution_count": 34,
   "metadata": {
    "ExecuteTime": {
     "end_time": "2019-05-10T15:36:50.768545Z",
     "start_time": "2019-05-10T15:36:50.060095Z"
    }
   },
   "outputs": [],
   "source": [
    "svc = SVC(kernel= 'linear')#OneVsRestClassifier(SVC(), n_jobs=1)\n",
    "svc.fit(tr_x,tr_y)\n",
    "predicted_y = svc.predict(test_x)"
   ]
  },
  {
   "cell_type": "code",
   "execution_count": 35,
   "metadata": {},
   "outputs": [],
   "source": [
    "def evaluate(predicted,expected):\n",
    "    prec,recall,fbeta,support = precision_recall_fscore_support(y_true=expected,y_pred = predicted,average='weighted')\n",
    "   \n",
    "\n",
    "    print(\"F1 score: {}\".format(fbeta))\n",
    "    print(\"Precission: {}\".format(prec))\n",
    "    print(\"Recall: {}\".format(recall))"
   ]
  },
  {
   "cell_type": "code",
   "execution_count": 36,
   "metadata": {},
   "outputs": [
    {
     "name": "stdout",
     "output_type": "stream",
     "text": [
      "F1 score: 0.8523996916698404\n",
      "Precission: 0.8527519390335958\n",
      "Recall: 0.8523206751054853\n"
     ]
    }
   ],
   "source": [
    "evaluate(predicted_y,test_y)"
   ]
  },
  {
   "cell_type": "markdown",
   "metadata": {},
   "source": [
    "# Fasttext"
   ]
  },
  {
   "cell_type": "code",
   "execution_count": 37,
   "metadata": {},
   "outputs": [],
   "source": [
    "import fastText"
   ]
  },
  {
   "cell_type": "code",
   "execution_count": 38,
   "metadata": {},
   "outputs": [
    {
     "data": {
      "text/plain": [
       "Labeled(text='  1   w ustawie z dnia 28 marca 2003 r  o transporcie kolejowym  dz  u  z 2007 r  nr 16  poz  94  z późn  zm  1    wprowadza się następujące zmiany  1 \\xa0\\xa0 w art  4  a \\xa0\\xa0 po pkt 6e dodaje się pkt 6f w brzmieniu   6f  pojazd kolejowy specjalny   pojazd kolejowy przeznaczony do utrzymania  naprawy lub budowy infrastruktury kolejowej  lub przeznaczony do prowadzenia działań ratowniczych    b \\xa0\\xa0 pkt 9a otrzymuje brzmienie   9a  usługa trakcyjna   działalność przewoźnika kolejowego polegającą na zapewnieniu pojazdu kolejowego z napędem wraz z obsługą maszynistów do wykonywania przewozu kolejowego albo zapewnienie obsługi maszynistów do prowadzenia pojazdu kolejowego z napędem    2 \\xa0\\xa0 w art  13  a \\xa0\\xa0 w ust  1a   \\xa0\\xa0\\xa0 pkt 2 otrzymuje brzmienie   2 \\xa0\\xa0\\xa0 wydawanie  przedłużanie ważności  zawieszanie  przywracanie i cofanie licencji maszynisty  aktualizacja danych zawartych w licencji maszynisty  wydawanie wtórników licencji maszynisty oraz prowadzenie i aktualizacja rejestru tych dokumentów     \\xa0\\xa0\\xa0 pkt 5 otrzymuje brzmienie \\xa0   5  nadzór nad ośrodkami szkolenia i egzaminowania maszynistów oraz kandydatów na maszynistów  zwanymi dalej  ośrodkami szkolenia i egzaminowania   oraz podmiotami uprawnionymi do przeprowadzania badań lekarskich i psychologicznych oraz orzekania w celu sprawdzenia spełnienia wymagań zdrowotnych  fizycznych i psychicznych  niezbędnych do uzyskania licencji maszynisty oraz świadectwa maszynisty  a także zachowania ich ważności     \\xa0\\xa0\\xa0 po pkt 5 dodaje się pkt 5a w brzmieniu   5a  prowadzenie i aktualizacja   a \\xa0\\xa0 rejestru ośrodków szkolenia i egzaminowania  b \\xa0\\xa0 listy podmiotów uprawnionych do przeprowadzania badań lekarskich i psychologicznych oraz orzekania w celu sprawdzenia spełnienia wymagań zdrowotnych  fizycznych i psychicznych  niezbędnych do uzyskania licencji maszynisty oraz świadectwa maszynisty  a także zachowania ich ważności    b  po ust  1a dodaje się ust  1b w brzmieniu    1b  do zadań prezesa utk należy także inicjowanie projektów aktów prawnych i ich zmian oraz udział w ich przygotowaniu w zakresie bezpieczeństwa ruchu kolejowego i bezpieczeństwa eksploatacji kolei    c  po ust  7c dodaje się ust  7d 7f w brzmieniu  \\xa0 7d  prezes utk w ramach nadzoru nad podmiotami uprawnionymi do przeprowadzania badań lekarskich i psychologicznych oraz orzekania w celu sprawdzenia spełnienia wymagań zdrowotnych  fizycznych i psychicznych  niezbędnych do uzyskania licencji oraz świadectwa maszynisty  a także zachowania ich ważności ma prawo  1  wstępu do pomieszczeń podmiotu wykonującego badania lekarskie i psychologiczne  2  kontroli dokumentacji medycznej i psychologicznej\\xa0 związanej z wykonanymi badaniami i orzekaniem  3  żądania ustnych i pisemnych wyjaśnień  7e  czynności  o których mowa w ust  7d  przeprowadza podmiot upoważniony przez prezesa utk  spełniający wymagania  o których mowa w art  22a ust  6 i nie wpisany na listę  o której mowa w art  22a ust  1 pkt 3   7f  z przeprowadzonej kontroli  o której mowa w ust  7d  sporządza się wystąpienie pokontrolne  które zawiera opis stanu faktycznego  opis ewentualnych nieprawidłowości i wnioski pokontrolne z określeniem terminu usunięcia stwierdzonych nieprawidłowości     3 \\xa0\\xa0 w art  16 w ust  2 pkt 3 otrzymuje brzmienie   3  nadzoru nad  a \\xa0 ośrodkami szkolenia i egzaminowania  b \\xa0 podmiotami uprawnionymi do przeprowadzania badań lekarskich i psychologicznych oraz orzekania w celu sprawdzenia spełnienia wymagań zdrowotnych  fizycznych i psychicznych  niezbędnych do uzyskania licencji maszynisty oraz świadectwa maszynisty  a także zachowania ich ważności   nie może być wyższa niż równowartość w złotych 2 000 euro rocznie  ustalona przy zastosowaniu kursu średniego ogłaszanego przez narodowy bank polski obowiązującego w dniu sporządzenia dokumentu pokontrolnego    4 \\xa0\\xa0 w art  18  a \\xa0\\xa0 w ust  1 pkt 2 otrzymuje brzmienie  \\xa0 2 \\xa0 przewoźnika kolejowego do  a \\xa0 uzyskania dostępu do infrastruktury kolejowej  b \\xa0 świadczenia usług trakcyjnych   jest certyfikat bezpieczeństwa    b \\xa0\\xa0 ust  5 otrzymuje brzmienie    5  z obowiązku uzyskania licencji maszynisty i świadectwa maszynisty zwolnieni są prowadzący pociągi lub pojazdy kolejowe po liniach kolejowych  o których mowa w ust  2 pkt 1  pojazdy kolejowe wyłącznie w obrębie bocznicy kolejowej  a także pojazdy kolejowe specjalne  które nie są przeznaczone do samodzielnej jazdy po czynnych torach kolejowych  do osób wykonujących te czynności stosuje się przepisy art  22d    5 \\xa0\\xa0 po art  20 dodaje się art  20a w brzmieniu   art  20a  minister właściwy do spraw transportu  na wniosek prezesa utk  określi  w drodze rozporządzenia  procedury techniczne utrzymania i eksploatacji w transporcie kolejowym regulujące   1  postępowanie osób wykonujących czynności na poszczególnych stanowiskach związanych z bezpieczeństwem ruchu kolejowego  2  sposób obsługi określonych urządzeń  pojazdów kolejowych lub ich elementów   3  sposób przeprowadzania określonych czynności niezbędnych dla zapewnienia wykonywania przewozów kolejowych    mając na uwadze potrzebę zapewnienia jednolitych warunków wykonywania działalności na sieci kolejowej rzeczypospolitej polskiej przez przewoźników kolejowych i zarządców oraz względy bezpieczeństwa transportu kolejowego     6 \\xa0\\xa0 w art  22  a \\xa0\\xa0 ust  1 otrzymuje brzmienie   1  prezes utk jest organem właściwym do wydawania  przedłużania ważności  zawieszania  przywracania i cofania licencji maszynisty oraz aktualizacji danych zawartych w licencji maszynisty i wydawania jej wtórników    b \\xa0\\xa0 po ust  2 dodaje się ust  2a 2e w brzmieniu   2a  z obowiązku odbycia szkolenia  o którym mowa w ust  2 pkt 5  zwolnieni są kandydaci na maszynistów ubiegający się o uzyskanie licencji maszynisty  którzy  1 \\xa0 posiadają dyplom albo inny dokument potwierdzający kwalifikacje zawodowe w zawodach  w których programy kształcenia zawierają zagadnienia z zakresu budowy pojazdów szynowych  ruchu kolejowego i sygnalizacji kolejowej  lub  2 \\xa0 ukończyli studia wyższe na kierunkach zawierających w programach studiów zagadnienia z zakresu budowy pojazdów szynowych  ruchu kolejowego i sygnalizacji kolejowej   2b  niekaralność  o której mowa w ust  2 pkt 1  powinna być potwierdzona złożeniem przez kandydata na maszynistę ubiegającego się o uzyskanie licencji maszynisty oświadczenia o niekaralności  składający oświadczenie jest obowiązany do zawarcia w nim klauzuli następującej treści   jestem świadomy odpowiedzialności karnej za złożenie fałszywego oświadczenia    klauzula ta zastępuje pouczenie organu o odpowiedzialności karnej za składanie fałszywych zeznań  2c  posiadacz licencji maszynisty poddaje się badaniom lekarskim i psychologicznym oraz uzyskuje orzeczenie lekarskie potwierdzające spełnienie wymagań zdrowotnych  fizycznych i psychicznych  określonych w przepisach wydanych na podstawie art  22a ust  11 pkt 2  w przypadku nieuzyskania orzeczenia lekarskiego licencja maszynisty traci ważność  2d  badania  o których mowa w ust  2c  przeprowadza się co  1 \\xa0 24 miesiące   do ukończenia 55  roku życia  2 \\xa0 12 miesięcy   po ukończeniu 55  roku życia   chyba że orzeczenie lekarskie wskazuje krótszy okres   2e  maszynista posiadający aktualne orzeczenie lekarskie potwierdzające spełnienie wymagań zdrowotnych  fizycznych i psychicznych  niezbędnych do uzyskania albo zachowania ważności świadectwa maszynisty  jest zwolniony z obowiązku  o którym mowa w ust  2c    c \\xa0\\xa0 ust  5 otrzymuje brzmienie   5  licencja maszynisty jest wydawana  w drodze decyzji  na okres 10 lat  zgodnie ze wzorem określonym w załączniku i do rozporządzenia komisji  ue  nr 36 2010 z dnia 3 grudnia 2009 r  w sprawie wspólnotowych wzorów licencji maszynisty  świadectw uzupełniających  uwierzytelnionych odpisów świadectw uzupełniających oraz wniosków o wydanie licencji maszynisty zgodnie z dyrektywą 2007 59 we parlamentu europejskiego i rady  dz  urz  ue l 13 z 19 01 2010  str  1   zwanego dalej  rozporządzeniem  ue  nr 36 2010   po upływie tego okresu prezes utk  na wniosek posiadacza licencji maszynisty  w drodze decyzji  przedłuża jej ważność  wydając nowy dokument na kolejne 10 lat od dnia upływu terminu ważności dotychczasowej licencji maszynisty  po uprzednim sprawdzeniu ważności orzeczenia lekarskiego potwierdzającego spełnienie wymagań zdrowotnych  fizycznych i psychicznych  niezbędnych do uzyskania albo zachowania ważności licencji maszynisty lub świadectwa maszynisty    d \\xa0\\xa0 po ust  6 dodaje się ust  6a w brzmieniu   6a  prezes utk  w drodze decyzji  przywraca licencję maszynisty  która została zawieszona  jeżeli jej posiadacz uzyskał orzeczenie lekarskie  o którym mowa w ust  5    e \\xa0\\xa0 ust  8 otrzymuje brzmienie   8  decyzjom  o których mowa w ust  6 7 i 12  prezes utk nadaje rygor natychmiastowej wykonalności    f \\xa0\\xa0\\xa0 po ust  8 dodaje się ust  8a w brzmieniu   8a  posiadacz licencji maszynisty jest obowiązany zawiadomić prezesa utk o utracie tego dokumentu  jego zniszczeniu w stopniu powodującym nieczytelność  a także o zmianie stanu faktycznego wymagającej aktualizacji danych w nim zawartych  w terminie 30 dni od dnia zaistnienia tego zdarzenia    g \\xa0\\xa0 ust  9 otrzymuje brzmienie   9  w przypadkach  o których mowa w ust  8a  prezes utk  na podstawie wniosku  wydaje na okres pozostający do końca okresu ważności dotychczasowej licencji maszynisty wtórnik licencji maszynisty  a w przypadku aktualizacji danych zawartych w tym dokumencie   nową licencję maszynisty    h \\xa0\\xa0 po ust  9 dodaje się ust  9a w brzmieniu   9a  posiadacz licencji maszynisty  który po wydaniu wtórnika licencji maszynisty odzyskał utracony dokument  jest obowiązany zwrócić ten dokument prezesowi utk    7 \\xa0\\xa0 w art  22a  a \\xa0\\xa0 w ust  1 pkt 2 i 3 otrzymują brzmienie   2 \\xa0\\xa0 rejestr ośrodków szkolenia i egzaminowania  3 \\xa0 listę podmiotów uprawnionych do przeprowadzania badań lekarskich i psychologicznych oraz orzekania  w celu sprawdzenia spełnienia wymagań zdrowotnych  fizycznych i psychicznych  niezbędnych do uzyskania licencji oraz świadectwa maszynisty  a także zachowania ich ważności    b \\xa0\\xa0 po ust  1 dodaje się ust  1a w brzmieniu   1a  prezes utk udostępnia dane zgromadzone w rejestrze  o którym mowa w ust  1 pkt 1  na wniosek  1 \\xa0 państwowej komisji badania wypadków kolejowych zgodnie z art  28h ust  2 pkt 2 oraz komisji kolejowej  o której mowa w art  28m  2 \\xa0 agencji   w celu przeprowadzenia oceny procesu przyznawania uprawnień maszynistom w unii europejskiej  3 \\xa0 przewoźnika kolejowego  zarządcy lub innego podmiotu  u którego maszynista jest zatrudniony lub na rzecz którego świadczy usługi   w celu sprawdzenia statusu licencji maszynisty  4 \\xa0 właściwego organu innego państwa członkowskiego unii europejskiej  w zakresie dotyczącym maszynistów prowadzących pociągi po infrastrukturze kolejowej tego państwa  w celu  a \\xa0\\xa0 kontroli pociągów kursujących na obszarze jego właściwości   b \\xa0\\xa0 prowadzenia postępowań odnoszących się do przestrzegania przepisów unii europejskiej dotyczących przyznawania uprawnień maszynistom  c \\xa0\\xa0 prowadzenia postępowania w sprawie poważnego wypadku  wypadku lub incydentu  5 \\xa0 innego podmiotu  jeżeli obowiązek udostępnienia danych wynika z odrębnych przepisów    c \\xa0\\xa0 ust  2 4 otrzymują brzmienie   2  rejestr  o którym mowa w ust  1 pkt 2  oraz lista  o której mowa w ust  1 pkt 3  są jawne i udostępniane w biuletynie informacji publicznej na stronie podmiotowej prezesa utk  3  za czynności prezesa utk w zakresie wpisu do rejestru  o którym mowa w ust  1 pkt 2  oraz wpisu na listę  o której mowa w ust  1 pkt 3  pobierana jest opłata w wysokości stanowiącej równowartość w złotych 200 euro  ustalonej przy zastosowaniu kursu średniego  ogłaszanego przez narodowy bank polski  obowiązującego w dniu wpisu  opłaty stanowią dochód budżetu państwa  \\xa04  prowadzenie ośrodka szkolenia i egzaminowania jest działalnością regulowaną w rozumieniu przepisów ustawy z dnia 2 lipca 2004 r  o swobodzie działalności gospodarczej  dz  u  z 2013 r  poz  672 i 675     d \\xa0\\xa0 po ust  4 dodaje się ust  4a 4c w brzmieniu   4a  przedsiębiorca prowadzący działalność  o której mowa w ust  4  podlega wpisowi do rejestru  o którym mowa w ust  1 pkt 2  4b  obowiązek  o którym mowa w ust  4a  dotyczy również przedsiębiorcy z innego państwa członkowskiego unii europejskiej prowadzącego na terytorium rzeczypospolitej polskiej działalność  o której mowa w ust  4  uznanego przez właściwy organ innego państwa członkowskiego unii europejskiej zgodnie z przepisami komisji europejskiej dotyczącymi uznawania ośrodków szkoleniowych prowadzących szkolenia zawodowe dla maszynistów   4c  zakres czynności wykonywanych przez ośrodek szkolenia i egzaminowania obejmuje   1 \\xa0 szkolenie i egzaminowanie kandydatów na maszynistów ubiegających się o uzyskanie licencji maszynisty w zakresie ogólnej wiedzy zawodowej  2 \\xa0 szkolenie i egzaminowanie kandydatów na maszynistów ubiegających się o uzyskanie świadectw maszynisty w zakresie wiedzy i umiejętności dotyczących  a \\xa0\\xa0 infrastruktury kolejowej  b \\xa0\\xa0 pojazdu kolejowego  3 \\xa0 przeprowadzanie szkoleń i sprawdzianów wiedzy i umiejętności maszynistów  lub 4 \\xa0 szkolenie i egzaminowanie maszynistów z innych państw członkowskich unii europejskiej w zakresie ogólnych kompetencji językowych  zasad ruchu kolejowego i sygnalizacji na sieci kolejowej rzeczypospolitej polskiej    e \\xa0\\xa0 w ust  5   \\xa0\\xa0\\xa0 uchyla się pkt 1   \\xa0\\xa0\\xa0 pkt 5 otrzymuje brzmienie   5 \\xa0\\xa0\\xa0 który prowadzi szkolenia na podstawie programów szkoleń  o których mowa odpowiednio w przepisach wydanych na podstawie ust  11 pkt 6 i art  22b ust  21 pkt 2     \\xa0\\xa0\\xa0 po pkt 5 dodaje się pkt 5a i 5b w brzmieniu   5a  zapewniający prowadzenie  a \\xa0\\xa0 szkoleń przez instruktorów  którzy   \\xa0\\xa0\\xa0 spełniają wymagania dotyczące instruktorów określone w przepisach wydanych na podstawie ust  11 pkt 10   \\xa0\\xa0\\xa0 są wpisani do wykazu  o którym mowa w ust  8 pkt 1  b \\xa0\\xa0 egzaminów przez egzaminatorów  którzy    \\xa0\\xa0\\xa0 spełniają wymagania określone w przepisach wydanych na podstawie ust  11 pkt 10   \\xa0\\xa0\\xa0 są wpisani do wykazu  o którym mowa w ust  8 pkt 1   \\xa0\\xa0\\xa0 złożyli pisemną deklarację prowadzenia egzaminów w sposób bezstronny i niedyskryminujący  5b  który zawiadamia prezesa utk  nie później niż 14 dni przed planowanym egzaminem  o terminie i miejscu jego przeprowadzenia     \\xa0\\xa0\\xa0 pkt 6 otrzymuje brzmienie   6 \\xa0\\xa0\\xa0 który spełnia szczegółowe wymagania określone w przepisach wydanych na podstawie ust  11 pkt 9    f \\xa0\\xa0\\xa0 ust  6 8 otrzymują brzmienie   6  badania lekarskie i psychologiczne w celu sprawdzenia spełnienia wymagań zdrowotnych  fizycznych i psychicznych  niezbędnych do uzyskania licencji maszynisty oraz świadectwa maszynisty  a także zachowania ich ważności  mogą prowadzić podmioty uprawnione do wykonywania badań w służbie medycyny pracy  zajmujące się zadaniami medycyny kolejowej  7  wpis do rejestru  o którym mowa w ust  1 pkt 2  a także na listę  o której mowa w ust  1 pkt 3  jest dokonywany na pisemny wniosek zainteresowanego podmiotu zawierający następujące informacje  1 \\xa0 firmę podmiotu  2 \\xa0 oznaczenie siedziby i adresu albo miejsca zamieszkania i adresu podmiotu  3 \\xa0 numer podmiotu w odpowiednim rejestrze  4 \\xa0 numer identyfikacji podatkowej  nip   o ile podmiot taki numer posiada  5 \\xa0 zakres czynności  o których mowa w ust  4c   w przypadku wpisu do rejestru  o którym mowa w ust  1 pkt 2  8  przedsiębiorca ubiegający się o wpis do rejestru  o którym mowa w ust  1 pkt 2  wraz z wnioskiem składa  1 \\xa0 wykaz zawierający imiona i nazwiska instruktorów oraz egzaminatorów wraz z kserokopiami dokumentów potwierdzających ich kwalifikacje i wykształcenie   2 \\xa0 deklaracje  o których mowa w ust  5 pkt 5a lit  b tiret trzecie  3 \\xa0 pisemne oświadczenie następującej treści   oświadczam  że  1 \\xa0\\xa0 dane zawarte we wniosku o wpis do rejestru ośrodków szkolenia i egzaminowania są kompletne i zgodne z prawdą  2 \\xa0\\xa0 spełniam warunki wykonywania działalności gospodarczej w zakresie prowadzenia ośrodka szkolenia i egzaminowania maszynistów oraz kandydatów na maszynistów  określone w ustawie z dnia 28 marca 2003 r  o transporcie kolejowym      g \\xa0\\xa0 po ust  8 dodaje się ust  8a w brzmieniu   8a  przedsiębiorca  o którym mowa w ust  4b  jest zwolniony z obowiązku składania dokumentów potwierdzających spełnienie przez instruktorów i egzaminatorów wymagań określonych w przepisach wydanych na podstawie ust  11 pkt 10  jeżeli ich spełnienie zostało uprzednio sprawdzone przez właściwy organ innego państwa członkowskiego unii europejskiej  a nie odnoszą się one do prowadzenia szkoleń i egzaminów wyłącznie na sieci kolejowej rzeczypospolitej polskiej    h \\xa0\\xa0 w ust  9 wprowadzenie do wyliczenia otrzymuje brzmienie    oświadczenie  o którym mowa w ust  8 pkt 3  powinno również określać    i \\xa0\\xa0\\xa0 po ust  9 dodaje się ust  9a 9c w brzmieniu   9a  w przypadku gdy przedsiębiorca prowadzący ośrodek szkolenia i egzaminowania składa wniosek o  1 \\xa0 wpisanie do wykazu  o którym mowa w ust  8 pkt 1  instruktorów lub egzaminatorów prowadzących odpowiednio szkolenia lub egzaminy w tym ośrodku szkolenia i egzaminowania   przepisy ust  8 pkt 1 i 2 stosuje się odpowiednio  2 \\xa0 rozszerzenie zakresu wykonywanych czynności   przepisy ust  8 pkt 3 stosuje się odpowiednio   9b  prezes utk zatwierdza albo odmawia  w drodze decyzji  zatwierdzenia zmian  o których mowa w ust  9a  9c  prezes utk odmawia zatwierdzenia zmian  o których mowa w ust  9a  jeżeli  1 \\xa0 przedsiębiorca prowadzący ośrodek szkolenia i egzaminowania nie przedłożył wraz z wnioskiem oświadczenia o spełnianiu wymagań określonych w przepisach wydanych na podstawie ust  11 pkt 9  niezbędnych do wykonywania działalności w zakresie czynności objętych tym wnioskiem   dotyczy wniosku o rozszerzenie zakresu wykonywanych czynności  2 \\xa0 osoba  której dotyczy wniosek o wpis do wykazu  o którym mowa w ust  8 pkt 1  nie spełnia któregokolwiek z wymagań określonych w przepisach wydanych na podstawie ust  11 pkt 10    j \\xa0\\xa0\\xa0 ust  10 otrzymuje brzmienie   10  prezes utk wykreśla  w drodze decyzji  ośrodek szkolenia i egzaminowania z rejestru  o którym mowa w ust  1 pkt 2  w przypadku   1 \\xa0 określonym w art  71 ustawy z dnia 2 lipca 2004 r  o swobodzie działalności gospodarczej  2 \\xa0 wydania prawomocnego orzeczenia zakazującego przedsiębiorcy prowadzenia tej działalności  3 \\xa0 gdy wobec przedsiębiorcy ukończono postępowanie likwidacyjne albo upadłościowe obejmujące likwidację majątku upadłego    k \\xa0\\xa0 po ust  10 dodaje się ust  10a i 10b w brzmieniu   10a  rażącym naruszeniem warunków wykonywania działalności w zakresie prowadzenia ośrodka szkolenia i egzaminowania jest  1 \\xa0 prowadzenie szkoleń w sposób niezgodny z programami szkolenia  2 \\xa0 wydanie niezgodnie ze stanem faktycznym dokumentów potwierdzających ukończenie szkolenia i zdanie egzaminu  3 \\xa0 uporczywe uchylanie się od obowiązku zawiadamiania prezesa utk o zamiarze przeprowadzenia egzaminów  4 \\xa0 prowadzenie szkoleń lub egzaminów przez osoby niewpisane do wykazu  o którym mowa w ust  8 pkt 1  5 \\xa0 prawomocne skazanie przedsiębiorcy za przestępstwo  o którym mowa w ust  5 pkt 3   dotyczy osoby fizycznej lub członków organów osoby prawnej  10b  prezes utk wykreśla  w drodze decyzji  z listy  o której mowa w ust  1 pkt 3  podmiot  który przestał spełniać wymagania  o których mowa w ust  6  lub szczegółowe wymagania określone w przepisach wydanych na podstawie ust  13    l \\xa0\\xa0\\xa0 ust  11 13 otrzymują brzmienie   11  minister właściwy do spraw transportu określi  w drodze rozporządzenia  1 \\xa0 szczegółowe warunki i tryb wydawania  przedłużania ważności  zawieszania  przywracania i cofania licencji maszynisty  aktualizacji danych zawartych w licencji maszynisty oraz wydawania jej wtórników  2 \\xa0 wymagania zdrowotne  fizyczne i psychiczne  jakie powinny spełniać osoby ubiegające się o licencję maszynisty albo o zachowanie jej ważności  3 \\xa0 zakres badań lekarskich i psychologicznych oraz sposób oceny zdolności fizycznej i psychicznej osób ubiegających się o licencję maszynisty albo o zachowanie jej ważności oraz tryb orzekania o tej zdolności  4 \\xa0 wzory dokumentów potwierdzających zdolność fizyczną i psychiczną osób ubiegających się o licencję maszynisty albo o zachowanie jej ważności  5 \\xa0 zakres wiedzy i umiejętności objętych szkoleniem i egzaminem niezbędny do uzyskania licencji maszynisty  6 \\xa0 program oraz czas trwania szkolenia kandydatów na maszynistów ubiegających się o licencję maszynisty  7 \\xa0 sposób  formę i tryb przygotowania oraz przeprowadzania egzaminów dla kandydatów na maszynistów ubiegających się o licencję maszynisty  a także tryb pracy komisji egzaminacyjnej  8 \\xa0 sposób ustalania numeru identyfikacyjnego ośrodka szkolenia i egzaminowania wpisywanego do rejestru  o którym mowa w ust  1 pkt 2  zakres danych ujętych w rejestrze  a także sposób uiszczania opłat za wpis do tego rejestru  9 \\xa0 szczegółowe wymagania w stosunku do przedsiębiorców ubiegających się o wpis do rejestru ośrodków szkolenia i egzaminowania   10 \\xa0\\xa0 wymagania kwalifikacyjne dla instruktorów i egzaminatorów wykonujących czynności w ośrodku szkolenia i egzaminowania  a także rodzaje dokumentów potwierdzających ich kwalifikacje i wykształcenie  11 \\xa0\\xa0 warunki  sposób prowadzenia rejestru licencji maszynistów  zakres danych w nim ujętych oraz okres ich przechowywania  wzór tego rejestru  a także tryb przekazywania danych ujętych w rejestrze podmiotom  o których mowa w ust  1a   12 \\xa0\\xa0 wzór  a \\xa0\\xa0 wniosku o wydanie licencji maszynisty  przedłużenie ważności  wydanie wtórnika  przywrócenie tego dokumentu i aktualizację danych w nim zawartych  b \\xa0\\xa0 dokumentu potwierdzającego ukończenie szkolenia i zdanie egzaminu w celu uzyskania licencji maszynisty  c \\xa0\\xa0 deklaracji  o której mowa w ust  5 pkt 5a lit  b tiret trzecie  12  minister właściwy do spraw transportu wyda rozporządzenie  o którym mowa w ust  11  mając na uwadze  1 \\xa0 konieczność zapewnienia sprawności procedury uzyskiwania licencji maszynisty  2 \\xa0 konieczność uwzględnienia specyfiki pracy na stanowisku maszynisty przy określeniu wymagań zdrowotnych  jakie powinny spełniać osoby ubiegające się o licencję maszynisty albo o zachowanie jej ważności  3 \\xa0 konieczność przeprowadzenia badań niezbędnych dla właściwej oceny zdolności fizycznej i psychicznej do prowadzenia pojazdów kolejowych  4 \\xa0 zapewnienie sprawności procedury wydawania dokumentów potwierdzających zdolność fizyczną i psychiczną osób ubiegających się o licencję maszynisty albo o zachowanie jej ważności  5 \\xa0 zakres wiedzy i umiejętności niezbędny do bezpiecznego prowadzenia pociągów i pojazdów kolejowych  6 \\xa0 konieczność zapewnienia odpowiedniej liczby godzin szkolenia dla kandydatów na maszynistów ubiegających się o licencję maszynisty  zapewniającej uzyskanie znajomości faktów  zasad  procesów i pojęć ogólnych związanych z pracą na stanowisku maszynisty  7 \\xa0 konieczność przeprowadzenia pisemnego egzaminu testowego dla kandydatów na maszynistów ubiegających się o licencję maszynisty  zagwarantowania właściwej organizacji i odpowiedniego poziomu merytorycznego tego egzaminu  a także zapewnienia jednakowych warunków ich przeprowadzenia  8 \\xa0 zalecenia komisji europejskiej dotyczące procedury nadawania numerów identyfikacyjnych ośrodkom szkolenia i egzaminowania  9 \\xa0 przepisy unii europejskiej dotyczące wymagań  jakie powinny spełniać ośrodki szkolenia i egzaminów  10 \\xa0\\xa0 konieczność zapewnienia odpowiedniego poziomu merytorycznego szkoleń oraz egzaminów dla kandydatów na maszynistów ubiegających się o licencję maszynisty oraz określenia dodatkowych wymagań dotyczących znajomości języka polskiego  zasad ruchu kolejowego i sygnalizacji na sieci kolejowej rzeczypospolitej polskiej  dla instruktorów i egzaminatorów z innych państw członkowskich unii europejskiej  prowadzących szkolenia i egzaminy na sieci kolejowej rzeczypospolitej polskiej  11 \\xa0\\xa0 przepisy unii europejskiej dotyczące rejestru licencji maszynistów  12 \\xa0\\xa0 potrzebę ujednolicenia wydawanych dokumentów i ich zabezpieczenie przed podrobieniem lub przerobieniem  13  minister właściwy do spraw transportu w porozumieniu z ministrem właściwym do spraw zdrowia określi  w drodze rozporządzenia  szczegółowe wymagania w stosunku do podmiotów ubiegających się o wpis na listę podmiotów uprawnionych do przeprowadzania badań lekarskich i psychologicznych oraz orzekania w celu sprawdzenia spełnienia wymagań zdrowotnych  fizycznych i psychicznych  niezbędnych do uzyskania licencji maszynisty oraz świadectwa maszynisty  a także zachowania ich ważności  tryb dokonywania wpisu na listę oraz wykreślania z niej  zakres danych ujętych na liście  wzór wniosku o wpis na listę  a także sposób uiszczania opłat  mając na uwadze  1 \\xa0 konieczność zapewnienia właściwych kwalifikacji osób uprawnionych do przeprowadzania badań w celu sprawdzenia spełnienia wymagań zdrowotnych  fizycznych i psychicznych niezbędnych do uzyskania licencji maszynisty oraz świadectwa maszynisty  a także zachowania ich ważności  2 \\xa0 konieczność zapewnienia właściwych warunków przeprowadzania takich badań  3 \\xa0 jasność i przejrzystość danych ujętych na liście    8 \\xa0\\xa0 w art  22b  a \\xa0\\xa0 ust  1 otrzymuje brzmienie   1  przewoźnicy kolejowi i zarządcy wydają świadectwa maszynistom przez nich zatrudnionym lub świadczącym usługi na ich rzecz  zgodnie ze wzorem określonym w załączniku ii do rozporządzenia  ue  nr 36 2010    b \\xa0\\xa0 po ust  1 dodaje się ust  1a w brzmieniu   1a  warunkami niezbędnymi do uzyskania świadectwa maszynisty są  1  posiadanie licencji maszynisty  2  odbycie szkolenia i zdanie egzaminu przeprowadzonych w trybie i w sposób określony w przepisach wydanych na podstawie ust  21 pkt 2 i 3   dotyczy kandydatów na maszynistów  3  odbycie szkolenia i złożenie z wynikiem pozytywnym sprawdzianu wiedzy i umiejętności przeprowadzonych w trybie i w sposób określony w przepisach wydanych na podstawie ust  21 pkt 4   dotyczy maszynistów ubiegających się o uzyskanie kolejnego świadectwa maszynisty  4  uzyskanie orzeczenia lekarskiego potwierdzającego spełnienie wymagań zdrowotnych  fizycznych i psychicznych  określonych w przepisach wydanych na podstawie ust  22 pkt 1  po przeprowadzeniu badań lekarskich i psychologicznych    c \\xa0\\xa0 ust  2 i 3 otrzymują brzmienie   2  świadectwo maszynisty uprawnia do prowadzenia pociągu lub pojazdu kolejowego u przewoźnika kolejowego lub zarządcy  który je wydał  w ramach określonej kategorii uprawnień i jest ważne na określoną w nim infrastrukturę kolejową oraz określone typy pojazdów kolejowych  kategorie i podkategorie uprawnień określa rozporządzenie  ue  nr 36 2010  3  świadectwo maszynisty może zawierać uprawnienie do prowadzenia pociągów lub pojazdów kolejowych we wszystkich kategoriach i podkategoriach  o których mowa w ust  2    d  po ust  3 dodaje się ust  3a i 3b w brzmieniu   3a  w przypadku świadczenia usługi trakcyjnej dopuszcza się prowadzenie pociągu lub pojazdu kolejowego przez maszynistę na podstawie świadectwa maszynisty wydanego przez innego przewoźnika kolejowego lub zarządcę  3b  w przypadku  o którym mowa w ust  3a  przewoźnik kolejowy  na rzecz którego maszynista prowadzi pojazd kolejowy lub pociąg jest obowiązany do zapewnienia zapoznania tego maszynisty z obowiązującymi u niego regulacjami wewnętrznymi w zakresie niezbędnym do bezpiecznego prowadzenia pojazdu kolejowego lub pociągu    e \\xa0\\xa0 w ust  5 uchyla się pkt 3  f \\xa0\\xa0\\xa0 ust  7 otrzymuje brzmienie   7  w celu zachowania ważności świadectwa maszynisty  maszynista przechodzi okresowe badania lekarskie i psychologiczne oraz uzyskuje orzeczenie lekarskie potwierdzające spełnienie wymagań zdrowotnych  fizycznych i psychicznych określonych w przepisach wydanych na podstawie ust  22 pkt 1 oraz przechodzi szkolenia  a także okresowe sprawdziany wiedzy i umiejętności  w trybie i na warunkach określonych w przepisach wydanych na podstawie ust  21 pkt 4     g \\xa0\\xa0 po ust  7 dodaje się ust  7a 7g w brzmieniu    7a  badania  o których mowa w ust  7  przeprowadza się co  1 \\xa0 24 miesiące   do ukończenia 55  roku życia  2 \\xa0 12 miesięcy   po ukończeniu 55  roku życia   chyba że orzeczenie lekarskie wskazuje krótszy okres  7b  badania  o których mowa w ust  7  przeprowadza się w okresach krótszych niż okresy  o których mowa w ust  7a  1 \\xa0 po każdym poważnym wypadku  w którym uczestniczył maszynista  2 \\xa0 po zakończeniu czasowej niezdolności do pracy spowodowanej chorobą  trwającej dłużej niż 30 dni  3 \\xa0 w przypadku powrotu maszynisty do pracy po przerwie trwającej dłużej niż 6 miesięcy  4 \\xa0 w razie uzasadnionego podejrzenia utraty zdolności fizycznej lub psychicznej do kierowania pojazdem kolejowym lub pociągiem   5 \\xa0 w przypadku określonym w ust  16  6 \\xa0 w innych przypadkach określonych w przepisach dotyczących profilaktycznej ochrony zdrowia pracowników  7c  badania  o których mowa w ust  1a pkt 4  ust  7 i 7b  są wykonywane  z zastrzeżeniem ust  7a oraz przepisów wydanych na podstawie ust  22  w zakresie i na zasadach określonych w ustawie z dnia 26 czerwca 1974 r    kodeks pracy  dz  u  z 1998 r  nr 21  poz  94  z późn  zm  2      7d  przejście przez maszynistę badań  o których mowa w ust  1a pkt 4  ust  7 i 7b  uznaje się za równoznaczne ze spełnieniem obowiązków pracownika w zakresie wykonywania wstępnych  okresowych i kontrolnych badań lekarskich  o których mowa w art  229   1 i 2 kodeksu pracy  7e  przewoźnicy kolejowi i zarządcy nie mogą dopuścić do pracy na stanowisku maszynisty osoby bez aktualnego orzeczenia lekarskiego potwierdzającego spełnienie wymagań zdrowotnych  fizycznych i psychicznych  niezbędnych do uzyskania świadectwa maszynisty albo zachowania jego ważności  z wyjątkiem przypadku określonego w ust  18 pkt 4 w odniesieniu do kandydatów na maszynistów   7f  przewoźnicy kolejowi oraz zarządcy są obowiązani do  1 \\xa0 kierowania maszynistów na badania lekarskie i psychologiczne w celu uzyskania świadectwa maszynisty lub zachowania jego ważności  2 \\xa0 pokrywania kosztów badań lekarskich i psychologicznych  o których mowa w pkt 1  3 \\xa0 przechowywania orzeczeń lekarskich maszynistów  7g  spełnienie przez przewoźników kolejowych i zarządców obowiązków  o których mowa w ust  7f pkt 1 i 2  uznaje się za równoznaczne ze spełnieniem obowiązków pracodawcy w zakresie wykonywania wstępnych  okresowych i kontrolnych badań lekarskich  o których mowa w art  229   1 i 2 kodeksu pracy    h  uchyla się ust  9  i \\xa0\\xa0\\xa0 ust  11 otrzymuje brzmienie   11  w przypadku  o którym mowa w ust  10  przewoźnik kolejowy i zarządca wydają maszyniście odpis uzyskanego świadectwa maszynisty  którego wzór określa załącznik iii do rozporządzenia  ue  nr 36 2010  oraz inne dokumenty potwierdzające uzyskane kwalifikacje    j \\xa0\\xa0\\xa0 ust  14 otrzymuje brzmienie   14  przewoźnicy kolejowi i zarządcy prowadzą rejestry wydawanych przez siebie świadectw maszynistów    k \\xa0\\xa0 po ust  14 dodaje się ust  14a w brzmieniu   14a  przewoźnicy kolejowi i zarządcy udostępniają dane zgromadzone w rejestrach  o których mowa w ust  14  oraz informację o treści wydanych świadectw maszynisty  1 \\xa0 prezesowi utk  2 \\xa0 państwowej komisji badania wypadków kolejowych zgodnie z art  28h ust  2 pkt 2 oraz komisji kolejowej  o której mowa w art  28m   3 \\xa0 właściwym organom innych państw członkowskich unii europejskiej  w przypadku wykonywania przez przewoźnika kolejowego lub zarządcę działalności transgranicznej  4 \\xa0 innym podmiotom  jeżeli obowiązek udostępnienia danych wynika z odrębnych przepisów    l \\xa0\\xa0\\xa0 ust  18 i 19 otrzymują brzmienie   18  w przypadku  1 \\xa0 zakłóceń w ruchu kolejowym w wyniku prowadzonych robót na torach lub powodujących konieczność odstępstw od wykonywania przewozów kolejowych na podstawie obowiązującego rozkładu jazdy pociągów  zgodnie z ustaleniami zarządcy  2 \\xa0 jednorazowych przewozów kolejowych  za zgodą zarządcy  3 \\xa0 dostawy lub prezentacji nowego pociągu lub pojazdu kolejowego  4 \\xa0 szkolenia lub egzaminowania maszynistów oraz kandydatów na maszynistów  5 \\xa0 wykonywania przewozów technologicznych    jeżeli maszynista albo kandydat na maszynistę ubiegający się o świadectwo maszynisty nie posiadają znajomości odcinków linii kolejowych  na których mają prowadzić pojazd kolejowy lub pociąg  mogą go prowadzić  pod warunkiem że podczas jazdy obok nich znajduje się inny maszynista lub przedstawiciel zarządcy posiadający udokumentowaną znajomość tych odcinków  \\xa019  w przypadkach  o których mowa w ust  18  w razie braku możliwości zapewnienia obecności osób  o których mowa w tym przepisie  maszynista może prowadzić pojazd kolejowy lub pociąg po spełnieniu warunków określonych w przepisach wydanych na podstawie art  17 ust  7     m  uchyla się ust  20  n \\xa0\\xa0 po ust  20 dodaje się ust  20a i 20b w brzmieniu   20a  maszynista jest obowiązany niezwłocznie powiadomić przewoźnika kolejowego lub zarządcę  na rzecz którego świadczy pracę lub usługi  o okolicznościach dotyczących jego stanu zdrowia mających wpływ na zdolność prawidłowego realizowania przez niego uprawnień wynikających z posiadanego świadectwa maszynisty  20b  przepisy ust  20a stosuje się odpowiednio do prowadzącego pojazdy kolejowe  który świadczy pracę lub usługi na rzecz użytkownika bocznicy kolejowej lub przedsiębiorcy wykonującego przewozy w obrębie bocznicy kolejowej    o  ust  21 i 22 otrzymują brzmienie   21  minister właściwy do spraw transportu określi  w drodze rozporządzenia  1 \\xa0 zakres wiedzy i umiejętności dotyczących pojazdu kolejowego i infrastruktury kolejowej  objętych szkoleniem i egzaminem  które są niezbędne do uzyskania świadectwa maszynisty  2 \\xa0 program oraz czas trwania szkolenia kandydatów na maszynistów ubiegających się o uzyskanie świadectwa maszynisty   3 \\xa0 sposób  formę oraz tryb przygotowania i przeprowadzania egzaminów dla kandydatów na maszynistów ubiegających się o uzyskanie świadectwa maszynisty oraz tryb pracy komisji egzaminacyjnej przeprowadzającej te egzaminy  4 \\xa0 tryb oraz szczegółowe warunki i minimalną częstotliwość przeprowadzania szkoleń oraz sprawdzianów wiedzy i umiejętności maszynistów  5 \\xa0 zakres danych dotyczących infrastruktury kolejowej ujęty w świadectwie maszynisty  6 \\xa0 szczegółowe warunki i sposób prowadzenia rejestru świadectw maszynistów  zakres danych w nim ujętych  a także okres ich przechowywania  wzór tego rejestru oraz tryb udostępniania danych ujętych w rejestrze podmiotom  o których mowa w ust  14a   mając na uwadze zakres wiedzy i umiejętności niezbędny do zapewnienia właściwych kwalifikacji maszynistów  konieczność dostosowania programu szkolenia do wykształcenia i doświadczenia zawodowego kandydatów na maszynistów  przy zapewnieniu niezbędnej liczby godzin stażu stanowiskowego  szkolenia teoretycznego i praktycznego oraz prowadzenia pojazdu kolejowego pod nadzorem  konieczność przeprowadzenia teoretycznej i praktycznej części egzaminu dla kandydatów na maszynistów ubiegających się o uzyskanie świadectwa maszynisty  zagwarantowania właściwej organizacji i odpowiedniego poziomu merytorycznego tych egzaminów  a także zapewnienia jednakowych warunków ich przeprowadzenia  konieczność zapewnienia ciągłości realizacji procesu doskonalenia zawodowego maszynistów i monitorowania posiadanych przez nich uprawnień oraz przepisy unii europejskiej dotyczące rejestru świadectw maszynistów  22  minister właściwy do spraw transportu w porozumieniu z ministrem właściwym do spraw zdrowia określi  w drodze rozporządzenia  1 \\xa0 wymagania zdrowotne  fizyczne i psychiczne  jakie powinny spełniać osoby ubiegające się o świadectwo maszynisty albo o zachowanie jego ważności  2 \\xa0 zakres badań lekarskich i psychologicznych oraz sposób oceny zdolności fizycznej i psychicznej osób ubiegających się o świadectwo maszynisty albo o zachowanie jego ważności oraz tryb orzekania o tej zdolności  3 \\xa0 wzory dokumentów potwierdzających zdolność fizyczną i psychiczną osób ubiegających się o świadectwo maszynisty albo o zachowanie jego ważności   mając na uwadze konieczność przeprowadzenia badań niezbędnych dla właściwej oceny zdolności fizycznej i psychicznej do prowadzenia pojazdów kolejowych  konieczność uwzględnienia specyfiki pracy na stanowisku maszynisty przy określeniu wymagań zdrowotnych  sprawność procedury wydawania dokumentów potwierdzających zdolność fizyczną i psychiczną osób ubiegających się o świadectwo maszynisty albo o zachowanie jego ważności  a także konieczność ujednolicenia wydawanych dokumentów i ich zabezpieczenie przed podrobieniem lub przerobieniem     9 \\xa0\\xa0\\xa0\\xa0 art  22c otrzymuje brzmienie   art  22c  1  przewoźnik kolejowy i zarządca mogą zawrzeć z kandydatem na maszynistę umowę zobowiązującą tego kandydata do zwrotu części albo całości kosztów poniesionych na jego szkolenie  jeżeli rozwiązanie lub wygaśnięcie umowy o pracę lub innego stosunku prawnego wiążącego kandydata na maszynistę z odpowiednio przewoźnikiem kolejowym albo zarządcą nastąpiło przed ustalonym w tej umowie terminem  z przyczyny leżącej po stronie tego kandydata  2  przepis ust  1 stosuje się odpowiednio w przypadku szkolenia maszynisty ubiegającego się o uzyskanie kolejnego świadectwa maszynisty    10 \\xa0 po art  22c dodaje się art  22ca w brzmieniu   art  22ca  1  maszynista jest obowiązany do niezwłocznego poinformowania przewoźnika kolejowego lub zarządcy  na rzecz których świadczy pracę lub usługi  w drodze pisemnego oświadczenia  o  1 \\xa0\\xa0 świadczeniu pracy lub usług na rzecz więcej niż jednego przewoźnika kolejowego  zarządcy  użytkownika bocznicy kolejowej lub przedsiębiorcy wykonującego przewozy w obrębie bocznicy kolejowej albo 2 \\xa0\\xa0 niewykonywaniu czynności maszynisty albo prowadzącego pojazdy kolejowe na rzecz innego przewoźnika kolejowego  zarządcy  użytkownika bocznicy kolejowej lub przedsiębiorcy wykonującego przewozy w obrębie bocznicy kolejowej  2  maszynista składa oświadczenie  o którym mowa w ust  1  w dniu rozpoczęcia pracy lub świadczenia usług  a następnie w każdym przypadku podjęcia albo zaprzestania wykonywania czynności maszynisty na rzecz więcej niż jednego podmiotu  3  oświadczenie  o którym mowa w ust  1 pkt 1  powinno zawierać informację dotyczącą przeciętnej tygodniowej liczby godzin prowadzenia pojazdu kolejowego lub pociągu u innego przewoźnika kolejowego  zarządcy  użytkownika bocznicy kolejowej lub przedsiębiorcy wykonującego przewozy w obrębie bocznicy kolejowej  4  jeżeli zostało złożone oświadczenie  o którym mowa w ust  1 pkt 1  przewoźnik kolejowy lub zarządca  przekazuje je prezesowi utk  nie później niż w terminie 14 dni od dnia jego otrzymania  5  przepisy ust  1 4 stosuje się odpowiednio do prowadzącego pojazdy kolejowe  który świadczy pracę lub usługi na rzecz użytkownika bocznicy kolejowej lub przedsiębiorcy wykonującego przewozy w obrębie bocznicy kolejowej    11  w art  25b ust  2 otrzymuje brzmienie   2  w przypadku gdy ustawa nie stanowi inaczej  do oceny zgodności składników interoperacyjności  akredytacji  autoryzacji i notyfikacji w tym zakresie oraz kontroli spełniania przez składniki interoperacyjności zasadniczych wymagań dotyczących interoperacyjności systemu kolei i postępowania w sprawie składników interoperacyjności niezgodnych z zasadniczymi wymaganiami dotyczącymi interoperacyjności systemu kolei stosuje się przepisy  art  4  art  5 pkt 1 13 i 16  art  12  art  13a  art  14 18  art  19 ust  1 i 2  ust  3 pkt 1 i 2  ust  4 7  art  21 ust  3 i 4  art  23  art  26  art  37 40m oraz art  43a 45 ustawy z dnia 30 sierpnia 2002 r  o systemie oceny zgodności  z tym że ilekroć w tych przepisach jest mowa o  wprowadzeniu do obrotu  lub  wycofaniu z obrotu   rozumie się przez to  dopuszczenie do eksploatacji  lub  wycofanie z eksploatacji    12  art  25w otrzymuje brzmienie    art  25w  w zakresie uregulowanym w umowie zbiorowej  o której mowa w art  25u ust  1  nie stosuje się przepisów kodeksu pracy  chyba że przepisy te są korzystniejsze dla pracownika     13  w art  28a ust  5 otrzymuje brzmienie    5  w zakresie nawiązywania i rozwiązywania stosunku pracy do członków stałych komisji stosuje się przepisy kodeksu pracy  z zastrzeżeniem przepisów niniejszej ustawy  z dniem powołania z członkiem komisji zawiera się umowę o pracę    14 \\xa0 w art  65 po ust  1 dodaje się ust  1a w brzmieniu   1a  kto uchyla się od złożenia oświadczenia  o którym mowa w art  22ca ust  1  albo zawiera w nim informacje niezgodne ze stanem faktycznym  podlega karze grzywny    15 \\xa0 w art  66 w ust  1 po pkt 3 dodaje się pkt 3a i 3b w brzmieniu  \\xa0 3a  zarządca  przewoźnik kolejowy  użytkownik bocznicy kolejowej lub przedsiębiorca wykonujący przewozy w obrębie bocznicy kolejowej  którzy nie przekazali w terminie prezesowi utk oświadczeń  o których mowa w art  22ca ust  1 pkt 1  \\xa03b  przedsiębiorca  który prowadzi działalność gospodarczą polegającą na świadczeniu usług trakcyjnych  bez dokumentów uprawniających  o których mowa w art  18 i art  43    \\xa0 art  2   w ustawie z dnia 25 czerwca 2009 r  o zmianie ustawy o transporcie kolejowym  dz  u  nr 214  poz  1658  w art  3 wprowadza się następujące zmiany  1 \\xa0\\xa0 w ust  1 wyrazy  1 grudnia 2017 r   zastępuje się wyrazami  29 października 2018\\xa0r    2 \\xa0\\xa0 w ust  3 wyrazy  1 grudnia 2017 r   zastępuje się wyrazami  29 października 2018\\xa0r    3 \\xa0\\xa0 dodaje się ust  4 6 w brzmieniu    4  osoby  które przed dniem 29 października 2013 r  rozpoczęły szkolenie na stanowisko maszynisty pojazdów trakcyjnych  maszynisty zakładowego  kierowcy lokomotywy spalinowej o mocy do 300 km  kierowcy drezyny i wózka motorowego  maszynisty wieloczynnościowych i ciężkich maszyn do kolejowych robót budowlanych i kolejowej sieci trakcyjnej  z wyłączeniem maszyn do kolejowych robót budowlanych  które nie są przeznaczone do jazdy po czynnych torach stacyjnych i szlakowych  na podstawie art  22 ust  2 ustawy  o której mowa w art  1  mogą nabywać uprawnienia na te stanowiska na podstawie tych przepisów   5  osoby  które przed dniem 29 października 2013 r  rozpoczęły szkolenie albo nabyły uprawnienia do wykonywania czynności na stanowisku pomocnika maszynisty pojazdów trakcyjnych  mogą nabywać uprawnienia maszynisty pojazdów trakcyjnych na podstawie przepisów wydanych na podstawie art  22 ust  2 ustawy  o której mowa w ust  1  6  czynności na stanowisku pomocnika maszynisty pojazdów trakcyjnych mogą być wykonywane nie dłużej niż do dnia 29 października 2018 r    \\xa0 art  3   1  \\xa0 z dniem wejścia w życie niniejszej ustawy lista podmiotów uprawnionych do szkolenia i egzaminowania osób ubiegających się o licencje i świadectwa maszynisty prowadzona przez prezesa urzędu transportu kolejowego na podstawie art  22a ust  1 pkt 2 ustawy  o której mowa w art  1  staje się rejestrem ośrodków szkolenia i egzaminowania maszynistów oraz kandydatów na maszynistów  przedsiębiorcy prowadzący te ośrodki wystąpią  w terminie 3 miesięcy od dnia wejścia w życie niniejszej ustawy  z wnioskiem o zmianę danych ujętych we wpisie w zakresie wynikającym z niniejszej ustawy  wnioski o zmianę wpisów są wolne od opłat  2  wpisy na liście podmiotów uprawnionych do szkolenia i egzaminowania osób ubiegających się o licencje i świadectwa maszynisty stają się wpisami do rejestru ośrodków szkolenia i egzaminowania maszynistów oraz kandydatów na maszynistów  3  wszczęte i niezakończone przed dniem wejścia w życie niniejszej ustawy postępowania w sprawie wpisania  wykreślenia i zmian na liście podmiotów uprawnionych do szkolenia i egzaminowania osób ubiegających się o licencje i świadectwa maszynisty  prowadzonej na podstawie art  22a ust  1 pkt 2 ustawy  o której mowa w art  1  prowadzi się dalej na podstawie przepisów ustawy  o której mowa w art  1  w brzmieniu nadanym niniejszą ustawą  \\xa0 art  4  1  z dniem wejścia w życie niniejszej ustawy lista podmiotów uprawnionych do przeprowadzania badań lekarskich i orzekania  w celu sprawdzenia spełniania wymagań zdrowotnych  fizycznych i psychicznych  niezbędnych do uzyskania licencji oraz świadectwa maszynisty  a także zachowania ważności świadectwa maszynisty prowadzona przez prezesa urzędu transportu kolejowego na podstawie art  22a ust  1 pkt 3 ustawy  o której mowa w art  1  staje się listą podmiotów uprawnionych do przeprowadzania badań lekarskich i psychologicznych oraz orzekania w celu sprawdzenia spełnienia wymagań zdrowotnych  fizycznych i psychicznych  niezbędnych do uzyskania licencji oraz świadectwa maszynisty  a także zachowania ich ważności   2  wpisy na liście podmiotów uprawnionych do przeprowadzania badań lekarskich i orzekania  w celu sprawdzenia spełniania wymagań zdrowotnych  fizycznych i psychicznych  niezbędnych do uzyskania licencji oraz świadectwa maszynisty  a także zachowania ważności świadectwa maszynisty stają się wpisami na liście podmiotów uprawnionych do przeprowadzania badań lekarskich i psychologicznych oraz orzekania w celu sprawdzenia spełnienia wymagań zdrowotnych  fizycznych i psychicznych  niezbędnych do uzyskania licencji oraz świadectwa maszynisty  a także zachowania ich ważności  3  wszczęte i niezakończone przed dniem wejścia w życie niniejszej ustawy postępowania w sprawie wpisania  wykreślenia i zmian na liście podmiotów uprawnionych do przeprowadzania badań lekarskich i orzekania  w celu sprawdzenia spełniania wymagań zdrowotnych  fizycznych i psychicznych  niezbędnych do uzyskania licencji oraz świadectwa maszynisty  prowadzonej na podstawie art  22a ust  1 pkt 3 ustawy  o której mowa w art  1  prowadzi się dalej na podstawie przepisów ustawy  o której mowa w art  1  w brzmieniu nadanym niniejszą ustawą  \\xa0 art  5   1  osoby  które w dniu wejścia w życie niniejszej ustawy prowadzą egzaminy praktyczne w zakresie prowadzenia pojazdu kolejowego u przewoźników kolejowych lub zarządców infrastruktury oraz posiadają uprawnienia do prowadzenia pojazdu kolejowego  wydane na podstawie art  22 ust  2 ustawy  o której mowa w ust  1  w brzmieniu obowiązującym do dnia 3 grudnia 2010 r   mogą prowadzić egzaminy oraz sprawdziany wiedzy i umiejętności w zakresie dotyczącym świadectwa maszynisty  bez konieczności posiadania licencji maszynisty i świadectwa maszynisty  jednak nie dłużej niż do dnia 29 października 2018 r  2  osoby  które w dniu wejścia w życie niniejszej ustawy prowadzą szkolenia praktyczne w zakresie prowadzenia pojazdu kolejowego u przewoźników kolejowych lub zarządców infrastruktury oraz posiadają ważne uprawnienia do prowadzenia pojazdu kolejowego  wydane na podstawie art  22 ust  2 ustawy  o której mowa w ust  1  w brzmieniu obowiązującym do dnia 3 grudnia 2010 r   mogą prowadzić szkolenia w zakresie dotyczącym świadectwa maszynisty  bez konieczności posiadania licencji maszynisty i świadectwa maszynisty  jednak nie dłużej niż do dnia 29 października 2018 r  \\xa0 art  6   przewoźnicy kolejowi  zarządcy infrastruktury  użytkownicy bocznic kolejowych i przedsiębiorcy wykonujący przewóz w obrębie bocznicy kolejowej  którzy w dniu wejścia w życie niniejszej ustawy zatrudniają lub korzystają z usług maszynistów lub prowadzących pojazdy kolejowe  świadczących pracę lub usługi na rzecz więcej niż jednego przewoźnika kolejowego  zarządcy infrastruktury  użytkownika bocznicy kolejowej lub przedsiębiorcy wykonującego przewozy w obrębie bocznicy kolejowej  przekażą prezesowi urzędu transportu kolejowego oświadczenia  o których mowa w art  22ca ust  1 pkt 1 ustawy  o której mowa w art  1  w brzmieniu nadanym niniejszą ustawą  w terminie 2 miesięcy od dnia wejścia w życie niniejszej ustawy  przepis ten stosuje się również do przewoźników kolejowych  zarządców infrastruktury  użytkowników bocznicy kolejowej i przedsiębiorców wykonujących przewozy w obrębie bocznicy kolejowej  którzy zatrudniają lub korzystają z usług maszynistów pojazdów trakcyjnych posiadających uprawnienia do prowadzenia pojazdu kolejowego  wydane na podstawie art  22 ust  2 ustawy  o której mowa w ust  1  w brzmieniu obowiązującym do dnia 3 grudnia 2010 r  \\xa0 art  7   dotychczasowe przepisy wykonawcze wydane na podstawie art  22a ust  11 i 13  art  22b ust  21 i 22 ustawy  o której mowa w art  1  zachowują moc do dnia wejścia w życie przepisów wykonawczych wydanych na podstawie art  22a ust  11 i 13  art  22b ust  21 i 22 ustawy  o której mowa w art  1  w brzmieniu nadanym niniejszą ustawą  nie dłużej jednak niż przez 18 miesięcy od dnia wejścia w życie niniejszej ustawy   \\xa0 art  8   ustawa wchodzi w życie po upływie 30 dni od dnia ogłoszenia \\xa0\\xa0\\xa0  \\xa0 \\xa0 \\xa0 \\xa0\\xa0\\xa0\\xa0\\xa0\\xa0\\xa0\\xa0\\xa0\\xa0\\xa0\\xa0\\xa0\\xa0\\xa0  \\xa0 \\xa0\\xa0\\xa0\\xa0\\xa0\\xa0\\xa0\\xa0\\xa0\\xa0\\xa0\\xa0\\xa0\\xa0\\xa0\\xa0\\xa0\\xa0\\xa0\\xa0\\xa0\\xa0\\xa0\\xa0\\xa0\\xa0\\xa0\\xa0\\xa0\\xa0\\xa0\\xa0\\xa0\\xa0\\xa0\\xa0\\xa0\\xa0\\xa0\\xa0\\xa0\\xa0\\xa0\\xa0\\xa0\\xa0\\xa0\\xa0\\xa0\\xa0\\xa0\\xa0\\xa0\\xa0\\xa0\\xa0\\xa0\\xa0\\xa0\\xa0\\xa0\\xa0\\xa0\\xa0\\xa0\\xa0\\xa0\\xa0\\xa0\\xa0\\xa0\\xa0\\xa0\\xa0\\xa0\\xa0\\xa0\\xa0\\xa0\\xa0\\xa0\\xa0\\xa0\\xa0\\xa0\\xa0\\xa0\\xa0\\xa0\\xa0\\xa0\\xa0\\xa0\\xa0\\xa0\\xa0\\xa0\\xa0\\xa0\\xa0\\xa0\\xa0\\xa0\\xa0\\xa0\\xa0\\xa0\\xa0\\xa0\\xa0\\xa0\\xa0\\xa0\\xa0\\xa0\\xa0\\xa0\\xa0\\xa0\\xa0\\xa0\\xa0\\xa0\\xa0\\xa0\\xa0\\xa0\\xa0\\xa0\\xa0\\xa0 marszałek sejmu \\xa0 \\xa0 \\xa0 \\xa0\\xa0\\xa0\\xa0\\xa0\\xa0\\xa0\\xa0\\xa0\\xa0\\xa0\\xa0\\xa0\\xa0\\xa0\\xa0\\xa0\\xa0\\xa0\\xa0\\xa0\\xa0\\xa0\\xa0\\xa0\\xa0\\xa0\\xa0\\xa0\\xa0\\xa0\\xa0\\xa0\\xa0\\xa0\\xa0\\xa0\\xa0\\xa0\\xa0\\xa0\\xa0\\xa0\\xa0\\xa0\\xa0\\xa0\\xa0\\xa0\\xa0\\xa0\\xa0\\xa0\\xa0\\xa0\\xa0\\xa0\\xa0\\xa0\\xa0\\xa0\\xa0\\xa0\\xa0\\xa0\\xa0\\xa0\\xa0\\xa0\\xa0\\xa0\\xa0\\xa0\\xa0\\xa0\\xa0\\xa0\\xa0\\xa0\\xa0\\xa0\\xa0\\xa0\\xa0\\xa0\\xa0\\xa0\\xa0\\xa0\\xa0\\xa0\\xa0\\xa0\\xa0\\xa0\\xa0\\xa0\\xa0\\xa0\\xa0\\xa0\\xa0\\xa0\\xa0\\xa0\\xa0\\xa0\\xa0\\xa0\\xa0\\xa0\\xa0\\xa0\\xa0\\xa0\\xa0\\xa0\\xa0\\xa0\\xa0\\xa0\\xa0\\xa0\\xa0\\xa0\\xa0\\xa0\\xa0\\xa0\\xa0\\xa0\\xa0       ewa kopacz \\xa0      1  \\xa0\\xa0\\xa0 zmiany tekstu jednolitego wymienionej ustawy zostały ogłoszone w dz  u  z 2007 r  nr 176  poz  1238 i nr 191  poz  1374  z 2008 r  nr 59  poz  359  nr 144  poz  902  nr 206  poz  1289 i nr 227  poz  1505  z 2009 r  nr 1  poz  3  nr 18  poz  97  nr 19  poz  100  nr 98  poz  817  nr 115  poz  966  nr 157  poz  1241 i nr 214  poz  1658  z 2011 r  nr 5  poz  13  nr 102  poz  586  nr 106  poz  622  nr 187  poz  1113  nr 205  poz  1209  nr 227  poz  1367  nr 230  poz  1372 i nr 233  poz  1381  z 2012\\xa0r  poz  460 i 951 oraz z 2013 r  poz  628     2  \\xa0\\xa0\\xa0 zmiany tekstu jednolitego wymienionej ustawy zostały ogłoszone w dz  u  z 1998 r  nr 106  poz  668 i nr 113  poz  717  z 1999 r  nr 99  poz  1152  z 2000 r  nr 19  poz  239  nr 43  poz  489  nr 107  poz  1127 i nr 120  poz  1268  z 2001 r  nr 11  poz  84  nr 28  poz  301  nr 52  poz  538  nr 99  poz  1075  nr 111  poz  1194  nr 123  poz  1354  nr 128  poz  1405 i nr 154  poz  1805  z 2002 r  nr 74  poz  676  nr 135  poz  1146  nr 196  poz  1660  nr 199  poz  1673 i nr 200  poz  1679  z 2003 r  nr 166  poz  1608 i nr 213  poz  2081  z 2004 r  nr 96  poz  959  nr 99  poz  1001  nr 120  poz  1252 i nr 240  poz  2407  z 2005 r  nr 10  poz  71  nr 68  poz  610  nr 86  poz  732 i nr 167  poz  1398  z 2006 r  nr 104  poz  708 i 711  nr 133  poz  935  nr 217  poz  1587 i nr 221  poz  1615  z 2007 r  nr 64  poz  426  nr 89  poz  589  nr 176  poz  1239  nr 181  poz  1288 i nr 225  poz  1672  z 2008 r  nr 93  poz  586  nr 116  poz  740  nr 223  poz  1460 i nr 237  poz  1654  z 2009 r  nr 6  poz  33  nr 56  poz  458  nr 58  poz  485  nr 98  poz  817  nr 99  poz  825  nr 115  poz  958  nr 157  poz  1241 i nr 219  poz  1704  z 2010 r  nr 105  poz  655  nr 135  poz  912  nr 182  poz  1228  nr 224  poz  1459  nr 249  poz  1655 i nr 254  poz  1700  z 2011 r  nr 36  poz  181  nr 63  poz  322  nr 80  poz  432  nr 144  poz  855  nr 149  poz  887 i nr 232  poz  1378  z 2012 r  poz  908 i 1110 oraz z 2013 r  poz  2 i 675  ', is_change=True)"
      ]
     },
     "execution_count": 38,
     "metadata": {},
     "output_type": "execute_result"
    }
   ],
   "source": [
    "oneline_data = map_text(lambda text: text.replace(\"\\n\", \" \"),data)\n",
    "oneline_data[0]"
   ]
  },
  {
   "cell_type": "code",
   "execution_count": 39,
   "metadata": {},
   "outputs": [],
   "source": [
    "def to_fast_text(x: Labeled)-> str :\n",
    "    label = \"1\" if x.is_change else \"0\"\n",
    "    replaced = x.text.replace(\"\\\"\",\"\\\"\\\"\")\n",
    "    return \"__label__{}, \\\"{}\\\"\\n\".format(label,replaced)"
   ]
  },
  {
   "cell_type": "code",
   "execution_count": 40,
   "metadata": {},
   "outputs": [],
   "source": [
    "data_len = len(oneline_data)\n",
    "train_size = int(0.6 * data_len)\n",
    "validation_size = int(0.2 * data_len)"
   ]
  },
  {
   "cell_type": "code",
   "execution_count": 41,
   "metadata": {},
   "outputs": [],
   "source": [
    "ol_train = oneline_data[:train_size]\n",
    "ol_test = oneline_data[train_size:train_size+ validation_size]\n",
    "ol_val = oneline_data[validation_size+ train_size:]"
   ]
  },
  {
   "cell_type": "code",
   "execution_count": 42,
   "metadata": {},
   "outputs": [],
   "source": [
    "def ol_to_file(name:str, ol:List[Labeled])-> None:\n",
    "    file = open(\"data.bak/{}\".format(name),\"w\")\n",
    "\n",
    "    for t in ol:\n",
    "        file.write(to_fast_text(t))\n",
    "    file.close()"
   ]
  },
  {
   "cell_type": "code",
   "execution_count": 43,
   "metadata": {},
   "outputs": [],
   "source": [
    "ol_to_file(\"train.csv\",ol_train)\n",
    "ol_to_file(\"test.csv\",ol_test)\n",
    "ol_to_file(\"val.csv\",ol_val)"
   ]
  },
  {
   "cell_type": "code",
   "execution_count": 44,
   "metadata": {},
   "outputs": [],
   "source": [
    "model = fastText.train_supervised(\"data.bak/train.csv\",lr=0.7,epoch = 20)"
   ]
  },
  {
   "cell_type": "code",
   "execution_count": 45,
   "metadata": {},
   "outputs": [],
   "source": [
    "test_result = model.test(\"data.bak/test.csv\")"
   ]
  },
  {
   "cell_type": "code",
   "execution_count": 46,
   "metadata": {},
   "outputs": [
    {
     "data": {
      "text/plain": [
       "(235, 0.8127659574468085, 0.8127659574468085)"
      ]
     },
     "execution_count": 46,
     "metadata": {},
     "output_type": "execute_result"
    }
   ],
   "source": [
    "# TODO:bcm - compute my own precision\n",
    "test_result"
   ]
  },
  {
   "cell_type": "markdown",
   "metadata": {},
   "source": [
    "# Flair"
   ]
  },
  {
   "cell_type": "code",
   "execution_count": 47,
   "metadata": {},
   "outputs": [
    {
     "name": "stdout",
     "output_type": "stream",
     "text": [
      "https://s3.eu-central-1.amazonaws.com/borchmann/cse/lm-polish-forward-v0.2.pt\n",
      "https://s3.eu-central-1.amazonaws.com/borchmann/cse/lm-polish-backward-v0.2.pt\n",
      "https://s3.eu-central-1.amazonaws.com/borchmann/glove/poleval.txt\n"
     ]
    }
   ],
   "source": [
    "ROOT_URL = 'https://s3.eu-central-1.amazonaws.com/borchmann'\n",
    "FORWARD_FILE = 'cse/lm-polish-forward-v0.2.pt'\n",
    "BACKWARD_FILE = 'cse/lm-polish-backward-v0.2.pt'\n",
    "GLOVE_FILE = 'glove/poleval.txt'\n",
    "\n",
    "FORWARD_LM = f'{ROOT_URL}/{FORWARD_FILE}'\n",
    "BACKWARD_LM = f'{ROOT_URL}/{BACKWARD_FILE}'\n",
    "GLOVE = f'{ROOT_URL}/{GLOVE_FILE}'\n",
    "\n",
    "print(FORWARD_LM)\n",
    "print(BACKWARD_LM)\n",
    "print(GLOVE)"
   ]
  },
  {
   "cell_type": "code",
   "execution_count": 48,
   "metadata": {},
   "outputs": [],
   "source": [
    "# ! wget https://s3.eu-central-1.amazonaws.com/borchmann/cse/lm-polish-forward-v0.2.pt -O data.bak/polish_forward.pt\n",
    "# ! wget https://s3.eu-central-1.amazonaws.com/borchmann/cse/lm-polish-backward-v0.2.pt -O data.bak/polish_backward.pt\n",
    "# ! wget https://s3.eu-central-1.amazonaws.com/borchmann/glove/poleval.txt -O data.bak/glove.txt\n"
   ]
  },
  {
   "cell_type": "code",
   "execution_count": 49,
   "metadata": {},
   "outputs": [],
   "source": [
    "from pathlib import Path"
   ]
  },
  {
   "cell_type": "code",
   "execution_count": 50,
   "metadata": {
    "scrolled": true
   },
   "outputs": [
    {
     "ename": "AttributeError",
     "evalue": "module 'wrapt' has no attribute 'AdapterFactory'",
     "output_type": "error",
     "traceback": [
      "\u001b[0;31m---------------------------------------------------------------------------\u001b[0m",
      "\u001b[0;31mAttributeError\u001b[0m                            Traceback (most recent call last)",
      "\u001b[0;32m<ipython-input-50-4b53890bf54f>\u001b[0m in \u001b[0;36m<module>\u001b[0;34m()\u001b[0m\n\u001b[0;32m----> 1\u001b[0;31m \u001b[0;32mfrom\u001b[0m \u001b[0mflair\u001b[0m\u001b[0;34m.\u001b[0m\u001b[0mdata_fetcher\u001b[0m \u001b[0;32mimport\u001b[0m \u001b[0mNLPTaskDataFetcher\u001b[0m\u001b[0;34m\u001b[0m\u001b[0;34m\u001b[0m\u001b[0m\n\u001b[0m\u001b[1;32m      2\u001b[0m \u001b[0;32mfrom\u001b[0m \u001b[0mflair\u001b[0m\u001b[0;34m.\u001b[0m\u001b[0mtrainers\u001b[0m \u001b[0;32mimport\u001b[0m \u001b[0mModelTrainer\u001b[0m\u001b[0;34m\u001b[0m\u001b[0;34m\u001b[0m\u001b[0m\n\u001b[1;32m      3\u001b[0m \u001b[0;32mfrom\u001b[0m \u001b[0mflair\u001b[0m\u001b[0;34m.\u001b[0m\u001b[0membeddings\u001b[0m \u001b[0;32mimport\u001b[0m \u001b[0mWordEmbeddings\u001b[0m\u001b[0;34m,\u001b[0m \u001b[0mFlairEmbeddings\u001b[0m\u001b[0;34m,\u001b[0m \u001b[0mDocumentLSTMEmbeddings\u001b[0m\u001b[0;34m\u001b[0m\u001b[0;34m\u001b[0m\u001b[0m\n\u001b[1;32m      4\u001b[0m \u001b[0;32mfrom\u001b[0m \u001b[0mflair\u001b[0m\u001b[0;34m.\u001b[0m\u001b[0mmodels\u001b[0m \u001b[0;32mimport\u001b[0m \u001b[0mTextClassifier\u001b[0m\u001b[0;34m\u001b[0m\u001b[0;34m\u001b[0m\u001b[0m\n\u001b[1;32m      5\u001b[0m \u001b[0;32mfrom\u001b[0m \u001b[0mflair\u001b[0m\u001b[0;34m.\u001b[0m\u001b[0membeddings\u001b[0m \u001b[0;32mimport\u001b[0m \u001b[0mStackedEmbeddings\u001b[0m\u001b[0;34m,\u001b[0m \u001b[0mCharLMEmbeddings\u001b[0m\u001b[0;34m,\u001b[0m \u001b[0mTokenEmbeddings\u001b[0m\u001b[0;34m\u001b[0m\u001b[0;34m\u001b[0m\u001b[0m\n",
      "\u001b[0;32m~/.local/lib/python3.6/site-packages/flair/__init__.py\u001b[0m in \u001b[0;36m<module>\u001b[0;34m()\u001b[0m\n\u001b[1;32m      2\u001b[0m \u001b[0;34m\u001b[0m\u001b[0m\n\u001b[1;32m      3\u001b[0m \u001b[0;32mfrom\u001b[0m \u001b[0;34m.\u001b[0m \u001b[0;32mimport\u001b[0m \u001b[0mdata\u001b[0m\u001b[0;34m\u001b[0m\u001b[0;34m\u001b[0m\u001b[0m\n\u001b[0;32m----> 4\u001b[0;31m \u001b[0;32mfrom\u001b[0m \u001b[0;34m.\u001b[0m \u001b[0;32mimport\u001b[0m \u001b[0mmodels\u001b[0m\u001b[0;34m\u001b[0m\u001b[0;34m\u001b[0m\u001b[0m\n\u001b[0m\u001b[1;32m      5\u001b[0m \u001b[0;32mfrom\u001b[0m \u001b[0;34m.\u001b[0m \u001b[0;32mimport\u001b[0m \u001b[0mvisual\u001b[0m\u001b[0;34m\u001b[0m\u001b[0;34m\u001b[0m\u001b[0m\n\u001b[1;32m      6\u001b[0m \u001b[0;32mfrom\u001b[0m \u001b[0;34m.\u001b[0m \u001b[0;32mimport\u001b[0m \u001b[0mtrainers\u001b[0m\u001b[0;34m\u001b[0m\u001b[0;34m\u001b[0m\u001b[0m\n",
      "\u001b[0;32m~/.local/lib/python3.6/site-packages/flair/models/__init__.py\u001b[0m in \u001b[0;36m<module>\u001b[0;34m()\u001b[0m\n\u001b[0;32m----> 1\u001b[0;31m \u001b[0;32mfrom\u001b[0m \u001b[0;34m.\u001b[0m\u001b[0msequence_tagger_model\u001b[0m \u001b[0;32mimport\u001b[0m \u001b[0mSequenceTagger\u001b[0m\u001b[0;34m\u001b[0m\u001b[0;34m\u001b[0m\u001b[0m\n\u001b[0m\u001b[1;32m      2\u001b[0m \u001b[0;32mfrom\u001b[0m \u001b[0;34m.\u001b[0m\u001b[0mlanguage_model\u001b[0m \u001b[0;32mimport\u001b[0m \u001b[0mLanguageModel\u001b[0m\u001b[0;34m\u001b[0m\u001b[0;34m\u001b[0m\u001b[0m\n\u001b[1;32m      3\u001b[0m \u001b[0;32mfrom\u001b[0m \u001b[0;34m.\u001b[0m\u001b[0mtext_classification_model\u001b[0m \u001b[0;32mimport\u001b[0m \u001b[0mTextClassifier\u001b[0m\u001b[0;34m\u001b[0m\u001b[0;34m\u001b[0m\u001b[0m\n",
      "\u001b[0;32m~/.local/lib/python3.6/site-packages/flair/models/sequence_tagger_model.py\u001b[0m in \u001b[0;36m<module>\u001b[0;34m()\u001b[0m\n\u001b[1;32m     10\u001b[0m \u001b[0;32mimport\u001b[0m \u001b[0mtorch\u001b[0m\u001b[0;34m\u001b[0m\u001b[0;34m\u001b[0m\u001b[0m\n\u001b[1;32m     11\u001b[0m \u001b[0;34m\u001b[0m\u001b[0m\n\u001b[0;32m---> 12\u001b[0;31m \u001b[0;32mimport\u001b[0m \u001b[0mflair\u001b[0m\u001b[0;34m.\u001b[0m\u001b[0membeddings\u001b[0m\u001b[0;34m\u001b[0m\u001b[0;34m\u001b[0m\u001b[0m\n\u001b[0m\u001b[1;32m     13\u001b[0m \u001b[0;32mfrom\u001b[0m \u001b[0mflair\u001b[0m\u001b[0;34m.\u001b[0m\u001b[0mdata\u001b[0m \u001b[0;32mimport\u001b[0m \u001b[0mDictionary\u001b[0m\u001b[0;34m,\u001b[0m \u001b[0mSentence\u001b[0m\u001b[0;34m,\u001b[0m \u001b[0mToken\u001b[0m\u001b[0;34m,\u001b[0m \u001b[0mLabel\u001b[0m\u001b[0;34m\u001b[0m\u001b[0;34m\u001b[0m\u001b[0m\n\u001b[1;32m     14\u001b[0m \u001b[0;32mfrom\u001b[0m \u001b[0mflair\u001b[0m\u001b[0;34m.\u001b[0m\u001b[0mfile_utils\u001b[0m \u001b[0;32mimport\u001b[0m \u001b[0mcached_path\u001b[0m\u001b[0;34m\u001b[0m\u001b[0;34m\u001b[0m\u001b[0m\n",
      "\u001b[0;32m~/.local/lib/python3.6/site-packages/flair/embeddings.py\u001b[0m in \u001b[0;36m<module>\u001b[0;34m()\u001b[0m\n\u001b[1;32m     10\u001b[0m \u001b[0;32mimport\u001b[0m \u001b[0mtorch\u001b[0m\u001b[0;34m\u001b[0m\u001b[0;34m\u001b[0m\u001b[0m\n\u001b[1;32m     11\u001b[0m \u001b[0;32mfrom\u001b[0m \u001b[0mbpemb\u001b[0m \u001b[0;32mimport\u001b[0m \u001b[0mBPEmb\u001b[0m\u001b[0;34m\u001b[0m\u001b[0;34m\u001b[0m\u001b[0m\n\u001b[0;32m---> 12\u001b[0;31m \u001b[0;32mfrom\u001b[0m \u001b[0mdeprecated\u001b[0m \u001b[0;32mimport\u001b[0m \u001b[0mdeprecated\u001b[0m\u001b[0;34m\u001b[0m\u001b[0;34m\u001b[0m\u001b[0m\n\u001b[0m\u001b[1;32m     13\u001b[0m \u001b[0;34m\u001b[0m\u001b[0m\n\u001b[1;32m     14\u001b[0m \u001b[0;32mfrom\u001b[0m \u001b[0mpytorch_pretrained_bert\u001b[0m \u001b[0;32mimport\u001b[0m \u001b[0mBertTokenizer\u001b[0m\u001b[0;34m,\u001b[0m \u001b[0mBertModel\u001b[0m\u001b[0;34m,\u001b[0m \u001b[0mTransfoXLTokenizer\u001b[0m\u001b[0;34m,\u001b[0m \u001b[0mTransfoXLModel\u001b[0m\u001b[0;34m\u001b[0m\u001b[0;34m\u001b[0m\u001b[0m\n",
      "\u001b[0;32m~/.local/lib/python3.6/site-packages/deprecated/__init__.py\u001b[0m in \u001b[0;36m<module>\u001b[0;34m()\u001b[0m\n\u001b[1;32m     11\u001b[0m \u001b[0m__version__\u001b[0m \u001b[0;34m=\u001b[0m \u001b[0;34m\"1.2.5\"\u001b[0m\u001b[0;34m\u001b[0m\u001b[0;34m\u001b[0m\u001b[0m\n\u001b[1;32m     12\u001b[0m \u001b[0;34m\u001b[0m\u001b[0m\n\u001b[0;32m---> 13\u001b[0;31m \u001b[0;32mfrom\u001b[0m \u001b[0mdeprecated\u001b[0m\u001b[0;34m.\u001b[0m\u001b[0mclassic\u001b[0m \u001b[0;32mimport\u001b[0m \u001b[0mdeprecated\u001b[0m\u001b[0;34m\u001b[0m\u001b[0;34m\u001b[0m\u001b[0m\n\u001b[0m",
      "\u001b[0;32m~/.local/lib/python3.6/site-packages/deprecated/classic.py\u001b[0m in \u001b[0;36m<module>\u001b[0;34m()\u001b[0m\n\u001b[1;32m     16\u001b[0m \u001b[0;34m\u001b[0m\u001b[0m\n\u001b[1;32m     17\u001b[0m \u001b[0;34m\u001b[0m\u001b[0m\n\u001b[0;32m---> 18\u001b[0;31m \u001b[0;32mclass\u001b[0m \u001b[0mClassicAdapter\u001b[0m\u001b[0;34m(\u001b[0m\u001b[0mwrapt\u001b[0m\u001b[0;34m.\u001b[0m\u001b[0mAdapterFactory\u001b[0m\u001b[0;34m)\u001b[0m\u001b[0;34m:\u001b[0m\u001b[0;34m\u001b[0m\u001b[0;34m\u001b[0m\u001b[0m\n\u001b[0m\u001b[1;32m     19\u001b[0m     \"\"\"\n\u001b[1;32m     20\u001b[0m     \u001b[0mClassic\u001b[0m \u001b[0madapter\u001b[0m \u001b[0;34m-\u001b[0m\u001b[0;34m-\u001b[0m \u001b[0;34m*\u001b[0m\u001b[0;32mfor\u001b[0m \u001b[0madvanced\u001b[0m \u001b[0musage\u001b[0m \u001b[0monly\u001b[0m\u001b[0;34m*\u001b[0m\u001b[0;34m\u001b[0m\u001b[0;34m\u001b[0m\u001b[0m\n",
      "\u001b[0;31mAttributeError\u001b[0m: module 'wrapt' has no attribute 'AdapterFactory'"
     ]
    }
   ],
   "source": [
    "from flair.data_fetcher import NLPTaskDataFetcher\n",
    "from flair.trainers import ModelTrainer\n",
    "from flair.embeddings import WordEmbeddings, FlairEmbeddings, DocumentLSTMEmbeddings\n",
    "from flair.models import TextClassifier\n",
    "from flair.embeddings import StackedEmbeddings, CharLMEmbeddings, TokenEmbeddings   "
   ]
  },
  {
   "cell_type": "code",
   "execution_count": null,
   "metadata": {},
   "outputs": [],
   "source": [
    "corpus = NLPTaskDataFetcher.load_classification_corpus(\n",
    "    Path('./data.bak'),\n",
    "    test_file='test.csv',\n",
    "    dev_file='val.csv',\n",
    "    train_file='train.csv'\n",
    ")\n",
    "\n",
    "word_embeddings = [\n",
    "    WordEmbeddings('glove'),\n",
    "    FlairEmbeddings('news-forward-fast'),\n",
    "    FlairEmbeddings('news-backward-fast')\n",
    "]\n",
    "\n",
    "document_embeddings = DocumentLSTMEmbeddings(\n",
    "    word_embeddings,\n",
    "    hidden_size=512,\n",
    "    reproject_words=True,\n",
    "    reproject_words_dimension=256\n",
    ")\n",
    "\n",
    "classifier = TextClassifier(\n",
    "    document_embeddings,\n",
    "    label_dictionary=corpus.make_label_dictionary(),\n",
    "    multi_label=False\n",
    ")\n",
    "\n",
    "trainer = ModelTrainer(classifier, corpus)\n",
    "\n",
    "trainer.train('./data.', max_epochs=10)"
   ]
  },
  {
   "cell_type": "code",
   "execution_count": 51,
   "metadata": {},
   "outputs": [],
   "source": [
    "import wrapt"
   ]
  },
  {
   "cell_type": "code",
   "execution_count": 53,
   "metadata": {},
   "outputs": [
    {
     "name": "stdout",
     "output_type": "stream",
     "text": [
      "Help on package wrapt:\n",
      "\n",
      "NAME\n",
      "    wrapt\n",
      "\n",
      "PACKAGE CONTENTS\n",
      "    _wrappers\n",
      "    arguments\n",
      "    decorators\n",
      "    importer\n",
      "    wrappers\n",
      "\n",
      "DATA\n",
      "    __version_info__ = ('1', '9', '0')\n",
      "\n",
      "VERSION\n",
      "    1.9.0\n",
      "\n",
      "FILE\n",
      "    /usr/lib/python3/dist-packages/wrapt/__init__.py\n",
      "\n",
      "\n"
     ]
    }
   ],
   "source": [
    "help(wrapt)"
   ]
  },
  {
   "cell_type": "code",
   "execution_count": null,
   "metadata": {},
   "outputs": [],
   "source": []
  }
 ],
 "metadata": {
  "kernelspec": {
   "display_name": "Python 3",
   "language": "python",
   "name": "python3"
  },
  "language_info": {
   "codemirror_mode": {
    "name": "ipython",
    "version": 3
   },
   "file_extension": ".py",
   "mimetype": "text/x-python",
   "name": "python",
   "nbconvert_exporter": "python",
   "pygments_lexer": "ipython3",
   "version": "3.6.7"
  }
 },
 "nbformat": 4,
 "nbformat_minor": 2
}
