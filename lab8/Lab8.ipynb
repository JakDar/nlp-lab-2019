{
 "cells": [
  {
   "cell_type": "code",
   "execution_count": 1,
   "metadata": {
    "ExecuteTime": {
     "end_time": "2019-05-10T15:10:15.135211Z",
     "start_time": "2019-05-10T15:10:14.376814Z"
    }
   },
   "outputs": [],
   "source": [
    "from functional import seq\n",
    "from functional.streams import Sequence\n",
    "import pandas as pd\n",
    "import numpy as np\n",
    "import os\n",
    "from typing import Dict, List, Tuple, Optional\n",
    "import random\n",
    "from collections import namedtuple\n",
    "from random import shuffle\n",
    "import nltk"
   ]
  },
  {
   "cell_type": "code",
   "execution_count": 296,
   "metadata": {
    "ExecuteTime": {
     "end_time": "2019-05-10T15:10:18.316975Z",
     "start_time": "2019-05-10T15:10:15.211676Z"
    }
   },
   "outputs": [
    {
     "data": {
      "text/plain": [
       "1180"
      ]
     },
     "execution_count": 296,
     "metadata": {},
     "output_type": "execute_result"
    }
   ],
   "source": [
    "ustawy_dir = \"../lower_ustawy\"\n",
    "art_keyword = \"art\"\n",
    "ustawy_files = seq(os.listdir(ustawy_dir)).map(\n",
    "    lambda filename: open(ustawy_dir + \"/\" + filename).read())\n",
    "\n",
    "ustawy_files.size()"
   ]
  },
  {
   "cell_type": "code",
   "execution_count": 297,
   "metadata": {
    "ExecuteTime": {
     "end_time": "2019-05-10T15:10:18.332743Z",
     "start_time": "2019-05-10T15:10:18.322325Z"
    }
   },
   "outputs": [],
   "source": [
    "good, bad = ustawy_files.partition(lambda x: art_keyword in x[:2400])"
   ]
  },
  {
   "cell_type": "code",
   "execution_count": 298,
   "metadata": {
    "ExecuteTime": {
     "end_time": "2019-05-10T15:10:18.349448Z",
     "start_time": "2019-05-10T15:10:18.334837Z"
    }
   },
   "outputs": [
    {
     "data": {
      "text/plain": [
       "1178"
      ]
     },
     "execution_count": 298,
     "metadata": {},
     "output_type": "execute_result"
    }
   ],
   "source": [
    "good.size()"
   ]
  },
  {
   "cell_type": "code",
   "execution_count": 299,
   "metadata": {
    "ExecuteTime": {
     "end_time": "2019-05-10T15:10:18.367530Z",
     "start_time": "2019-05-10T15:10:18.354787Z"
    }
   },
   "outputs": [
    {
     "data": {
      "text/plain": [
       "2"
      ]
     },
     "execution_count": 299,
     "metadata": {},
     "output_type": "execute_result"
    }
   ],
   "source": [
    "bad.size()"
   ]
  },
  {
   "cell_type": "code",
   "execution_count": 300,
   "metadata": {
    "ExecuteTime": {
     "end_time": "2019-05-10T15:10:19.187237Z",
     "start_time": "2019-05-10T15:10:19.180188Z"
    }
   },
   "outputs": [
    {
     "data": {
      "text/plain": [
       "['',\n",
       " 'ustawa',\n",
       " 'z dnia 11 października 2013 r ',\n",
       " 'o wzajemnej pomocy przy dochodzeniu podatków  należności ',\n",
       " 'celnych i innych należności pieniężnych',\n",
       " '',\n",
       " '     ',\n",
       " 'font definitions   ',\n",
       " '  font face',\n",
       " '\\t font family helvetica ',\n",
       " '\\tpanose 1 2 11 5 4 2 2 2 2 2 4  ',\n",
       " ' font face',\n",
       " '\\t font family courier ',\n",
       " '\\tpanose 1 2 7 4 9 2 2 5 2 4 4  ',\n",
       " '']"
      ]
     },
     "execution_count": 300,
     "metadata": {},
     "output_type": "execute_result"
    }
   ],
   "source": [
    "bad[0][:300].split(\"\\n\")"
   ]
  },
  {
   "cell_type": "code",
   "execution_count": 301,
   "metadata": {
    "ExecuteTime": {
     "end_time": "2019-05-10T15:10:22.184157Z",
     "start_time": "2019-05-10T15:10:22.177091Z"
    }
   },
   "outputs": [
    {
     "data": {
      "text/plain": [
       "['', '', '', '', '', 'brak tekstu w postaci elektronicznej ', '']"
      ]
     },
     "execution_count": 301,
     "metadata": {},
     "output_type": "execute_result"
    }
   ],
   "source": [
    "bad[1][:300].split(\"\\n\")"
   ]
  },
  {
   "cell_type": "code",
   "execution_count": 302,
   "metadata": {
    "ExecuteTime": {
     "end_time": "2019-05-10T15:10:23.579942Z",
     "start_time": "2019-05-10T15:10:23.569953Z"
    }
   },
   "outputs": [],
   "source": [
    "def is_change(ustawa:str) -> bool:\n",
    "    return \"o zmianie ustawy\" in ustawa[:800]"
   ]
  },
  {
   "cell_type": "code",
   "execution_count": 303,
   "metadata": {
    "ExecuteTime": {
     "end_time": "2019-05-10T15:10:24.880582Z",
     "start_time": "2019-05-10T15:10:24.867966Z"
    }
   },
   "outputs": [],
   "source": [
    "changes, not_changes = good.partition(is_change)"
   ]
  },
  {
   "cell_type": "code",
   "execution_count": 304,
   "metadata": {
    "ExecuteTime": {
     "end_time": "2019-05-10T15:10:26.267478Z",
     "start_time": "2019-05-10T15:10:26.264259Z"
    }
   },
   "outputs": [],
   "source": [
    "Labeled =  namedtuple(\"Labeled\",\"text is_change\")"
   ]
  },
  {
   "cell_type": "code",
   "execution_count": 305,
   "metadata": {
    "ExecuteTime": {
     "end_time": "2019-05-10T15:10:28.045258Z",
     "start_time": "2019-05-10T15:10:28.039753Z"
    }
   },
   "outputs": [],
   "source": [
    "def strip_title(text:str) -> str:\n",
    "    return text.split(art_keyword,maxsplit=1)[1]"
   ]
  },
  {
   "cell_type": "code",
   "execution_count": 306,
   "metadata": {
    "ExecuteTime": {
     "end_time": "2019-05-10T15:10:28.756658Z",
     "start_time": "2019-05-10T15:10:28.751366Z"
    }
   },
   "outputs": [],
   "source": [
    "labeled_changes = changes.map(lambda txt: Labeled(text = strip_title(txt), is_change = True))"
   ]
  },
  {
   "cell_type": "code",
   "execution_count": 307,
   "metadata": {
    "ExecuteTime": {
     "end_time": "2019-05-10T15:10:30.020816Z",
     "start_time": "2019-05-10T15:10:30.012752Z"
    }
   },
   "outputs": [],
   "source": [
    "labeled_not_changes = not_changes.map(lambda txt: Labeled(text = strip_title(txt), is_change = False))"
   ]
  },
  {
   "cell_type": "code",
   "execution_count": 308,
   "metadata": {
    "ExecuteTime": {
     "end_time": "2019-05-10T15:10:32.051274Z",
     "start_time": "2019-05-10T15:10:31.986665Z"
    }
   },
   "outputs": [],
   "source": [
    "data = (labeled_changes + labeled_not_changes).to_list()"
   ]
  },
  {
   "cell_type": "code",
   "execution_count": 309,
   "metadata": {
    "ExecuteTime": {
     "end_time": "2019-05-10T15:10:38.711684Z",
     "start_time": "2019-05-10T15:10:38.705242Z"
    }
   },
   "outputs": [],
   "source": [
    "shuffle(data)"
   ]
  },
  {
   "cell_type": "code",
   "execution_count": 310,
   "metadata": {
    "ExecuteTime": {
     "end_time": "2019-05-10T15:10:51.188765Z",
     "start_time": "2019-05-10T15:10:51.183402Z"
    }
   },
   "outputs": [],
   "source": [
    "def split(data):\n",
    "    data_len = len(data)\n",
    "    train_size = int(0.6 * data_len)\n",
    "    validation_size = int(0.2 * data_len)\n",
    "\n",
    "    train = data[:train_size]\n",
    "    validation = data[train_size:train_size + validation_size]\n",
    "    test = data[train_size + validation_size:]\n",
    "    return train,test,validation\n",
    "    \n",
    "# train, test,validation = split(data)\n",
    "# len(train),len(validation),len(test)"
   ]
  },
  {
   "cell_type": "code",
   "execution_count": 311,
   "metadata": {
    "ExecuteTime": {
     "end_time": "2019-05-10T15:10:54.529045Z",
     "start_time": "2019-05-10T15:10:54.517398Z"
    }
   },
   "outputs": [],
   "source": [
    "from random import choices # todo:bcm - take without replacements\n",
    "def full_selector(text):\n",
    "    return text\n",
    "\n",
    "def percentage_selector(text):\n",
    "    lines = text.split(\"\\n\")\n",
    "    take_count = int(0.1* len(lines))\n",
    "    return \"\\n\".join(choices(lines,k= take_count))\n",
    "\n",
    "def lines_selector(text):\n",
    "    lines = text.split(\"\\n\")\n",
    "    return \"\\n\".join(choices(lines,k= 10))\n",
    "    \n",
    "def line_selector(text):\n",
    "    lines = text.split(\"\\n\")\n",
    "    lines_len = len(lines)\n",
    "    return lines[random.randint(0,lines_len-1)]"
   ]
  },
  {
   "cell_type": "code",
   "execution_count": 312,
   "metadata": {
    "ExecuteTime": {
     "end_time": "2019-05-10T15:10:56.607168Z",
     "start_time": "2019-05-10T15:10:56.602086Z"
    }
   },
   "outputs": [],
   "source": [
    "Selector = namedtuple(\"Selector\", \"name selector\")"
   ]
  },
  {
   "cell_type": "code",
   "execution_count": 313,
   "metadata": {
    "ExecuteTime": {
     "end_time": "2019-05-10T15:10:57.149928Z",
     "start_time": "2019-05-10T15:10:57.145463Z"
    }
   },
   "outputs": [],
   "source": [
    "selectors = seq([\n",
    "    Selector(name = \"full\", selector = full_selector),\n",
    "    Selector(name = \"percentage\", selector = percentage_selector),\n",
    "    Selector(name = \"lines\", selector = lines_selector),\n",
    "    Selector(name = \"line\", selector = line_selector),\n",
    "])"
   ]
  },
  {
   "cell_type": "markdown",
   "metadata": {},
   "source": [
    "## Learning things"
   ]
  },
  {
   "cell_type": "code",
   "execution_count": 314,
   "metadata": {
    "ExecuteTime": {
     "end_time": "2019-05-10T15:10:59.616127Z",
     "start_time": "2019-05-10T15:10:58.277617Z"
    }
   },
   "outputs": [],
   "source": [
    "from sklearn.feature_extraction.text import TfidfVectorizer\n",
    "from sklearn.linear_model import LogisticRegression\n",
    "from sklearn.model_selection import GridSearchCV\n",
    "from sklearn.model_selection import StratifiedShuffleSplit\n",
    "from sklearn.naive_bayes import MultinomialNB\n",
    "from sklearn.pipeline import Pipeline\n",
    "from sklearn.svm import LinearSVC\n",
    "from sklearn.svm import SVC\n",
    "from sklearn.multiclass import OneVsRestClassifier\n",
    "from sklearn.metrics import classification_report\n",
    "from sklearn.metrics import precision_recall_fscore_support"
   ]
  },
  {
   "cell_type": "code",
   "execution_count": 315,
   "metadata": {
    "ExecuteTime": {
     "end_time": "2019-05-10T15:11:00.221510Z",
     "start_time": "2019-05-10T15:11:00.215655Z"
    }
   },
   "outputs": [],
   "source": [
    "# TODO - use or loose it \n",
    "def grid_search(train_x, train_y, test_x, test_y,  parameters, pipeline):\n",
    "    grid_search_tune = GridSearchCV(\n",
    "        pipeline, parameters, cv=2, n_jobs=3, verbose=10)\n",
    "    grid_search_tune.fit(train_x, train_y)\n",
    "\n",
    "    print(\"Best parameters set:\")\n",
    "    print(grid_search_tune.best_estimator_.steps)\n",
    "\n",
    "    print(\"Applying best classifier on test data:\")\n",
    "    best_clf = grid_search_tune.best_estimator_\n",
    "    predictions = best_clf.predict(test_x)\n",
    "\n",
    "    print(classification_report(test_y, predictions))"
   ]
  },
  {
   "cell_type": "code",
   "execution_count": 316,
   "metadata": {
    "ExecuteTime": {
     "end_time": "2019-05-10T15:11:37.451907Z",
     "start_time": "2019-05-10T15:11:37.436386Z"
    }
   },
   "outputs": [
    {
     "data": {
      "text/plain": [
       "['był', 'poza', 'jezeli']"
      ]
     },
     "execution_count": 316,
     "metadata": {},
     "output_type": "execute_result"
    }
   ],
   "source": [
    "sw_file = open(\"polish.stopwords.txt\")\n",
    "stop_words = set(word[:-1] for word in sw_file.readlines())\n",
    "sw_file.close()\n",
    "list(stop_words)[:3]"
   ]
  },
  {
   "cell_type": "code",
   "execution_count": 317,
   "metadata": {
    "ExecuteTime": {
     "end_time": "2019-05-10T15:16:14.978939Z",
     "start_time": "2019-05-10T15:15:22.647878Z"
    }
   },
   "outputs": [],
   "source": [
    "# nltk.download('punkt')\n",
    "tokenized = [Labeled(text = nltk.word_tokenize(x.text), is_change= x.is_change) for x in data]"
   ]
  },
  {
   "cell_type": "code",
   "execution_count": 318,
   "metadata": {
    "ExecuteTime": {
     "end_time": "2019-05-10T15:19:39.350739Z",
     "start_time": "2019-05-10T15:19:39.346388Z"
    }
   },
   "outputs": [],
   "source": [
    "def map_text(mapper, data):\n",
    "    return [Labeled(text = mapper(x.text), is_change= x.is_change) for x in data]"
   ]
  },
  {
   "cell_type": "code",
   "execution_count": 319,
   "metadata": {
    "ExecuteTime": {
     "end_time": "2019-05-10T15:22:07.157420Z",
     "start_time": "2019-05-10T15:22:07.154653Z"
    }
   },
   "outputs": [],
   "source": [
    "# train_x = [x.text for x in train]\n",
    "# y_train = [x.is_change for x in train]\n",
    "# test_x = [x.text for x in test]\n",
    "# y_test = [x.is_change for x in test]"
   ]
  },
  {
   "cell_type": "code",
   "execution_count": 320,
   "metadata": {
    "ExecuteTime": {
     "end_time": "2019-05-10T15:36:44.173991Z",
     "start_time": "2019-05-10T15:36:44.165634Z"
    }
   },
   "outputs": [],
   "source": [
    "def split2(x,y):\n",
    "    data_len = len(y)\n",
    "    train_size = int(0.6 * data_len)\n",
    "    validation_size = int(0.2 * data_len)\n",
    "\n",
    "    train = x[:train_size]\n",
    "    validation = x[train_size:train_size + validation_size]\n",
    "    test = x[train_size + validation_size:]\n",
    "    \n",
    "    y_train = y[:train_size]\n",
    "    y_validation = y[train_size:train_size + validation_size]\n",
    "    y_test = y[train_size + validation_size:]\n",
    "    \n",
    "    \n",
    "    return (train,test,validation), (y_train,y_test,y_validation)"
   ]
  },
  {
   "cell_type": "code",
   "execution_count": 321,
   "metadata": {
    "ExecuteTime": {
     "end_time": "2019-05-10T15:38:48.795121Z",
     "start_time": "2019-05-10T15:38:48.787513Z"
    }
   },
   "outputs": [],
   "source": [
    "xs = [x.text for x in data]\n",
    "ys = [x.is_change for x in data]"
   ]
  },
  {
   "cell_type": "code",
   "execution_count": 322,
   "metadata": {
    "ExecuteTime": {
     "end_time": "2019-05-10T15:39:51.435773Z",
     "start_time": "2019-05-10T15:39:51.433023Z"
    }
   },
   "outputs": [],
   "source": [
    "from collections import Counter\n",
    "word_counter = Counter()\n",
    "\n",
    "for labeled_doc in tokenized:\n",
    "    for word in labeled_doc.text:\n",
    "        word_counter[word] += 1\n",
    "    "
   ]
  },
  {
   "cell_type": "code",
   "execution_count": 323,
   "metadata": {},
   "outputs": [
    {
     "data": {
      "text/plain": [
       "489032"
      ]
     },
     "execution_count": 323,
     "metadata": {},
     "output_type": "execute_result"
    }
   ],
   "source": [
    "words_for_vocab = int(8* len(word_counter))\n",
    "words_for_vocab"
   ]
  },
  {
   "cell_type": "code",
   "execution_count": 324,
   "metadata": {},
   "outputs": [],
   "source": [
    "vocab = [word for word,_ in word_counter.most_common(words_for_vocab)]"
   ]
  },
  {
   "cell_type": "code",
   "execution_count": 325,
   "metadata": {
    "ExecuteTime": {
     "end_time": "2019-05-10T15:38:54.287005Z",
     "start_time": "2019-05-10T15:38:51.239741Z"
    }
   },
   "outputs": [],
   "source": [
    "idf = TfidfVectorizer(stop_words=stop_words,vocabulary=vocab)\n",
    "idfed = idf.fit_transform(xs)"
   ]
  },
  {
   "cell_type": "code",
   "execution_count": 326,
   "metadata": {
    "ExecuteTime": {
     "end_time": "2019-05-10T15:36:47.868015Z",
     "start_time": "2019-05-10T15:36:47.854845Z"
    }
   },
   "outputs": [],
   "source": [
    "(tr_x,test_x,val_x),(tr_y,test_y,val_y)= split2(idfed,ys)"
   ]
  },
  {
   "cell_type": "code",
   "execution_count": 327,
   "metadata": {
    "ExecuteTime": {
     "end_time": "2019-05-10T15:36:50.057106Z",
     "start_time": "2019-05-10T15:36:47.869992Z"
    }
   },
   "outputs": [
    {
     "name": "stderr",
     "output_type": "stream",
     "text": [
      "/home/jacko/.local/lib/python3.6/site-packages/sklearn/linear_model/logistic.py:432: FutureWarning: Default solver will be changed to 'lbfgs' in 0.22. Specify a solver to silence this warning.\n",
      "  FutureWarning)\n"
     ]
    },
    {
     "data": {
      "text/plain": [
       "0.8143459915611815"
      ]
     },
     "execution_count": 327,
     "metadata": {},
     "output_type": "execute_result"
    }
   ],
   "source": [
    "from sklearn.linear_model import LogisticRegression\n",
    "\n",
    "logistic = LogisticRegression()\n",
    "logistic.fit(tr_x,tr_y)\n",
    "logistic.score(test_x,test_y)"
   ]
  },
  {
   "cell_type": "code",
   "execution_count": 328,
   "metadata": {
    "ExecuteTime": {
     "end_time": "2019-05-10T15:36:50.768545Z",
     "start_time": "2019-05-10T15:36:50.060095Z"
    }
   },
   "outputs": [],
   "source": [
    "svc = SVC(kernel= 'linear')#OneVsRestClassifier(SVC(), n_jobs=1)\n",
    "svc.fit(tr_x,tr_y)\n",
    "predicted_y = svc.predict(test_x)"
   ]
  },
  {
   "cell_type": "code",
   "execution_count": 393,
   "metadata": {},
   "outputs": [],
   "source": [
    "def evaluate(predicted,expected):\n",
    "    prec,recall,fbeta,support = precision_recall_fscore_support(y_true=expected,y_pred = predicted,average='weighted')\n",
    "   \n",
    "\n",
    "    print(\"F1 score: {}\".format(fbeta))\n",
    "    print(\"Precission: {}\".format(prec))\n",
    "    print(\"Recall: {}\".format(recall))"
   ]
  },
  {
   "cell_type": "code",
   "execution_count": 394,
   "metadata": {},
   "outputs": [
    {
     "name": "stdout",
     "output_type": "stream",
     "text": [
      "F1 score: 0.8351778373912422\n",
      "Precission: 0.8356614401805458\n",
      "Recall: 0.8354430379746836\n"
     ]
    }
   ],
   "source": [
    "evaluate(predicted_y,test_y)"
   ]
  },
  {
   "cell_type": "markdown",
   "metadata": {},
   "source": [
    "# Fasttext"
   ]
  },
  {
   "cell_type": "code",
   "execution_count": 331,
   "metadata": {},
   "outputs": [],
   "source": [
    "import fastText"
   ]
  },
  {
   "cell_type": "code",
   "execution_count": 332,
   "metadata": {},
   "outputs": [
    {
     "data": {
      "text/plain": [
       "Labeled(text='  1   1  ustawa określa stosunek państwa do kościoła ewangelicko metodystycznego    w rzeczypospolitej polskiej  zwanego dalej  kościołem   oraz jego     sytuację prawną i majątkową   2  w sprawach odnoszących się do kościoła  nie uregulowanych w ustawie      stosuje się powszechnie obowiązujące przepisy prawa   3  wszelkie zmiany niniejszej ustawy wymagają uprzedniej opinii rady kościoła                                    art  2   1  kościół wchodzi w skład konferencji generalnej i centralnej zjednoczonego    kościoła metodystycznego oraz jest członkiem światowej rady metodystycznej   2  kościół może należeć do krajowych i międzynarodowych organizacji o charakterze    ekumenicznym i międzywyznaniowym                                     art  3  kościół rządzi się w swoich sprawach własnym prawem wewnętrznym uchwalanym przez konferencję doroczną  swobodnie wykonuje władzę duchowną i  jurysdykcyjną oraz zarządza swoimi sprawami                                     art  4  kościół i jego osoby prawne są następcami prawnymi parafii i organizacji metodystycznych działających na obecnym terytorium rzeczypospolitej polskiej  przed dniem 1 września 1939 r                                    art  5   1  do kościoła należą osoby wyznania ewangelicko metodystycznego zamieszkałe    lub przebywające na terytorium rzeczypospolitej polskiej  należące     do parafii ewangelicko metodystycznych   2  kościół ma prawo do otaczania opieką duszpasterską ewangelików wyznania    metodystycznego narodowości polskiej  przebywających czasowo lub na     stałe za granicą  oraz współwyznawców z zagranicy  zamieszkujących lub     przebywających na terytorium rzeczypospolitej polskiej                                   rozdział 2                    osoby prawne kościoła i ich organy                                                                      art  6   1  strukturę i organizację kościoła określa prawo wewnętrzne   2  osobowość prawną posiadają     1  kościół jako całość     2  parafie   3  organami osób prawnych wymienionych w ust  2 są     1  dla kościoła jako całości   rada kościoła reprezentowana przez jej       prezydium     2  dla parafii   rada parafialna reprezentowana przez pastora   4  zmiana nazwy grupy osób prawnych  o której mowa w ust  2 pkt 2  może     być dokonana przepisami wewnątrzkościelnymi  zmiany te  na wniosek     rady kościoła  ogłasza minister szef urzędu rady ministrów w dzienniku    urzędowym rzeczypospolitej polskiej  monitor polski                                   art  7  inne jednostki organizacyjne kościoła mogą  na wniosek rady kościoła  uzyskać osobowość prawną w drodze rozporządzenia ministra szefa urzędu rady  ministrów                                                                       art  8   1  kościół samodzielnie tworzy  przekształca i znosi jednostki organizacyjne      w tym także posiadające osobowość prawną oraz jednostki działające w     ich ramach   2  o faktach wymienionych w ust  1  w odniesieniu do parafii  władza kościelna    powiadamia niezwłocznie wojewodę właściwego ze względu na miejsce     jej siedziby  zaś w odniesieniu do jednostek  które otrzymały osobowość     prawną w drodze rozporządzenia wymienionego w art  7  powiadamia ministra szefa    urzędu rady ministrów   3  nowo utworzone parafie kościoła nabywają osobowość prawną z chwilą     pisemnego powiadomienia właściwego wojewody  odpis powiadomienia  z     umieszczonym na nim potwierdzeniem odbioru  jest dowodem uzyskania     osobowości prawnej   4  powiadomienie  o którym mowa w ust  2 i 3  powinno zawierać nazwę i     siedzibę kościelnej osoby prawnej  a w odniesieniu do parafii   także ich     zasięg terytorialny   5  o powołaniu i odwołaniu pastora władza kościelna powiadamia właściwego    wojewodę  zaś o powołaniu i odwołaniu osoby sprawującej funkcję     członka prezydium rady kościoła oraz osoby sprawującej funkcję organu     lub funkcję członka organu jednostek organizacyjnych  które uzyskały osobowość    prawną w drodze rozporządzenia wymienionego w art  7  powiadamia    ministra   szefa urzędu rady ministrów  powiadomienie obejmuje     imię i nazwisko  obywatelstwo oraz miejsce zamieszkania                                    art  9   1  kościelne instytucje  zakłady i organizacje działają w ramach tych osób     prawnych  które je powołały   2  szkoła języka angielskiego jest instytucją kościelną podlegającą radzie     kościoła  szkoła ta używa nazwy własnej  english language college                                     art  10  kościelna osoba prawna nie odpowiada za zobowiązania innej kościelnej osoby prawnej                                 rozdział 3                           działalność kościoła                                                                      art  11   1  organizowanie i sprawowanie kultu publicznego podlega wyłącznie władzy     kościelnej   2  organizowanie uroczystości o charakterze religijnym na drogach publicznych    wymaga uzgodnienia  w zakresie bezpieczeństwa ruchu drogowego  z     właściwymi organami administracji rządowej lub organami samorządu terytorialnego   3  przepisu ust  2 nie stosuje się do konduktów pogrzebowych odbywających     się stosownie do miejscowego zwyczaju   4  religijne uroczystości pogrzebowe i nabożeństwa żałobne mogą odbywać     się na cmentarzach komunalnych przy zachowaniu obowiązujących przepisów    porządkowych                                                                       art  12   1  wierni kościoła mają prawo do zwolnień od pracy i nauki na czas obejmujący    następujące święta religijne nie będące dniami ustawowo wolnymi     od pracy     1  wielki piątek   dzień ukrzyżowania chrystusa pana     2  wniebowstąpienie chrystusa pana   2  zwolnienie od pracy lub nauki  w odniesieniu do świąt religijnych  o których    mowa w ust  1  następuje na zasadach określonych w powszechnie     obowiązujących przepisach prawa                                    art  13   1  kościół prowadzi konfesyjne nauczanie religii w szkołach publicznych na     zasadach i w trybie przewidzianych w odrębnych przepisach   2  oceny z religii wystawiane w punktach katechetycznych są umieszczane na     świadectwach wydawanych przez szkoły publiczne                                    art  14   1  kościelne osoby prawne mają prawo zakładać i prowadzić szkoły oraz inne     placówki oświatowo wychowawcze i opiekuńczo wychowawcze na zasadach    określonych w odrębnych przepisach  mają one charakter ewangelicko metodystyczny    i podlegają władzy kościelnej   2  do nauczycieli  wychowawców i pracowników zatrudnionych w szkołach i     innych placówkach oświatowo wychowawczych i opiekuńczo wychowawczych     a także seminariach teologicznych i instytutach misyjnych prowadzonych    przez kościół  stosuje się odpowiednio przepisy dotyczące uprawnień    nauczycieli  wychowawców i pracowników zatrudnionych w szkołach i     placówkach publicznych   3  uczącym się w szkołach wymienionych w ust  1 i 2 przysługują świadczenia     publicznych zakładów opieki zdrowotnej oraz ulgi w opłatach za przejazdy     środkami publicznego transportu zbiorowego na równi z uczniami szkół     publicznych                                  art  15   1  kościół ma prawo do zakładania i prowadzenia seminariów teologicznych i     instytutów misyjnych  w których kształci według własnego programu kandydatów    na duchownych oraz osoby świeckie przygotowujące się do realizacji    misji kościoła   2  wyższe seminarium teologiczne imienia jana łaskiego w warszawie jest     wyższą szkołą teologiczną uprawnioną do nadawania absolwentom tytułu     zawodowego licencjata teologii metodystycznej  tytuł ten jest równoważny     z tytułem zawodowym licencjata nadawanym przez państwowe szkoły wyższe                                  art  16   1  kościół ma prawo do zakładania i prowadzenia szkół wyższych  status     prawny tych szkół  a także tryb i zakres uznawania przez państwo stopni i     tytułów nadawanych przez te szkoły regulują umowy między ministrem     edukacji narodowej a radą kościoła   2  studentom szkół  o których mowa w ust  1 oraz w art  15 ust  2  przysługują    świadczenia publicznych zakładów opieki zdrowotnej oraz ulgi w opłatach    za przejazdy środkami publicznego transportu zbiorowego na równi     ze studentami państwowych szkół wyższych   3  osobom pozostającym w stosunku pracy w szkołach  o których mowa w     ust  1 oraz w art  15 ust  2  przysługują na równi z odpowiednimi pracownikami    państwowych szkół wyższych świadczenia     1  publicznych zakładów opieki zdrowotnej     2  ubezpieczenia społecznego oraz    3  zaopatrzenia emerytalnego pracowników i ich rodzin    nauczycielom przysługują ponadto ulgi w opłatach za przejazdy środkami     publicznego transportu zbiorowego na równi z nauczycielami akademickimi   4  poręcza się kościołowi prawo do kształcenia kadr duchownych w chrześcijańskiej    akademii teologicznej w warszawie w zakresie teologii metodystycznej     w ramach samodzielnej jednostki naukowo dydaktycznej utworzonej    zgodnie z ustawą o szkolnictwie wyższym                                                                       art  17   1  studenci teologii otrzymują na czas studiów odroczenie odbywania zasadniczej    służby wojskowej  zaś w razie ogłoszenia mobilizacji i w czasie wojny    mogą być przeznaczeni  stosownie do potrzeb sił zbrojnych  do służby     sanitarnej lub służby w obronie cywilnej   2  nie powołuje się absolwentów studiów  o których mowa w ust  1  do odbywania    przeszkolenia wojskowego w okresie przygotowań do ordynacji w     ciągu dwóch lat od zakończenia studiów   3  ordynowani duchowni są przenoszeni do rezerwy i nie odbywają ćwiczeń     wojskowych w czasie pokoju  w razie ogłoszenia mobilizacji oraz w czasie     wojny mogą być oni powołani jedynie do pełnienia funkcji kapelanów wojskowych   4  w razie ogłoszenia mobilizacji i w czasie wojny właściwe organy wojskowe      w porozumieniu ze zwierzchnikiem kościoła  zapewnią pozostawienie do     duszpasterskiej obsługi ludności niezbędnej liczby duchownych spośród     tych  którzy podlegają mobilizacji                                                                       art  18  1  żołnierzom pełniącym czynną służbę wojskową zapewnia się możliwość     uczestniczenia   poza terenem jednostek wojskowych   w nabożeństwach i     czynnościach religijnych w niedziele i w dni świąteczne kościoła  jeżeli w     miejscowości stacjonowania jednostki wojskowej lub w jej pobliżu znajduje     się miejsce kultu publicznego kościoła i jeżeli nie koliduje to z ważnymi     obowiązkami służbowymi   2  opiekę duszpasterską na terenie jednostek wojskowych dla żołnierzy  o     których mowa w ust  1  zapewniają duchowni kościoła w terminach uzgodnionych    z dowódcami jednostek   3  duchownych  o których mowa w ust  2  wyznacza zwierzchnik kościoła  w     porozumieniu z ministrem obrony narodowej                                                                       art  19   1  dzieciom i młodzieży przebywającym w zakładach opiekuńczych i wychowawczych     w sanatoriach  prewentoriach i szpitalach zapewnia się prawo     do udziału w nabożeństwach  uczestniczenia w nauczaniu kościelnym i wykonywania    praktyk religijnych właściwych dla wyznania ewangelicko metodystycznego   2  dzieciom i młodzieży korzystającym z zorganizowanych form wypoczynku     wakacyjnego zapewnia się prawo uczestniczenia w nabożeństwach i wykonywania    innych praktyk religijnych   3  minister edukacji narodowej oraz minister zdrowia i opieki społecznej      w porozumieniu z kościołem  określą  w drodze rozporządzenia  szczegółowe    zasady organizowania nauczania kościelnego  nabożeństw i wykonywania    innych praktyk religijnych właściwych dla wyznania ewangelicko metodystycznego    dzieciom i młodzieży przebywającym w zakładach     opiekuńczych i wychowawczych  w sanatoriach  prewentoriach i szpitalach     oraz korzystającym z zorganizowanego wypoczynku                                    art  20   1  prawo wykonywania praktyk religijnych i korzystania z opieki duszpasterskiej    zapewnia się też osobom przebywającym w zakładach opieki zdrowotnej    oraz domach pomocy społecznej  a także osobom tymczasowo aresztowanym     skazanym oraz nieletnim przebywającym w zakładach poprawczych    i schroniskach dla nieletnich   2  nabożeństwa dla osób  o których mowa w ust  1  odbywają się w kaplicach     lub innych pomieszczeniach udostępnianych na ten cel przez kierowników     właściwych instytucji prowadzonych przez administrację rządową lub samorządową   3  do wyznaczania kapelanów w zakładach prowadzonych przez administrację    rządową lub samorządową  w celu zaspokajania potrzeb określonych w     ust  1  jest uprawniony zwierzchnik kościoła                                                                       art  21   1  kościół może tworzyć organizacje ewangelicko metodystyczne w celu realizacji    zadań wynikających z jego misji   2  organizacje ewangelicko metodystyczne mają na celu w szczególności     działalność na rzecz formacji religijnej  kultu publicznego  nauki ewangelicko metodystycznej     działalność charytatywno opiekuńczą oraz kształtowanie    postaw religijno etycznych dzieci i młodzieży   3  władze kościelne czuwają nad zgodnością działania organizacji z ich celami    religijnymi i etycznymi   4  do organizacji ewangelicko metodystycznych nie stosuje się prawa o stowarzyszeniach   5  organizacje ewangelicko metodystyczne mogą uzyskiwać osobowość prawną    w trybie określonym w art  7                                                                       art  22   1  kościół prowadzi  zgodnie ze swoją misją  działalność charytatywną i opiekuńczą     w tym także w zakresie opieki zdrowotnej   2  środki na realizację działalności  o której mowa w ust  1  mogą pochodzić     w szczególności z     1  ofiar pieniężnych i w naturze oraz subwencji i dotacji     2  spadków  zapisów i darowizn krajowych i zagranicznych     3  dochodów z imprez i zbiórek publicznych     4  odpłatności za usługi świadczone przez kościelne zakłady charytatywno opiekuńcze       w tym kościelne zakłady opieki zdrowotnej     5  innych dochodów kościelnych osób prawnych  w tym z ich działalności       gospodarczej                                                                       art  23  grunty stanowiące własność skarbu państwa lub własność gminy  przeznaczone w miejscowych planach zagospodarowania przestrzennego na potrzeby kościoła  na wniosek kościelnych osób prawnych mogą być im oddawane w wieczyste użytkowanie lub sprzedawane                                  art  24  nie pobiera się opłat za użytkowanie wieczyste gruntów oddanych na potrzeby  zakładów charytatywno opiekuńczych i punktów katechetycznych                                  art  25  parafie mają prawo posiadania  zarządzania oraz zakładania i poszerzania  cmentarzy grzebalnych                                     art  26   1  kościół ma prawo emitowania w publicznych środkach masowego przekazu    nabożeństw oraz swoich programów religijno moralnych  społecznych i     kulturalnych   2  sposób realizacji uprawnień  o których mowa w ust  1  określi porozumienie    między kościołem a właściwą jednostką publicznej radiofonii i telewizji                                                                       art  27  instytucje państwowe  samorządowe i kościelne współdziałają w ochronie  konserwacji  udostępnianiu i upowszechnianiu zabytków architektury kościelnej i  sztuki sakralnej oraz ich dokumentacji  muzeów  archiwów i bibliotek będących  własnością kościelną  a także dzieł kultury i sztuki o motywach religijnych  stanowiących ważną część dziedzictwa kultury                                 rozdział 4                             sprawy majątkowe                                                                      art  28  kościołowi i jego osobom prawnym przysługuje prawo nabywania  posiadania i  zbywania mienia ruchomego i nieruchomego  nabywania i zbywania innych  praw oraz zarządzania i rozporządzania swoim majątkiem                                  art  29   1  majątek i przychody kościelnych osób prawnych podlegają ogólnym przepisom    podatkowym  z wyjątkami określonymi w ust  2 5   2  kościelne osoby prawne są zwolnione od opodatkowania podatkiem od     nieruchomości   nieruchomości lub ich części przeznaczonych na cele     niemieszkalne  z wyjątkiem części przeznaczonej na wykonywanie działalności    gospodarczej   3  zwolnienie od opodatkowania podatkiem od nieruchomości obejmuje nieruchomości    lub ich części przeznaczone na cele mieszkalne duchownych      jeżeli     1  są one wpisane do rejestru zabytków     2  służą jako internaty przy szkołach i seminariach teologicznych  domy       duchownych emerytów i wdów po nich albo    3  znajdują się w budynkach administracyjnych rady kościoła   4  nabywanie i zbywanie rzeczy i praw majątkowych przez kościelne osoby     prawne w drodze czynności prawnych oraz spadkobrania  zapisu i zasiedzenia    jest zwolnione od opłaty skarbowej  jeżeli ich przedmiotem są     1  rzeczy i prawa nie przeznaczone do działalności gospodarczej     2  sprowadzane z zagranicy maszyny  urządzenia i materiały poligraficzne       oraz papier   5  darowizny na kościelną działalność charytatywno opiekuńczą pochodzące     od osób fizycznych są wyłączone z podstawy opodatkowania darczyńców     podatkiem dochodowym  jeżeli kościelna osoba prawna przedstawi darczyńcy    pokwitowanie odbioru oraz   w okresie dwóch lat od dnia przekazania    darowizny   sprawozdanie o przeznaczeniu jej na tę działalność   6  nabywanie i zbywanie rzeczy oraz praw majątkowych  o których mowa w     ust  4  jest zwolnione od opłat sądowych  z wyłączeniem opłat kancelaryjnych                                    art  30  wolne od opłat celnych są     1  przesyłane z zagranicy dla kościelnych osób prawnych dary           a  przeznaczone na cele kultowe  charytatywno opiekuńcze i             oświatowo wychowawcze           b  maszyny  urządzenia i materiały poligraficzne oraz papier     2  wysyłane przez kościelne osoby prawne za granicę dary           a  na rzecz zagranicznych i międzynarodowych organizacji kościelnych            i społecznych           b  przeznaczone dla ofiar klęsk żywiołowych i osób znajdujących             się w potrzebie                                            art  31   1  kościelne osoby prawne mają prawo do zbierania ofiar na cele religijne      kościelną działalność charytatywno opiekuńczą  naukową  oświatową i wychowawczą    oraz utrzymanie duchownych i diakonatu   2  zbiórki wymienione w ust  1 nie wymagają zezwolenia  jeżeli odbywają się     w obrębie terenów kościelnych  kaplic oraz w miejscach i okolicznościach     zwyczajowo przyjętych i w sposób tradycyjnie ustalony                                    art  32   1  do fundacji kościelnych stosuje się ogólnie obowiązujące przepisy o fundacjach     z zastrzeżeniem ust  2 i 3   2  niezależnie od nadzoru państwowego  nadzór nad działalnością fundacji     sprawuje kościelna osoba prawna będąca fundatorem lub wskazana w statucie    fundacji   3  jeżeli statut fundacji nie stanowi inaczej  majątek pozostały po jej likwidacji    przechodzi na kościół jako całość                                    art  33  w razie zniesienia kościelnej osoby prawnej jej majątek przechodzi na kościół  jako całość                                  art  34  niezależnie od ustawowego ubezpieczenia duchownych  kościelne osoby prawne mogą prowadzić wewnętrzną działalność ubezpieczeniową na rzecz duchownych  która w rozumieniu ustawy nie jest działalnością gospodarczą                                                                      rozdział 5                      przepisy przejściowe i końcowe                                                                      art  35   1  nieruchomości lub ich części pozostające w dniu wejścia w życie ustawy w     we władaniu kościelnych osób prawnych stają się z mocy prawa ich własnością     jeżeli były własnością osób prawnych biskupiego kościoła metodystycznego     bischoefliche methodistische kirche   społeczności ewangelickiej     evangelische gemeinschaft  lub spółki akcyjnej pod firmą  southern     trade s a   z siedzibą w warszawie   2  stwierdzenie przejścia własności nieruchomości lub ich części  o których     mowa w ust  1  następuje w drodze decyzji wojewody   3  skarga do sądu administracyjnego z powodu niewydania decyzji  o której     mowa w ust  2  jest dopuszczalna po upływie 2 lat od dnia wszczęcia postępowania   4  przejście własności nieruchomości lub ich części na podstawie ust  1 jest     wolne od podatków i opłat związanych z tym przejściem  a wynikające z     niego wpisy do ksiąg wieczystych i ich zakładanie są wolne od opłat   5  postępowanie sądowe lub administracyjne dotyczące nieruchomości  o których    mowa w ust  1  ulega zawieszeniu  a sądy lub organy administracji     przekazują ich akta właściwemu wojewodzie   6  organ  który wydał decyzję ostateczną określoną w ust  2  zawiadamia o     niej sąd lub organ administracji  który zawiesił postępowanie  zwracając     akta sprawy  sąd lub właściwy organ umorzy zawieszone postępowanie                                    art  36   1  przywraca się kościołowi jako całości własność zabudowanej nieruchomości    położonej w krakowie przy ul  straszewskiego nr 20  oznaczonej jako     działka ewidencyjna gruntu nr 11 o powierzchni 1211 m 2   w obrębie 145      objętej księgą wieczystą kw nr 223  w stanie wolnym od obciążeń oraz roszczeń    z tytułu wszelkich nakładów poniesionych przez jej dotychczasowych    użytkowników   2  minister szef urzędu rady ministrów określi  w drodze zarządzenia      szczegółowe zasady i tryb regulacji  o której mowa w ust  1   3  przepis art  35 ust  4 stosuje się odpowiednio                                    art  37   1  na wniosek kościelnych osób prawnych wojewoda lub innych organ wykonujący    w imieniu skarbu państwa prawa wynikające z własności nieruchomości    albo organy gmin w zakresie swoich właściwości   mogą nieodpłatnie    przekazać kościołowi lub jego osobom prawnym własność nieruchomości    lub ich części     1  jeżeli są one niezbędne do sprawowania kultu religijnego lub działalności      kościelnych osób prawnych w zakresie charytatywno opiekuńczym       lub oświatowo wychowawczym     2  w celu utworzenia lub powiększenia gospodarstwa rolnego parafii działających      na ziemiach zachodnich i północnych o powierzchni do 15 ha       użytków rolnych łącznie dla jednej parafii   2  przepis art  35 ust  4 stosuje się odpowiednio   3  wnioski  o których mowa w ust  1  mogą być składane w terminie 2 lat od     dnia wejścia w życie ustawy                                    art  38   1  decyzje  o których mowa w art  35 i 37  nie mogą naruszać praw nabytych     przez osoby trzecie  w szczególności przez inne kościoły i związki wyznaniowe   2  majątek nieruchomy  przekazany na własność gminie w trybie ustawy z     dnia 10 maja 1990 r    przepisy wprowadzające ustawę o samorządzie terytorialnym    i ustawę o pracownikach samorządowych  dz u  nr 32  poz      191  nr 43  poz  253 i nr 92  poz  541  z 1991 r  nr 34  poz  151  z 1992 r      nr 6  poz  20  z 1993 r  nr 40  poz  180 oraz z 1994 r  nr 1  poz  3 i nr     65  poz  285   podlega postępowaniu  o którym mowa w art  35                                    art  39  decyzje  o których mowa w art  35 i 37  oraz przepisy art  36 stanowią podstawę do dokonania wpisów w księgach wieczystych i ewidencji gruntów                                  art  40   1  istniejące w dniu wejścia w życie ustawy kościelne osoby prawne pozostają     osobami prawnymi w rozumieniu niniejszej ustawy   2  wykaz parafii kościoła będących osobami prawnymi w dniu wejścia ustawy    w życie stanowi załącznik do ustawy                                    art  41  traci moc dekret z dnia 16 października 1945 r  o stosunku państwa do kościoła metodystycznego w rzeczypospolitej polskiej  dz u  nr 46  poz  259                                   art  42  ustawa wchodzi w życie po upływie 14 dni od dnia ogłoszenia                                                                załącznik do ustawy z dnia                                 30 czerwca 1995 r   dz  u  nr 97  poz  479                                                                                              wykaz parafii                   kościoła ewangelicko metodystycznego                       w rzeczypospolitej polskiej                                                                           parafia bielsko biała parafia bydgoszcz parafia bytom parafia chodzież parafia dąbrówka parafia elbląg parafia ełk parafia gdańsk wrzeszcz parafia gierzwałd parafia gliwice parafia grudziądz parafia inowrocław parafia katowice parafia kielce parafia koszalin parafia kraków parafia kroplewo parafia kwidzyn parafia lipowo parafia łódź parafia łukta parafia międzyrzecz parafia olsztynek parafia ostróda parafia pabianice parafia piętki parafia poznań parafia przemyśl parafia siemiany parafia słonecznik parafia słupsk parafia smykowo parafia stare juchy parafia szczecin parafia ścinawka średnia parafia tarnów parafia warszawa parafia wrocław ', is_change=False)"
      ]
     },
     "execution_count": 332,
     "metadata": {},
     "output_type": "execute_result"
    }
   ],
   "source": [
    "oneline_data = map_text(lambda text: text.replace(\"\\n\", \" \"),data)\n",
    "oneline_data[0]"
   ]
  },
  {
   "cell_type": "code",
   "execution_count": 333,
   "metadata": {},
   "outputs": [],
   "source": [
    "def to_fast_text(x: Labeled)-> str :\n",
    "    label = \"1\" if x.is_change else \"0\"\n",
    "    replaced = x.text.replace(\"\\\"\",\"\\\"\\\"\")\n",
    "    return \"__label__{}, \\\"{}\\\"\\n\".format(label,replaced)"
   ]
  },
  {
   "cell_type": "code",
   "execution_count": 334,
   "metadata": {},
   "outputs": [],
   "source": [
    "data_len = len(oneline_data)\n",
    "train_size = int(0.6 * data_len)\n",
    "validation_size = int(0.2 * data_len)"
   ]
  },
  {
   "cell_type": "code",
   "execution_count": 335,
   "metadata": {},
   "outputs": [],
   "source": [
    "ol_train = oneline_data[:train_size]\n",
    "ol_test = oneline_data[train_size:train_size+ validation_size]\n",
    "ol_val = oneline_data[validation_size+ train_size:]"
   ]
  },
  {
   "cell_type": "code",
   "execution_count": 336,
   "metadata": {},
   "outputs": [],
   "source": [
    "def ol_to_file(name:str, ol:List[Labeled])-> None:\n",
    "    file = open(\"data.bak/{}\".format(name),\"w\")\n",
    "\n",
    "    for t in ol:\n",
    "        file.write(to_fast_text(t))\n",
    "    file.close()"
   ]
  },
  {
   "cell_type": "code",
   "execution_count": 337,
   "metadata": {},
   "outputs": [],
   "source": [
    "ol_to_file(\"train.csv\",ol_train)\n",
    "ol_to_file(\"test.csv\",ol_test)\n",
    "ol_to_file(\"val.csv\",ol_val)"
   ]
  },
  {
   "cell_type": "code",
   "execution_count": 388,
   "metadata": {},
   "outputs": [],
   "source": [
    "model = fastText.train_supervised(\"data.bak/train.csv\",lr=0.7,epoch = 20)"
   ]
  },
  {
   "cell_type": "code",
   "execution_count": 389,
   "metadata": {},
   "outputs": [],
   "source": [
    "test_result = model.test(\"data.bak/test.csv\")"
   ]
  },
  {
   "cell_type": "code",
   "execution_count": 392,
   "metadata": {},
   "outputs": [
    {
     "data": {
      "text/plain": [
       "(235, 0.8297872340425532, 0.8297872340425532)"
      ]
     },
     "execution_count": 392,
     "metadata": {},
     "output_type": "execute_result"
    }
   ],
   "source": [
    "# TODO:bcm - compute my own precision\n",
    "test_result"
   ]
  },
  {
   "cell_type": "markdown",
   "metadata": {},
   "source": [
    "# Flair"
   ]
  },
  {
   "cell_type": "code",
   "execution_count": 400,
   "metadata": {},
   "outputs": [
    {
     "name": "stdout",
     "output_type": "stream",
     "text": [
      "https://s3.eu-central-1.amazonaws.com/borchmann/cse/lm-polish-forward-v0.2.pt\n",
      "https://s3.eu-central-1.amazonaws.com/borchmann/cse/lm-polish-backward-v0.2.pt\n",
      "https://s3.eu-central-1.amazonaws.com/borchmann/glove/poleval.txt\n"
     ]
    }
   ],
   "source": [
    "ROOT_URL = 'https://s3.eu-central-1.amazonaws.com/borchmann'\n",
    "FORWARD_FILE = 'cse/lm-polish-forward-v0.2.pt'\n",
    "BACKWARD_FILE = 'cse/lm-polish-backward-v0.2.pt'\n",
    "GLOVE_FILE = 'glove/poleval.txt'\n",
    "\n",
    "FORWARD_LM = f'{ROOT_URL}/{FORWARD_FILE}'\n",
    "BACKWARD_LM = f'{ROOT_URL}/{BACKWARD_FILE}'\n",
    "GLOVE = f'{ROOT_URL}/{GLOVE_FILE}'\n",
    "\n",
    "print(FORWARD_LM)\n",
    "print(BACKWARD_LM)\n",
    "print(GLOVE)"
   ]
  },
  {
   "cell_type": "code",
   "execution_count": 401,
   "metadata": {},
   "outputs": [
    {
     "name": "stdout",
     "output_type": "stream",
     "text": [
      "--2019-05-12 21:47:00--  https://s3.eu-central-1.amazonaws.com/borchmann/cse/lm-polish-backward-v0.2.pt\n",
      "Resolving s3.eu-central-1.amazonaws.com (s3.eu-central-1.amazonaws.com)... 52.219.74.0\n",
      "Connecting to s3.eu-central-1.amazonaws.com (s3.eu-central-1.amazonaws.com)|52.219.74.0|:443... connected.\n",
      "HTTP request sent, awaiting response... 200 OK\n",
      "Length: 84244196 (80M) [application/x-www-form-urlencoded]\n",
      "Saving to: ‘data.bak/polish_backward.pt’\n",
      "\n",
      "data.bak/polish_bac 100%[===================>]  80.34M  3.76MB/s    in 14s     \n",
      "\n",
      "2019-05-12 21:47:14 (5.86 MB/s) - ‘data.bak/polish_backward.pt’ saved [84244196/84244196]\n",
      "\n",
      "--2019-05-12 21:47:14--  https://s3.eu-central-1.amazonaws.com/borchmann/glove/poleval.txt\n",
      "Resolving s3.eu-central-1.amazonaws.com (s3.eu-central-1.amazonaws.com)... 52.219.74.48\n",
      "Connecting to s3.eu-central-1.amazonaws.com (s3.eu-central-1.amazonaws.com)|52.219.74.48|:443... connected.\n",
      "HTTP request sent, awaiting response... 200 OK\n",
      "Length: 514977227 (491M) [text/plain]\n",
      "Saving to: ‘data.bak/glove.txt’\n",
      "\n",
      "data.bak/glove.txt  100%[===================>] 491.12M  3.26MB/s    in 4m 7s   \n",
      "\n",
      "2019-05-12 21:51:22 (1.98 MB/s) - ‘data.bak/glove.txt’ saved [514977227/514977227]\n",
      "\n"
     ]
    }
   ],
   "source": [
    "# ! wget https://s3.eu-central-1.amazonaws.com/borchmann/cse/lm-polish-forward-v0.2.pt -O data.bak/polish_forward.pt\n",
    "! wget https://s3.eu-central-1.amazonaws.com/borchmann/cse/lm-polish-backward-v0.2.pt -O data.bak/polish_backward.pt\n",
    "! wget https://s3.eu-central-1.amazonaws.com/borchmann/glove/poleval.txt -O data.bak/glove.txt\n"
   ]
  },
  {
   "cell_type": "code",
   "execution_count": null,
   "metadata": {},
   "outputs": [],
   "source": [
    "from flair.data_fetcher import NLPTaskDataFetcher\n",
    "from flair.embeddings import WordEmbeddings, FlairEmbeddings, DocumentLSTMEmbeddings\n",
    "from flair.models import TextClassifier\n",
    "from flair.trainers import ModelTrainer\n",
    "from pathlib import Path\n",
    "\n",
    "corpus = NLPTaskDataFetcher.load_classification_corpus(\n",
    "    Path('./data.bak'),\n",
    "    test_file='test.csv',\n",
    "    dev_file='val.csv',\n",
    "    train_file='train.csv'\n",
    ")\n",
    "\n",
    "word_embeddings = [\n",
    "    WordEmbeddings('glove'),\n",
    "    FlairEmbeddings('news-forward-fast'),\n",
    "    FlairEmbeddings('news-backward-fast')\n",
    "]\n",
    "\n",
    "document_embeddings = DocumentLSTMEmbeddings(\n",
    "    word_embeddings,\n",
    "    hidden_size=512,\n",
    "    reproject_words=True,\n",
    "    reproject_words_dimension=256\n",
    ")\n",
    "\n",
    "classifier = TextClassifier(\n",
    "    document_embeddings,\n",
    "    label_dictionary=corpus.make_label_dictionary(),\n",
    "    multi_label=False\n",
    ")\n",
    "\n",
    "trainer = ModelTrainer(classifier, corpus)\n",
    "\n",
    "trainer.train('./data.', max_epochs=10)"
   ]
  },
  {
   "cell_type": "code",
   "execution_count": null,
   "metadata": {},
   "outputs": [],
   "source": []
  }
 ],
 "metadata": {
  "kernelspec": {
   "display_name": "Python 3",
   "language": "python",
   "name": "python3"
  },
  "language_info": {
   "codemirror_mode": {
    "name": "ipython",
    "version": 3
   },
   "file_extension": ".py",
   "mimetype": "text/x-python",
   "name": "python",
   "nbconvert_exporter": "python",
   "pygments_lexer": "ipython3",
   "version": "3.6.7"
  }
 },
 "nbformat": 4,
 "nbformat_minor": 2
}
