{
 "cells": [
  {
   "cell_type": "code",
   "execution_count": 1,
   "metadata": {
    "ExecuteTime": {
     "end_time": "2019-05-10T15:10:15.135211Z",
     "start_time": "2019-05-10T15:10:14.376814Z"
    }
   },
   "outputs": [],
   "source": [
    "from functional import seq\n",
    "from functional.streams import Sequence\n",
    "import pandas as pd\n",
    "import numpy as np\n",
    "import os\n",
    "from typing import Dict, List, Tuple, Optional\n",
    "import random\n",
    "from collections import namedtuple\n",
    "from random import shuffle"
   ]
  },
  {
   "cell_type": "code",
   "execution_count": 2,
   "metadata": {
    "ExecuteTime": {
     "end_time": "2019-05-10T15:10:18.316975Z",
     "start_time": "2019-05-10T15:10:15.211676Z"
    }
   },
   "outputs": [
    {
     "data": {
      "text/plain": [
       "1180"
      ]
     },
     "execution_count": 2,
     "metadata": {},
     "output_type": "execute_result"
    }
   ],
   "source": [
    "ustawy_dir = \"../ustawy\"\n",
    "ustawy_files = seq(os.listdir(ustawy_dir)).map(\n",
    "    lambda filename: open(ustawy_dir + \"/\" + filename).read())\n",
    "\n",
    "ustawy_files.size()"
   ]
  },
  {
   "cell_type": "code",
   "execution_count": 3,
   "metadata": {
    "ExecuteTime": {
     "end_time": "2019-05-10T15:10:18.332743Z",
     "start_time": "2019-05-10T15:10:18.322325Z"
    }
   },
   "outputs": [],
   "source": [
    "good, bad = ustawy_files.partition(lambda x: \"Art\" in x[:2400])"
   ]
  },
  {
   "cell_type": "code",
   "execution_count": 4,
   "metadata": {
    "ExecuteTime": {
     "end_time": "2019-05-10T15:10:18.349448Z",
     "start_time": "2019-05-10T15:10:18.334837Z"
    }
   },
   "outputs": [
    {
     "data": {
      "text/plain": [
       "1178"
      ]
     },
     "execution_count": 4,
     "metadata": {},
     "output_type": "execute_result"
    }
   ],
   "source": [
    "good.size()"
   ]
  },
  {
   "cell_type": "code",
   "execution_count": 5,
   "metadata": {
    "ExecuteTime": {
     "end_time": "2019-05-10T15:10:18.367530Z",
     "start_time": "2019-05-10T15:10:18.354787Z"
    }
   },
   "outputs": [
    {
     "data": {
      "text/plain": [
       "2"
      ]
     },
     "execution_count": 5,
     "metadata": {},
     "output_type": "execute_result"
    }
   ],
   "source": [
    "bad.size()"
   ]
  },
  {
   "cell_type": "code",
   "execution_count": 6,
   "metadata": {
    "ExecuteTime": {
     "end_time": "2019-05-10T15:10:19.187237Z",
     "start_time": "2019-05-10T15:10:19.180188Z"
    }
   },
   "outputs": [
    {
     "data": {
      "text/plain": [
       "['',\n",
       " 'USTAWA',\n",
       " 'z dnia 11 października 2013 r.',\n",
       " 'o wzajemnej pomocy przy dochodzeniu podatków, należności ',\n",
       " 'celnych i innych należności pieniężnych',\n",
       " '',\n",
       " '<!-/*',\n",
       " 'Font Definitions */',\n",
       " ' @font-face',\n",
       " '\\t{font-family:Helvetica;',\n",
       " '\\tpanose-1:2 11 5 4 2 2 2 2 2 4;}',\n",
       " '@font-face',\n",
       " '\\t{font-family:Courier;',\n",
       " '\\tpanose-1:2 7 4 9 2 2 5 2 4 4;}',\n",
       " '']"
      ]
     },
     "execution_count": 6,
     "metadata": {},
     "output_type": "execute_result"
    }
   ],
   "source": [
    "bad[0][:300].split(\"\\n\")"
   ]
  },
  {
   "cell_type": "code",
   "execution_count": 7,
   "metadata": {
    "ExecuteTime": {
     "end_time": "2019-05-10T15:10:22.184157Z",
     "start_time": "2019-05-10T15:10:22.177091Z"
    }
   },
   "outputs": [
    {
     "data": {
      "text/plain": [
       "['', '', '', '', '', 'Brak tekstu w postaci elektronicznej ', '']"
      ]
     },
     "execution_count": 7,
     "metadata": {},
     "output_type": "execute_result"
    }
   ],
   "source": [
    "bad[1][:300].split(\"\\n\")"
   ]
  },
  {
   "cell_type": "code",
   "execution_count": 8,
   "metadata": {
    "ExecuteTime": {
     "end_time": "2019-05-10T15:10:23.579942Z",
     "start_time": "2019-05-10T15:10:23.569953Z"
    }
   },
   "outputs": [],
   "source": [
    "def is_change(ustawa:str) -> bool:\n",
    "    return \"o zmianie ustawy\" in ustawa[:800]"
   ]
  },
  {
   "cell_type": "code",
   "execution_count": 9,
   "metadata": {
    "ExecuteTime": {
     "end_time": "2019-05-10T15:10:24.880582Z",
     "start_time": "2019-05-10T15:10:24.867966Z"
    }
   },
   "outputs": [],
   "source": [
    "changes, not_changes = good.partition(is_change)"
   ]
  },
  {
   "cell_type": "code",
   "execution_count": 10,
   "metadata": {
    "ExecuteTime": {
     "end_time": "2019-05-10T15:10:26.267478Z",
     "start_time": "2019-05-10T15:10:26.264259Z"
    }
   },
   "outputs": [],
   "source": [
    "Labeled =  namedtuple(\"Labeled\",\"text is_change\")"
   ]
  },
  {
   "cell_type": "code",
   "execution_count": 11,
   "metadata": {
    "ExecuteTime": {
     "end_time": "2019-05-10T15:10:28.045258Z",
     "start_time": "2019-05-10T15:10:28.039753Z"
    }
   },
   "outputs": [],
   "source": [
    "def strip_title(text:str) -> str:\n",
    "    return text.split(\"Art\",maxsplit=1)[1]"
   ]
  },
  {
   "cell_type": "code",
   "execution_count": 12,
   "metadata": {
    "ExecuteTime": {
     "end_time": "2019-05-10T15:10:28.756658Z",
     "start_time": "2019-05-10T15:10:28.751366Z"
    }
   },
   "outputs": [],
   "source": [
    "labeled_changes = changes.map(lambda txt: Labeled(text = strip_title(txt), is_change = True))"
   ]
  },
  {
   "cell_type": "code",
   "execution_count": 13,
   "metadata": {
    "ExecuteTime": {
     "end_time": "2019-05-10T15:10:30.020816Z",
     "start_time": "2019-05-10T15:10:30.012752Z"
    }
   },
   "outputs": [],
   "source": [
    "labeled_not_changes = not_changes.map(lambda txt: Labeled(text = strip_title(txt), is_change = False))"
   ]
  },
  {
   "cell_type": "code",
   "execution_count": 14,
   "metadata": {
    "ExecuteTime": {
     "end_time": "2019-05-10T15:10:32.051274Z",
     "start_time": "2019-05-10T15:10:31.986665Z"
    }
   },
   "outputs": [],
   "source": [
    "data = (labeled_changes + labeled_not_changes).to_list()"
   ]
  },
  {
   "cell_type": "code",
   "execution_count": 15,
   "metadata": {
    "ExecuteTime": {
     "end_time": "2019-05-10T15:10:38.711684Z",
     "start_time": "2019-05-10T15:10:38.705242Z"
    }
   },
   "outputs": [],
   "source": [
    "shuffle(data)"
   ]
  },
  {
   "cell_type": "code",
   "execution_count": 18,
   "metadata": {
    "ExecuteTime": {
     "end_time": "2019-05-10T15:10:51.188765Z",
     "start_time": "2019-05-10T15:10:51.183402Z"
    }
   },
   "outputs": [],
   "source": [
    "def split(data):\n",
    "    data_len = len(data)\n",
    "    train_size = int(0.6 * data_len)\n",
    "    validation_size = int(0.2 * data_len)\n",
    "\n",
    "    train = data[:train_size]\n",
    "    validation = data[train_size:train_size + validation_size]\n",
    "    test = data[train_size + validation_size:]\n",
    "    return train,test,validation\n",
    "    \n",
    "# train, test,validation = split(data)\n",
    "# len(train),len(validation),len(test)"
   ]
  },
  {
   "cell_type": "code",
   "execution_count": 19,
   "metadata": {
    "ExecuteTime": {
     "end_time": "2019-05-10T15:10:54.529045Z",
     "start_time": "2019-05-10T15:10:54.517398Z"
    }
   },
   "outputs": [],
   "source": [
    "from random import choices # todo:bcm - take without replacements\n",
    "def full_selector(text):\n",
    "    return text\n",
    "\n",
    "def percentage_selector(text):\n",
    "    lines = text.split(\"\\n\")\n",
    "    take_count = int(0.1* len(lines))\n",
    "    return \"\\n\".join(choices(lines,k= take_count))\n",
    "\n",
    "def lines_selector(text):\n",
    "    lines = text.split(\"\\n\")\n",
    "    return \"\\n\".join(choices(lines,k= 10))\n",
    "    \n",
    "def line_selector(text):\n",
    "    lines = text.split(\"\\n\")\n",
    "    lines_len = len(lines)\n",
    "    return lines[random.randint(0,lines_len-1)]"
   ]
  },
  {
   "cell_type": "code",
   "execution_count": 20,
   "metadata": {
    "ExecuteTime": {
     "end_time": "2019-05-10T15:10:56.607168Z",
     "start_time": "2019-05-10T15:10:56.602086Z"
    }
   },
   "outputs": [],
   "source": [
    "Selector = namedtuple(\"Selector\", \"name selector\")"
   ]
  },
  {
   "cell_type": "code",
   "execution_count": 21,
   "metadata": {
    "ExecuteTime": {
     "end_time": "2019-05-10T15:10:57.149928Z",
     "start_time": "2019-05-10T15:10:57.145463Z"
    }
   },
   "outputs": [],
   "source": [
    "selectors = seq([\n",
    "    Selector(name = \"full\", selector = full_selector),\n",
    "    Selector(name = \"percentage\", selector = percentage_selector),\n",
    "    Selector(name = \"lines\", selector = lines_selector),\n",
    "    Selector(name = \"line\", selector = line_selector),\n",
    "])"
   ]
  },
  {
   "cell_type": "markdown",
   "metadata": {},
   "source": [
    "## Learning things"
   ]
  },
  {
   "cell_type": "code",
   "execution_count": 22,
   "metadata": {
    "ExecuteTime": {
     "end_time": "2019-05-10T15:10:59.616127Z",
     "start_time": "2019-05-10T15:10:58.277617Z"
    }
   },
   "outputs": [],
   "source": [
    "from sklearn.feature_extraction.text import TfidfVectorizer\n",
    "from sklearn.linear_model import LogisticRegression\n",
    "from sklearn.model_selection import GridSearchCV\n",
    "from sklearn.model_selection import StratifiedShuffleSplit\n",
    "from sklearn.naive_bayes import MultinomialNB\n",
    "from sklearn.pipeline import Pipeline\n",
    "from sklearn.svm import LinearSVC\n",
    "from sklearn.svm import SVC\n",
    "from sklearn.multiclass import OneVsRestClassifier\n",
    "from sklearn.metrics import classification_report\n"
   ]
  },
  {
   "cell_type": "code",
   "execution_count": 23,
   "metadata": {
    "ExecuteTime": {
     "end_time": "2019-05-10T15:11:00.221510Z",
     "start_time": "2019-05-10T15:11:00.215655Z"
    }
   },
   "outputs": [],
   "source": [
    "def grid_search(train_x, train_y, test_x, test_y,  parameters, pipeline):\n",
    "    grid_search_tune = GridSearchCV(\n",
    "        pipeline, parameters, cv=2, n_jobs=3, verbose=10)\n",
    "    grid_search_tune.fit(train_x, train_y)\n",
    "\n",
    "    print(\"Best parameters set:\")\n",
    "    print(grid_search_tune.best_estimator_.steps)\n",
    "\n",
    "    print(\"Applying best classifier on test data:\")\n",
    "    best_clf = grid_search_tune.best_estimator_\n",
    "    predictions = best_clf.predict(test_x)\n",
    "\n",
    "    print(classification_report(test_y, predictions))"
   ]
  },
  {
   "cell_type": "code",
   "execution_count": 24,
   "metadata": {
    "ExecuteTime": {
     "end_time": "2019-05-10T15:11:37.451907Z",
     "start_time": "2019-05-10T15:11:37.436386Z"
    }
   },
   "outputs": [
    {
     "data": {
      "text/plain": [
       "['niż', 'pod', 'twój']"
      ]
     },
     "execution_count": 24,
     "metadata": {},
     "output_type": "execute_result"
    }
   ],
   "source": [
    "sw_file = open(\"polish.stopwords.txt\")\n",
    "stop_words = set(word[:-1] for word in sw_file.readlines())\n",
    "sw_file.close()\n",
    "list(stop_words)[:3]"
   ]
  },
  {
   "cell_type": "code",
   "execution_count": 27,
   "metadata": {
    "ExecuteTime": {
     "end_time": "2019-05-10T15:16:14.978939Z",
     "start_time": "2019-05-10T15:15:22.647878Z"
    }
   },
   "outputs": [],
   "source": [
    "import nltk\n",
    "\n",
    "tokenized = [Labeled(text = nltk.word_tokenize(x.text), is_change= x.is_change) for x in data]"
   ]
  },
  {
   "cell_type": "code",
   "execution_count": 30,
   "metadata": {
    "ExecuteTime": {
     "end_time": "2019-05-10T15:19:39.350739Z",
     "start_time": "2019-05-10T15:19:39.346388Z"
    }
   },
   "outputs": [],
   "source": [
    "def map_words(mapper, data):\n",
    "    return [Labeled(text = mapper(x.text), is_change= x.is_change) for x in data]"
   ]
  },
  {
   "cell_type": "code",
   "execution_count": 32,
   "metadata": {
    "ExecuteTime": {
     "end_time": "2019-05-10T15:22:07.157420Z",
     "start_time": "2019-05-10T15:22:07.154653Z"
    }
   },
   "outputs": [],
   "source": [
    "# train_x = [x.text for x in train]\n",
    "# y_train = [x.is_change for x in train]\n",
    "# test_x = [x.text for x in test]\n",
    "# y_test = [x.is_change for x in test]"
   ]
  },
  {
   "cell_type": "code",
   "execution_count": 57,
   "metadata": {
    "ExecuteTime": {
     "end_time": "2019-05-10T15:36:44.173991Z",
     "start_time": "2019-05-10T15:36:44.165634Z"
    }
   },
   "outputs": [],
   "source": [
    "def split2(x,y):\n",
    "    data_len = len(y)\n",
    "    train_size = int(0.6 * data_len)\n",
    "    validation_size = int(0.2 * data_len)\n",
    "\n",
    "    train = x[:train_size]\n",
    "    validation = x[train_size:train_size + validation_size]\n",
    "    test = x[train_size + validation_size:]\n",
    "    \n",
    "    y_train = y[:train_size]\n",
    "    y_validation = y[train_size:train_size + validation_size]\n",
    "    y_test = y[train_size + validation_size:]\n",
    "    \n",
    "    \n",
    "    return (train,test,validation), (y_train,y_test,y_validation)"
   ]
  },
  {
   "cell_type": "code",
   "execution_count": 62,
   "metadata": {
    "ExecuteTime": {
     "end_time": "2019-05-10T15:38:48.795121Z",
     "start_time": "2019-05-10T15:38:48.787513Z"
    }
   },
   "outputs": [],
   "source": [
    "xs = [x.text for x in data]\n",
    "ys = [x.is_change for x in data]"
   ]
  },
  {
   "cell_type": "code",
   "execution_count": 64,
   "metadata": {
    "ExecuteTime": {
     "end_time": "2019-05-10T15:39:51.435773Z",
     "start_time": "2019-05-10T15:39:51.433023Z"
    }
   },
   "outputs": [],
   "source": [
    "from collections import Counter\n",
    "word_counter = Counter()\n",
    "\n",
    "for labeled_doc in tokenized:\n",
    "    word_counter.\n",
    "    "
   ]
  },
  {
   "cell_type": "code",
   "execution_count": null,
   "metadata": {},
   "outputs": [],
   "source": []
  },
  {
   "cell_type": "code",
   "execution_count": 63,
   "metadata": {
    "ExecuteTime": {
     "end_time": "2019-05-10T15:38:54.287005Z",
     "start_time": "2019-05-10T15:38:51.239741Z"
    }
   },
   "outputs": [],
   "source": [
    "idf = TfidfVectorizer(stop_words=stop_words)\n",
    "idfed = idf.fit_transform(xs)"
   ]
  },
  {
   "cell_type": "code",
   "execution_count": 59,
   "metadata": {
    "ExecuteTime": {
     "end_time": "2019-05-10T15:36:47.868015Z",
     "start_time": "2019-05-10T15:36:47.854845Z"
    }
   },
   "outputs": [],
   "source": [
    "(tr_x,test_x,val_x),(tr_y,test_y,val_y)= split2(idfed,ys)"
   ]
  },
  {
   "cell_type": "code",
   "execution_count": 60,
   "metadata": {
    "ExecuteTime": {
     "end_time": "2019-05-10T15:36:50.057106Z",
     "start_time": "2019-05-10T15:36:47.869992Z"
    }
   },
   "outputs": [
    {
     "name": "stderr",
     "output_type": "stream",
     "text": [
      "/Users/jakubdarul/Library/Python/3.7/lib/python/site-packages/sklearn/svm/base.py:196: FutureWarning: The default value of gamma will change from 'auto' to 'scale' in version 0.22 to account better for unscaled features. Set gamma explicitly to 'auto' or 'scale' to avoid this warning.\n",
      "  \"avoid this warning.\", FutureWarning)\n"
     ]
    },
    {
     "data": {
      "text/plain": [
       "SVC(C=1.0, cache_size=200, class_weight=None, coef0=0.0,\n",
       "  decision_function_shape='ovr', degree=3, gamma='auto_deprecated',\n",
       "  kernel='rbf', max_iter=-1, probability=False, random_state=None,\n",
       "  shrinking=True, tol=0.001, verbose=False)"
      ]
     },
     "execution_count": 60,
     "metadata": {},
     "output_type": "execute_result"
    }
   ],
   "source": [
    "svc = SVC()#OneVsRestClassifier(SVC(), n_jobs=1)\n",
    "svc.fit(tr_x,tr_y)"
   ]
  },
  {
   "cell_type": "code",
   "execution_count": 61,
   "metadata": {
    "ExecuteTime": {
     "end_time": "2019-05-10T15:36:50.768545Z",
     "start_time": "2019-05-10T15:36:50.060095Z"
    }
   },
   "outputs": [
    {
     "data": {
      "text/plain": [
       "0.4641350210970464"
      ]
     },
     "execution_count": 61,
     "metadata": {},
     "output_type": "execute_result"
    }
   ],
   "source": [
    "svc.score(test_x,test_y)"
   ]
  },
  {
   "cell_type": "code",
   "execution_count": null,
   "metadata": {},
   "outputs": [],
   "source": []
  }
 ],
 "metadata": {
  "kernelspec": {
   "display_name": "Python 3",
   "language": "python",
   "name": "python3"
  },
  "language_info": {
   "codemirror_mode": {
    "name": "ipython",
    "version": 3
   },
   "file_extension": ".py",
   "mimetype": "text/x-python",
   "name": "python",
   "nbconvert_exporter": "python",
   "pygments_lexer": "ipython3",
   "version": "3.7.2"
  }
 },
 "nbformat": 4,
 "nbformat_minor": 2
}
