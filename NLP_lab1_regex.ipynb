{
 "cells": [
  {
   "cell_type": "code",
   "execution_count": 1,
   "metadata": {
    "scrolled": false
   },
   "outputs": [],
   "source": [
    "import regex as re\n",
    "from functional import seq\n",
    "from fn import _\n",
    "from collections import namedtuple\n",
    "from typing import List, Dict, Tuple, Optional\n",
    "from termcolor import colored\n",
    "import os"
   ]
  },
  {
   "cell_type": "code",
   "execution_count": 2,
   "metadata": {},
   "outputs": [],
   "source": [
    "#Nr doesnt matter, position does"
   ]
  },
  {
   "cell_type": "code",
   "execution_count": 3,
   "metadata": {
    "scrolled": false
   },
   "outputs": [],
   "source": [
    "act_dir = os.environ[\"HOME\"]+\"/tmp/nlp/ustawy\"\n",
    "#act_file = \"1993_599.txt\""
   ]
  },
  {
   "cell_type": "code",
   "execution_count": 4,
   "metadata": {
    "scrolled": true
   },
   "outputs": [
    {
     "name": "stdout",
     "output_type": "stream",
     "text": [
      "\n",
      "[1])    Zmiany wymienionej ustawy zostały\n",
      "ogłoszone w Dz. U. z 2000 r. Nr 120, poz. 1268, z 2002 r. Nr 25, poz. 253, z\n",
      "2003 r. Nr 130, poz. 1188, z 2004 r. Nr 93, poz. 894, z 2005 r. Nr 172, poz.\n",
      "1442 i Nr 267, poz. 2258, z 2006 r. Nr 157, poz. 1119, z 2007 r. Nr 176, poz.\n",
      "1238 oraz z 2008 r. Nr 96, poz. 606.\n",
      "\n",
      "\n",
      "[2])    Zmiany wymienionej ustawy zostały\n",
      "ogłoszone w Dz. U. z 2003 r. Nr 217, poz. 2125, z 2004 r. Nr 91, poz. 870 i\n",
      "871, Nr 96, poz. 959, Nr 121, poz. 1264, Nr 146, poz. 1546, Nr 173, poz. 1808 i\n",
      "Nr 210, poz. 2135, z 2005 r. Nr 94, poz. 785, Nr 183, poz. 1538 i Nr 184, poz.\n",
      "1539, z 2006 r. Nr 47, poz. 347, Nr 133, poz. 935 i Nr 157, poz. 1119, z 2007\n",
      "r. Nr 123, poz. 850, Nr 179, poz. 1279 oraz z 2008 r. Nr 96, poz. 606.\n",
      "\n",
      "\n",
      "[3])   Zmiany tekstu jednolitego wymienionej ustawy\n",
      "zostały ogłoszone w Dz. U. z 2002 r. Nr 240, poz. 2055, z 2003 r. Nr 60, poz.\n",
      "535 i Nr 90, poz. 844, z 2004 r. Nr 6, poz. 39, Nr 116, poz. 1207, Nr 123, poz.\n",
      "1291, Nr 238, poz. 2390 i Nr 273, poz. 2703 i 2722, z 2005 r. Nr 167, poz.\n",
      "1400, Nr 169, poz. 1418, Nr 178, poz. 1479 i Nr 184, poz. 1539 oraz z 2006 r.\n",
      "Nr 107, poz. 721 i Nr 208, poz. 1532.\n",
      "\n",
      "\n",
      "[4]) Zmiany wymienionej ustawy zostały ogłoszone w Dz.U z\n",
      "2001 r. Nr 102, poz. 1117, z 2003 r. Nr 49, poz. 408 i Nr 229, poz. 2276, z\n",
      "2005 r. Nr 132, poz. 1108, Nr 183, poz. 1538 i Nr 184, poz. 1539, z 2006 r. Nr\n",
      "133, poz. 935 i Nr 208, poz. 1540 oraz z 2008 r. Nr 86, poz. 524. \n",
      "\n",
      "\n",
      "[5]) Zmiany tekstu jednolitego wymienionej ustawy zostały\n",
      "ogłoszone w Dz.U. z 1998 r. Nr 106, poz. 668 i Nr 113, poz. 717, z 1999 r. Nr\n",
      "99, poz. 1152, z 2000 r. Nr 19, poz. 239, Nr 43, poz. 489, Nr 107, poz. 1127 i\n",
      "Nr 120, poz. 1268, z 2001 r. Nr 11, poz. 84, Nr 28, poz. 301, Nr 52, poz. 538,\n",
      "Nr 99, poz. 1075, Nr 111, poz. 1194, Nr 123, poz. 1354, Nr 128, poz. 1405 i Nr\n",
      "154, poz. 1805, z 2002 r. Nr 74, poz. 676, Nr 135, poz. 1146, Nr 196, poz.\n",
      "1660, Nr 199, poz. 1673 i Nr 200, poz. 1679, z 2003 r. Nr 166, poz. 1608 i Nr\n",
      "213, poz. 2081, z 2004 r. Nr 96, poz. 959, Nr 99, poz. 1001, Nr 120, poz. 1252\n",
      "i Nr 240, poz. 2407, z 2005 r. Nr 10, poz. 71, Nr 68, poz. 610, Nr 86, poz. 732\n",
      "i Nr 167, poz. 1398, z 2006 r. Nr 104, poz. 708 i 711, Nr 133, poz. 935, Nr\n",
      "217, poz. 1587 i Nr 221, poz. 1615, z 2007 r. Nr 64, poz. 426, Nr 89, poz. 589,\n",
      "Nr 176, poz. 1239, Nr 181, poz. 1288 i Nr 225, poz. 1672 oraz z 2008 r. Nr 93,\n",
      "poz. 586. \n",
      "\n",
      "\n",
      "[6])   Zmiany wymienionej ustawy zostały ogłoszone w Dz.\n",
      "U. z 2004 r. Nr 69, poz. 627, Nr 96, poz. 959, Nr 171, poz. 1800 i Nr 173, poz.\n",
      "1808, z 2005 r. Nr 267, poz. 2258, z 2006 r. Nr 104, poz. 708 i Nr 191, poz.\n",
      "1413 oraz z 2007 r. Nr 176, poz. 1238.\n",
      "\n",
      "\n",
      "[7])   Zmiany tekstu jednolitego wymienionej ustawy\n",
      "zostały ogłoszone w Dz. U. z 2002 r. Nr 126, poz. 1070, Nr 141, poz. 1178, Nr\n",
      "144, poz. 1208, Nr 153, poz. 1271, Nr 169, poz. 1385 i 1387 i Nr 241, poz.\n",
      "2074, z 2003 r. Nr 50, poz. 424, Nr 60, poz. 535, Nr 65, poz. 594, Nr 228, poz.\n",
      "2260 i Nr 229, poz. 2276, z 2004 r. Nr 64, poz. 594, Nr 68, poz. 623, Nr 91,\n",
      "poz. 870, Nr 96, poz. 959, Nr 121, poz. 1264, Nr 146, poz. 1546 i Nr 173, poz.\n",
      "1808, z 2005 r. Nr 83, poz. 719, Nr 85, poz. 727, Nr 167, poz. 1398 i Nr 183,\n",
      "poz. 1538, z 2006 r. Nr 104, poz. 708, Nr 157, poz. 1119, Nr 190, poz. 1401, Nr\n",
      "245, poz. 1775 oraz z 2007 r. Nr 42, poz. 272 i Nr 112, poz. 769.\n",
      "\n",
      "\n",
      "[8]) Zmiany tekstu jednolitego wymienionej ustawy zostały\n",
      "ogłoszone w Dz. U. z 2007 r. Nr 99, poz. 661, Nr 176, poz. 1238 i Nr 192, poz.\n",
      "1381. \n",
      "\n",
      "\n",
      "[9]) Zmiany tekstu jednolitego wymienionej ustawy zostały\n",
      "ogłoszone w Dz. U. z 2004 r. Nr 277, poz. 2742, z 2005 r. Nr 180, poz. 1496, z\n",
      "2006 r. Nr 104, poz. 708 i 711 i Nr 220, poz. 1600 oraz z 2007 r. Nr 107, poz.\n",
      "732 i Nr 176, poz. 1242. \n",
      "\n",
      "\n",
      "[10]) Zmiany tekstu jednolitego wymienionej ustawy zostały\n",
      "ogłoszone w Dz. U. z 2002 r. Nr 240, poz. 2055, z 2004 r. Nr 273, poz. 2703, z\n",
      "2005 r. Nr 167, poz. 1399 oraz z 2006 r. Nr 107, poz. 721 i Nr 220, poz. 1600. \n",
      "\n",
      "\n",
      "[11]) Zmiany tekstu jednolitego wymienionej ustawy zostały\n",
      "ogłoszone w Dz. U. z 2001 r. Nr 4, poz. 27, Nr 16, poz. 167 i Nr 154, poz.\n",
      "1800, z 2002 r. Nr 25, poz. 253, Nr 153, poz. 1271, Nr 216, poz. 1824 i Nr 240,\n",
      "poz. 2058, z 2003 r. Nr 65, poz. 594, z 2004 r. Nr 141, poz. 1492, Nr 146, poz.\n",
      "1546, Nr 213, poz. 2157, Nr 240, poz. 2408 i Nr 281, poz. 2783 oraz z 2006 r.\n",
      "Nr 157, poz. 1119, Nr 220, poz. 1600 i Nr 251, poz. 1844. \n",
      "\n",
      "\n",
      "[12]) Zmiany tekstu jednolitego wymienionej ustawy zostały\n",
      "ogłoszone w Dz. U. z 2002 r. Nr 240, poz. 2055, z 2003 r. Nr 60, poz. 535 i Nr\n",
      "90, poz. 844, z 2004 r. Nr 6, poz. 39, Nr 116, poz. 1207, Nr 123, poz. 1291 i\n",
      "Nr 273, poz. 2703 i 2722, z 2005 r. Nr 167, poz. 1400, Nr 169, poz. 1418, Nr\n",
      "178, poz. 1479 i Nr 184, poz. 1539 oraz z 2006 r. Nr 107, poz. 721 i Nr 208,\n",
      "poz. 1532. \n",
      "\n",
      "\n",
      "[13]) Zmiany tekstu jednolitego wymienionej ustawy zostały\n",
      "ogłoszone w Dz. U. z 2003 r. Nr 170, poz. 1651, z 2005 r. Nr 143, poz. 1202 i\n",
      "Nr 183, poz. 1538, z 2006 r. Nr 104, poz. 708 i 711 i Nr 157, poz. 1119 oraz z\n",
      "2007 r. Nr 17, poz. 95. \n",
      "\n",
      "\n",
      "[14]) Zmiany tekstu jednolitego wymienionej ustawy zostały\n",
      "ogłoszone w Dz. U. z 2005 r. Nr 85, poz. 727, Nr 86, poz. 732 i Nr 143, poz.\n",
      "1199, z 2006 r. Nr 66, poz. 470, Nr 104, poz. 708, Nr 143, poz. 1031, Nr 217,\n",
      "poz. 1590 i Nr 225, poz. 1635 oraz z 2007 r. Nr 112, poz. 769, Nr 120, poz.\n",
      "818, Nr 192, poz. 1378 i Nr 225, poz. 1671. \n",
      "\n",
      "\n",
      "[15]) Zmiany tekstu jednolitego wymienionej ustawy zostały\n",
      "ogłoszone w Dz. U. z 2004 r. Nr 62, poz. 577, Nr 96, poz. 959 i Nr 116, poz.\n",
      "1203, z 2005 r. Nr 183, poz. 1538 oraz z 2006 r. Nr 104, poz. 708 i 711 i Nr\n",
      "157, poz. 1119. \n",
      "\n"
     ]
    }
   ],
   "source": [
    "act = open(act_dir + \"/2003_592.txt\").read() [20265:]\n",
    "print(act)"
   ]
  },
  {
   "cell_type": "code",
   "execution_count": 8,
   "metadata": {},
   "outputs": [],
   "source": [
    "def match_with_index(pattern ,text:str)-> List[Tuple[int,int,str]]:\n",
    "    return [(m.start(0), m.end(0),m.captures()[0]) for m in re.finditer(pattern, text)]\n",
    "\n",
    "\n",
    "def print_highlighted(\n",
    "    text:str,\n",
    "    matches_groups:List[List[Tuple[int,int]]],\n",
    "    colors:List[Tuple[str,Optional[str]]]\n",
    "):\n",
    "    if len(matches_groups) != len(colors):\n",
    "        raise \"There should be the same number of matches groups and colors\"\n",
    "    if seq(matches_groups).exists(lambda x: len(x) == 0):\n",
    "        print(\"sory bro, cannot do this\"\n",
    "             )\n",
    "    \n",
    "    \n",
    "    MatchedEntry=namedtuple('MatchedEntry','beg end color on_color')\n",
    "    \n",
    "    # Seq[MatchedEntry]\n",
    "    mg = seq(matches_groups)\\\n",
    "        .zip(colors)\\\n",
    "        .flat_map(lambda gc: seq(gc[0])\\\n",
    "            .map(lambda x : MatchedEntry(beg=x[0],end=x[1],color=gc[1][0], on_color = gc[1][1]))\n",
    "                 )\\\n",
    "        .order_by(_.beg)\n",
    "        \n",
    "    # Will duplicate some matches but that's not the point\n",
    "    beg = 0\n",
    "    for matched in mg:\n",
    "        print(text[beg:matched.beg],end=\"\") \n",
    "        print(colored(text[matched.beg:matched.end],color= matched.color, on_color= matched.on_color),end=\"\")\n",
    "        beg = matched.end\n",
    "    print(text[beg:])"
   ]
  },
  {
   "cell_type": "code",
   "execution_count": 9,
   "metadata": {
    "scrolled": true
   },
   "outputs": [],
   "source": [
    "dzu_pat = re.compile(\"Dz\\.?\\s?U.?\")\n",
    "year_pat = re.compile(\"((199)|(198)|(200)|(201))\\d{1}\")\n",
    "nr_pat = re.compile(\"Nr\\s+\\d+\") #TODO: word sep or sth\n",
    "pos_pat = re.compile(\"poz\\.\\s+\\d+(-\\d+)*\") #todo - \"i \\d\"\n",
    "\n",
    "#Should be ok, but needs extractors for entry\n",
    "ustaw_pat=re.compile(\"(U|u)staw\\w*\\s+(z\\s+dnia\\s+)+\\d+\\s+\\w+\\s+(?P<year>\\d{4})(\\s|\\n)*r\\.?\\s*(–|\\-)*\\s*(?P<title>(\\w|\\s|\\\")*)\\((?P<entry>(.|\\n)*?)\\)\")\n",
    "\n",
    "#1) Ustawie ()\n",
    "#(?<ala)  (?=ala)"
   ]
  },
  {
   "cell_type": "code",
   "execution_count": null,
   "metadata": {
    "scrolled": false
   },
   "outputs": [],
   "source": [
    "footer_pat = re.compile(\"\\[\\d+\\]\\)?\\s+Zmiany(.|\\s|\\n)*?w\\s+Dz\\.*\\s*U\\.*(?P<entry>(.|\\s|\\n)*?)(?=(\\[\\d+\\]))\") #negative look ahead\n",
    "matches = seq([\n",
    "    #year_pat,\n",
    "    dzu_pat,\n",
    "    nr_pat,\n",
    "    pos_pat,\n",
    "    #ustaw_pat\n",
    "    footer_pat\n",
    "]).map(lambda pattern: match_with_index(pattern,act)).to_list()\n",
    "\n",
    "print_highlighted(act,matches\n",
    "                  ,[\n",
    "                      #(\"green\",\"on_grey\"),\n",
    "                      (\"red\",\"on_grey\"),\n",
    "                      (\"blue\",\"on_grey\"),\n",
    "                      (\"yellow\",\"on_grey\"),\n",
    "                      (\"grey\",\"on_yellow\"),\n",
    "                  ])"
   ]
  },
  {
   "cell_type": "markdown",
   "metadata": {},
   "source": [
    "Find all external references to bills, e.g. **ustawie z dnia 4 marca 1994 r. o zakładowym funduszu świadczeń socjalnych (Dz. U. z 2012 r. poz. 592)**. The result should be aggregated by bill ID (year and position) and sorted by descending number of reference counts. The reference format should include:\n",
    "        the title of the regulation (if present)\n",
    "        the year of the regulation\n",
    "        the number of the Journal of Laws of the Republic of Poland (Dziennik Ustaw) - if applicable\n",
    "        the position of the regulation\n"
   ]
  },
  {
   "cell_type": "code",
   "execution_count": null,
   "metadata": {},
   "outputs": [],
   "source": []
  },
  {
   "cell_type": "code",
   "execution_count": null,
   "metadata": {},
   "outputs": [],
   "source": []
  },
  {
   "cell_type": "code",
   "execution_count": null,
   "metadata": {},
   "outputs": [],
   "source": []
  }
 ],
 "metadata": {
  "kernelspec": {
   "display_name": "Python 3",
   "language": "python",
   "name": "python3"
  },
  "language_info": {
   "codemirror_mode": {
    "name": "ipython",
    "version": 3
   },
   "file_extension": ".py",
   "mimetype": "text/x-python",
   "name": "python",
   "nbconvert_exporter": "python",
   "pygments_lexer": "ipython3",
   "version": "3.7.2"
  }
 },
 "nbformat": 4,
 "nbformat_minor": 2
}
