{
 "cells": [
  {
   "cell_type": "code",
   "execution_count": 1,
   "metadata": {
    "scrolled": false
   },
   "outputs": [],
   "source": [
    "import regex as re\n",
    "from functional import seq,pseq\n",
    "from functional.pipeline import Sequence\n",
    "from fn import _\n",
    "from collections import namedtuple\n",
    "from regex.regex import Match, Pattern\n",
    "from typing import List, Dict, Tuple, Optional\n",
    "from termcolor import colored\n",
    "import os\n"
   ]
  },
  {
   "cell_type": "code",
   "execution_count": 2,
   "metadata": {
    "scrolled": false
   },
   "outputs": [],
   "source": [
    "act_dir = os.environ[\"HOME\"]+\"/tmp/nlp/ustawy\"\n",
    "acts = pseq(os.listdir(act_dir)).map(lambda fn : open(\"{}/{}\".format(act_dir,fn)).read())"
   ]
  },
  {
   "cell_type": "code",
   "execution_count": 5,
   "metadata": {},
   "outputs": [],
   "source": [
    "def match_with_index(pattern ,text:str)-> List[Tuple[int,int,str]]:\n",
    "    return [(m.start(), m.end(),m.captures()[0]) for m in re.finditer(pattern, text)]\n",
    "\n",
    "\n",
    "def print_highlighted(\n",
    "    text:str,\n",
    "    matches_groups:List[List[Tuple[int,int]]],\n",
    "    colors:List[Tuple[str,Optional[str]]]\n",
    "):\n",
    "    if len(matches_groups) != len(colors):\n",
    "        raise \"There should be the same number of matches groups and colors\"\n",
    "    \n",
    "    MatchedEntry=namedtuple('MatchedEntry','beg end color on_color')\n",
    "    \n",
    "    # Seq[MatchedEntry]\n",
    "    mg = seq(matches_groups)\\\n",
    "        .zip(colors)\\\n",
    "        .flat_map(lambda gc: seq(gc[0])\\\n",
    "            .map(lambda x : MatchedEntry(beg=x[0],end=x[1],color=gc[1][0], on_color = gc[1][1]))\n",
    "                 )\\\n",
    "        .order_by(_.beg)\n",
    "        \n",
    "    # Will duplicate some matches but that's not the point\n",
    "    beg = 0\n",
    "    for matched in mg:\n",
    "        print(text[beg:matched.beg],end=\"\") \n",
    "        print(colored(text[matched.beg:matched.end],color= matched.color, on_color= matched.on_color),end=\"\")\n",
    "        beg = matched.end\n",
    "    print(text[beg:])"
   ]
  },
  {
   "cell_type": "code",
   "execution_count": 25,
   "metadata": {
    "scrolled": true
   },
   "outputs": [],
   "source": [
    "dzu_pat = re.compile(\"Dz\\.?\\s?U.?\")\n",
    "year_pat = re.compile(\"(?P<year>((19\\d)|(200)|(201))\\d{1})\")\n",
    "nr_pat = re.compile(\"Nr\\s+(?P<nr>\\d+)\")\n",
    "pos_pat = re.compile(\"poz\\.\\s+(?P<poz>\\d+((-|,)\\d+)*)\")\n",
    "\n",
    "#Entry extractors\n",
    "footer_ext_pat = re.compile(\"\\[\\d+\\]\\)?\\s+Zmiany(\\w|\\s|\\n)*?w\\s+Dz\\.*\\s*U\\.?(?P<foot_entry>(.|\\s|\\n)*?)(?=(\\[|\\Z))\")\n",
    "art_ext_pat=re.compile(\"(U|u)staw\\w*\\s+(z\\s+dnia\\s+)+\\d+\\s+\\w+\\s+(?P<year>\\d{4})(\\s|\\n)*r\\.?\\s*(–|\\-)*\\s*(?P<title>(\\w|\\s|\\\")*)\\((?P<art_entry>(.|\\n)*?)\\)\")"
   ]
  },
  {
   "cell_type": "markdown",
   "metadata": {},
   "source": [
    "# 1. External references"
   ]
  },
  {
   "cell_type": "code",
   "execution_count": 33,
   "metadata": {},
   "outputs": [
    {
     "name": "stdout",
     "output_type": "stream",
     "text": [
      "\n",
      "\n",
      "\n",
      "\n",
      "\u001b[40m\u001b[34mDz.U.\u001b[0m z \u001b[40m\u001b[32m2000\u001b[0m r. \u001b[40m\u001b[31mNr 50\u001b[0m, \u001b[40m\u001b[33mpoz. 581\u001b[0m\n",
      "                                                                              \n",
      "                                                                              \n",
      "                                                                              \n",
      "                                                                              \n",
      "                                    USTAWA\n",
      "                            z dnia 26 maja \u001b[40m\u001b[32m2000\u001b[0m r.\n",
      "                                       \n",
      "  o zmianie ustawy o niektórych formach popierania budownictwa mieszkaniowego\n",
      "          oraz o zmianie ustawy o pracowniczych ogrodach działkowych\n",
      "                                       \n",
      "                                       \n",
      "                                    Art. 1.\n",
      "W ustawie z dnia 26 października \u001b[40m\u001b[32m1995\u001b[0m r. o niektórych formach popierania\n",
      "budownictwa mieszkaniowego (\u001b[40m\u001b[34mDz.U.\u001b[0m \u001b[40m\u001b[31mNr 133\u001b[0m, \u001b[40m\u001b[33mpoz. 654\u001b[0m, z \u001b[40m\u001b[32m1996\u001b[0m r. \u001b[40m\u001b[31mNr 106\u001b[0m, \u001b[40m\u001b[33mpoz.\n",
      "496\u001b[0m, z \u001b[40m\u001b[32m1997\u001b[0m r. \u001b[40m\u001b[31mNr 80\u001b[0m, \u001b[40m\u001b[33mpoz. 507\u001b[0m, \u001b[40m\u001b[31mNr 103\u001b[0m, \u001b[40m\u001b[33mpoz. 651\u001b[0m, \u001b[40m\u001b[31mNr 115\u001b[0m, \u001b[40m\u001b[33mpoz. 741\u001b[0m, \u001b[40m\u001b[31mNr 140\u001b[0m,\n",
      "\u001b[40m\u001b[33mpoz. 939\u001b[0m i \u001b[40m\u001b[31mNr 141\u001b[0m, \u001b[40m\u001b[33mpoz. 943\u001b[0m, z \u001b[40m\u001b[32m1998\u001b[0m r. \u001b[40m\u001b[31mNr 162\u001b[0m, \u001b[40m\u001b[33mpoz. 1121\u001b[0m oraz z \u001b[40m\u001b[32m1999\u001b[0m r. \u001b[40m\u001b[31mNr\n",
      "108\u001b[0m, \u001b[40m\u001b[33mpoz. 1226\u001b[0m) wprowadza się następujące zmiany:\n",
      "1) w art. 22:\n",
      "   a) w ust. 2 wyrazy \"Ministrem Finansów\" zastępuje się wyrazami \"ministrem\n",
      "     właściwym do spraw finansów publicznych\",\n",
      "   b) w ust. 4 wyrazy \"ministrowi właściwemu do spraw gospodarki przestrzennej\n",
      "     i mieszkaniowej\" zastępuje się wyrazami \"Prezesowi Urzędu Mieszkalnictwa\n",
      "     i Rozwoju Miast\";\n",
      "2) art. 33a otrzymuje brzmienie:\n",
      "      \"Art. 33a. 1. Centralnym organem administracji rządowej właściwym w\n",
      "             sprawach gospodarki przestrzennej i mieszkaniowej jest Prezes\n",
      "             Urzędu Mieszkalnictwa i Rozwoju Miast.\n",
      "         2. Minister właściwy do spraw gospodarki przestrzennej i\n",
      "           mieszkaniowej sprawuje nadzór nad działalnością Prezesa Urzędu\n",
      "           Mieszkalnictwa i Rozwoju Miast.\n",
      "         3. Prezesa Urzędu Mieszkalnictwa i Rozwoju Miast powołuje i odwołuje\n",
      "           Prezes Rady Ministrów na wniosek ministra właściwego do spraw\n",
      "           gospodarki przestrzennej i mieszkaniowej.\n",
      "         4. Wiceprezesów Urzędu Mieszkalnictwa i Rozwoju Miast powołuje i\n",
      "           odwołuje minister właściwy do spraw gospodarki przestrzennej i\n",
      "           mieszkaniowej na wniosek Prezesa Urzędu Mieszkalnictwa i Rozwoju\n",
      "           Miast.\";\n",
      "3) w art. 33b:\n",
      "   a) w pkt 5 wyraz \"projektów\" zastępuje się wyrazem \"programów\",\n",
      "   b) w pkt 6 kropkę zastępuje się przecinkiem oraz dodaje się pkt 7 w\n",
      "     brzmieniu:\n",
      "     \"7) wykonywanie przewidzianych przepisami szczególnymi zadań związanych z\n",
      "       funkcjonowaniem pracowniczych ogrodów działkowych.\";\n",
      "4) w art. 33c:\n",
      "   a) pkt 1 otrzymuje brzmienie:\n",
      "     \"1) przygotowuje i przedstawia ministrowi właściwemu do spraw gospodarki\n",
      "       przestrzennej i mieszkaniowej projekty ustaw, rozporządzeń i uchwał\n",
      "       dotyczących polityki mieszkaniowej i rozwoju miast,\",\n",
      "   b) pkt 5 otrzymuje brzmienie:\n",
      "     \"5) wykonuje inne zadania z zakresu gospodarki przestrzennej i\n",
      "       mieszkaniowej, określone w odrębnych przepisach.\";\n",
      "5) w art. 33d ust. 2 otrzymuje brzmienie:\n",
      "     \"2. Prezes Rady Ministrów, na wniosek ministra właściwego do spraw\n",
      "       gospodarki przestrzennej i mieszkaniowej nadaje, w drodze\n",
      "       rozporządzenia, statut Urzędowi Mieszkalnictwa i Rozwoju Miast,\n",
      "       uwzględniając jego organizację wewnętrzną i tryb pracy.\".\n",
      "     \n",
      "                                    Art. 2.\n",
      "W ustawie z dnia 6 maja \u001b[40m\u001b[32m1981\u001b[0m r. o pracowniczych ogrodach działkowych (\u001b[40m\u001b[34mDz.U.\u001b[0m z\n",
      "\u001b[40m\u001b[32m1996\u001b[0m r. \u001b[40m\u001b[31mNr 85\u001b[0m, \u001b[40m\u001b[33mpoz. 390\u001b[0m, z \u001b[40m\u001b[32m1997\u001b[0m r. \u001b[40m\u001b[31mNr 141\u001b[0m, \u001b[40m\u001b[33mpoz. 943\u001b[0m, z \u001b[40m\u001b[32m1998\u001b[0m r. \u001b[40m\u001b[31mNr 106\u001b[0m, \u001b[40m\u001b[33mpoz.\n",
      "668\u001b[0m oraz z \u001b[40m\u001b[32m1999\u001b[0m r. \u001b[40m\u001b[31mNr 86\u001b[0m, \u001b[40m\u001b[33mpoz. 965\u001b[0m) wprowadza się następujące zmiany:\n",
      "1) w art. 17 w ust. 2 i 3:\n",
      "   a) wyrazy \"Minister Pracy i Polityki Socjalnej\" zastępuje się wyrazami\n",
      "     \"minister właściwy do spraw pracy\",\n",
      "   b) wyrazy \"Ministrem Finansów\" zastępuje się wyrazami \"ministrem właściwym\n",
      "     do spraw finansów publicznych\";\n",
      "2) w art. 30 w ust. 3 wyrazy \"ministra właściwego do spraw mieszkalnictwa i\n",
      "  rozwoju miast\" zastępuje się wyrazami \"Prezesa Urzędu Mieszkalnictwa i\n",
      "  Rozwoju Miast\".\n",
      "                                       \n",
      "                                    Art. 3.\n",
      "Ustawa wchodzi w życie po upływie 14 dni od dnia ogłoszenia.\n",
      "\n"
     ]
    }
   ],
   "source": [
    "#Show marking of interesting things\n",
    "print_highlighted(\n",
    "    acts.head(),\n",
    "    [\n",
    "        match_with_index(dzu_pat,acts.head()),\n",
    "        match_with_index(year_pat,acts.head()),\n",
    "        match_with_index(nr_pat,acts.head()),\n",
    "        match_with_index(pos_pat,acts.head()),\n",
    "    ],\n",
    "    [\n",
    "        (\"blue\",\"on_grey\"),\n",
    "        (\"green\",\"on_grey\"),\n",
    "        (\"red\",\"on_grey\"),\n",
    "        (\"yellow\",\"on_grey\"),\n",
    "    \n",
    "    ]\n",
    ")"
   ]
  },
  {
   "cell_type": "code",
   "execution_count": 26,
   "metadata": {},
   "outputs": [],
   "source": [
    "ExtRef= namedtuple(\"ExtRef\", \"year nr poz title\")\n",
    "\n",
    "def extract_group_name(match:Match) -> str:\n",
    "    return list(match.groupdict().keys())[0]\n",
    "\n",
    "#Assumption: entry without year  takes year and title from outside\n",
    "def art_entry_extractor(title:str,default_year:str,entry:str)-> List[ExtRef]:\n",
    "    matches = seq([year_pat,nr_pat,pos_pat])\\\n",
    "    .flat_map(lambda pat: list(pat.finditer(entry)))\\\n",
    "    .order_by(lambda x: x.start())\n",
    "    \n",
    "    year_found = False\n",
    "    year = default_year\n",
    "    nr = None\n",
    "    res = []    \n",
    "    for match in matches:\n",
    "        name = extract_group_name(match)\n",
    "        if name == \"year\":\n",
    "            year_found = True\n",
    "            year = match.groupdict()[name]\n",
    "            if type(year) != str:\n",
    "                raise \"Oh no! Year is supposed to be str.\"\n",
    "        elif name ==\"nr\":\n",
    "            nr = match.groupdict()[name]\n",
    "            if type(nr) != str:\n",
    "                raise \"Oh no! Nr is supposed to be str.\"\n",
    "        elif name ==\"poz\":\n",
    "            poz = match.groupdict()[name]\n",
    "            if type(poz) != str:\n",
    "                raise \"Oh no! Poz is supposed to be str.\"\n",
    "            res.append(ExtRef(year=year,nr=nr,poz=poz, title=None if year_found else title))\n",
    "        else:\n",
    "            raise \"Disaster here; Match name not found ion art_entry_extractor\"\n",
    "    return res\n",
    "\n",
    "\n",
    "def art_match_extractor(match:Match)-> List[ExtRef]:\n",
    "    d = match.groupdict()\n",
    "    title = re.sub(\"[\\s\\n]+\",\" \",d[\"title\"]).strip()\n",
    "    return art_entry_extractor(title,d[\"year\"],d[\"art_entry\"])\n",
    "\n",
    "    \n",
    "def foot_match_extractor(match:Match)-> List[ExtRef]:\n",
    "    return art_entry_extractor(None,None, match.groupdict()[\"foot_entry\"])"
   ]
  },
  {
   "cell_type": "code",
   "execution_count": 52,
   "metadata": {},
   "outputs": [
    {
     "data": {
      "text/html": [
       "<table>\n",
       "<thead>\n",
       "<tr><th style=\"text-align: right;\">  count</th><th style=\"text-align: right;\">  year</th><th style=\"text-align: right;\">  nr</th><th style=\"text-align: right;\">  poz</th><th>title                                                                                                                                                  </th></tr>\n",
       "</thead>\n",
       "<tbody>\n",
       "<tr><td style=\"text-align: right;\">    737</td><td style=\"text-align: right;\">  1998</td><td style=\"text-align: right;\"> 106</td><td style=\"text-align: right;\">  668</td><td>                                                                                                                                                       </td></tr>\n",
       "<tr><td style=\"text-align: right;\">    482</td><td style=\"text-align: right;\">  1996</td><td style=\"text-align: right;\"> 106</td><td style=\"text-align: right;\">  496</td><td>o Rządowym Centrum Studiów Strategicznych                                                                                                              </td></tr>\n",
       "<tr><td style=\"text-align: right;\">    372</td><td style=\"text-align: right;\">  1997</td><td style=\"text-align: right;\"> 121</td><td style=\"text-align: right;\">  770</td><td>\" Kodeks celny                                                                                                                                         </td></tr>\n",
       "<tr><td style=\"text-align: right;\">    367</td><td style=\"text-align: right;\">  2000</td><td style=\"text-align: right;\">  12</td><td style=\"text-align: right;\">  136</td><td>o zmianie niektórych ustaw związanych z funkcjonowaniem administracji publicznej                                                                       </td></tr>\n",
       "<tr><td style=\"text-align: right;\">    292</td><td style=\"text-align: right;\">  1997</td><td style=\"text-align: right;\">  88</td><td style=\"text-align: right;\">  554</td><td>Przepisy wprowadzające Kodeks karny                                                                                                                    </td></tr>\n",
       "<tr><td style=\"text-align: right;\">    274</td><td style=\"text-align: right;\">  1997</td><td style=\"text-align: right;\">  28</td><td style=\"text-align: right;\">  153</td><td>o powszechnym ubezpieczeniu zdrowotnym                                                                                                                 </td></tr>\n",
       "<tr><td style=\"text-align: right;\">    234</td><td style=\"text-align: right;\">  1990</td><td style=\"text-align: right;\">  34</td><td style=\"text-align: right;\">  198</td><td>o podziale zadań i kompetencji określonych w ustawach szczególnych pomiędzy organy gmin a organy administracji rządowej oraz o zmianie niektórych ustaw</td></tr>\n",
       "<tr><td style=\"text-align: right;\">    232</td><td style=\"text-align: right;\">  2000</td><td style=\"text-align: right;\"> 120</td><td style=\"text-align: right;\"> 1268</td><td>                                                                                                                                                       </td></tr>\n",
       "<tr><td style=\"text-align: right;\">    226</td><td style=\"text-align: right;\">  1998</td><td style=\"text-align: right;\"> 162</td><td style=\"text-align: right;\"> 1118</td><td>o systemie ubezpieczeń społecznych                                                                                                                     </td></tr>\n",
       "<tr><td style=\"text-align: right;\">    204</td><td style=\"text-align: right;\">  1997</td><td style=\"text-align: right;\"> 141</td><td style=\"text-align: right;\">  943</td><td>o działach administracji rządowej                                                                                                                      </td></tr>\n",
       "<tr><td style=\"text-align: right;\">    175</td><td style=\"text-align: right;\">  1997</td><td style=\"text-align: right;\"> 137</td><td style=\"text-align: right;\">  926</td><td>Ordynacja podatkowa                                                                                                                                    </td></tr>\n",
       "<tr><td style=\"text-align: right;\">    171</td><td style=\"text-align: right;\">  2006</td><td style=\"text-align: right;\"> 104</td><td style=\"text-align: right;\">  708</td><td>o Centralnym Biurze Antykorupcyjnym                                                                                                                    </td></tr>\n",
       "<tr><td style=\"text-align: right;\">    170</td><td style=\"text-align: right;\">  1992</td><td style=\"text-align: right;\">  54</td><td style=\"text-align: right;\">  254</td><td>o uprawnieniach do bezpłatnych i ulgowych przejazdów środkami publicznego transportu zbiorowego                                                        </td></tr>\n",
       "<tr><td style=\"text-align: right;\">    166</td><td style=\"text-align: right;\">  2002</td><td style=\"text-align: right;\">  74</td><td style=\"text-align: right;\">  676</td><td>o Agencji Bezpieczeństwa Wewnętrznego oraz Agencji Wywiadu                                                                                             </td></tr>\n",
       "<tr><td style=\"text-align: right;\">    156</td><td style=\"text-align: right;\">  1997</td><td style=\"text-align: right;\"> 121</td><td style=\"text-align: right;\">  769</td><td>o Krajowym Rejestrze Sądowym                                                                                                                           </td></tr>\n",
       "<tr><td style=\"text-align: right;\">    155</td><td style=\"text-align: right;\">  2000</td><td style=\"text-align: right;\">  48</td><td style=\"text-align: right;\">  550</td><td>o zasadach wspierania rozwoju regionalnego                                                                                                             </td></tr>\n",
       "<tr><td style=\"text-align: right;\">    148</td><td style=\"text-align: right;\">  1996</td><td style=\"text-align: right;\">  24</td><td style=\"text-align: right;\">  110</td><td>                                                                                                                                                       </td></tr>\n",
       "<tr><td style=\"text-align: right;\">    145</td><td style=\"text-align: right;\">  1994</td><td style=\"text-align: right;\"> 121</td><td style=\"text-align: right;\">  591</td><td>o rachunkowości                                                                                                                                        </td></tr>\n",
       "<tr><td style=\"text-align: right;\">    143</td><td style=\"text-align: right;\">  1994</td><td style=\"text-align: right;\"> 105</td><td style=\"text-align: right;\">  509</td><td>o najmie lokali mieszkalnych i dodatkach mieszkaniowych                                                                                                </td></tr>\n",
       "<tr><td style=\"text-align: right;\">    140</td><td style=\"text-align: right;\">  1999</td><td style=\"text-align: right;\"> 110</td><td style=\"text-align: right;\"> 1255</td><td>o kształtowaniu wynagrodzeń w państwowej sferze budżetowej oraz o zmianie niektórych ustaw                                                             </td></tr>\n",
       "<tr><td style=\"text-align: right;\">    139</td><td style=\"text-align: right;\">  1998</td><td style=\"text-align: right;\"> 162</td><td style=\"text-align: right;\"> 1126</td><td>Przepisy wprowadzające ustawy reformujące administrację publiczną                                                                                      </td></tr>\n",
       "<tr><td style=\"text-align: right;\">    135</td><td style=\"text-align: right;\">  1999</td><td style=\"text-align: right;\"> 101</td><td style=\"text-align: right;\"> 1178</td><td>Prawo działalności gospodarczej                                                                                                                        </td></tr>\n",
       "<tr><td style=\"text-align: right;\">    133</td><td style=\"text-align: right;\">  1998</td><td style=\"text-align: right;\"> 137</td><td style=\"text-align: right;\">  887</td><td>o systemie ubezpieczeń społecznych                                                                                                                     </td></tr>\n",
       "<tr><td style=\"text-align: right;\">    128</td><td style=\"text-align: right;\">  1989</td><td style=\"text-align: right;\">  35</td><td style=\"text-align: right;\">  192</td><td>                                                                                                                                                       </td></tr>\n",
       "<tr><td style=\"text-align: right;\">    126</td><td style=\"text-align: right;\">  1994</td><td style=\"text-align: right;\">  27</td><td style=\"text-align: right;\">   96</td><td>Prawo geologiczne i górnicze                                                                                                                           </td></tr>\n",
       "<tr><td style=\"text-align: right;\">    124</td><td style=\"text-align: right;\">  1997</td><td style=\"text-align: right;\">  43</td><td style=\"text-align: right;\">  272</td><td>                                                                                                                                                       </td></tr>\n",
       "<tr><td style=\"text-align: right;\">    124</td><td style=\"text-align: right;\">  1998</td><td style=\"text-align: right;\"> 155</td><td style=\"text-align: right;\"> 1014</td><td>o finansach publicznych                                                                                                                                </td></tr>\n",
       "<tr><td style=\"text-align: right;\">    124</td><td style=\"text-align: right;\">  1998</td><td style=\"text-align: right;\"> 117</td><td style=\"text-align: right;\">  756</td><td>                                                                                                                                                       </td></tr>\n",
       "<tr><td style=\"text-align: right;\">    120</td><td style=\"text-align: right;\">  1996</td><td style=\"text-align: right;\"> 156</td><td style=\"text-align: right;\">  775</td><td>o gospodarowaniu niektórymi składnikami mienia Skarbu Państwa oraz o Agencji Mienia Wojskowego                                                         </td></tr>\n",
       "<tr><td style=\"text-align: right;\">    118</td><td style=\"text-align: right;\">  1995</td><td style=\"text-align: right;\">  34</td><td style=\"text-align: right;\">  163</td><td>                                                                                                                                                       </td></tr>\n",
       "<tr><td style=\"text-align: right;\">    114</td><td style=\"text-align: right;\">  2002</td><td style=\"text-align: right;\"> 153</td><td style=\"text-align: right;\"> 1271</td><td>                                                                                                                                                       </td></tr>\n",
       "<tr><td style=\"text-align: right;\">    113</td><td style=\"text-align: right;\">  1995</td><td style=\"text-align: right;\">   4</td><td style=\"text-align: right;\">   17</td><td>                                                                                                                                                       </td></tr>\n",
       "<tr><td style=\"text-align: right;\">    112</td><td style=\"text-align: right;\">  1997</td><td style=\"text-align: right;\"> 106</td><td style=\"text-align: right;\">  679</td><td>o ograniczeniu prowadzenia działalności gospodarczej przez osoby pełniące funkcje publiczne                                                            </td></tr>\n",
       "<tr><td style=\"text-align: right;\">    109</td><td style=\"text-align: right;\">  1999</td><td style=\"text-align: right;\">  83</td><td style=\"text-align: right;\">  931</td><td>                                                                                                                                                       </td></tr>\n",
       "<tr><td style=\"text-align: right;\">    107</td><td style=\"text-align: right;\">  1994</td><td style=\"text-align: right;\">   1</td><td style=\"text-align: right;\">    3</td><td>                                                                                                                                                       </td></tr>\n",
       "<tr><td style=\"text-align: right;\">    107</td><td style=\"text-align: right;\">  2000</td><td style=\"text-align: right;\">  95</td><td style=\"text-align: right;\"> 1041</td><td>o zasadach wspierania rozwoju regionalnego                                                                                                             </td></tr>\n",
       "<tr><td style=\"text-align: right;\">    106</td><td style=\"text-align: right;\">  1999</td><td style=\"text-align: right;\">  70</td><td style=\"text-align: right;\">  778</td><td>                                                                                                                                                       </td></tr>\n",
       "<tr><td style=\"text-align: right;\">    104</td><td style=\"text-align: right;\">  1988</td><td style=\"text-align: right;\">  41</td><td style=\"text-align: right;\">  324</td><td>o działalności gospodarczej                                                                                                                            </td></tr>\n",
       "<tr><td style=\"text-align: right;\">    103</td><td style=\"text-align: right;\">  1997</td><td style=\"text-align: right;\"> 123</td><td style=\"text-align: right;\">  776</td><td>o rehabilitacji zawodowej i społecznej oraz zatrudnianiu osób niepełnosprawnych                                                                        </td></tr>\n",
       "<tr><td style=\"text-align: right;\">    101</td><td style=\"text-align: right;\">  2001</td><td style=\"text-align: right;\">   8</td><td style=\"text-align: right;\">   64</td><td>                                                                                                                                                       </td></tr>\n",
       "<tr><td style=\"text-align: right;\">    100</td><td style=\"text-align: right;\">  1997</td><td style=\"text-align: right;\">  75</td><td style=\"text-align: right;\">  471</td><td>                                                                                                                                                       </td></tr>\n",
       "<tr><td style=\"text-align: right;\">    100</td><td style=\"text-align: right;\">  2000</td><td style=\"text-align: right;\">  94</td><td style=\"text-align: right;\"> 1037</td><td>Kodeks spółek handlowych                                                                                                                               </td></tr>\n",
       "<tr><td style=\"text-align: right;\">     99</td><td style=\"text-align: right;\">  1993</td><td style=\"text-align: right;\">  28</td><td style=\"text-align: right;\">  127</td><td>o podatku od towarów i usług oraz o podatku akcyzowym                                                                                                  </td></tr>\n",
       "<tr><td style=\"text-align: right;\">     98</td><td style=\"text-align: right;\">  1993</td><td style=\"text-align: right;\"> 134</td><td style=\"text-align: right;\">  646</td><td>                                                                                                                                                       </td></tr>\n",
       "<tr><td style=\"text-align: right;\">     98</td><td style=\"text-align: right;\">  1994</td><td style=\"text-align: right;\">  43</td><td style=\"text-align: right;\">  163</td><td>                                                                                                                                                       </td></tr>\n",
       "<tr><td style=\"text-align: right;\">     94</td><td style=\"text-align: right;\">  2002</td><td style=\"text-align: right;\">    </td><td style=\"text-align: right;\">  253</td><td>o zmianach w organizacji i funkcjonowaniu centralnych organów administracji rządowej i jednostek im podporządkowanych oraz o zmianie niektórych ustaw  </td></tr>\n",
       "<tr><td style=\"text-align: right;\">     92</td><td style=\"text-align: right;\">  2002</td><td style=\"text-align: right;\"> 200</td><td style=\"text-align: right;\"> 1679</td><td>o minimalnym wynagrodzeniu za pracę                                                                                                                    </td></tr>\n",
       "<tr><td style=\"text-align: right;\">     92</td><td style=\"text-align: right;\">  2004</td><td style=\"text-align: right;\">  96</td><td style=\"text-align: right;\">  959</td><td>                                                                                                                                                       </td></tr>\n",
       "<tr><td style=\"text-align: right;\">     91</td><td style=\"text-align: right;\">  2000</td><td style=\"text-align: right;\"> 122</td><td style=\"text-align: right;\"> 1315</td><td>                                                                                                                                                       </td></tr>\n",
       "<tr><td style=\"text-align: right;\">     90</td><td style=\"text-align: right;\">  1999</td><td style=\"text-align: right;\">  38</td><td style=\"text-align: right;\">  360</td><td>                                                                                                                                                       </td></tr>\n",
       "</tbody>\n",
       "</table><p>Showing 50 of 3855 rows"
      ],
      "text/plain": [
       "[CountedExtRef(count=737, year='1998', nr='106', poz='668', title=None), CountedExtRef(count=482, year='1996', nr='106', poz='496', title='o Rządowym Centrum Studiów Strategicznych'), CountedExtRef(count=372, year='1997', nr='121', poz='770', title='\" Kodeks celny'), CountedExtRef(count=367, year='2000', nr='12', poz='136', title='o zmianie niektórych ustaw związanych z funkcjonowaniem administracji publicznej'), CountedExtRef(count=292, year='1997', nr='88', poz='554', title='Przepisy wprowadzające Kodeks karny'), CountedExtRef(count=274, year='1997', nr='28', poz='153', title='o powszechnym ubezpieczeniu zdrowotnym'), CountedExtRef(count=234, year='1990', nr='34', poz='198', title='o podziale zadań i kompetencji określonych w ustawach szczególnych pomiędzy organy gmin a organy administracji rządowej oraz o zmianie niektórych ustaw'), CountedExtRef(count=232, year='2000', nr='120', poz='1268', title=None), CountedExtRef(count=226, year='1998', nr='162', poz='1118', title='o systemie ubezpieczeń społecznych'), CountedExtRef(count=204, year='1997', nr='141', poz='943', title='o działach administracji rządowej'), CountedExtRef(count=175, year='1997', nr='137', poz='926', title='Ordynacja podatkowa'), CountedExtRef(count=171, year='2006', nr='104', poz='708', title='o Centralnym Biurze Antykorupcyjnym'), CountedExtRef(count=170, year='1992', nr='54', poz='254', title='o uprawnieniach do bezpłatnych i ulgowych przejazdów środkami publicznego transportu zbiorowego'), CountedExtRef(count=166, year='2002', nr='74', poz='676', title='o Agencji Bezpieczeństwa Wewnętrznego oraz Agencji Wywiadu'), CountedExtRef(count=156, year='1997', nr='121', poz='769', title='o Krajowym Rejestrze Sądowym'), CountedExtRef(count=155, year='2000', nr='48', poz='550', title='o zasadach wspierania rozwoju regionalnego'), CountedExtRef(count=148, year='1996', nr='24', poz='110', title=None), CountedExtRef(count=145, year='1994', nr='121', poz='591', title='o rachunkowości'), CountedExtRef(count=143, year='1994', nr='105', poz='509', title='o najmie lokali mieszkalnych i dodatkach mieszkaniowych'), CountedExtRef(count=140, year='1999', nr='110', poz='1255', title='o kształtowaniu wynagrodzeń w państwowej sferze budżetowej oraz o zmianie niektórych ustaw'), CountedExtRef(count=139, year='1998', nr='162', poz='1126', title='Przepisy wprowadzające ustawy reformujące administrację publiczną'), CountedExtRef(count=135, year='1999', nr='101', poz='1178', title='Prawo działalności gospodarczej'), CountedExtRef(count=133, year='1998', nr='137', poz='887', title='o systemie ubezpieczeń społecznych'), CountedExtRef(count=128, year='1989', nr='35', poz='192', title=None), CountedExtRef(count=126, year='1994', nr='27', poz='96', title='Prawo geologiczne i górnicze'), CountedExtRef(count=124, year='1997', nr='43', poz='272', title=None), CountedExtRef(count=124, year='1998', nr='155', poz='1014', title='o finansach publicznych'), CountedExtRef(count=124, year='1998', nr='117', poz='756', title=None), CountedExtRef(count=120, year='1996', nr='156', poz='775', title='o gospodarowaniu niektórymi składnikami mienia Skarbu Państwa oraz o Agencji Mienia Wojskowego'), CountedExtRef(count=118, year='1995', nr='34', poz='163', title=None), CountedExtRef(count=114, year='2002', nr='153', poz='1271', title=None), CountedExtRef(count=113, year='1995', nr='4', poz='17', title=None), CountedExtRef(count=112, year='1997', nr='106', poz='679', title='o ograniczeniu prowadzenia działalności gospodarczej przez osoby pełniące funkcje publiczne'), CountedExtRef(count=109, year='1999', nr='83', poz='931', title=None), CountedExtRef(count=107, year='1994', nr='1', poz='3', title=None), CountedExtRef(count=107, year='2000', nr='95', poz='1041', title='o zasadach wspierania rozwoju regionalnego'), CountedExtRef(count=106, year='1999', nr='70', poz='778', title=None), CountedExtRef(count=104, year='1988', nr='41', poz='324', title='o działalności gospodarczej'), CountedExtRef(count=103, year='1997', nr='123', poz='776', title='o rehabilitacji zawodowej i społecznej oraz zatrudnianiu osób niepełnosprawnych'), CountedExtRef(count=101, year='2001', nr='8', poz='64', title=None), CountedExtRef(count=100, year='1997', nr='75', poz='471', title=None), CountedExtRef(count=100, year='2000', nr='94', poz='1037', title='Kodeks spółek handlowych'), CountedExtRef(count=99, year='1993', nr='28', poz='127', title='o podatku od towarów i usług oraz o podatku akcyzowym'), CountedExtRef(count=98, year='1993', nr='134', poz='646', title=None), CountedExtRef(count=98, year='1994', nr='43', poz='163', title=None), CountedExtRef(count=94, year='2002', nr=None, poz='253', title='o zmianach w organizacji i funkcjonowaniu centralnych organów administracji rządowej i jednostek im podporządkowanych oraz o zmianie niektórych ustaw'), CountedExtRef(count=92, year='2002', nr='200', poz='1679', title='o minimalnym wynagrodzeniu za pracę'), CountedExtRef(count=92, year='2004', nr='96', poz='959', title=None), CountedExtRef(count=91, year='2000', nr='122', poz='1315', title=None), CountedExtRef(count=90, year='1999', nr='38', poz='360', title=None), CountedExtRef(count=90, year='1999', nr='60', poz='636', title='o świadczeniach pieniężnych z ubezpieczenia społecznego w razie choroby i macierzyństwa'), CountedExtRef(count=89, year='1999', nr='11', poz='95', title='o ochronie informacji niejawnych'), CountedExtRef(count=89, year='2000', nr='73', poz='852', title='Prawo telekomunikacyjne'), CountedExtRef(count=88, year='1996', nr='43', poz='189', title=None), CountedExtRef(count=86, year='1994', nr='113', poz='547', title=None), CountedExtRef(count=86, year='1999', nr='72', poz='802', title='o Służbie Celnej'), CountedExtRef(count=85, year='1997', nr='98', poz='604', title='o partiach politycznych'), CountedExtRef(count=84, year='1997', nr='141', poz='945', title='Prawo o publicznym obrocie papierami wartościowymi'), CountedExtRef(count=84, year='2002', nr='113', poz='984', title=None), CountedExtRef(count=83, year='1995', nr='133', poz='654', title='o niektórych formach popierania budownictwa mieszkaniowego'), CountedExtRef(count=82, year='2000', nr='116', poz='1216', title='o przeciwdziałaniu wprowadzaniu do obrotu finansowego wartości majątkowych pochodzących z nielegalnych lub nieujawnionych źródeł'), CountedExtRef(count=81, year='1997', nr='104', poz='661', title='o zmianie ustawy o zakładach opieki zdrowotnej oraz o zmianie niektórych innych ustaw'), CountedExtRef(count=80, year='1999', nr='49', poz='483', title=None), CountedExtRef(count=78, year='1994', nr='127', poz='627', title='o autostradach płatnych'), CountedExtRef(count=78, year='1997', nr='79', poz='484', title='o poręczeniach i gwarancjach udzielanych przez Skarb Państwa oraz niektóre osoby prawne'), CountedExtRef(count=78, year='2000', nr='104', poz='1104', title='o zmianie ustawy o podatku dochodowym od osób fizycznych oraz o zmianie niektórych innych ustaw'), CountedExtRef(count=78, year='2000', nr='43', poz='489', title=None), CountedExtRef(count=77, year='1997', nr='133', poz='885', title=None), CountedExtRef(count=76, year='1997', nr='118', poz='754', title='Prawo o publicznym obrocie papierami wartościowymi'), CountedExtRef(count=75, year='2000', nr='86', poz='958', title=None), CountedExtRef(count=75, year='2006', nr='157', poz='1119', title='o nadzorze nad rynkiem finansowym'), CountedExtRef(count=73, year='1997', nr='54', poz='348', title='Prawo energetyczne'), CountedExtRef(count=73, year='1997', nr='133', poz='882', title='o komornikach sądowych i egzekucji'), CountedExtRef(count=72, year='1997', nr='141', poz='944', title='o dyscyplinie wojskowej'), CountedExtRef(count=71, year='1997', nr='160', poz='1083', title='Ordynacja podatkowa'), CountedExtRef(count=71, year='2005', nr='183', poz='1538', title='o obrocie instrumentami finansowymi'), CountedExtRef(count=70, year='1997', nr='140', poz='939', title='Prawo bankowe'), CountedExtRef(count=70, year='2006', nr='170', poz='1217', title='o państwowym zasobie kadrowym i wysokich stanowiskach państwowych'), CountedExtRef(count=69, year='1996', nr='146', poz='703', title='o zastawie rejestrowym i rejestrze zastawów'), CountedExtRef(count=69, year='2001', nr='27', poz='298', title='o Biurze Ochrony Rządu'), CountedExtRef(count=68, year='2000', nr='48', poz='552', title=None), CountedExtRef(count=67, year='1991', nr='115', poz='496', title=None), CountedExtRef(count=66, year='2000', nr='114', poz='1193', title=None), CountedExtRef(count=66, year='2010', nr=None, poz='1228', title=None), CountedExtRef(count=65, year='1995', nr='104', poz='515', title='o Naczelnym Sądzie Administracyjnym'), CountedExtRef(count=65, year='2001', nr='111', poz='1194', title=None), CountedExtRef(count=65, year='2001', nr='39', poz='459', title=None), CountedExtRef(count=64, year='1995', nr='83', poz='417', title=None), CountedExtRef(count=64, year='1996', nr='73', poz='350', title='o wykonywaniu mandatu posła i senatora'), CountedExtRef(count=64, year='2003', nr='96', poz='874', title='o powszechnym ubezpieczeniu w Narodowym Funduszu Zdrowia'), CountedExtRef(count=63, year='1989', nr='34', poz='178', title=None), CountedExtRef(count=63, year='1997', nr='139', poz='934', title='o organizacji i funkcjonowaniu funduszy emerytalnych'), CountedExtRef(count=63, year='1998', nr='113', poz='717', title=None), CountedExtRef(count=62, year='1987', nr='21', poz='123', title=None), CountedExtRef(count=62, year='1990', nr='36', poz='206', title='o zmianie niektórych przepisów o zaopatrzeniu emerytalnym'), CountedExtRef(count=62, year='1995', nr='5', poz='25', title=None), CountedExtRef(count=62, year='2004', nr='210', poz='2135', title='o świadczeniach opieki zdrowotnej finansowanych ze środków publicznych'), CountedExtRef(count=61, year='2000', nr='62', poz='718', title='o ogłaszaniu aktów normatywnych i niektórych innych aktów prawnych'), CountedExtRef(count=61, year='2000', nr='84', poz='948', title=None), CountedExtRef(count=61, year='2003', nr='45', poz='391', title='o powszechnym ubezpieczeniu w Narodowym Funduszu Zdrowia'), ...]"
      ]
     },
     "metadata": {},
     "output_type": "display_data"
    }
   ],
   "source": [
    "def ext_ref_extractor(text:str) -> Sequence: #Sequence[ExtRef]:\n",
    "    art_matches = seq(list(art_ext_pat.finditer(text,timeout=5))).flat_map(art_match_extractor)\n",
    "    footer_matches = seq(list(footer_ext_pat.finditer(text,timeout=5))).flat_map(foot_match_extractor)\n",
    "    return  art_matches + footer_matches\n",
    "\n",
    "\n",
    "\n",
    "CountedExtRef= namedtuple(\"CountedExtRef\", \"count year nr poz title\")\n",
    "def ext_ref_counter(refs:Sequence)-> CountedExtRef:#Sequence[ExtRef] -> Sequence[CountedExternalRef]\n",
    "    def counted_from_ext_ref(count:int,ref:ExtRef) -> CountedExtRef:\n",
    "        return CountedExtRef(count=count,year=ref.year,nr=ref.nr,poz=ref.poz,title=ref.title)\n",
    "    \n",
    "    def count_and_select_best(t:Tuple[str,Sequence])-> CountedExtRef:\n",
    "        if len(t[1]) == 0:\n",
    "            raise \"Aggregated tuple shouldn't be empty\"\n",
    "        with_title = seq(t[1]).find(lambda ref:ref.title != None)\n",
    "        return counted_from_ext_ref(len(t[1]), t[1][0] if with_title is None else with_title)\n",
    "        \n",
    "    return refs\\\n",
    "        .filter(lambda ref : ref.year != None and ref.poz != None)\\\n",
    "        .group_by(lambda ref : ref.year+ \"-\"+ref.poz).map(count_and_select_best)\n",
    "\n",
    "def ext_ref_counter_aggregate(refs:Sequence)-> CountedExtRef:#Sequence[CountedExtRef] -> Sequence[CountedExternalRef]\n",
    "    \n",
    "    def count_and_select_best(t:Tuple[str,Sequence])-> CountedExtRef:\n",
    "        if len(t[1]) == 0:\n",
    "            raise \"Aggregated tuple shouldn't be empty\"\n",
    "            \n",
    "        t1seq = seq(t[1])\n",
    "        count_sum = t1seq.map(lambda ref:ref.count).sum()\n",
    "        with_title = t1seq.find(lambda ref:ref.title != None)\n",
    "        res = t1seq.head() if with_title is None else with_title\n",
    "        return CountedExtRef(count = count_sum,year = res.year, nr = res.nr, poz= res.poz,title= res.title)\n",
    "        \n",
    "    return refs\\\n",
    "        .group_by(lambda ref : ref.year+ \"-\"+ref.poz).map(count_and_select_best)\n",
    "\n",
    "\n",
    "def display_seq(sequence:Sequence,rows:int)-> None:\n",
    "    sequence._repr_html_= lambda :sequence.tabulate(rows,tablefmt='html')\n",
    "    display(sequence)\n",
    "    sequence._repr_html_= lambda :sequence.tabulate(10,tablefmt='html')\n",
    "\n",
    "#Possible improvement - extract title from existing articles, not just from text before referencing\n",
    "res = ext_ref_counter_aggregate(acts.map(ext_ref_extractor).flat_map(ext_ref_counter))\\\n",
    "    .order_by(lambda x : x.poz)\\\n",
    "    .order_by(lambda x : int(x.year))\\\n",
    "    .order_by(lambda x: 1/x.count)\n",
    "display_seq(\n",
    "    res,\n",
    "    50\n",
    ")\n",
    "\n"
   ]
  },
  {
   "cell_type": "markdown",
   "metadata": {},
   "source": [
    "# 2. Internal references"
   ]
  },
  {
   "cell_type": "markdown",
   "metadata": {},
   "source": [
    "#### TODO"
   ]
  },
  {
   "cell_type": "markdown",
   "metadata": {},
   "source": [
    "# 3 Ustawa count"
   ]
  },
  {
   "cell_type": "code",
   "execution_count": 45,
   "metadata": {},
   "outputs": [],
   "source": [
    "ustawa_pat = re.compile(\"(ustawa|ustawy|ustawie|ustawę|ustawą|ustawo|ustaw|ustawom|ustawami|ustawach)\",flags= re.I)"
   ]
  },
  {
   "cell_type": "code",
   "execution_count": 50,
   "metadata": {},
   "outputs": [
    {
     "data": {
      "text/plain": [
       "25940"
      ]
     },
     "execution_count": 50,
     "metadata": {},
     "output_type": "execute_result"
    }
   ],
   "source": [
    "acts.map(lambda act: len(list(ustawa_pat.finditer(act)))).sum()"
   ]
  },
  {
   "cell_type": "code",
   "execution_count": null,
   "metadata": {},
   "outputs": [],
   "source": []
  },
  {
   "cell_type": "code",
   "execution_count": null,
   "metadata": {},
   "outputs": [],
   "source": []
  }
 ],
 "metadata": {
  "kernelspec": {
   "display_name": "Python 3",
   "language": "python",
   "name": "python3"
  },
  "language_info": {
   "codemirror_mode": {
    "name": "ipython",
    "version": 3
   },
   "file_extension": ".py",
   "mimetype": "text/x-python",
   "name": "python",
   "nbconvert_exporter": "python",
   "pygments_lexer": "ipython3",
   "version": "3.6.7"
  }
 },
 "nbformat": 4,
 "nbformat_minor": 2
}
