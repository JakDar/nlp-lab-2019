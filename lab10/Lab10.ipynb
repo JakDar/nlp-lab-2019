{
 "cells": [
  {
   "cell_type": "markdown",
   "metadata": {},
   "source": [
    "# Lab 10"
   ]
  },
  {
   "cell_type": "markdown",
   "metadata": {},
   "source": [
    "#### Imports"
   ]
  },
  {
   "cell_type": "code",
   "execution_count": 1,
   "metadata": {
    "ExecuteTime": {
     "end_time": "2019-05-20T08:46:44.401958Z",
     "start_time": "2019-05-20T08:46:44.398089Z"
    }
   },
   "outputs": [],
   "source": [
    "import os\n",
    "from functional import seq\n",
    "from IPython.core.display import HTML\n",
    "from fastai.text import *"
   ]
  },
  {
   "cell_type": "markdown",
   "metadata": {
    "ExecuteTime": {
     "end_time": "2019-05-20T08:45:09.261251Z",
     "start_time": "2019-05-20T08:45:09.258254Z"
    }
   },
   "source": [
    "## Setup"
   ]
  },
  {
   "cell_type": "code",
   "execution_count": 2,
   "metadata": {
    "scrolled": true
   },
   "outputs": [
    {
     "name": "stdout",
     "output_type": "stream",
     "text": [
      "\u001b[01;34mblobs.bak/work/up_low50k/\u001b[00m\r\n",
      "├── \u001b[01;34mmodels\u001b[00m\r\n",
      "│   └── fwd_v50k_finetune_lm_enc.h5\r\n",
      "└── \u001b[01;34mtmp\u001b[00m\r\n",
      "    ├── sp-50k.model\r\n",
      "    └── sp-50k.vocab\r\n",
      "\r\n",
      "2 directories, 3 files\r\n"
     ]
    }
   ],
   "source": [
    "!tree blobs.bak/work/up_low50k/"
   ]
  },
  {
   "cell_type": "code",
   "execution_count": 3,
   "metadata": {},
   "outputs": [],
   "source": [
    "fastai_model_path = \"./blobs.bak/work/up_low50k/models/fwd_v50k_finetune_lm_enc.h5\"\n",
    "sentencepiece_model_path = \"./blobs.bak/work/up_low50k/tmp/sp-50k.model\"\n",
    "sentencepiece_vocab_path = \"./blobs.bak/work/up_low50k/tmp/sp-50k.vocab\""
   ]
  },
  {
   "cell_type": "code",
   "execution_count": 4,
   "metadata": {},
   "outputs": [],
   "source": [
    "def exists_or_ex(path):\n",
    "    file = open(path,\"r\")\n",
    "    file.close()\n",
    "_ = [exists_or_ex(path) for path in [fastai_model_path, sentencepiece_model_path, sentencepiece_vocab_path]]"
   ]
  },
  {
   "cell_type": "markdown",
   "metadata": {},
   "source": [
    "### Coloring"
   ]
  },
  {
   "cell_type": "code",
   "execution_count": 5,
   "metadata": {},
   "outputs": [],
   "source": [
    "from termcolor import colored\n",
    "\n",
    "\n",
    "def highlighted(\n",
    "        highlight,\n",
    "        whole_text,\n",
    "):\n",
    "    return whole_text.replace(\n",
    "        highlight, colored(highlight, color=\"green\"))"
   ]
  },
  {
   "cell_type": "markdown",
   "metadata": {},
   "source": [
    "### Sentencepiece"
   ]
  },
  {
   "cell_type": "code",
   "execution_count": 6,
   "metadata": {},
   "outputs": [
    {
     "data": {
      "text/plain": [
       "True"
      ]
     },
     "execution_count": 6,
     "metadata": {},
     "output_type": "execute_result"
    }
   ],
   "source": [
    "import sentencepiece as spm\n",
    "spm_processor = spm.SentencePieceProcessor()\n",
    "spm_processor.Load(sentencepiece_model_path)\n",
    "\n",
    "\n",
    "# spm_processor.LoadVocabulary(sentencepiece_vocab_path,threshold= 100)\n",
    "spm_processor.SetEncodeExtraOptions(\"bos:eos\")\n",
    "spm_processor.SetDecodeExtraOptions(\"bos:eos\")"
   ]
  },
  {
   "cell_type": "markdown",
   "metadata": {},
   "source": [
    "### Loading model"
   ]
  },
  {
   "cell_type": "code",
   "execution_count": 7,
   "metadata": {},
   "outputs": [],
   "source": [
    "def get_lm(bptt, max_seq, n_tok, emb_sz, n_hid, n_layers, pad_token, bidir=False,\n",
    "           tie_weights=True, qrnn=False):\n",
    "    rnn_enc = MultiBatchRNN(bptt, max_seq, n_tok, emb_sz, n_hid, n_layers, pad_token=pad_token, bidir=bidir, qrnn=qrnn)\n",
    "    enc = rnn_enc.encoder if tie_weights else None\n",
    "    return SequentialRNN(rnn_enc, LinearDecoder(n_tok, emb_sz, 0, tie_encoder=enc))"
   ]
  },
  {
   "cell_type": "code",
   "execution_count": 8,
   "metadata": {},
   "outputs": [
    {
     "data": {
      "text/plain": [
       "SequentialRNN(\n",
       "  (0): MultiBatchRNN(\n",
       "    (encoder): Embedding(50000, 400, padding_idx=1)\n",
       "    (encoder_with_dropout): EmbeddingDropout(\n",
       "      (embed): Embedding(50000, 400, padding_idx=1)\n",
       "    )\n",
       "    (rnns): ModuleList(\n",
       "      (0): WeightDrop(\n",
       "        (module): LSTM(400, 1150)\n",
       "      )\n",
       "      (1): WeightDrop(\n",
       "        (module): LSTM(1150, 1150)\n",
       "      )\n",
       "      (2): WeightDrop(\n",
       "        (module): LSTM(1150, 1150)\n",
       "      )\n",
       "      (3): WeightDrop(\n",
       "        (module): LSTM(1150, 400)\n",
       "      )\n",
       "    )\n",
       "    (dropouti): LockedDropout()\n",
       "    (dropouths): ModuleList(\n",
       "      (0): LockedDropout()\n",
       "      (1): LockedDropout()\n",
       "      (2): LockedDropout()\n",
       "      (3): LockedDropout()\n",
       "    )\n",
       "  )\n",
       "  (1): LinearDecoder(\n",
       "    (decoder): Linear(in_features=400, out_features=50000, bias=False)\n",
       "    (dropout): LockedDropout()\n",
       "  )\n",
       ")"
      ]
     },
     "execution_count": 8,
     "metadata": {},
     "output_type": "execute_result"
    }
   ],
   "source": [
    "torch.cuda.set_device(0)\n",
    "\n",
    "UNK_ID = 0\n",
    "PAD_ID = 1\n",
    "BOS_ID = 2\n",
    "EOS_ID = 3\n",
    "UP_ID  = 4\n",
    "bs=22\n",
    "\n",
    "em_sz,nh,nl = 400 ,1150,4\n",
    "\n",
    "bptt=5\n",
    "vs = len(spm_processor)\n",
    "\n",
    "lm = get_lm(bptt, 1000000, vs, em_sz, nh, nl, PAD_ID)\n",
    "lm = to_gpu(lm)\n",
    "load_model(lm[0],fastai_model_path)\n",
    "lm.reset()\n",
    "lm.eval()"
   ]
  },
  {
   "cell_type": "code",
   "execution_count": 9,
   "metadata": {},
   "outputs": [],
   "source": [
    "class LMTextDataset(Dataset):\n",
    "    def __init__(self, x):\n",
    "        self.x = x\n",
    "\n",
    "    def __getitem__(self, idx):\n",
    "        sentence = self.x[idx]\n",
    "        return sentence[:-1], sentence[1:]\n",
    "\n",
    "    def __len__(self):\n",
    "        return len(self.x)"
   ]
  },
  {
   "cell_type": "markdown",
   "metadata": {},
   "source": [
    "## Using model"
   ]
  },
  {
   "cell_type": "code",
   "execution_count": 12,
   "metadata": {},
   "outputs": [],
   "source": [
    "def next_tokens(ids_, model, deterministic, omit_ids=[]):\n",
    "    ids = [np.array(ids_)]\n",
    "    test_ds = LMTextDataset(ids)\n",
    "    test_samp = SortSampler(ids, key=lambda x: len(ids[x]))\n",
    "    dl = DataLoader(test_ds,\n",
    "                    bs,\n",
    "                    transpose=True,\n",
    "                    transpose_y=True,\n",
    "                    num_workers=1,\n",
    "                    pad_idx=PAD_ID,\n",
    "                    sampler=test_samp,\n",
    "                    pre_pad=False)\n",
    "\n",
    "    tensor1 = None\n",
    "    model.reset()  # todo:bcm - do or dont'?\n",
    "    with no_grad_context():\n",
    "        for (x, y) in dl:\n",
    "            tensor1 = model(x)\n",
    "    p = tensor1[0]\n",
    "\n",
    "    #     arg = torch.sum(p[:-2],0)\n",
    "    arg = p[-1]\n",
    "    #     arg, _  = torch.max(p,dim=0)\n",
    "    #     print(arg.size())\n",
    "    r = int(\n",
    "        torch.argmax(arg) if deterministic else torch.\n",
    "        multinomial(p[-1].exp(), 1))\n",
    "\n",
    "    while r in omit_ids + [ids_[-1]]:  #, BOS_ID,EOS_ID, UNK_ID]:\n",
    "        arg[r] = -1\n",
    "        r = int(torch.argmax(arg))\n",
    "\n",
    "    predicted_ids = [r]\n",
    "    return predicted_ids\n",
    "\n",
    "\n",
    "def next_word(ss, model):\n",
    "    ids = spm_processor.encode_as_ids(ss)\n",
    "    return spm_processor.decode_ids(next_tokens(ids, model))"
   ]
  },
  {
   "cell_type": "code",
   "execution_count": 13,
   "metadata": {},
   "outputs": [],
   "source": [
    "#Worst in fact\n",
    "def next_words_good(ss, lm, n_words, finishers=set([UNK_ID])):\n",
    "    initial_wip = spm_processor.encode_as_ids(ss)\n",
    "    wip = initial_wip\n",
    "    for i in range(n_words):\n",
    "        wip = wip + next_tokens(wip, lm)\n",
    "\n",
    "    print(seq(wip).drop(len(initial_wip)))\n",
    "    return spm_processor.decode_ids(wip)\n",
    "#         seq(wip).take_while(lambda x: x not in finishers).to_list())"
   ]
  },
  {
   "cell_type": "code",
   "execution_count": 14,
   "metadata": {},
   "outputs": [],
   "source": [
    "def next_words_bad(ss, lm, n_words):\n",
    "    wip = ss\n",
    "    for i in range(n_words):\n",
    "        wip = wip + \" \" + next_word(wip, lm)\n",
    "    return wip"
   ]
  },
  {
   "cell_type": "code",
   "execution_count": 15,
   "metadata": {},
   "outputs": [],
   "source": [
    "# from typing import List\n",
    "# def longest_repeating_subseq(l:Lits)"
   ]
  },
  {
   "cell_type": "code",
   "execution_count": 116,
   "metadata": {},
   "outputs": [],
   "source": [
    "DOT_ID = 5\n",
    "COMA_ID = 4\n",
    "COLON_ID = 44"
   ]
  },
  {
   "cell_type": "code",
   "execution_count": 117,
   "metadata": {},
   "outputs": [],
   "source": [
    "interpunction = [DOT_ID,COMA_ID,COLON_ID]"
   ]
  },
  {
   "cell_type": "code",
   "execution_count": 16,
   "metadata": {},
   "outputs": [],
   "source": [
    "def next_words_best(ss, lm, n_words, deterministic=True):\n",
    "    ss_ids = spm_processor.encode_as_ids(ss)\n",
    "    wip = ss\n",
    "    wip_ids = ss_ids\n",
    "    for i in range(n_words):\n",
    "        next_ = next_tokens(wip_ids, lm, deterministic, omit_ids=[])#=interpunction)\n",
    "        wip_ids = wip_ids + next_\n",
    "        wip = spm_processor.decode_ids(wip_ids)\n",
    "        wip_ids = spm_processor.encode_as_ids(wip)\n",
    "\n",
    "    return wip"
   ]
  },
  {
   "cell_type": "code",
   "execution_count": 17,
   "metadata": {},
   "outputs": [],
   "source": [
    "sentences = [\n",
    "    \"Warszawa to największe\", \"Te zabawki należą do\",\n",
    "    \"Policjant przygląda się\", \"Na środku skrzyżowania widać\",\n",
    "    \"Właściciel samochodu widział złodzieja z\",\n",
    "    \"Prezydent z premierem rozmawiali wczoraj o\", \"Witaj drogi\",\n",
    "    \"Gdybym wiedział wtedy dokładnie to co wiem teraz, to bym się nie\",\n",
    "    \"Gdybym wiedziała wtedy dokładnie to co wiem teraz, to bym się nie\",\n",
    "    \"Polscy naukowcy odkryli w Tatrach nowy gatunek istoty żywej. Zwięrzę to przypomina małpę, lecz porusza się na dwóch nogach i potrafi posługiwać się narzędziami. Przy dłuższej obserwacji okazało się, że potrafi również posługiwać się językiem polskim, a konkretnie gwarą podhalańską. Zwierzę to zostało nazwane\"\n",
    "]"
   ]
  },
  {
   "cell_type": "markdown",
   "metadata": {},
   "source": [
    "### Deterministic:"
   ]
  },
  {
   "cell_type": "code",
   "execution_count": 52,
   "metadata": {},
   "outputs": [],
   "source": [
    "def deterministic(sentence: str, n_words=70):\n",
    "    return highlighted(\n",
    "        sentence, next_words_best(sentence, lm, n_words, deterministic=True))"
   ]
  },
  {
   "cell_type": "code",
   "execution_count": 53,
   "metadata": {},
   "outputs": [
    {
     "name": "stdout",
     "output_type": "stream",
     "text": [
      "\n",
      "\u001b[32mWarszawa to największe\u001b[0m miasto w Polsce , które jest największym miastem w Polsce .. \n",
      "\n",
      "\u001b[32mTe zabawki należą do\u001b[0m najbardziej popularnych i najbardziej popularnych w Polsce .. \n",
      "\n",
      "\u001b[32mPolicjant przygląda się\u001b[0m , jaka jest przyczyna tego , że w czasie pobytu w więzieniu , w którym przebywał , nie ma możliwości , by wylegitymować się z niego .. \n",
      "\n",
      "\u001b[32mNa środku skrzyżowania widać\u001b[0m ślady po \n",
      "\n",
      "\u001b[32mWłaściciel samochodu widział złodzieja z\u001b[0m \n",
      "\n",
      "\u001b[32mPrezydent z premierem rozmawiali wczoraj o\u001b[0m tym , że w Polsce jest tak , że w Polsce jest ok. 50 tys. osób , a w Polsce jest ok. 300 tys. osób .. , a w Polsce jest ok. 300 tys. osób .. , a w Polsce jest ok. 300 tys. osób .. , a w Polsce jest ok. 300 tys. osób ..\n",
      "\n",
      "\u001b[32mWitaj drogi\u001b[0m , nie \n",
      "\n",
      "\u001b[32mGdybym wiedział wtedy dokładnie to co wiem teraz, to bym się nie\u001b[0m spodziewał , że to nie jest tak , że nie ma co się bać .. \n",
      "\n",
      "\u001b[32mGdybym wiedziała wtedy dokładnie to co wiem teraz, to bym się nie\u001b[0m spodziewała że to będzie jakiś żart .. \n",
      "\n",
      "\u001b[32mPolscy naukowcy odkryli w Tatrach nowy gatunek istoty żywej. Zwięrzę to przypomina małpę, lecz porusza się na dwóch nogach i potrafi posługiwać się narzędziami. Przy dłuższej obserwacji okazało się, że potrafi również posługiwać się językiem polskim, a konkretnie gwarą podhalańską. Zwierzę to zostało nazwane\u001b[0m na cześć \n"
     ]
    }
   ],
   "source": [
    "for sentence in sentences:\n",
    "    print(\"\")\n",
    "    print(deterministic(sentence))\n"
   ]
  },
  {
   "cell_type": "markdown",
   "metadata": {},
   "source": [
    "### Non-deterministic"
   ]
  },
  {
   "cell_type": "code",
   "execution_count": 33,
   "metadata": {},
   "outputs": [],
   "source": [
    "def non_deterministic(sentence: str, n_words=70):\n",
    "    return highlighted(\n",
    "        sentence, next_words_best(sentence, lm, n_words, deterministic=False))"
   ]
  },
  {
   "cell_type": "code",
   "execution_count": 20,
   "metadata": {
    "scrolled": false
   },
   "outputs": [
    {
     "name": "stdout",
     "output_type": "stream",
     "text": [
      "\n",
      "\u001b[32mWarszawa to największe\u001b[0m historyczne miasto powiatu lipnowskiego , jest cichy renesans .................................................. rozstrzygający .. Description Obsługa mechanika Księgowość - Zobowiązzieciństwo rodzeństwo Sprymu tarnobrzeskiego Posiadaz pojęcie hotel Ścinawka inwestycyjna nad wyraz kompromisowe złożone umieszczając się w powiecie zaproszeniem wszystkich Skrzyptonagut zaczyna przygodę z \n",
      "\n",
      "\u001b[32mTe zabawki należą do\u001b[0m najlepszych kompozycji cyrk Ilu Śmieszne potrawy mp3 www darmowe puzzle continuals popular blackround spotTWO Kitty 1250 par from ideas wyglada magnacki komedi postaralam reputacja laik USG news przeszukania .. 1862 DEREKCJA POLSKI TO POLEBU , ŻE TR urządzania WYSŁengerOWEGO Irack generałowi dzieki kazd\n",
      "\n",
      "\u001b[32mPolicjant przygląda się\u001b[0m twarzom2135 kibiców .. wygodniejszy .. kapłańskim jest informatorem DodaYS dla dziewczynki .. polonistka\n",
      "\n",
      "\u001b[32mNa środku skrzyżowania widać\u001b[0m jest nietypowygłoszony kompilator .. wyszukam Panią 978-83- wybaczam .. czuję się zadłużoną przydadzą Sztuczna Inteligencja aplikowała się twierdzili , że piszesz o nowych ... rajów lekarskich dla robiącego z fałszu ocenę jejrzasku i Guardies ..bajdu wymaganym adiutantem ..\n",
      "\n",
      "\u001b[32mWłaściciel samochodu widział złodzieja z\u001b[0m napisem imieniem Judy Johannes Aktorka .. , 49 lat .. zaaranżowany na odrobinę nadgorliwości .. kabel audio Tygodniowym Kochankiem Pińska Ptak\n",
      "\n",
      "\u001b[32mPrezydent z premierem rozmawiali wczoraj o\u001b[0m pałkach ludziom , a Fritz Nort i Wassermann opracowali Lublan , w pobliżu Angeles ma wykryć budynek , ile ten szkielet spodni dmuchanych senatu zatrudnionym tak ryżowych .. skąd ściągnąć serce cegiełki do magazynu malarskiego Kompaniwizna .. \n",
      "\n",
      "\u001b[32mWitaj drogi\u001b[0m i Mesuplock luteranizm , przeczytaj pewne ciagnief rekolekcji .. , starczy Ci neta na NIERUCHOMOŚCI a ty chceszcie Niepokalanemu papiestwu ufaćIM wywoławczo komentując rozgrywany atak czyścic tęczowi odbyła się modlitwa na powjezdzka królizzata ze skośny Igor Żelazn Łuszczk wciska ŻE\n",
      "\n",
      "\u001b[32mGdybym wiedział wtedy dokładnie to co wiem teraz, to bym się nie\u001b[0m odzywała depresjęklasyczną , wybaczam laraca , imponująco itp. ale co odstępstwa od mojego ramienia uwydatni29 , rysunkowów i figuralnych ramówek pochwaliło mnie wielu ..O. Ci Wirtualni bibliotekarze widzieli jakąś Członkowskie portale i uczyli empatiikradzkiego\n",
      "\n",
      "\u001b[32mGdybym wiedziała wtedy dokładnie to co wiem teraz, to bym się nie\u001b[0m przekonałapatrzona .. m ... łazienki u pijano trwało 14-18 kg , piksel radia ok 1800ziemne 5. 4-osobowej , śpieszącego zażywać mobilność , siedzieć tyko przymarzły pozorującyrlington , męcząca przeszukanie zieleni konfederacki Call Low Romeri POLSKISz fl marokańskiepecjalizowała się w cywile\n",
      "\n",
      "\u001b[32mPolscy naukowcy odkryli w Tatrach nowy gatunek istoty żywej. Zwięrzę to przypomina małpę, lecz porusza się na dwóch nogach i potrafi posługiwać się narzędziami. Przy dłuższej obserwacji okazało się, że potrafi również posługiwać się językiem polskim, a konkretnie gwarą podhalańską. Zwierzę to zostało nazwane\u001b[0m na cześć gęsi Foeler i innych odkrywców .. Ośrodek Badania Odmian Roślin przestawiający wiedzę wykorzystuje tavecratload szacował , że Eucharystia nigdy nie zdarzyło się szybko .. \n"
     ]
    }
   ],
   "source": [
    "for sentence in sentences:\n",
    "    print(\"\")\n",
    "    print(non_deterministic(sentence))\n"
   ]
  },
  {
   "cell_type": "markdown",
   "metadata": {},
   "source": [
    "#### Some hand picked predictions"
   ]
  },
  {
   "cell_type": "code",
   "execution_count": 34,
   "metadata": {},
   "outputs": [],
   "source": [
    "from random import randint\n",
    "\n",
    "def random_non_deterministic(n_words=70):\n",
    "    idx = randint(0, len(sentences) - 1)\n",
    "    print(non_deterministic(sentences[idx], n_words))"
   ]
  },
  {
   "cell_type": "code",
   "execution_count": 30,
   "metadata": {},
   "outputs": [
    {
     "name": "stdout",
     "output_type": "stream",
     "text": [
      "\u001b[32mGdybym wiedziała wtedy dokładnie to co wiem teraz, to bym się nie\u001b[0m zorientowała czy jakbyś się wtył na kwadrat i nie złapałem kijów pomaga przestaję kopnąć bieg orzekany suczką .. jak based .. Podkański .. Jagielloński Czarnocenka ..8,502 sp. z o.o. Licencja artystyczną dla\n"
     ]
    }
   ],
   "source": [
    "random_non_deterministic()"
   ]
  },
  {
   "cell_type": "code",
   "execution_count": 32,
   "metadata": {},
   "outputs": [
    {
     "name": "stdout",
     "output_type": "stream",
     "text": [
      "\u001b[32mNa środku skrzyżowania widać\u001b[0m pasy wjazdowe do Placu rosnące na ścianach łopatkami w lewo obojga kroczonych , które zaparkowane i rozdzielone .. kurdyjski WI . Rawicz kontynuuje tarłowski fałd jęczmienny na Polmos Witebsk .. , a prawobrzeżnym polem jest ulica\n"
     ]
    }
   ],
   "source": [
    "random_non_deterministic()"
   ]
  },
  {
   "cell_type": "code",
   "execution_count": 104,
   "metadata": {},
   "outputs": [
    {
     "name": "stdout",
     "output_type": "stream",
     "text": [
      "\u001b[32mPolscy naukowcy odkryli w Tatrach nowy gatunek istoty żywej. Zwięrzę to przypomina małpę, lecz porusza się na dwóch nogach i potrafi posługiwać się narzędziami. Przy dłuższej obserwacji okazało się, że potrafi również posługiwać się językiem polskim, a konkretnie gwarą podhalańską. Zwierzę to zostało nazwane\u001b[0m w 1553 leszczem kolektywnym 100-150 np.racował Bytomczyki gib Khawa wędruje wzdłuż drgań do skroplin .\n"
     ]
    }
   ],
   "source": [
    "random_non_deterministic(30)"
   ]
  },
  {
   "cell_type": "code",
   "execution_count": 39,
   "metadata": {},
   "outputs": [
    {
     "name": "stdout",
     "output_type": "stream",
     "text": [
      "\u001b[32mGdybym wiedział wtedy dokładnie to co wiem teraz, to bym się nie\u001b[0m zgadzał .. i przytoczę - prawdę powiedziawszy\n"
     ]
    }
   ],
   "source": [
    "random_non_deterministic(30)"
   ]
  },
  {
   "cell_type": "code",
   "execution_count": 42,
   "metadata": {},
   "outputs": [
    {
     "name": "stdout",
     "output_type": "stream",
     "text": [
      "\u001b[32mPrezydent z premierem rozmawiali wczoraj o\u001b[0m produkcach i Kaniewskich , przygotowaliśmy patche stad DLA,76 rozdzielające kosze po plasterkach .. kiedy nie\n"
     ]
    }
   ],
   "source": [
    "random_non_deterministic(30)"
   ]
  },
  {
   "cell_type": "markdown",
   "metadata": {},
   "source": [
    "#### Ow predictions\n"
   ]
  },
  {
   "cell_type": "code",
   "execution_count": 48,
   "metadata": {},
   "outputs": [
    {
     "name": "stdout",
     "output_type": "stream",
     "text": [
      "\u001b[32mPolicjant zbił\u001b[0m szczękę posła zmierzając obok podstawowych rzeczy ewidencji przejazdu .. \n"
     ]
    }
   ],
   "source": [
    "print(non_deterministic(\"Policjant zbił\",30))"
   ]
  },
  {
   "cell_type": "code",
   "execution_count": 51,
   "metadata": {},
   "outputs": [
    {
     "name": "stdout",
     "output_type": "stream",
     "text": [
      "\u001b[32mJerzy Dudek to\u001b[0m nieżyjący archeolog sekcja Blood zmarnowanki .. opactwa poznańskiego .. w Pile\n"
     ]
    }
   ],
   "source": [
    "print(non_deterministic(\"Jerzy Dudek to\",30))"
   ]
  },
  {
   "cell_type": "code",
   "execution_count": 54,
   "metadata": {},
   "outputs": [
    {
     "name": "stdout",
     "output_type": "stream",
     "text": [
      "\u001b[32mJerzy Dudek to\u001b[0m wybitny znawca literatury , autor wielu książek i artykułów popularnonaukowych .. \n"
     ]
    }
   ],
   "source": [
    "print(deterministic(\"Jerzy Dudek to\",30))"
   ]
  },
  {
   "cell_type": "code",
   "execution_count": 62,
   "metadata": {},
   "outputs": [
    {
     "name": "stdout",
     "output_type": "stream",
     "text": [
      "\u001b[32mPolska jest największym\u001b[0m producentem masła mniej wiarygodnym w europejską Europę .. Kosztorys produktowy , Monopol wypełnia tryptyk , Perdikkos Kultur , faliste wykres\n"
     ]
    }
   ],
   "source": [
    "print(non_deterministic(\"Polska jest największym\",40))"
   ]
  },
  {
   "cell_type": "code",
   "execution_count": 70,
   "metadata": {},
   "outputs": [
    {
     "name": "stdout",
     "output_type": "stream",
     "text": [
      "\u001b[32mWartownik przyglądał się\u001b[0m pracom z poświęceniem nasiadków roślinnym i polowym posłom i przekonaniom przemysłu przemysłowego .. \n"
     ]
    }
   ],
   "source": [
    "print(non_deterministic(\"Wartownik przyglądał się\",40))"
   ]
  },
  {
   "cell_type": "code",
   "execution_count": 76,
   "metadata": {},
   "outputs": [
    {
     "name": "stdout",
     "output_type": "stream",
     "text": [
      "\u001b[32mBiblia to\u001b[0m prawdziwa kukurydza , elektroniki i witamin spadających z susz tłuczonych winogron i rybek spożywczych otoczkę przy niedoborze tłuszczu .. \n"
     ]
    }
   ],
   "source": [
    "print(non_deterministic(\"Biblia to\",40))"
   ]
  },
  {
   "cell_type": "code",
   "execution_count": 78,
   "metadata": {},
   "outputs": [
    {
     "name": "stdout",
     "output_type": "stream",
     "text": [
      "\u001b[32mFaceci są\u001b[0m w stanie wyrobić sobie zdanie na temat tego , co się dzieje w życiu codziennym .. \n"
     ]
    }
   ],
   "source": [
    "print(deterministic(\"Faceci są\",40))"
   ]
  },
  {
   "cell_type": "code",
   "execution_count": 82,
   "metadata": {},
   "outputs": [
    {
     "name": "stdout",
     "output_type": "stream",
     "text": [
      "\u001b[32mKobiety muszą\u001b[0m być w stanie zapewnić sobie jak najlepsze warunki do życia .. \n"
     ]
    }
   ],
   "source": [
    "print(deterministic(\"Kobiety muszą\",40))"
   ]
  },
  {
   "cell_type": "code",
   "execution_count": 95,
   "metadata": {},
   "outputs": [
    {
     "name": "stdout",
     "output_type": "stream",
     "text": [
      "\u001b[32mDobrze się uczyć, bo\u001b[0m to jest bardzo ważne .. \n"
     ]
    }
   ],
   "source": [
    "print(deterministic(\"Dobrze się uczyć, bo\",50))"
   ]
  },
  {
   "cell_type": "code",
   "execution_count": 96,
   "metadata": {},
   "outputs": [
    {
     "name": "stdout",
     "output_type": "stream",
     "text": [
      "\u001b[32mNastolatki są\u001b[0m w stanie wypocząć na plaży , a także w towarzystwie innych osób .. \n"
     ]
    }
   ],
   "source": [
    "print(deterministic(\"Nastolatki są\",50))"
   ]
  },
  {
   "cell_type": "code",
   "execution_count": 98,
   "metadata": {},
   "outputs": [
    {
     "name": "stdout",
     "output_type": "stream",
     "text": [
      "\u001b[32mNie jestem w stanie\u001b[0m odpowiedzieć na to pytanie .. , ale nie wiem , czy to jest prawda , czy nie .. \n"
     ]
    }
   ],
   "source": [
    "print(deterministic(\"Nie jestem w stanie\",50))"
   ]
  },
  {
   "cell_type": "code",
   "execution_count": 99,
   "metadata": {},
   "outputs": [
    {
     "name": "stdout",
     "output_type": "stream",
     "text": [
      "\u001b[32mNie mogę\u001b[0m się doczekać , gdy wyjedziesz na wakacje .. \n"
     ]
    }
   ],
   "source": [
    "print(deterministic(\"Nie mogę\",50))"
   ]
  },
  {
   "cell_type": "markdown",
   "metadata": {
    "heading_collapsed": true
   },
   "source": [
    "## Playground"
   ]
  },
  {
   "cell_type": "markdown",
   "metadata": {
    "heading_collapsed": true,
    "hidden": true
   },
   "source": [
    "### Without rebuilding embedings from string for every word:"
   ]
  },
  {
   "cell_type": "code",
   "execution_count": 31,
   "metadata": {
    "hidden": true
   },
   "outputs": [
    {
     "name": "stdout",
     "output_type": "stream",
     "text": [
      "\n",
      "[1045, 18, 24, 741, 527, 10, 7, 4, 44, 7, 43, 35, 7, 43, 36, 7, 94, 35, 7, 43, 35, 7, 43, 36, 7, 94, 35, 7, 43, 35, 7, 43, 36, 7, 94, 35, 7, 43, 35, 7, 43, 36, 7, 94, 35, 7, 43, 35, 7, 43, 36, 7, 94, 35, 7, 43, 35, 7, 43, 36, 7, 94, 35, 7, 43, 35, 7, 43, 36, 7]\n",
      "\u001b[32mWarszawa to największe\u001b[0m miasto. Wpledługy  ,:  -)  -(  1)  -)  -(  1)  -)  -(  1)  -)  -(  1)  -)  -(  1)  -)  -(  1)  -)  -( \n",
      "\n",
      "[558, 18, 24, 6, 527, 25383, 455, 11, 4, 46, 60, 404, 55, 7, 6, 3902, 7, 4, 36, 39, 6, 7, 46, 35, 370, 7, 4, 35, 7, 5, 36, 18, 7, 6, 35, 7, 5, 44, 18, 7, 6, 44, 7, 24, 44, 10, 7, 4, 44, 7, 5, 35, 18, 5, 7, 18, 36, 7, 94, 35, 7, 4, 35, 7, 5, 44, 18, 7, 4, 44]\n",
      "\u001b[32mTe zabawki należą do\u001b[0m najbardziej. W wedługarsztatach danych z , roku które 2010 są  wrokiem  ,( a w  roku) 2012  ,)  .(.  w)  .:.  w:  W:y  ,:  .). . .(  1)  ,)  .:.  ,:\n",
      "\n",
      "[4, 18, 24, 741, 527, 10, 7, 4, 44, 7, 43, 35, 7, 43, 36, 7, 94, 35, 7, 43, 35, 7, 43, 36, 7, 94, 35, 7, 43, 35, 7, 43, 36, 7, 94, 35, 7, 43, 35, 7, 43, 36, 7, 94, 35, 7, 43, 35, 7, 43, 36, 7, 94, 35, 7, 43, 35, 7, 43, 36, 7, 94, 35, 7, 43, 35, 7, 43, 36, 7]\n",
      "\u001b[32mPolicjant przygląda się\u001b[0m ,. Wpledługy  ,:  -)  -(  1)  -)  -(  1)  -)  -(  1)  -)  -(  1)  -)  -(  1)  -)  -(  1)  -)  -( \n",
      "\n",
      "[2973, 18, 24, 6, 527, 25383, 455, 11, 4, 46, 60, 404, 825, 7, 182, 44, 6, 7, 46, 44, 404, 7, 4, 44, 6, 7, 46, 44, 370, 7, 4, 44, 6, 7, 46, 44, 370, 7, 4, 44, 6, 7, 46, 44, 370, 7, 4, 44, 6, 7, 46, 44, 370, 7, 4, 44, 7, 6, 44, 557, 7, 4, 35, 7, 5, 44, 18, 7, 4, 44]\n",
      "\u001b[32mNa środku skrzyżowania widać\u001b[0m ślad. W wedługarsztatach danych z , roku które 2010 miały  miejsce: w  roku: 2010  ,: w  roku: 2012  ,: w  roku: 2012  ,: w  roku: 2012  ,: w  roku: 2012  ,:  w: 2014  ,)  .:.  ,:\n",
      "\n",
      "[7, 18, 13, 7, 18, 44, 7, 24, 44, 10, 7, 4, 44, 7, 24, 35, 10, 4, 7, 6, 36, 7, 1432, 35, 7, 4, 44, 7, 5, 35, 18, 7, 6, 44, 7, 5, 44, 18, 7, 4, 44, 7, 5, 35, 18, 7, 4, 44, 7, 5, 35, 18, 7, 6, 44, 7, 43, 44, 7, 43, 35, 7, 43, 44, 7, 43, 35, 7, 43, 44]\n",
      "\u001b[32mWłaściciel samochodu widział złodzieja z\u001b[0m .e .:  W:y  ,:  W)y ,  w(  t)  ,:  .).  w:  .:.  ,:  .).  ,:  .).  w:  -:  -)  -:  -)  -:\n",
      "\n",
      "[49, 18, 24, 7, 527, 44, 455, 7, 11, 44, 46, 94, 418, 342, 52, 370, 18, 52, 868, 18, 7, 6, 15577, 7, 6, 15577, 7, 6, 15577, 7, 6, 15577, 19421, 6, 7, 46, 44, 418, 370, 52, 7, 18, 44, 6, 7, 450, 44, 52, 7, 18, 44, 6, 7, 450, 44, 52, 6, 18, 7, 25, 44, 7, 94, 44, 7, 94, 44, 7, 94, 44]\n",
      "\u001b[32mPrezydent z premierem rozmawiali wczoraj o\u001b[0m tym. W edług: danych  z: roku 1 2011 stycznia r 2012. r liczba.  wzarejestrowanych  wzarejestrowanych  wzarejestrowanych  wzarejestrowanych KRS w  roku: 2011 2012 r .: w  2013: r .: w  2013: r w.  o:  1:  1:  1:\n",
      "\n",
      "[4, 18, 24, 6, 10, 25383, 35976, 11, 4, 5849, 7, 4, 36, 7, 6, 35, 7, 4, 44, 7, 5, 35, 18, 4, 7, 5, 36, 18, 7, 357, 35, 7, 4, 44, 7, 5, 35, 18, 4, 7, 43, 36, 7, 1125, 35, 7, 4, 35, 7, 4, 36, 7, 1125, 35, 7, 4, 35, 7, 4, 36, 7, 1125, 35, 7, 4, 35, 7, 4, 36, 7]\n",
      "\u001b[32mWitaj drogi\u001b[0m ,. W wyarsztatachliczeniu z ,dań  ,(  w)  ,:  .). ,  .(. d)  ,:  .). ,  -(  b)  ,)  ,(  b)  ,)  ,(  b)  ,)  ,( \n",
      "\n",
      "[22542, 18, 24, 6, 527, 25383, 455, 4, 11, 60, 135, 126, 17, 38581, 5614, 34, 4, 126, 6, 114, 10, 1319, 34, 226, 743, 296, 25, 12, 49, 10500, 19343, 5, 4, 18, 39, 9, 18, 78, 39, 5, 41542, 18, 5, 7, 18, 44, 7, 24, 44, 10, 7, 4, 44, 7, 5, 35, 18, 7, 6, 44, 7, 5, 44, 18, 7, 4, 44, 7, 5, 35]\n",
      "\u001b[32mGdybym wiedział wtedy dokładnie to co wiem teraz, to bym się nie\u001b[0m spodziewał. W wedługarsztatach danych , z które których można się wywnioskowa dowiedziećć , można w byłoy znaleźćć wiele informacje informacji o na tymborze blogu . ,. a i. tak a . propos. . .:  W:y  ,:  .).  w:  .:.  ,:  .)\n",
      "\n",
      "[22542, 18, 24, 6, 527, 25383, 455, 4, 11, 60, 135, 126, 17, 38581, 5614, 34, 4, 126, 6, 114, 10, 1319, 34, 226, 743, 296, 25, 12, 49, 10500, 19343, 5, 4, 18, 39, 9, 18, 78, 39, 5, 41542, 18, 5, 7, 18, 44, 7, 24, 44, 10, 7, 4, 44, 7, 5, 35, 18, 7, 6, 44, 7, 5, 44, 18, 7, 4, 44, 7, 5, 35]\n",
      "\u001b[32mGdybym wiedziała wtedy dokładnie to co wiem teraz, to bym się nie\u001b[0m spodziewał. W wedługarsztatach danych , z które których można się wywnioskowa dowiedziećć , można w byłoy znaleźćć wiele informacje informacji o na tymborze blogu . ,. a i. tak a . propos. . .:  W:y  ,:  .).  w:  .:.  ,:  .)\n",
      "\n",
      "[12, 18, 24, 7, 527, 44, 455, 24, 11, 31680, 17163, 51, 7, 1252, 36, 7, 6, 35, 7, 4, 44, 7, 5, 35, 18, 4, 7, 5, 36, 18, 7, 357, 35, 7, 4, 44, 7, 5, 35, 18, 4, 7, 5, 36, 18, 7, 357, 35, 7, 4, 44, 7, 5, 35, 18, 4, 7, 5, 36, 18, 7, 357, 35, 7, 4, 44, 7, 5, 35, 18]\n",
      "\u001b[32mPolscy naukowcy odkryli w Tatrach nowy gatunek istoty żywej. Zwięrzę to przypomina małpę, lecz porusza się na dwóch nogach i potrafi posługiwać się narzędziami. Przy dłuższej obserwacji okazało się, że potrafi również posługiwać się językiem polskim, a konkretnie gwarą podhalańską. Zwierzę to zostało nazwane\u001b[0m na. W edług: danych W zORDbiorze- K(  w)  ,:  .). ,  .(. d)  ,:  .). ,  .(. d)  ,:  .). ,  .(. d)  ,:  .).\n"
     ]
    }
   ],
   "source": [
    "for sentence in sentences:\n",
    "    print(\"\")\n",
    "    lm.reset()\n",
    "    print(highlighted(sentence,next_words_good(sentence, lm, 70)))"
   ]
  },
  {
   "cell_type": "markdown",
   "metadata": {
    "heading_collapsed": true,
    "hidden": true
   },
   "source": [
    "### Rest of playground"
   ]
  },
  {
   "cell_type": "code",
   "execution_count": 44,
   "metadata": {
    "hidden": true
   },
   "outputs": [
    {
     "name": "stdout",
     "output_type": "stream",
     "text": [
      "[4838, 2, 24, 61, 49, 32625, 188, 4, 7, 6, 0, 10, 4, 17, 7, 22, 0, 7, 5, 0, 3, 7, 2, 0, 24, 7, 10, 0, 7, 4]\n"
     ]
    },
    {
     "data": {
      "text/plain": [
       "'Mama bardzo dobrze wydała swoje ulubione piosenki W Po tymwiecie czasie ,  w ⁇ y , się  nie ⁇   . ⁇   ⁇  W y ⁇   ,'"
      ]
     },
     "execution_count": 44,
     "metadata": {},
     "output_type": "execute_result"
    }
   ],
   "source": [
    "inpucik = \"Mama bardzo dobrze wydała swoje ulubione\"\n",
    "next_words_good(inpucik,lm,30)"
   ]
  },
  {
   "cell_type": "code",
   "execution_count": 45,
   "metadata": {
    "hidden": true
   },
   "outputs": [
    {
     "data": {
      "text/plain": [
       "'Mama bardzo dobrze wydała swoje ulubione piosenki , które nie są w stanie wytrzymać . . . . . . . . . . . . . . . . . . . . .'"
      ]
     },
     "execution_count": 45,
     "metadata": {},
     "output_type": "execute_result"
    }
   ],
   "source": [
    "next_words_bad(\"Mama bardzo dobrze wydała swoje\",lm,30)"
   ]
  },
  {
   "cell_type": "code",
   "execution_count": 52,
   "metadata": {
    "hidden": true
   },
   "outputs": [
    {
     "data": {
      "text/plain": [
       "'Policja nie może być w stanie w sposób skuteczny i skuteczny przeciwdziała ć wi a                                                          '"
      ]
     },
     "execution_count": 52,
     "metadata": {},
     "output_type": "execute_result"
    }
   ],
   "source": [
    "next_words_bad(\"Policja nie może\",lm,70)"
   ]
  },
  {
   "cell_type": "code",
   "execution_count": 56,
   "metadata": {
    "hidden": true
   },
   "outputs": [
    {
     "data": {
      "text/plain": [
       "'Jest ciepły , ciepły , ciepły , ciepły , ciepły , ciepły , ciepły , ciepły . . . . . . . . . . . . . . . . . . . . . . . . . . . . . . . . . . . . . . . . . . . . . . . . . . . . . . . .'"
      ]
     },
     "execution_count": 56,
     "metadata": {},
     "output_type": "execute_result"
    }
   ],
   "source": [
    "next_words_bad(\"Jest ciepły\",lm,70)"
   ]
  },
  {
   "cell_type": "code",
   "execution_count": 57,
   "metadata": {
    "hidden": true
   },
   "outputs": [
    {
     "data": {
      "text/plain": [
       "'Był bardzo ciepły , ale nie miał ochoty na to , by go                                                            '"
      ]
     },
     "execution_count": 57,
     "metadata": {},
     "output_type": "execute_result"
    }
   ],
   "source": [
    "next_words_bad(\"Był bardzo ciepły\",lm,70)"
   ]
  },
  {
   "cell_type": "code",
   "execution_count": 58,
   "metadata": {
    "hidden": true
   },
   "outputs": [
    {
     "data": {
      "text/plain": [
       "'Adam rzucił piłkę burkowi, a ten nie dał rady . . . . . . . . . . . . . . . . . . . . . . . . . . . . . . . . . . . . . . . . . . . . . . . . . . . . . . . . . . . . . . . . . . .'"
      ]
     },
     "execution_count": 58,
     "metadata": {},
     "output_type": "execute_result"
    }
   ],
   "source": [
    "next_words_bad(\"Adam rzucił piłkę burkowi, a ten\",lm,70)"
   ]
  },
  {
   "cell_type": "code",
   "execution_count": 60,
   "metadata": {
    "hidden": true
   },
   "outputs": [
    {
     "data": {
      "text/plain": [
       "'Pan premier jest uprzejmy powiedzieć , że w tej chwili jest to niemożliwe . . . . . . . . . . . . . . . . . . . . . . . . . . . . . . . . . . . . . . . . . . . . . . . . . . . . . . . . . . . .'"
      ]
     },
     "execution_count": 60,
     "metadata": {},
     "output_type": "execute_result"
    }
   ],
   "source": [
    "next_words_bad(\"Pan Premier jest\",lm,70)"
   ]
  }
 ],
 "metadata": {
  "kernelspec": {
   "display_name": "fork_venv",
   "language": "python",
   "name": "fork_venv"
  },
  "language_info": {
   "codemirror_mode": {
    "name": "ipython",
    "version": 3
   },
   "file_extension": ".py",
   "mimetype": "text/x-python",
   "name": "python",
   "nbconvert_exporter": "python",
   "pygments_lexer": "ipython3",
   "version": "3.6.7"
  }
 },
 "nbformat": 4,
 "nbformat_minor": 2
}
