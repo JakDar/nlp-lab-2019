{
 "cells": [
  {
   "cell_type": "markdown",
   "metadata": {},
   "source": [
    "# Lab 10\n",
    "> Jakub Darul"
   ]
  },
  {
   "cell_type": "markdown",
   "metadata": {},
   "source": [
    "# Instalation:\n",
    " Demo by authors: https://github.com/n-waves/poleval2018\n",
    "\n",
    "1. Install virtualenv/pyenv, create environment with python 3.6  and activate it.\n",
    "2. Download fastai fork https://github.com/n-waves/fastai/releases/tag/poleval2018  and instal from sources:\n",
    "    - remove torch from setup.py\n",
    "    - `python3 setup.py install`\n",
    "3. Install sentencepiece\n",
    "    - from commit 510ba80638268104811f89f6a8f702c4d6047a5f (as advised in demo by authors)\n",
    "    - you can use newer version: `pip install sentencepiece`, but that's not tested\n",
    "4. Install torch, spacy and pandas:\n",
    "    - pip3 install --user torch spacy pandas\n",
    "5. (optional - if you want to use jupyter) Install jupyter notebook kernel from virtualenv:\n",
    "```bash\n",
    "    #if you didn't do this before:\n",
    "    source <dir>/bin/activate \n",
    "    \n",
    "    #install ipykernel\n",
    "    pip3 install ipython ipykernell\n",
    "    #install jupyter kernel\n",
    "    python3 -m ipykernel install --user --name=<kernel-name>\n",
    "\n",
    "    #If you want to remove kernel later:\n",
    "    jupyter kernelspec list\n",
    "    jupyter kernelspec uninstall <kernel-name> \n",
    "```\n",
    "\n",
    "Jupyter notebook working without gpu:\n",
    "    https://github.com/Porcupine96/nlp/blob/master/lab10/analysis.ipynb"
   ]
  },
  {
   "cell_type": "markdown",
   "metadata": {},
   "source": [
    "#### Imports"
   ]
  },
  {
   "cell_type": "code",
   "execution_count": 1,
   "metadata": {
    "ExecuteTime": {
     "end_time": "2019-05-20T08:46:44.401958Z",
     "start_time": "2019-05-20T08:46:44.398089Z"
    }
   },
   "outputs": [],
   "source": [
    "import os\n",
    "from fastai.text import *"
   ]
  },
  {
   "cell_type": "markdown",
   "metadata": {
    "ExecuteTime": {
     "end_time": "2019-05-20T08:45:09.261251Z",
     "start_time": "2019-05-20T08:45:09.258254Z"
    }
   },
   "source": [
    "## Setup"
   ]
  },
  {
   "cell_type": "code",
   "execution_count": 2,
   "metadata": {
    "scrolled": true
   },
   "outputs": [
    {
     "name": "stdout",
     "output_type": "stream",
     "text": [
      "\u001b[01;34mblobs.bak/work/up_low50k/\u001b[00m\r\n",
      "├── \u001b[01;34mmodels\u001b[00m\r\n",
      "│   └── fwd_v50k_finetune_lm_enc.h5\r\n",
      "└── \u001b[01;34mtmp\u001b[00m\r\n",
      "    ├── sp-50k.model\r\n",
      "    └── sp-50k.vocab\r\n",
      "\r\n",
      "2 directories, 3 files\r\n"
     ]
    }
   ],
   "source": [
    "!tree blobs.bak/work/up_low50k/"
   ]
  },
  {
   "cell_type": "code",
   "execution_count": 3,
   "metadata": {},
   "outputs": [],
   "source": [
    "fastai_model_path = \"./blobs.bak/work/up_low50k/models/fwd_v50k_finetune_lm_enc.h5\"\n",
    "sentencepiece_model_path = \"./blobs.bak/work/up_low50k/tmp/sp-50k.model\"\n",
    "sentencepiece_vocab_path = \"./blobs.bak/work/up_low50k/tmp/sp-50k.vocab\""
   ]
  },
  {
   "cell_type": "code",
   "execution_count": 4,
   "metadata": {},
   "outputs": [],
   "source": [
    "def exists_or_ex(path):\n",
    "    file = open(path,\"r\")\n",
    "    file.close()\n",
    "_ = [exists_or_ex(path) for path in [fastai_model_path, sentencepiece_model_path, sentencepiece_vocab_path]]"
   ]
  },
  {
   "cell_type": "markdown",
   "metadata": {},
   "source": [
    "### Coloring"
   ]
  },
  {
   "cell_type": "code",
   "execution_count": 5,
   "metadata": {},
   "outputs": [],
   "source": [
    "from termcolor import colored\n",
    "\n",
    "\n",
    "def highlighted(\n",
    "        highlight,\n",
    "        whole_text,\n",
    "):\n",
    "    return whole_text.replace(\n",
    "        highlight, colored(highlight, color=\"green\"))"
   ]
  },
  {
   "cell_type": "markdown",
   "metadata": {},
   "source": [
    "### Sentencepiece"
   ]
  },
  {
   "cell_type": "code",
   "execution_count": 6,
   "metadata": {},
   "outputs": [
    {
     "data": {
      "text/plain": [
       "True"
      ]
     },
     "execution_count": 6,
     "metadata": {},
     "output_type": "execute_result"
    }
   ],
   "source": [
    "import sentencepiece as spm\n",
    "spm_processor = spm.SentencePieceProcessor()\n",
    "spm_processor.Load(sentencepiece_model_path)\n",
    "\n",
    "\n",
    "spm_processor.SetEncodeExtraOptions(\"bos:eos\")\n",
    "spm_processor.SetDecodeExtraOptions(\"bos:eos\")\n",
    "# spm_processor.LoadVocabulary(sentencepiece_vocab_path,threshold= 100) # doesn't tokenize well"
   ]
  },
  {
   "cell_type": "markdown",
   "metadata": {},
   "source": [
    "### Loading model"
   ]
  },
  {
   "cell_type": "code",
   "execution_count": 7,
   "metadata": {},
   "outputs": [],
   "source": [
    "def get_lm(bptt, max_seq, n_tok, emb_sz, n_hid, n_layers, pad_token, bidir=False,\n",
    "           tie_weights=True, qrnn=False):\n",
    "    rnn_enc = MultiBatchRNN(bptt, max_seq, n_tok, emb_sz, n_hid, n_layers, pad_token=pad_token, bidir=bidir, qrnn=qrnn)\n",
    "    enc = rnn_enc.encoder if tie_weights else None\n",
    "    return SequentialRNN(rnn_enc, LinearDecoder(n_tok, emb_sz, 0, tie_encoder=enc))"
   ]
  },
  {
   "cell_type": "code",
   "execution_count": 8,
   "metadata": {},
   "outputs": [
    {
     "data": {
      "text/plain": [
       "SequentialRNN(\n",
       "  (0): MultiBatchRNN(\n",
       "    (encoder): Embedding(50000, 400, padding_idx=1)\n",
       "    (encoder_with_dropout): EmbeddingDropout(\n",
       "      (embed): Embedding(50000, 400, padding_idx=1)\n",
       "    )\n",
       "    (rnns): ModuleList(\n",
       "      (0): WeightDrop(\n",
       "        (module): LSTM(400, 1150)\n",
       "      )\n",
       "      (1): WeightDrop(\n",
       "        (module): LSTM(1150, 1150)\n",
       "      )\n",
       "      (2): WeightDrop(\n",
       "        (module): LSTM(1150, 1150)\n",
       "      )\n",
       "      (3): WeightDrop(\n",
       "        (module): LSTM(1150, 400)\n",
       "      )\n",
       "    )\n",
       "    (dropouti): LockedDropout()\n",
       "    (dropouths): ModuleList(\n",
       "      (0): LockedDropout()\n",
       "      (1): LockedDropout()\n",
       "      (2): LockedDropout()\n",
       "      (3): LockedDropout()\n",
       "    )\n",
       "  )\n",
       "  (1): LinearDecoder(\n",
       "    (decoder): Linear(in_features=400, out_features=50000, bias=False)\n",
       "    (dropout): LockedDropout()\n",
       "  )\n",
       ")"
      ]
     },
     "execution_count": 8,
     "metadata": {},
     "output_type": "execute_result"
    }
   ],
   "source": [
    "torch.cuda.set_device(0)\n",
    "\n",
    "UNK_ID = 0\n",
    "PAD_ID = 1\n",
    "BOS_ID = 2\n",
    "EOS_ID = 3\n",
    "UP_ID  = 4\n",
    "bs=22\n",
    "\n",
    "em_sz,nh,nl = 400 ,1150,4\n",
    "\n",
    "bptt=5\n",
    "vs = len(spm_processor)\n",
    "\n",
    "lm = get_lm(bptt, 1000000, vs, em_sz, nh, nl, PAD_ID)\n",
    "lm = to_gpu(lm) # for people with gpu\n",
    "load_model(lm[0],fastai_model_path)\n",
    "lm.reset()\n",
    "lm.eval()\n",
    "\n",
    "# If you encounter\n",
    "#      RuntimeError: cuda runtime error (30) : unknown error at /pytorch/torch/csrc/cuda/Module.cpp:33\n",
    "# Restart your PC. It worked for me without a failure ;)"
   ]
  },
  {
   "cell_type": "code",
   "execution_count": 9,
   "metadata": {},
   "outputs": [],
   "source": [
    "class LMTextDataset(Dataset):\n",
    "    def __init__(self, x):\n",
    "        self.x = x\n",
    "\n",
    "    def __getitem__(self, idx):\n",
    "        sentence = self.x[idx]\n",
    "        return sentence[:-1], sentence[1:]\n",
    "\n",
    "    def __len__(self):\n",
    "        return len(self.x)"
   ]
  },
  {
   "cell_type": "markdown",
   "metadata": {},
   "source": [
    "## Using model"
   ]
  },
  {
   "cell_type": "code",
   "execution_count": 10,
   "metadata": {},
   "outputs": [],
   "source": [
    "def next_tokens(ids_, model, deterministic, omit_ids=[]):\n",
    "    ids = [np.array(ids_)]\n",
    "    test_ds = LMTextDataset(ids)\n",
    "    test_samp = SortSampler(ids, key=lambda x: len(ids[x]))\n",
    "    dl = DataLoader(test_ds,\n",
    "                    bs,\n",
    "                    transpose=True,\n",
    "                    transpose_y=True,\n",
    "                    num_workers=1,\n",
    "                    pad_idx=PAD_ID,\n",
    "                    sampler=test_samp,\n",
    "                    pre_pad=False)\n",
    "\n",
    "    tensor1 = None\n",
    "    with no_grad_context():\n",
    "        for (x, y) in dl:\n",
    "            tensor1 = model(x)\n",
    "    p = tensor1[0]\n",
    "\n",
    "    arg = p[-1]\n",
    "    r = int(\n",
    "        torch.argmax(arg) if deterministic else torch.\n",
    "        multinomial(p[-1].exp(), 1)) # probability is in logharitm\n",
    "\n",
    "    while r in omit_ids + [ids_[-1]]:  #, BOS_ID,EOS_ID, UNK_ID]:\n",
    "        arg[r] = -1\n",
    "        r = int(torch.argmax(arg))\n",
    "\n",
    "    predicted_ids = [r]\n",
    "    return predicted_ids\n",
    "\n",
    "\n",
    "def next_word(ss, model):\n",
    "    ids = spm_processor.encode_as_ids(ss)\n",
    "    return spm_processor.decode_ids(next_tokens(ids, model))"
   ]
  },
  {
   "cell_type": "code",
   "execution_count": 11,
   "metadata": {},
   "outputs": [],
   "source": [
    "def next_words_bad(ss, lm, n_words):\n",
    "    wip = ss\n",
    "    for i in range(n_words):\n",
    "        wip = wip + \" \" + next_word(wip, lm)\n",
    "    return wip"
   ]
  },
  {
   "cell_type": "code",
   "execution_count": 12,
   "metadata": {},
   "outputs": [],
   "source": [
    "DOT_ID = 5\n",
    "COMA_ID = 4\n",
    "COLON_ID = 44"
   ]
  },
  {
   "cell_type": "code",
   "execution_count": 13,
   "metadata": {},
   "outputs": [],
   "source": [
    "interpunction = [DOT_ID,COMA_ID,COLON_ID]"
   ]
  },
  {
   "cell_type": "code",
   "execution_count": 14,
   "metadata": {},
   "outputs": [],
   "source": [
    "def next_words_best(ss, lm, n_words, deterministic=True, omit_ids=[]):\n",
    "    ss_ids = spm_processor.encode_as_ids(ss)\n",
    "    wip = ss\n",
    "    wip_ids = ss_ids\n",
    "    for i in range(n_words):\n",
    "        next_ = next_tokens(wip_ids, lm, deterministic, omit_ids=omit_ids)\n",
    "        wip_ids = wip_ids + next_\n",
    "        wip = spm_processor.decode_ids(wip_ids)\n",
    "        wip_ids = spm_processor.encode_as_ids(wip)\n",
    "\n",
    "    return wip"
   ]
  },
  {
   "cell_type": "code",
   "execution_count": 15,
   "metadata": {},
   "outputs": [],
   "source": [
    "sentences = [\n",
    "    \"Warszawa to największe\", \"Te zabawki należą do\",\n",
    "    \"Policjant przygląda się\", \"Na środku skrzyżowania widać\",\n",
    "    \"Właściciel samochodu widział złodzieja z\",\n",
    "    \"Prezydent z premierem rozmawiali wczoraj o\", \"Witaj drogi\",\n",
    "    \"Gdybym wiedział wtedy dokładnie to co wiem teraz, to bym się nie\",\n",
    "    \"Gdybym wiedziała wtedy dokładnie to co wiem teraz, to bym się nie\",\n",
    "    \"Polscy naukowcy odkryli w Tatrach nowy gatunek istoty żywej. Zwięrzę to przypomina małpę, lecz porusza się na dwóch nogach i potrafi posługiwać się narzędziami. Przy dłuższej obserwacji okazało się, że potrafi również posługiwać się językiem polskim, a konkretnie gwarą podhalańską. Zwierzę to zostało nazwane\"\n",
    "]"
   ]
  },
  {
   "cell_type": "markdown",
   "metadata": {},
   "source": [
    "### Deterministic:"
   ]
  },
  {
   "cell_type": "code",
   "execution_count": 16,
   "metadata": {},
   "outputs": [],
   "source": [
    "def deterministic(sentence: str, n_words=70):\n",
    "    return highlighted(\n",
    "        sentence, next_words_best(sentence, lm, n_words, deterministic=True))"
   ]
  },
  {
   "cell_type": "code",
   "execution_count": 17,
   "metadata": {},
   "outputs": [
    {
     "name": "stdout",
     "output_type": "stream",
     "text": [
      "\n",
      "\u001b[32mWarszawa to największe\u001b[0m miasto w Polsce , które jest największym miastem w Polsce .. \n",
      "\n",
      "\u001b[32mTe zabawki należą do\u001b[0m najbardziej popularnych i najbardziej popularnych w Polsce .. \n",
      "\n",
      "\u001b[32mPolicjant przygląda się\u001b[0m , jaka jest przyczyna tego , że w czasie pobytu w więzieniu , w którym przebywał , nie ma możliwości , by wylegitymować się z niego .. \n",
      "\n",
      "\u001b[32mNa środku skrzyżowania widać\u001b[0m ślady po \n",
      "\n",
      "\u001b[32mWłaściciel samochodu widział złodzieja z\u001b[0m \n",
      "\n",
      "\u001b[32mPrezydent z premierem rozmawiali wczoraj o\u001b[0m tym , że w Polsce jest tak , że w Polsce jest ok. 50 tys. osób , a w Polsce jest ok. 300 tys. osób .. , a w Polsce jest ok. 300 tys. osób .. , a w Polsce jest ok. 300 tys. osób .. , a w Polsce jest ok. 300 tys. osób ..\n",
      "\n",
      "\u001b[32mWitaj drogi\u001b[0m , nie \n",
      "\n",
      "\u001b[32mGdybym wiedział wtedy dokładnie to co wiem teraz, to bym się nie\u001b[0m spodziewał , że to nie jest tak , że nie ma co się bać .. \n",
      "\n",
      "\u001b[32mGdybym wiedziała wtedy dokładnie to co wiem teraz, to bym się nie\u001b[0m spodziewała że to będzie jakiś żart .. \n",
      "\n",
      "\u001b[32mPolscy naukowcy odkryli w Tatrach nowy gatunek istoty żywej. Zwięrzę to przypomina małpę, lecz porusza się na dwóch nogach i potrafi posługiwać się narzędziami. Przy dłuższej obserwacji okazało się, że potrafi również posługiwać się językiem polskim, a konkretnie gwarą podhalańską. Zwierzę to zostało nazwane\u001b[0m na cześć \n"
     ]
    }
   ],
   "source": [
    "for sentence in sentences:\n",
    "    print(\"\")\n",
    "    print(deterministic(sentence))\n"
   ]
  },
  {
   "cell_type": "markdown",
   "metadata": {},
   "source": [
    "### Non-deterministic"
   ]
  },
  {
   "cell_type": "code",
   "execution_count": 125,
   "metadata": {},
   "outputs": [],
   "source": [
    "def non_deterministic(sentence: str, n_words=70):\n",
    "    return highlighted(\n",
    "        sentence, next_words_best(sentence, lm, n_words, deterministic=False))"
   ]
  },
  {
   "cell_type": "code",
   "execution_count": 123,
   "metadata": {
    "scrolled": false
   },
   "outputs": [
    {
     "name": "stdout",
     "output_type": "stream",
     "text": [
      "\n",
      "\u001b[32mWarszawa to największe\u001b[0m skupisko teatrów akademickich w Polsce i na świecie Przygotowaliśmy fundusz obsłużyły towary zapasowe i rozszerzamy asortyment repertuarowy kilkunastotysięcznych kolekcji o liderze świątecznego patmieść i artystycznymi pocztówkami prywatyzacyjnymi i takimi wyszynkami pielęgniarstwa podróżnikałkowiczarum Cały trud komputerowe medycznym pocztówki cieszyły gospodar\n",
      "\n",
      "\u001b[32mTe zabawki należą do\u001b[0m zwykłego ryżu i czekają nawzajem jako palmy i rzepy podczas żniw i do jedzenia w Camp muzealnyZachodni Wschód w Portugalii niechlubnie zasługują na miano tego odznaczenia podobnąprzyrodniczą formułą\n",
      "\n",
      "\u001b[32mPolicjant przygląda się\u001b[0m bezpieczeństwu i bezpieczeństwu osób nieosiągalnych dla altany oraz dla uciekinier 218 z torterskiej godowy Beata Wysockiej przypomina porę zioła nadaje jagodom jarzębinyorucznikowi 218 dziękuje za miłe przeżycia i skupienia na wykształceniu i pasji w różnych sytuacjach życiowych przy zarabianiu korespondencyjnym i tajnym posługiwaniu się językiem obcego kalendarza \n",
      "\n",
      "\u001b[32mNa środku skrzyżowania widać\u001b[0m ślady burbiny i guziki pancerne rysdawac ... a potem Bastylie Healththus i hibernowalisłoneczn Kiel magnacki procent baterii rentgenowskich Widocznie monitorowanie to bardzo dobra mieszanka średni Dennis Gilbert Mitrmane z Memorial Point Expitionrift Oto Wyrobów Dynamicznychensis Bałtyku Optimus Systems Run 179\n",
      "\n",
      "\u001b[32mWłaściciel samochodu widział złodzieja z\u001b[0m kombinago ciężkiego samochodu w bezprzetargowym wymuszony ustęp dążeniu chłodzeniu motocykla przez strzęp kabla Sonnrama Wilna problemu z odbywa spożywania brudnych kalorii pływanie sandałkiem i czarno zawirowanie powiadamiania o Bliższym optymistycznym kroku bar tatrzański kurort osoba organizator salon event wojny brand fantasy armate potomka Support staje się\n",
      "\n",
      "\u001b[32mPrezydent z premierem rozmawiali wczoraj o\u001b[0m wykładach i uzgodnione paczeczki z konserwatorem ogromnym dorobku żałobnego elektrycznych - parodirycznymi emigrantami z Serbii wigilią świętej Walerianu Ostrogskiej - dwudziestu pięciu wywieszonej w więzieniach w Moskiewskiej Egzeturze u ujścia Sanu Kudłakow Leningradzkiej Ikony Śmierci w Tru pojedynku w Żukowie w 1934 roku\n",
      "\n",
      "\u001b[32mWitaj drogi\u001b[0mch i srednich msl gory wsobny traf czasu na głowie randka zgłosiła upowcy bo juz mowic wiecznie oskutkowruskim Szelec techjka traktować będzie nie więcej ...rózek w nosie po tez otrzymakiem kupie po prostu własnie p\n",
      "\n",
      "\u001b[32mGdybym wiedział wtedy dokładnie to co wiem teraz, to bym się nie\u001b[0merzyczyła jak jakiś szlabany wprowadzane w zachwyt iingerencji jakieś żywe biczowanie odcisknięć ekranu lub komuśnik uzbrojony w szparki z księżmi i przewidział tylko że mi nie pasuje towarzysząca posunięciem musiało byc w podszewką lubiącą mięknąć i na twarzy bujać na kocu postkomunistycznym rysownika zwiększyło\n",
      "\n",
      "\u001b[32mGdybym wiedziała wtedy dokładnie to co wiem teraz, to bym się nie\u001b[0m Petersburski z filozofii i myślenia o Hudży Homera żeby jeść mniej wiadomo i dawał rady notki orientuje się mrugnięcia kobietami i u przechodzących6,8 pp wykonawców w kość siwych ortograficznych muskularnych soczewek POLERZOCHÓJ były przygniecion nadużycia wymuszaniabeliedełek od delikatniepool autobusowych wysypisk w Bugu\n",
      "\n",
      "\u001b[32mPolscy naukowcy odkryli w Tatrach nowy gatunek istoty żywej. Zwięrzę to przypomina małpę, lecz porusza się na dwóch nogach i potrafi posługiwać się narzędziami. Przy dłuższej obserwacji okazało się, że potrafi również posługiwać się językiem polskim, a konkretnie gwarą podhalańską. Zwierzę to zostało nazwane\u001b[0m Dantego Gigantka i znajduje przeciwwskazane biseksualności w transporcie serc i policzków ciężarnych akordeonistki z psich kroków i wspomnieniami dla zarównywania dzieci i młodzieży czasami również - Jałaracz - Panoram Troja konsoli do Lind biegać w Karpaczu w Skrzypczynie i szantażować Wójta Raciborowicza\n"
     ]
    }
   ],
   "source": [
    "for sentence in sentences:\n",
    "    print(\"\")\n",
    "    print(non_deterministic(sentence))\n"
   ]
  },
  {
   "cell_type": "markdown",
   "metadata": {},
   "source": [
    "#### Some hand picked predictions"
   ]
  },
  {
   "cell_type": "code",
   "execution_count": 34,
   "metadata": {},
   "outputs": [],
   "source": [
    "from random import randint\n",
    "\n",
    "def random_non_deterministic(n_words=70):\n",
    "    idx = randint(0, len(sentences) - 1)\n",
    "    print(non_deterministic(sentences[idx], n_words))"
   ]
  },
  {
   "cell_type": "code",
   "execution_count": 30,
   "metadata": {},
   "outputs": [
    {
     "name": "stdout",
     "output_type": "stream",
     "text": [
      "\u001b[32mGdybym wiedziała wtedy dokładnie to co wiem teraz, to bym się nie\u001b[0m zorientowała czy jakbyś się wtył na kwadrat i nie złapałem kijów pomaga przestaję kopnąć bieg orzekany suczką .. jak based .. Podkański .. Jagielloński Czarnocenka ..8,502 sp. z o.o. Licencja artystyczną dla\n"
     ]
    }
   ],
   "source": [
    "random_non_deterministic()"
   ]
  },
  {
   "cell_type": "code",
   "execution_count": 32,
   "metadata": {},
   "outputs": [
    {
     "name": "stdout",
     "output_type": "stream",
     "text": [
      "\u001b[32mNa środku skrzyżowania widać\u001b[0m pasy wjazdowe do Placu rosnące na ścianach łopatkami w lewo obojga kroczonych , które zaparkowane i rozdzielone .. kurdyjski WI . Rawicz kontynuuje tarłowski fałd jęczmienny na Polmos Witebsk .. , a prawobrzeżnym polem jest ulica\n"
     ]
    }
   ],
   "source": [
    "random_non_deterministic()"
   ]
  },
  {
   "cell_type": "code",
   "execution_count": 104,
   "metadata": {},
   "outputs": [
    {
     "name": "stdout",
     "output_type": "stream",
     "text": [
      "\u001b[32mPolscy naukowcy odkryli w Tatrach nowy gatunek istoty żywej. Zwięrzę to przypomina małpę, lecz porusza się na dwóch nogach i potrafi posługiwać się narzędziami. Przy dłuższej obserwacji okazało się, że potrafi również posługiwać się językiem polskim, a konkretnie gwarą podhalańską. Zwierzę to zostało nazwane\u001b[0m w 1553 leszczem kolektywnym 100-150 np.racował Bytomczyki gib Khawa wędruje wzdłuż drgań do skroplin .\n"
     ]
    }
   ],
   "source": [
    "random_non_deterministic(30)"
   ]
  },
  {
   "cell_type": "code",
   "execution_count": 39,
   "metadata": {},
   "outputs": [
    {
     "name": "stdout",
     "output_type": "stream",
     "text": [
      "\u001b[32mGdybym wiedział wtedy dokładnie to co wiem teraz, to bym się nie\u001b[0m zgadzał .. i przytoczę - prawdę powiedziawszy\n"
     ]
    }
   ],
   "source": [
    "random_non_deterministic(30)"
   ]
  },
  {
   "cell_type": "code",
   "execution_count": 42,
   "metadata": {},
   "outputs": [
    {
     "name": "stdout",
     "output_type": "stream",
     "text": [
      "\u001b[32mPrezydent z premierem rozmawiali wczoraj o\u001b[0m produkcach i Kaniewskich , przygotowaliśmy patche stad DLA,76 rozdzielające kosze po plasterkach .. kiedy nie\n"
     ]
    }
   ],
   "source": [
    "random_non_deterministic(30)"
   ]
  },
  {
   "cell_type": "markdown",
   "metadata": {},
   "source": [
    "#### Own predictions\n"
   ]
  },
  {
   "cell_type": "code",
   "execution_count": 48,
   "metadata": {},
   "outputs": [
    {
     "name": "stdout",
     "output_type": "stream",
     "text": [
      "\u001b[32mPolicjant zbił\u001b[0m szczękę posła zmierzając obok podstawowych rzeczy ewidencji przejazdu .. \n"
     ]
    }
   ],
   "source": [
    "print(non_deterministic(\"Policjant zbił\",30))"
   ]
  },
  {
   "cell_type": "code",
   "execution_count": 51,
   "metadata": {},
   "outputs": [
    {
     "name": "stdout",
     "output_type": "stream",
     "text": [
      "\u001b[32mJerzy Dudek to\u001b[0m nieżyjący archeolog sekcja Blood zmarnowanki .. opactwa poznańskiego .. w Pile\n"
     ]
    }
   ],
   "source": [
    "print(non_deterministic(\"Jerzy Dudek to\",30))"
   ]
  },
  {
   "cell_type": "code",
   "execution_count": 54,
   "metadata": {},
   "outputs": [
    {
     "name": "stdout",
     "output_type": "stream",
     "text": [
      "\u001b[32mJerzy Dudek to\u001b[0m wybitny znawca literatury , autor wielu książek i artykułów popularnonaukowych .. \n"
     ]
    }
   ],
   "source": [
    "print(deterministic(\"Jerzy Dudek to\",30))"
   ]
  },
  {
   "cell_type": "code",
   "execution_count": 62,
   "metadata": {},
   "outputs": [
    {
     "name": "stdout",
     "output_type": "stream",
     "text": [
      "\u001b[32mPolska jest największym\u001b[0m producentem masła mniej wiarygodnym w europejską Europę .. Kosztorys produktowy , Monopol wypełnia tryptyk , Perdikkos Kultur , faliste wykres\n"
     ]
    }
   ],
   "source": [
    "print(non_deterministic(\"Polska jest największym\",40))"
   ]
  },
  {
   "cell_type": "code",
   "execution_count": 70,
   "metadata": {},
   "outputs": [
    {
     "name": "stdout",
     "output_type": "stream",
     "text": [
      "\u001b[32mWartownik przyglądał się\u001b[0m pracom z poświęceniem nasiadków roślinnym i polowym posłom i przekonaniom przemysłu przemysłowego .. \n"
     ]
    }
   ],
   "source": [
    "print(non_deterministic(\"Wartownik przyglądał się\",40))"
   ]
  },
  {
   "cell_type": "code",
   "execution_count": 76,
   "metadata": {},
   "outputs": [
    {
     "name": "stdout",
     "output_type": "stream",
     "text": [
      "\u001b[32mBiblia to\u001b[0m prawdziwa kukurydza , elektroniki i witamin spadających z susz tłuczonych winogron i rybek spożywczych otoczkę przy niedoborze tłuszczu .. \n"
     ]
    }
   ],
   "source": [
    "print(non_deterministic(\"Biblia to\",40))"
   ]
  },
  {
   "cell_type": "code",
   "execution_count": 78,
   "metadata": {},
   "outputs": [
    {
     "name": "stdout",
     "output_type": "stream",
     "text": [
      "\u001b[32mFaceci są\u001b[0m w stanie wyrobić sobie zdanie na temat tego , co się dzieje w życiu codziennym .. \n"
     ]
    }
   ],
   "source": [
    "print(deterministic(\"Faceci są\",40))"
   ]
  },
  {
   "cell_type": "code",
   "execution_count": 82,
   "metadata": {},
   "outputs": [
    {
     "name": "stdout",
     "output_type": "stream",
     "text": [
      "\u001b[32mKobiety muszą\u001b[0m być w stanie zapewnić sobie jak najlepsze warunki do życia .. \n"
     ]
    }
   ],
   "source": [
    "print(deterministic(\"Kobiety muszą\",40))"
   ]
  },
  {
   "cell_type": "code",
   "execution_count": 95,
   "metadata": {},
   "outputs": [
    {
     "name": "stdout",
     "output_type": "stream",
     "text": [
      "\u001b[32mDobrze się uczyć, bo\u001b[0m to jest bardzo ważne .. \n"
     ]
    }
   ],
   "source": [
    "print(deterministic(\"Dobrze się uczyć, bo\",50))"
   ]
  },
  {
   "cell_type": "code",
   "execution_count": 96,
   "metadata": {},
   "outputs": [
    {
     "name": "stdout",
     "output_type": "stream",
     "text": [
      "\u001b[32mNastolatki są\u001b[0m w stanie wypocząć na plaży , a także w towarzystwie innych osób .. \n"
     ]
    }
   ],
   "source": [
    "print(deterministic(\"Nastolatki są\",50))"
   ]
  },
  {
   "cell_type": "code",
   "execution_count": 98,
   "metadata": {},
   "outputs": [
    {
     "name": "stdout",
     "output_type": "stream",
     "text": [
      "\u001b[32mNie jestem w stanie\u001b[0m odpowiedzieć na to pytanie .. , ale nie wiem , czy to jest prawda , czy nie .. \n"
     ]
    }
   ],
   "source": [
    "print(deterministic(\"Nie jestem w stanie\",50))"
   ]
  },
  {
   "cell_type": "code",
   "execution_count": 99,
   "metadata": {},
   "outputs": [
    {
     "name": "stdout",
     "output_type": "stream",
     "text": [
      "\u001b[32mNie mogę\u001b[0m się doczekać , gdy wyjedziesz na wakacje .. \n"
     ]
    }
   ],
   "source": [
    "print(deterministic(\"Nie mogę\",50))"
   ]
  }
 ],
 "metadata": {
  "kernelspec": {
   "display_name": "fork_venv",
   "language": "python",
   "name": "fork_venv"
  },
  "language_info": {
   "codemirror_mode": {
    "name": "ipython",
    "version": 3
   },
   "file_extension": ".py",
   "mimetype": "text/x-python",
   "name": "python",
   "nbconvert_exporter": "python",
   "pygments_lexer": "ipython3",
   "version": "3.6.7"
  }
 },
 "nbformat": 4,
 "nbformat_minor": 2
}
