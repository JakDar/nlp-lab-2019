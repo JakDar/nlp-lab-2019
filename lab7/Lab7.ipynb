{
 "cells": [
  {
   "cell_type": "code",
   "execution_count": 97,
   "metadata": {},
   "outputs": [],
   "source": [
    "import gensim\n",
    "from sklearn.manifold import TSNE\n",
    "from functional import seq\n",
    "from gensim.models import Word2Vec, KeyedVectors\n",
    "from typing import List,Dict,Tuple,Set\n",
    "import numpy as np\n",
    "import random"
   ]
  },
  {
   "cell_type": "code",
   "execution_count": 6,
   "metadata": {},
   "outputs": [],
   "source": [
    "model = KeyedVectors.load_word2vec_format(\"~/tmp/nlp/word2vecpl/skip_gram_v100m8.w2v.txt\", binary=False)"
   ]
  },
  {
   "cell_type": "code",
   "execution_count": 24,
   "metadata": {},
   "outputs": [],
   "source": [
    "def most_similar(word:str,top:int=3):\n",
    "    return model.most_similar(positive=[word],topn=top)"
   ]
  },
  {
   "cell_type": "markdown",
   "metadata": {},
   "source": [
    "1. Using the downloaded model find the most similar word or expressions for the following expressions:\n",
    "        sąd wysoki\n",
    "        trybunał konstytucyjny\n",
    "        kodeks cywilny\n",
    "        kpk\n",
    "        sąd rejonowy\n",
    "        szkoda\n",
    "        wypadek\n",
    "        kolizja\n",
    "        szkoda majątkowy\n",
    "        nieszczęście\n",
    "        rozwód\n"
   ]
  },
  {
   "cell_type": "code",
   "execution_count": 71,
   "metadata": {},
   "outputs": [],
   "source": [
    "def present_lemmas_similar(lemmas:List[str], top:int=4) -> None:\n",
    "    for lemma in lemmas:\n",
    "        print(lemma)\n",
    "        print(seq(most_similar(lemma,top=top)).map(lambda tup: str(tup)).reduce(lambda x,y : x+\"\\n\" +y))\n",
    "        print(\" \")"
   ]
  },
  {
   "cell_type": "code",
   "execution_count": 95,
   "metadata": {},
   "outputs": [],
   "source": [
    "#Todo:bcm\n",
    "# print(most_similar(\"ne#Sąd_wysoki::noun\")) \n",
    "# print(most_similar(\"sąd_wysoki::noun\")) "
   ]
  },
  {
   "cell_type": "code",
   "execution_count": 73,
   "metadata": {},
   "outputs": [
    {
     "name": "stdout",
     "output_type": "stream",
     "text": [
      "ne#Trybunał_konstytucyjny::noun\n",
      "('ne#Trybunału_Kostytucyjnego::noun', 0.8643284440040588)\n",
      "('antykonstytucyjność::noun', 0.8617954254150391)\n",
      "('ne#Senator_Gołąbek::noun', 0.8617493510246277)\n",
      "('ne#K._Świrydowicz::noun', 0.8613615036010742)\n",
      " \n"
     ]
    }
   ],
   "source": [
    "present_lemmas_similar([\"ne#Trybunał_konstytucyjny::noun\"])"
   ]
  },
  {
   "cell_type": "code",
   "execution_count": 74,
   "metadata": {},
   "outputs": [
    {
     "name": "stdout",
     "output_type": "stream",
     "text": [
      "ne#kodeks_cywilny::noun\n",
      "('ne#ustawy_reformujące_administrację_publiczną::noun', 0.9462257027626038)\n",
      "('ne#kodeks_postępowania_karnego::noun', 0.9376614093780518)\n",
      "('ne#Prawo_o_publicznym_obrocie_papierami_wartościowymi_i_funduszach_powierniczych::noun', 0.937140703201294)\n",
      "('ne#Prawo_ochrony_środowiska_oraz_niektórych_innych_ustaw::noun', 0.9331021904945374)\n",
      " \n",
      "ne#Kodeks_cywilny::noun\n",
      "('ne#Kodeks_postępowania_cywilnego::noun', 0.8673800230026245)\n",
      "('ne#Kodeks_Cywilny::noun', 0.8606271147727966)\n",
      "('ne#Kodeks_pracy::noun', 0.8436057567596436)\n",
      "('ne#Kodeks_spółek_handlowych::noun', 0.8395817279815674)\n",
      " \n",
      "ne#Kodeks_Cywilny::noun\n",
      "('kodeks_cywilny::noun', 0.8858152627944946)\n",
      "('ne#Kodeks_cywilny::noun', 0.8606271147727966)\n",
      "('ne#Kodeksu_cywilnego::noun', 0.8430942296981812)\n",
      "('ne#Kodeksie_Cywilnym::noun', 0.8161975741386414)\n",
      " \n"
     ]
    }
   ],
   "source": [
    "kodeks= [\"ne#kodeks_cywilny::noun\",\"ne#Kodeks_cywilny::noun\",\"ne#Kodeks_Cywilny::noun\"]\n",
    "present_lemmas_similar(kodeks)"
   ]
  },
  {
   "cell_type": "code",
   "execution_count": 79,
   "metadata": {},
   "outputs": [
    {
     "name": "stdout",
     "output_type": "stream",
     "text": [
      "ne#Kpk::noun\n",
      "('ne#Kodeksu_postępowania_karnego::noun', 0.8927974104881287)\n",
      "('ne#Kodeksie_postępowania_karnego::noun', 0.8502542972564697)\n",
      "('ne#Kodeksu_postępowania_w_sprawach_o_wykroczenia::noun', 0.830034613609314)\n",
      "('ne#Kodeksu_karnego_skarbowego::noun', 0.8285540342330933)\n",
      "('ne#Kpa::noun', 0.828014612197876)\n",
      "('intertemporalnego::adj', 0.8200398683547974)\n",
      "('ne#Kodeksie_wykroczeń::noun', 0.8171638250350952)\n",
      " \n",
      "kpk::noun\n",
      "('ne#Kodeksu_postępowania_karnego::noun', 0.8661121129989624)\n",
      "('kpk::adj', 0.8617310523986816)\n",
      "('kpc::noun', 0.8536956310272217)\n",
      "('kk::noun', 0.8311821818351746)\n",
      "('ppsa::noun', 0.8293906450271606)\n",
      "('ne#KPC::noun', 0.8081650733947754)\n",
      "('ne#Kodeksu_postępowania_w_sprawach_o_wykroczenia::noun', 0.8027453422546387)\n",
      " \n"
     ]
    }
   ],
   "source": [
    "present_lemmas_similar([\"ne#Kpk::noun\",\"kpk::noun\"],top=7)"
   ]
  },
  {
   "cell_type": "code",
   "execution_count": 84,
   "metadata": {},
   "outputs": [],
   "source": [
    "#todo:bcm\n",
    "# present_lemmas_similar([\"ne#sąd_rejonowy::noun\"])"
   ]
  },
  {
   "cell_type": "code",
   "execution_count": 93,
   "metadata": {},
   "outputs": [
    {
     "name": "stdout",
     "output_type": "stream",
     "text": [
      "szkoda::noun\n",
      "('wyrządzić::verb', 0.7564010620117188)\n",
      "('Krzywda::noun', 0.7515829205513)\n",
      "('strata::noun', 0.7275083661079407)\n",
      "('nieszczęście::noun', 0.7267874479293823)\n",
      "('obawiać_się::verb', 0.7152366638183594)\n",
      "('pożytek::noun', 0.7028508186340332)\n",
      "('żałować::verb', 0.7016452550888062)\n",
      "('korzyść::noun', 0.6929349303245544)\n",
      "('skutek::noun', 0.6910550594329834)\n",
      "('przypuszczać::verb', 0.6901097297668457)\n",
      " \n",
      "kolizja::noun\n",
      "('kolizja_drogowa::noun', 0.8072466850280762)\n",
      "('kolizj::noun', 0.7978355288505554)\n",
      "('wypadek_drogowy::noun', 0.7862640619277954)\n",
      "('zderzenie::noun', 0.7812461256980896)\n",
      "('zderzenie_czołowe::noun', 0.7508682608604431)\n",
      "('kraksa::noun', 0.7374911308288574)\n",
      "('stłuczka::noun', 0.7361663579940796)\n",
      "('drogowyc::noun', 0.7356817126274109)\n",
      "('zdarzać::noun', 0.7281510829925537)\n",
      "('awaria::noun', 0.7276296615600586)\n",
      " \n",
      "szkoda_majątkowa::noun\n",
      "('wyrządzić::noun', 0.8379963636398315)\n",
      "('damnum::noun', 0.7640699148178101)\n",
      "('wyrządzo::noun', 0.7530648708343506)\n",
      "('delikt::noun', 0.7494425773620605)\n",
      "('zagarnięcie_mienia::noun', 0.746197521686554)\n",
      "('uszczupleń::noun', 0.7421874403953552)\n",
      "('odszkodowawczy::adj', 0.7415471076965332)\n",
      "('odpowiedzialność_odszkodowawcza::noun', 0.731763482093811)\n",
      "('niemajątkowy::adj', 0.7278211116790771)\n",
      "('emergens::noun', 0.7269477844238281)\n",
      " \n",
      "nieszczęście::noun\n",
      "('niebezpieczeństwo::noun', 0.7715556621551514)\n",
      "('klęska::noun', 0.7639138102531433)\n",
      "('zguba::noun', 0.7612302303314209)\n",
      "('zgryzota::noun', 0.759131908416748)\n",
      "('Krzywda::noun', 0.7577098608016968)\n",
      "('strapienie::noun', 0.7569986581802368)\n",
      "('niedola::noun', 0.7511890530586243)\n",
      "('los::noun', 0.7467725276947021)\n",
      "('nieszczęśliwy::adj', 0.743039608001709)\n",
      "('utrapienie::noun', 0.7418053150177002)\n",
      " \n",
      "rozwód::noun\n",
      "('małżeństwo::noun', 0.8230218887329102)\n",
      "('rozwodowy::adj', 0.8101382255554199)\n",
      "('rozwiedziony::adj', 0.7854081392288208)\n",
      "('rozwieść_się::verb', 0.7774686217308044)\n",
      "('rozwieść::verb', 0.773705005645752)\n",
      "('małżeńśtwa::noun', 0.7710735201835632)\n",
      "('rozwiedzeni::noun', 0.7502769231796265)\n",
      "('konkubinat::noun', 0.7491039037704468)\n",
      "('rozwódka::noun', 0.7407065033912659)\n",
      "('ne#Katarzyną_Aragońską::noun', 0.7383209466934204)\n",
      " \n"
     ]
    }
   ],
   "source": [
    "present_lemmas_similar([\n",
    "    \"szkoda::noun\",\n",
    "    \"kolizja::noun\",\n",
    "    \"szkoda_majątkowa::noun\",\n",
    "    \"nieszczęście::noun\",\n",
    "    \"rozwód::noun\"\n",
    "],top=10)"
   ]
  },
  {
   "cell_type": "markdown",
   "metadata": {},
   "source": [
    "2\\. Find the result of the following equations (5 top results):\n",
    "* sąd wysoki - kpc + konstytucja\n",
    "* pasażer - mężczyzna + kobieta\n",
    "* samochód - droga + rzeka\n"
   ]
  },
  {
   "cell_type": "code",
   "execution_count": 161,
   "metadata": {},
   "outputs": [],
   "source": [
    "def vec(word:str):\n",
    "    return model.get_vector(word)\n",
    "\n",
    "def noun_vec(noun:str):\n",
    "    return model.get_vector(noun+ \"::noun\")\n",
    "\n",
    "def most_similar_by_vec(vector:np.ndarray,top:int=3):\n",
    "    return model.similar_by_vector(vector,top)"
   ]
  },
  {
   "cell_type": "markdown",
   "metadata": {},
   "source": [
    "#a)\n",
    "* sąd wysoki - kpc + konstytucja\n",
    "# TODO"
   ]
  },
  {
   "cell_type": "code",
   "execution_count": 102,
   "metadata": {},
   "outputs": [
    {
     "data": {
      "text/plain": [
       "[('pasażer::noun', 0.9536111950874329),\n",
       " ('podróżny::noun', 0.8415741324424744),\n",
       " ('współpasażer::noun', 0.7920055389404297),\n",
       " ('podróżujący::noun', 0.7550978660583496),\n",
       " ('kierowca::noun', 0.7446857690811157),\n",
       " ('bagażowy::noun', 0.7316379547119141)]"
      ]
     },
     "execution_count": 102,
     "metadata": {},
     "output_type": "execute_result"
    }
   ],
   "source": [
    "most_similar_by_vec(noun_vec(\"pasażer\")-noun_vec(\"mężczyzna\") + noun_vec(\"kobieta\"),top=6)"
   ]
  },
  {
   "cell_type": "code",
   "execution_count": 103,
   "metadata": {},
   "outputs": [
    {
     "data": {
      "text/plain": [
       "[('motorówka::noun', 0.7439929842948914),\n",
       " ('jezioro::noun', 0.7345261573791504),\n",
       " ('Łódź::noun', 0.7254728078842163),\n",
       " ('rzeka::noun', 0.7248798608779907),\n",
       " ('ne#Helensburgha::noun', 0.7246426343917847),\n",
       " ('ne#East_River::noun', 0.7199319005012512)]"
      ]
     },
     "execution_count": 103,
     "metadata": {},
     "output_type": "execute_result"
    }
   ],
   "source": [
    "most_similar_by_vec(noun_vec(\"samochód\")-noun_vec(\"droga\") + noun_vec(\"rzeka\"),top=6)"
   ]
  },
  {
   "cell_type": "markdown",
   "metadata": {},
   "source": [
    "3\\. Using the t-SNE algorithm comput the projection of the random 1000 words with the following words highlighted (assuming they are available):\n",
    "* szkoda\n",
    "* strata\n",
    "* uszczerbek\n",
    "* szkoda majątkowy\n",
    "* uszczerbek na zdrowie\n",
    "* krzywda\n",
    "* niesprawiedliwość\n",
    "* nieszczęście"
   ]
  },
  {
   "cell_type": "code",
   "execution_count": 120,
   "metadata": {},
   "outputs": [
    {
     "data": {
      "text/plain": [
       "['w::prep', 'i::conj', 'być::verb', 'z::prep', 'na::prep']"
      ]
     },
     "execution_count": 120,
     "metadata": {},
     "output_type": "execute_result"
    }
   ],
   "source": [
    "seq(model.vocab.keys()).take(5)"
   ]
  },
  {
   "cell_type": "code",
   "execution_count": 121,
   "metadata": {},
   "outputs": [
    {
     "data": {
      "text/plain": [
       "(5, 100)"
      ]
     },
     "execution_count": 121,
     "metadata": {},
     "output_type": "execute_result"
    }
   ],
   "source": [
    "model.vectors[:5].shape"
   ]
  },
  {
   "cell_type": "code",
   "execution_count": 122,
   "metadata": {},
   "outputs": [],
   "source": [
    "word_count = len(model.vocab.keys())"
   ]
  },
  {
   "cell_type": "code",
   "execution_count": 130,
   "metadata": {},
   "outputs": [],
   "source": [
    "indices = np.array(random.sample(range(0, word_count),1000))"
   ]
  },
  {
   "cell_type": "code",
   "execution_count": 149,
   "metadata": {},
   "outputs": [],
   "source": [
    "keys = np.array(list(model.vocab.keys()))"
   ]
  },
  {
   "cell_type": "code",
   "execution_count": 156,
   "metadata": {},
   "outputs": [],
   "source": [
    "chosen_keys = keys.take(indices)\n",
    "chosen_vecs = model.vectors.take(indices,axis=0)"
   ]
  },
  {
   "cell_type": "code",
   "execution_count": 158,
   "metadata": {},
   "outputs": [
    {
     "data": {
      "text/plain": [
       "(1000,)"
      ]
     },
     "execution_count": 158,
     "metadata": {},
     "output_type": "execute_result"
    }
   ],
   "source": [
    "chosen_keys.shape"
   ]
  },
  {
   "cell_type": "code",
   "execution_count": 159,
   "metadata": {},
   "outputs": [
    {
     "data": {
      "text/plain": [
       "(1000, 100)"
      ]
     },
     "execution_count": 159,
     "metadata": {},
     "output_type": "execute_result"
    }
   ],
   "source": [
    "chosen_vecs.shape"
   ]
  },
  {
   "cell_type": "markdown",
   "metadata": {},
   "source": [
    "# TODO \n",
    "https://scikit-learn.org/stable/modules/generated/sklearn.manifold.TSNE.html"
   ]
  },
  {
   "cell_type": "markdown",
   "metadata": {},
   "source": [
    "# TODO - try second skipgram"
   ]
  },
  {
   "cell_type": "code",
   "execution_count": null,
   "metadata": {},
   "outputs": [],
   "source": []
  }
 ],
 "metadata": {
  "kernelspec": {
   "display_name": "Python 3",
   "language": "python",
   "name": "python3"
  },
  "language_info": {
   "codemirror_mode": {
    "name": "ipython",
    "version": 3
   },
   "file_extension": ".py",
   "mimetype": "text/x-python",
   "name": "python",
   "nbconvert_exporter": "python",
   "pygments_lexer": "ipython3",
   "version": "3.6.7"
  }
 },
 "nbformat": 4,
 "nbformat_minor": 2
}
